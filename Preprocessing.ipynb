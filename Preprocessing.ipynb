{
 "cells": [
  {
   "cell_type": "markdown",
   "metadata": {},
   "source": [
    "# Preprocessing the Inspection Dataset"
   ]
  },
  {
   "cell_type": "code",
   "execution_count": 5,
   "metadata": {},
   "outputs": [],
   "source": [
    "import pandas as pd\n",
    "import numpy as np"
   ]
  },
  {
   "cell_type": "code",
   "execution_count": 6,
   "metadata": {
    "scrolled": true
   },
   "outputs": [],
   "source": [
    "inspections = pd.read_csv('Data/DOHMH_New_York_City_Restaurant_Inspection_Results.csv')"
   ]
  },
  {
   "cell_type": "code",
   "execution_count": 7,
   "metadata": {},
   "outputs": [
    {
     "data": {
      "text/html": [
       "<div>\n",
       "<style scoped>\n",
       "    .dataframe tbody tr th:only-of-type {\n",
       "        vertical-align: middle;\n",
       "    }\n",
       "\n",
       "    .dataframe tbody tr th {\n",
       "        vertical-align: top;\n",
       "    }\n",
       "\n",
       "    .dataframe thead th {\n",
       "        text-align: right;\n",
       "    }\n",
       "</style>\n",
       "<table border=\"1\" class=\"dataframe\">\n",
       "  <thead>\n",
       "    <tr style=\"text-align: right;\">\n",
       "      <th></th>\n",
       "      <th>CAMIS</th>\n",
       "      <th>DBA</th>\n",
       "      <th>BORO</th>\n",
       "      <th>BUILDING</th>\n",
       "      <th>STREET</th>\n",
       "      <th>ZIPCODE</th>\n",
       "      <th>PHONE</th>\n",
       "      <th>CUISINE DESCRIPTION</th>\n",
       "      <th>INSPECTION DATE</th>\n",
       "      <th>ACTION</th>\n",
       "      <th>VIOLATION CODE</th>\n",
       "      <th>VIOLATION DESCRIPTION</th>\n",
       "      <th>CRITICAL FLAG</th>\n",
       "      <th>SCORE</th>\n",
       "      <th>GRADE</th>\n",
       "      <th>GRADE DATE</th>\n",
       "      <th>RECORD DATE</th>\n",
       "      <th>INSPECTION TYPE</th>\n",
       "    </tr>\n",
       "  </thead>\n",
       "  <tbody>\n",
       "    <tr>\n",
       "      <th>0</th>\n",
       "      <td>30075445</td>\n",
       "      <td>MORRIS PARK BAKE SHOP</td>\n",
       "      <td>BRONX</td>\n",
       "      <td>1007</td>\n",
       "      <td>MORRIS PARK AVE</td>\n",
       "      <td>10462.0</td>\n",
       "      <td>7188924968</td>\n",
       "      <td>Bakery</td>\n",
       "      <td>05/11/2018</td>\n",
       "      <td>Violations were cited in the following area(s).</td>\n",
       "      <td>08C</td>\n",
       "      <td>Pesticide use not in accordance with label or ...</td>\n",
       "      <td>Not Critical</td>\n",
       "      <td>5.0</td>\n",
       "      <td>A</td>\n",
       "      <td>05/11/2018</td>\n",
       "      <td>04/28/2019</td>\n",
       "      <td>Cycle Inspection / Initial Inspection</td>\n",
       "    </tr>\n",
       "    <tr>\n",
       "      <th>1</th>\n",
       "      <td>30075445</td>\n",
       "      <td>MORRIS PARK BAKE SHOP</td>\n",
       "      <td>BRONX</td>\n",
       "      <td>1007</td>\n",
       "      <td>MORRIS PARK AVE</td>\n",
       "      <td>10462.0</td>\n",
       "      <td>7188924968</td>\n",
       "      <td>Bakery</td>\n",
       "      <td>05/11/2018</td>\n",
       "      <td>Violations were cited in the following area(s).</td>\n",
       "      <td>10F</td>\n",
       "      <td>Non-food contact surface improperly constructe...</td>\n",
       "      <td>Not Critical</td>\n",
       "      <td>5.0</td>\n",
       "      <td>A</td>\n",
       "      <td>05/11/2018</td>\n",
       "      <td>04/28/2019</td>\n",
       "      <td>Cycle Inspection / Initial Inspection</td>\n",
       "    </tr>\n",
       "    <tr>\n",
       "      <th>2</th>\n",
       "      <td>30075445</td>\n",
       "      <td>MORRIS PARK BAKE SHOP</td>\n",
       "      <td>BRONX</td>\n",
       "      <td>1007</td>\n",
       "      <td>MORRIS PARK AVE</td>\n",
       "      <td>10462.0</td>\n",
       "      <td>7188924968</td>\n",
       "      <td>Bakery</td>\n",
       "      <td>05/18/2017</td>\n",
       "      <td>Violations were cited in the following area(s).</td>\n",
       "      <td>06D</td>\n",
       "      <td>Food contact surface not properly washed, rins...</td>\n",
       "      <td>Critical</td>\n",
       "      <td>7.0</td>\n",
       "      <td>A</td>\n",
       "      <td>05/18/2017</td>\n",
       "      <td>04/28/2019</td>\n",
       "      <td>Cycle Inspection / Initial Inspection</td>\n",
       "    </tr>\n",
       "    <tr>\n",
       "      <th>3</th>\n",
       "      <td>30075445</td>\n",
       "      <td>MORRIS PARK BAKE SHOP</td>\n",
       "      <td>BRONX</td>\n",
       "      <td>1007</td>\n",
       "      <td>MORRIS PARK AVE</td>\n",
       "      <td>10462.0</td>\n",
       "      <td>7188924968</td>\n",
       "      <td>Bakery</td>\n",
       "      <td>05/18/2017</td>\n",
       "      <td>Violations were cited in the following area(s).</td>\n",
       "      <td>10F</td>\n",
       "      <td>Non-food contact surface improperly constructe...</td>\n",
       "      <td>Not Critical</td>\n",
       "      <td>7.0</td>\n",
       "      <td>A</td>\n",
       "      <td>05/18/2017</td>\n",
       "      <td>04/28/2019</td>\n",
       "      <td>Cycle Inspection / Initial Inspection</td>\n",
       "    </tr>\n",
       "    <tr>\n",
       "      <th>4</th>\n",
       "      <td>30075445</td>\n",
       "      <td>MORRIS PARK BAKE SHOP</td>\n",
       "      <td>BRONX</td>\n",
       "      <td>1007</td>\n",
       "      <td>MORRIS PARK AVE</td>\n",
       "      <td>10462.0</td>\n",
       "      <td>7188924968</td>\n",
       "      <td>Bakery</td>\n",
       "      <td>02/18/2016</td>\n",
       "      <td>Violations were cited in the following area(s).</td>\n",
       "      <td>04L</td>\n",
       "      <td>Evidence of mice or live mice present in facil...</td>\n",
       "      <td>Critical</td>\n",
       "      <td>10.0</td>\n",
       "      <td>A</td>\n",
       "      <td>02/18/2016</td>\n",
       "      <td>04/28/2019</td>\n",
       "      <td>Cycle Inspection / Initial Inspection</td>\n",
       "    </tr>\n",
       "  </tbody>\n",
       "</table>\n",
       "</div>"
      ],
      "text/plain": [
       "      CAMIS                    DBA   BORO BUILDING           STREET  ZIPCODE  \\\n",
       "0  30075445  MORRIS PARK BAKE SHOP  BRONX     1007  MORRIS PARK AVE  10462.0   \n",
       "1  30075445  MORRIS PARK BAKE SHOP  BRONX     1007  MORRIS PARK AVE  10462.0   \n",
       "2  30075445  MORRIS PARK BAKE SHOP  BRONX     1007  MORRIS PARK AVE  10462.0   \n",
       "3  30075445  MORRIS PARK BAKE SHOP  BRONX     1007  MORRIS PARK AVE  10462.0   \n",
       "4  30075445  MORRIS PARK BAKE SHOP  BRONX     1007  MORRIS PARK AVE  10462.0   \n",
       "\n",
       "        PHONE CUISINE DESCRIPTION INSPECTION DATE  \\\n",
       "0  7188924968              Bakery      05/11/2018   \n",
       "1  7188924968              Bakery      05/11/2018   \n",
       "2  7188924968              Bakery      05/18/2017   \n",
       "3  7188924968              Bakery      05/18/2017   \n",
       "4  7188924968              Bakery      02/18/2016   \n",
       "\n",
       "                                            ACTION VIOLATION CODE  \\\n",
       "0  Violations were cited in the following area(s).            08C   \n",
       "1  Violations were cited in the following area(s).            10F   \n",
       "2  Violations were cited in the following area(s).            06D   \n",
       "3  Violations were cited in the following area(s).            10F   \n",
       "4  Violations were cited in the following area(s).            04L   \n",
       "\n",
       "                               VIOLATION DESCRIPTION CRITICAL FLAG  SCORE  \\\n",
       "0  Pesticide use not in accordance with label or ...  Not Critical    5.0   \n",
       "1  Non-food contact surface improperly constructe...  Not Critical    5.0   \n",
       "2  Food contact surface not properly washed, rins...      Critical    7.0   \n",
       "3  Non-food contact surface improperly constructe...  Not Critical    7.0   \n",
       "4  Evidence of mice or live mice present in facil...      Critical   10.0   \n",
       "\n",
       "  GRADE  GRADE DATE RECORD DATE                        INSPECTION TYPE  \n",
       "0     A  05/11/2018  04/28/2019  Cycle Inspection / Initial Inspection  \n",
       "1     A  05/11/2018  04/28/2019  Cycle Inspection / Initial Inspection  \n",
       "2     A  05/18/2017  04/28/2019  Cycle Inspection / Initial Inspection  \n",
       "3     A  05/18/2017  04/28/2019  Cycle Inspection / Initial Inspection  \n",
       "4     A  02/18/2016  04/28/2019  Cycle Inspection / Initial Inspection  "
      ]
     },
     "execution_count": 7,
     "metadata": {},
     "output_type": "execute_result"
    }
   ],
   "source": [
    "inspections.head(5)"
   ]
  },
  {
   "cell_type": "code",
   "execution_count": 8,
   "metadata": {},
   "outputs": [
    {
     "data": {
      "text/plain": [
       "(381911, 18)"
      ]
     },
     "execution_count": 8,
     "metadata": {},
     "output_type": "execute_result"
    }
   ],
   "source": [
    "inspections.shape"
   ]
  },
  {
   "cell_type": "code",
   "execution_count": 9,
   "metadata": {},
   "outputs": [
    {
     "data": {
      "text/plain": [
       "A                 13148\n",
       "B                  1249\n",
       "C                   310\n",
       "Z                   134\n",
       "Not Yet Graded      130\n",
       "P                    71\n",
       "Name: GRADE, dtype: int64"
      ]
     },
     "execution_count": 9,
     "metadata": {},
     "output_type": "execute_result"
    }
   ],
   "source": [
    "inspections[inspections['VIOLATION CODE']=='06D']['GRADE'].value_counts()"
   ]
  },
  {
   "cell_type": "markdown",
   "metadata": {},
   "source": [
    "**Above results suggest that the relationship between 'VIOLATION CODE' and 'GRADE' is not pairwise. So we decided to keep both columns as metrics.**"
   ]
  },
  {
   "cell_type": "code",
   "execution_count": 10,
   "metadata": {},
   "outputs": [
    {
     "data": {
      "text/plain": [
       "A                 152827\n",
       "B                  24214\n",
       "C                   7927\n",
       "Z                   2559\n",
       "Not Yet Graded      2535\n",
       "P                   2284\n",
       "G                      5\n",
       "Name: GRADE, dtype: int64"
      ]
     },
     "execution_count": 10,
     "metadata": {},
     "output_type": "execute_result"
    }
   ],
   "source": [
    "inspections['GRADE'].value_counts()"
   ]
  },
  {
   "cell_type": "markdown",
   "metadata": {},
   "source": [
    "According to the column info provided by NYC Open Data:\n",
    "- N = Not Yet Graded\n",
    "- A = Grade A\n",
    "- B = Grade B\n",
    "- C = Grade C\n",
    "- Z = Grade Pending\n",
    "- P = Grade Pending issued on re-opening following an initial inspection that resulted in a closure"
   ]
  },
  {
   "cell_type": "code",
   "execution_count": 11,
   "metadata": {},
   "outputs": [
    {
     "data": {
      "text/html": [
       "<div>\n",
       "<style scoped>\n",
       "    .dataframe tbody tr th:only-of-type {\n",
       "        vertical-align: middle;\n",
       "    }\n",
       "\n",
       "    .dataframe tbody tr th {\n",
       "        vertical-align: top;\n",
       "    }\n",
       "\n",
       "    .dataframe thead th {\n",
       "        text-align: right;\n",
       "    }\n",
       "</style>\n",
       "<table border=\"1\" class=\"dataframe\">\n",
       "  <thead>\n",
       "    <tr style=\"text-align: right;\">\n",
       "      <th></th>\n",
       "      <th>CAMIS</th>\n",
       "      <th>DBA</th>\n",
       "      <th>BORO</th>\n",
       "      <th>BUILDING</th>\n",
       "      <th>STREET</th>\n",
       "      <th>ZIPCODE</th>\n",
       "      <th>PHONE</th>\n",
       "      <th>CUISINE DESCRIPTION</th>\n",
       "      <th>INSPECTION DATE</th>\n",
       "      <th>ACTION</th>\n",
       "      <th>VIOLATION CODE</th>\n",
       "      <th>VIOLATION DESCRIPTION</th>\n",
       "      <th>CRITICAL FLAG</th>\n",
       "      <th>SCORE</th>\n",
       "      <th>GRADE</th>\n",
       "      <th>GRADE DATE</th>\n",
       "      <th>RECORD DATE</th>\n",
       "      <th>INSPECTION TYPE</th>\n",
       "    </tr>\n",
       "  </thead>\n",
       "  <tbody>\n",
       "    <tr>\n",
       "      <th>363745</th>\n",
       "      <td>50076477</td>\n",
       "      <td>CROWN FRIED CHICKEN</td>\n",
       "      <td>QUEENS</td>\n",
       "      <td>18803</td>\n",
       "      <td>JAMAICA AVE</td>\n",
       "      <td>11423.0</td>\n",
       "      <td>9174955650</td>\n",
       "      <td>Chicken</td>\n",
       "      <td>06/21/2018</td>\n",
       "      <td>Establishment re-opened by DOHMH</td>\n",
       "      <td>10B</td>\n",
       "      <td>Plumbing not properly installed or maintained;...</td>\n",
       "      <td>Not Critical</td>\n",
       "      <td>6.0</td>\n",
       "      <td>P</td>\n",
       "      <td>06/21/2018</td>\n",
       "      <td>04/28/2019</td>\n",
       "      <td>Pre-permit (Operational) / Reopening Inspection</td>\n",
       "    </tr>\n",
       "    <tr>\n",
       "      <th>280234</th>\n",
       "      <td>50045232</td>\n",
       "      <td>BAGELS N GREENS</td>\n",
       "      <td>BROOKLYN</td>\n",
       "      <td>1379</td>\n",
       "      <td>CONEY ISLAND AVE</td>\n",
       "      <td>11230.0</td>\n",
       "      <td>7182566656</td>\n",
       "      <td>Jewish/Kosher</td>\n",
       "      <td>07/19/2017</td>\n",
       "      <td>Establishment re-opened by DOHMH</td>\n",
       "      <td>NaN</td>\n",
       "      <td>NaN</td>\n",
       "      <td>Not Applicable</td>\n",
       "      <td>0.0</td>\n",
       "      <td>P</td>\n",
       "      <td>07/19/2017</td>\n",
       "      <td>04/28/2019</td>\n",
       "      <td>Cycle Inspection / Reopening Inspection</td>\n",
       "    </tr>\n",
       "    <tr>\n",
       "      <th>362084</th>\n",
       "      <td>50075491</td>\n",
       "      <td>DELICIOUS SHAWARMA</td>\n",
       "      <td>STATEN ISLAND</td>\n",
       "      <td>2005</td>\n",
       "      <td>VICTORY BLVD</td>\n",
       "      <td>10314.0</td>\n",
       "      <td>9172847836</td>\n",
       "      <td>Middle Eastern</td>\n",
       "      <td>07/03/2018</td>\n",
       "      <td>Establishment re-opened by DOHMH</td>\n",
       "      <td>04L</td>\n",
       "      <td>Evidence of mice or live mice present in facil...</td>\n",
       "      <td>Critical</td>\n",
       "      <td>9.0</td>\n",
       "      <td>P</td>\n",
       "      <td>07/03/2018</td>\n",
       "      <td>04/28/2019</td>\n",
       "      <td>Pre-permit (Operational) / Reopening Inspection</td>\n",
       "    </tr>\n",
       "    <tr>\n",
       "      <th>33506</th>\n",
       "      <td>40722258</td>\n",
       "      <td>SAPPHIRE INDIAN CUISINE</td>\n",
       "      <td>MANHATTAN</td>\n",
       "      <td>1845</td>\n",
       "      <td>BROADWAY</td>\n",
       "      <td>10023.0</td>\n",
       "      <td>2122454444</td>\n",
       "      <td>Indian</td>\n",
       "      <td>05/21/2018</td>\n",
       "      <td>Establishment re-opened by DOHMH</td>\n",
       "      <td>08A</td>\n",
       "      <td>Facility not vermin proof. Harborage or condit...</td>\n",
       "      <td>Not Critical</td>\n",
       "      <td>9.0</td>\n",
       "      <td>P</td>\n",
       "      <td>05/21/2018</td>\n",
       "      <td>04/28/2019</td>\n",
       "      <td>Cycle Inspection / Reopening Inspection</td>\n",
       "    </tr>\n",
       "    <tr>\n",
       "      <th>351701</th>\n",
       "      <td>50071607</td>\n",
       "      <td>NEW CITY ASIAN CUISINE</td>\n",
       "      <td>BROOKLYN</td>\n",
       "      <td>236</td>\n",
       "      <td>KNICKERBOCKER AVE</td>\n",
       "      <td>11237.0</td>\n",
       "      <td>7184178333</td>\n",
       "      <td>Chinese</td>\n",
       "      <td>01/31/2018</td>\n",
       "      <td>Establishment re-opened by DOHMH</td>\n",
       "      <td>10F</td>\n",
       "      <td>Non-food contact surface improperly constructe...</td>\n",
       "      <td>Not Critical</td>\n",
       "      <td>3.0</td>\n",
       "      <td>P</td>\n",
       "      <td>01/31/2018</td>\n",
       "      <td>04/28/2019</td>\n",
       "      <td>Pre-permit (Operational) / Reopening Inspection</td>\n",
       "    </tr>\n",
       "  </tbody>\n",
       "</table>\n",
       "</div>"
      ],
      "text/plain": [
       "           CAMIS                      DBA           BORO BUILDING  \\\n",
       "363745  50076477      CROWN FRIED CHICKEN         QUEENS    18803   \n",
       "280234  50045232          BAGELS N GREENS       BROOKLYN     1379   \n",
       "362084  50075491       DELICIOUS SHAWARMA  STATEN ISLAND     2005   \n",
       "33506   40722258  SAPPHIRE INDIAN CUISINE      MANHATTAN     1845   \n",
       "351701  50071607   NEW CITY ASIAN CUISINE       BROOKLYN      236   \n",
       "\n",
       "                   STREET  ZIPCODE       PHONE CUISINE DESCRIPTION  \\\n",
       "363745        JAMAICA AVE  11423.0  9174955650             Chicken   \n",
       "280234   CONEY ISLAND AVE  11230.0  7182566656       Jewish/Kosher   \n",
       "362084       VICTORY BLVD  10314.0  9172847836      Middle Eastern   \n",
       "33506            BROADWAY  10023.0  2122454444              Indian   \n",
       "351701  KNICKERBOCKER AVE  11237.0  7184178333             Chinese   \n",
       "\n",
       "       INSPECTION DATE                            ACTION VIOLATION CODE  \\\n",
       "363745      06/21/2018  Establishment re-opened by DOHMH            10B   \n",
       "280234      07/19/2017  Establishment re-opened by DOHMH            NaN   \n",
       "362084      07/03/2018  Establishment re-opened by DOHMH            04L   \n",
       "33506       05/21/2018  Establishment re-opened by DOHMH            08A   \n",
       "351701      01/31/2018  Establishment re-opened by DOHMH            10F   \n",
       "\n",
       "                                    VIOLATION DESCRIPTION   CRITICAL FLAG  \\\n",
       "363745  Plumbing not properly installed or maintained;...    Not Critical   \n",
       "280234                                                NaN  Not Applicable   \n",
       "362084  Evidence of mice or live mice present in facil...        Critical   \n",
       "33506   Facility not vermin proof. Harborage or condit...    Not Critical   \n",
       "351701  Non-food contact surface improperly constructe...    Not Critical   \n",
       "\n",
       "        SCORE GRADE  GRADE DATE RECORD DATE  \\\n",
       "363745    6.0     P  06/21/2018  04/28/2019   \n",
       "280234    0.0     P  07/19/2017  04/28/2019   \n",
       "362084    9.0     P  07/03/2018  04/28/2019   \n",
       "33506     9.0     P  05/21/2018  04/28/2019   \n",
       "351701    3.0     P  01/31/2018  04/28/2019   \n",
       "\n",
       "                                        INSPECTION TYPE  \n",
       "363745  Pre-permit (Operational) / Reopening Inspection  \n",
       "280234          Cycle Inspection / Reopening Inspection  \n",
       "362084  Pre-permit (Operational) / Reopening Inspection  \n",
       "33506           Cycle Inspection / Reopening Inspection  \n",
       "351701  Pre-permit (Operational) / Reopening Inspection  "
      ]
     },
     "execution_count": 11,
     "metadata": {},
     "output_type": "execute_result"
    }
   ],
   "source": [
    "inspections[inspections['GRADE']=='P'].sample(5)"
   ]
  },
  {
   "cell_type": "code",
   "execution_count": 12,
   "metadata": {},
   "outputs": [
    {
     "data": {
      "text/html": [
       "<div>\n",
       "<style scoped>\n",
       "    .dataframe tbody tr th:only-of-type {\n",
       "        vertical-align: middle;\n",
       "    }\n",
       "\n",
       "    .dataframe tbody tr th {\n",
       "        vertical-align: top;\n",
       "    }\n",
       "\n",
       "    .dataframe thead th {\n",
       "        text-align: right;\n",
       "    }\n",
       "</style>\n",
       "<table border=\"1\" class=\"dataframe\">\n",
       "  <thead>\n",
       "    <tr style=\"text-align: right;\">\n",
       "      <th></th>\n",
       "      <th>CAMIS</th>\n",
       "      <th>DBA</th>\n",
       "      <th>BORO</th>\n",
       "      <th>BUILDING</th>\n",
       "      <th>STREET</th>\n",
       "      <th>ZIPCODE</th>\n",
       "      <th>PHONE</th>\n",
       "      <th>CUISINE DESCRIPTION</th>\n",
       "      <th>INSPECTION DATE</th>\n",
       "      <th>ACTION</th>\n",
       "      <th>VIOLATION CODE</th>\n",
       "      <th>VIOLATION DESCRIPTION</th>\n",
       "      <th>CRITICAL FLAG</th>\n",
       "      <th>SCORE</th>\n",
       "      <th>GRADE</th>\n",
       "      <th>GRADE DATE</th>\n",
       "      <th>RECORD DATE</th>\n",
       "      <th>INSPECTION TYPE</th>\n",
       "    </tr>\n",
       "  </thead>\n",
       "  <tbody>\n",
       "    <tr>\n",
       "      <th>107358</th>\n",
       "      <td>41409441</td>\n",
       "      <td>GOLDEN STEAMER</td>\n",
       "      <td>MANHATTAN</td>\n",
       "      <td>143</td>\n",
       "      <td>MOTT STREET</td>\n",
       "      <td>10013.0</td>\n",
       "      <td>2122261886</td>\n",
       "      <td>Bakery</td>\n",
       "      <td>02/08/2019</td>\n",
       "      <td>Violations were cited in the following area(s).</td>\n",
       "      <td>02G</td>\n",
       "      <td>Cold food item held above 41Âº F (smoked fish ...</td>\n",
       "      <td>Critical</td>\n",
       "      <td>29.0</td>\n",
       "      <td>Z</td>\n",
       "      <td>02/08/2019</td>\n",
       "      <td>04/28/2019</td>\n",
       "      <td>Cycle Inspection / Re-inspection</td>\n",
       "    </tr>\n",
       "    <tr>\n",
       "      <th>324225</th>\n",
       "      <td>50060077</td>\n",
       "      <td>LUNA PIZZERIA</td>\n",
       "      <td>BROOKLYN</td>\n",
       "      <td>1115</td>\n",
       "      <td>KINGS HWY</td>\n",
       "      <td>11229.0</td>\n",
       "      <td>7189984400</td>\n",
       "      <td>Pizza</td>\n",
       "      <td>03/12/2019</td>\n",
       "      <td>Violations were cited in the following area(s).</td>\n",
       "      <td>10F</td>\n",
       "      <td>Non-food contact surface improperly constructe...</td>\n",
       "      <td>Not Critical</td>\n",
       "      <td>27.0</td>\n",
       "      <td>Z</td>\n",
       "      <td>03/12/2019</td>\n",
       "      <td>04/28/2019</td>\n",
       "      <td>Cycle Inspection / Re-inspection</td>\n",
       "    </tr>\n",
       "    <tr>\n",
       "      <th>135812</th>\n",
       "      <td>41564527</td>\n",
       "      <td>THE ORIGINAL CULPEPPERS RESTAURANT</td>\n",
       "      <td>BROOKLYN</td>\n",
       "      <td>1082</td>\n",
       "      <td>NOSTRAND AVENUE</td>\n",
       "      <td>11225.0</td>\n",
       "      <td>7189404122</td>\n",
       "      <td>Caribbean</td>\n",
       "      <td>01/04/2019</td>\n",
       "      <td>Establishment re-opened by DOHMH</td>\n",
       "      <td>04L</td>\n",
       "      <td>Evidence of mice or live mice present in facil...</td>\n",
       "      <td>Critical</td>\n",
       "      <td>9.0</td>\n",
       "      <td>Z</td>\n",
       "      <td>01/04/2019</td>\n",
       "      <td>04/28/2019</td>\n",
       "      <td>Cycle Inspection / Reopening Inspection</td>\n",
       "    </tr>\n",
       "    <tr>\n",
       "      <th>3157</th>\n",
       "      <td>40368271</td>\n",
       "      <td>CHERRY TAVERN</td>\n",
       "      <td>MANHATTAN</td>\n",
       "      <td>441</td>\n",
       "      <td>EAST    6 STREET</td>\n",
       "      <td>10009.0</td>\n",
       "      <td>2127771448</td>\n",
       "      <td>American</td>\n",
       "      <td>04/08/2019</td>\n",
       "      <td>Establishment re-opened by DOHMH</td>\n",
       "      <td>06D</td>\n",
       "      <td>Food contact surface not properly washed, rins...</td>\n",
       "      <td>Critical</td>\n",
       "      <td>18.0</td>\n",
       "      <td>Z</td>\n",
       "      <td>04/08/2019</td>\n",
       "      <td>04/28/2019</td>\n",
       "      <td>Cycle Inspection / Reopening Inspection</td>\n",
       "    </tr>\n",
       "    <tr>\n",
       "      <th>190276</th>\n",
       "      <td>50000963</td>\n",
       "      <td>NEW WING CHEUNG</td>\n",
       "      <td>BROOKLYN</td>\n",
       "      <td>4621</td>\n",
       "      <td>AVE D</td>\n",
       "      <td>11203.0</td>\n",
       "      <td>7186293032</td>\n",
       "      <td>Chinese</td>\n",
       "      <td>01/18/2019</td>\n",
       "      <td>Establishment re-opened by DOHMH</td>\n",
       "      <td>10F</td>\n",
       "      <td>Non-food contact surface improperly constructe...</td>\n",
       "      <td>Not Critical</td>\n",
       "      <td>2.0</td>\n",
       "      <td>Z</td>\n",
       "      <td>01/18/2019</td>\n",
       "      <td>04/28/2019</td>\n",
       "      <td>Cycle Inspection / Reopening Inspection</td>\n",
       "    </tr>\n",
       "  </tbody>\n",
       "</table>\n",
       "</div>"
      ],
      "text/plain": [
       "           CAMIS                                 DBA       BORO BUILDING  \\\n",
       "107358  41409441                      GOLDEN STEAMER  MANHATTAN      143   \n",
       "324225  50060077                       LUNA PIZZERIA   BROOKLYN     1115   \n",
       "135812  41564527  THE ORIGINAL CULPEPPERS RESTAURANT   BROOKLYN     1082   \n",
       "3157    40368271                       CHERRY TAVERN  MANHATTAN      441   \n",
       "190276  50000963                     NEW WING CHEUNG   BROOKLYN     4621   \n",
       "\n",
       "                  STREET  ZIPCODE       PHONE CUISINE DESCRIPTION  \\\n",
       "107358       MOTT STREET  10013.0  2122261886              Bakery   \n",
       "324225         KINGS HWY  11229.0  7189984400               Pizza   \n",
       "135812   NOSTRAND AVENUE  11225.0  7189404122           Caribbean   \n",
       "3157    EAST    6 STREET  10009.0  2127771448            American   \n",
       "190276             AVE D  11203.0  7186293032             Chinese   \n",
       "\n",
       "       INSPECTION DATE                                           ACTION  \\\n",
       "107358      02/08/2019  Violations were cited in the following area(s).   \n",
       "324225      03/12/2019  Violations were cited in the following area(s).   \n",
       "135812      01/04/2019                 Establishment re-opened by DOHMH   \n",
       "3157        04/08/2019                 Establishment re-opened by DOHMH   \n",
       "190276      01/18/2019                 Establishment re-opened by DOHMH   \n",
       "\n",
       "       VIOLATION CODE                              VIOLATION DESCRIPTION  \\\n",
       "107358            02G  Cold food item held above 41Âº F (smoked fish ...   \n",
       "324225            10F  Non-food contact surface improperly constructe...   \n",
       "135812            04L  Evidence of mice or live mice present in facil...   \n",
       "3157              06D  Food contact surface not properly washed, rins...   \n",
       "190276            10F  Non-food contact surface improperly constructe...   \n",
       "\n",
       "       CRITICAL FLAG  SCORE GRADE  GRADE DATE RECORD DATE  \\\n",
       "107358      Critical   29.0     Z  02/08/2019  04/28/2019   \n",
       "324225  Not Critical   27.0     Z  03/12/2019  04/28/2019   \n",
       "135812      Critical    9.0     Z  01/04/2019  04/28/2019   \n",
       "3157        Critical   18.0     Z  04/08/2019  04/28/2019   \n",
       "190276  Not Critical    2.0     Z  01/18/2019  04/28/2019   \n",
       "\n",
       "                                INSPECTION TYPE  \n",
       "107358         Cycle Inspection / Re-inspection  \n",
       "324225         Cycle Inspection / Re-inspection  \n",
       "135812  Cycle Inspection / Reopening Inspection  \n",
       "3157    Cycle Inspection / Reopening Inspection  \n",
       "190276  Cycle Inspection / Reopening Inspection  "
      ]
     },
     "execution_count": 12,
     "metadata": {},
     "output_type": "execute_result"
    }
   ],
   "source": [
    "inspections[inspections['GRADE']=='Z'].sample(5)"
   ]
  },
  {
   "cell_type": "code",
   "execution_count": 13,
   "metadata": {},
   "outputs": [
    {
     "data": {
      "text/plain": [
       "156.0"
      ]
     },
     "execution_count": 13,
     "metadata": {},
     "output_type": "execute_result"
    }
   ],
   "source": [
    "inspections['SCORE'].max()"
   ]
  },
  {
   "cell_type": "code",
   "execution_count": 14,
   "metadata": {},
   "outputs": [
    {
     "data": {
      "text/plain": [
       "-1.0"
      ]
     },
     "execution_count": 14,
     "metadata": {},
     "output_type": "execute_result"
    }
   ],
   "source": [
    "inspections['SCORE'].min()"
   ]
  },
  {
   "cell_type": "code",
   "execution_count": 15,
   "metadata": {},
   "outputs": [
    {
     "data": {
      "text/plain": [
       "A    152827\n",
       "B     24214\n",
       "C      7927\n",
       "Name: GRADE, dtype: int64"
      ]
     },
     "execution_count": 15,
     "metadata": {},
     "output_type": "execute_result"
    }
   ],
   "source": [
    "inspections['GRADE'].replace({'Not Yet Graded':np.nan, 'Z':np.nan, 'P':np.nan, 'G':np.nan}, inplace=True)\n",
    "inspections['GRADE'].value_counts()"
   ]
  },
  {
   "cell_type": "code",
   "execution_count": 16,
   "metadata": {},
   "outputs": [
    {
     "data": {
      "text/plain": [
       "Critical          208533\n",
       "Not Critical      164991\n",
       "Not Applicable      8387\n",
       "Name: CRITICAL FLAG, dtype: int64"
      ]
     },
     "execution_count": 16,
     "metadata": {},
     "output_type": "execute_result"
    }
   ],
   "source": [
    "inspections['CRITICAL FLAG'].value_counts()"
   ]
  },
  {
   "cell_type": "code",
   "execution_count": 17,
   "metadata": {
    "scrolled": true
   },
   "outputs": [
    {
     "data": {
      "text/plain": [
       "Critical        208533\n",
       "Not Critical    164991\n",
       "Name: CRITICAL FLAG, dtype: int64"
      ]
     },
     "execution_count": 17,
     "metadata": {},
     "output_type": "execute_result"
    }
   ],
   "source": [
    "inspections['CRITICAL FLAG'].replace({'Not Applicable':np.nan}, inplace=True)\n",
    "inspections['CRITICAL FLAG'].value_counts()"
   ]
  },
  {
   "cell_type": "code",
   "execution_count": 18,
   "metadata": {},
   "outputs": [
    {
     "data": {
      "text/plain": [
       "CAMIS                         0\n",
       "DBA                         509\n",
       "BORO                          0\n",
       "BUILDING                    228\n",
       "STREET                        1\n",
       "ZIPCODE                    5551\n",
       "PHONE                         9\n",
       "CUISINE DESCRIPTION           0\n",
       "INSPECTION DATE               0\n",
       "ACTION                     1302\n",
       "VIOLATION CODE             5785\n",
       "VIOLATION DESCRIPTION      8387\n",
       "CRITICAL FLAG              8387\n",
       "SCORE                     18184\n",
       "GRADE                    196943\n",
       "GRADE DATE               192091\n",
       "RECORD DATE                   0\n",
       "INSPECTION TYPE            1302\n",
       "dtype: int64"
      ]
     },
     "execution_count": 18,
     "metadata": {},
     "output_type": "execute_result"
    }
   ],
   "source": [
    "inspections.isna().sum()"
   ]
  },
  {
   "cell_type": "code",
   "execution_count": 19,
   "metadata": {
    "scrolled": true
   },
   "outputs": [
    {
     "data": {
      "text/html": [
       "<div>\n",
       "<style scoped>\n",
       "    .dataframe tbody tr th:only-of-type {\n",
       "        vertical-align: middle;\n",
       "    }\n",
       "\n",
       "    .dataframe tbody tr th {\n",
       "        vertical-align: top;\n",
       "    }\n",
       "\n",
       "    .dataframe thead th {\n",
       "        text-align: right;\n",
       "    }\n",
       "</style>\n",
       "<table border=\"1\" class=\"dataframe\">\n",
       "  <thead>\n",
       "    <tr style=\"text-align: right;\">\n",
       "      <th></th>\n",
       "      <th>CAMIS</th>\n",
       "      <th>DBA</th>\n",
       "      <th>CUISINE DESCRIPTION</th>\n",
       "      <th>VIOLATION CODE</th>\n",
       "      <th>CRITICAL FLAG</th>\n",
       "      <th>SCORE</th>\n",
       "      <th>GRADE</th>\n",
       "      <th>GRADE DATE</th>\n",
       "    </tr>\n",
       "  </thead>\n",
       "  <tbody>\n",
       "    <tr>\n",
       "      <th>0</th>\n",
       "      <td>30075445</td>\n",
       "      <td>MORRIS PARK BAKE SHOP</td>\n",
       "      <td>Bakery</td>\n",
       "      <td>08C</td>\n",
       "      <td>Not Critical</td>\n",
       "      <td>5.0</td>\n",
       "      <td>A</td>\n",
       "      <td>05/11/2018</td>\n",
       "    </tr>\n",
       "    <tr>\n",
       "      <th>1</th>\n",
       "      <td>30075445</td>\n",
       "      <td>MORRIS PARK BAKE SHOP</td>\n",
       "      <td>Bakery</td>\n",
       "      <td>10F</td>\n",
       "      <td>Not Critical</td>\n",
       "      <td>5.0</td>\n",
       "      <td>A</td>\n",
       "      <td>05/11/2018</td>\n",
       "    </tr>\n",
       "    <tr>\n",
       "      <th>2</th>\n",
       "      <td>30075445</td>\n",
       "      <td>MORRIS PARK BAKE SHOP</td>\n",
       "      <td>Bakery</td>\n",
       "      <td>06D</td>\n",
       "      <td>Critical</td>\n",
       "      <td>7.0</td>\n",
       "      <td>A</td>\n",
       "      <td>05/18/2017</td>\n",
       "    </tr>\n",
       "    <tr>\n",
       "      <th>3</th>\n",
       "      <td>30075445</td>\n",
       "      <td>MORRIS PARK BAKE SHOP</td>\n",
       "      <td>Bakery</td>\n",
       "      <td>10F</td>\n",
       "      <td>Not Critical</td>\n",
       "      <td>7.0</td>\n",
       "      <td>A</td>\n",
       "      <td>05/18/2017</td>\n",
       "    </tr>\n",
       "    <tr>\n",
       "      <th>4</th>\n",
       "      <td>30075445</td>\n",
       "      <td>MORRIS PARK BAKE SHOP</td>\n",
       "      <td>Bakery</td>\n",
       "      <td>04L</td>\n",
       "      <td>Critical</td>\n",
       "      <td>10.0</td>\n",
       "      <td>A</td>\n",
       "      <td>02/18/2016</td>\n",
       "    </tr>\n",
       "  </tbody>\n",
       "</table>\n",
       "</div>"
      ],
      "text/plain": [
       "      CAMIS                    DBA CUISINE DESCRIPTION VIOLATION CODE  \\\n",
       "0  30075445  MORRIS PARK BAKE SHOP              Bakery            08C   \n",
       "1  30075445  MORRIS PARK BAKE SHOP              Bakery            10F   \n",
       "2  30075445  MORRIS PARK BAKE SHOP              Bakery            06D   \n",
       "3  30075445  MORRIS PARK BAKE SHOP              Bakery            10F   \n",
       "4  30075445  MORRIS PARK BAKE SHOP              Bakery            04L   \n",
       "\n",
       "  CRITICAL FLAG  SCORE GRADE  GRADE DATE  \n",
       "0  Not Critical    5.0     A  05/11/2018  \n",
       "1  Not Critical    5.0     A  05/11/2018  \n",
       "2      Critical    7.0     A  05/18/2017  \n",
       "3  Not Critical    7.0     A  05/18/2017  \n",
       "4      Critical   10.0     A  02/18/2016  "
      ]
     },
     "execution_count": 19,
     "metadata": {},
     "output_type": "execute_result"
    }
   ],
   "source": [
    "cols = ['CAMIS', 'DBA', 'CUISINE DESCRIPTION', 'VIOLATION CODE', 'CRITICAL FLAG', 'SCORE', 'GRADE', 'GRADE DATE']\n",
    "insp = inspections[cols]\n",
    "insp.head(5)"
   ]
  },
  {
   "cell_type": "markdown",
   "metadata": {},
   "source": [
    "### Checking for missing values"
   ]
  },
  {
   "cell_type": "code",
   "execution_count": 20,
   "metadata": {
    "scrolled": true
   },
   "outputs": [
    {
     "data": {
      "text/plain": [
       "CAMIS                       0\n",
       "DBA                       509\n",
       "CUISINE DESCRIPTION         0\n",
       "VIOLATION CODE           5785\n",
       "CRITICAL FLAG            8387\n",
       "SCORE                   18184\n",
       "GRADE                  196943\n",
       "GRADE DATE             192091\n",
       "dtype: int64"
      ]
     },
     "execution_count": 20,
     "metadata": {},
     "output_type": "execute_result"
    }
   ],
   "source": [
    "insp.isna().sum()"
   ]
  },
  {
   "cell_type": "code",
   "execution_count": 21,
   "metadata": {
    "scrolled": true
   },
   "outputs": [],
   "source": [
    "insp = insp.dropna()"
   ]
  },
  {
   "cell_type": "code",
   "execution_count": 22,
   "metadata": {},
   "outputs": [
    {
     "data": {
      "text/plain": [
       "CAMIS                  0\n",
       "DBA                    0\n",
       "CUISINE DESCRIPTION    0\n",
       "VIOLATION CODE         0\n",
       "CRITICAL FLAG          0\n",
       "SCORE                  0\n",
       "GRADE                  0\n",
       "GRADE DATE             0\n",
       "dtype: int64"
      ]
     },
     "execution_count": 22,
     "metadata": {},
     "output_type": "execute_result"
    }
   ],
   "source": [
    "insp.isna().sum()"
   ]
  },
  {
   "cell_type": "code",
   "execution_count": 23,
   "metadata": {},
   "outputs": [],
   "source": [
    "insp['CRITICAL FLAG'].replace(['Not Critical','Critical'],[0,1],inplace=True)"
   ]
  },
  {
   "cell_type": "code",
   "execution_count": 24,
   "metadata": {
    "scrolled": true
   },
   "outputs": [
    {
     "data": {
      "text/plain": [
       "1    94191\n",
       "0    89535\n",
       "Name: CRITICAL FLAG, dtype: int64"
      ]
     },
     "execution_count": 24,
     "metadata": {},
     "output_type": "execute_result"
    }
   ],
   "source": [
    "insp['CRITICAL FLAG'].astype(int)\n",
    "insp['CRITICAL FLAG'].value_counts()"
   ]
  },
  {
   "cell_type": "code",
   "execution_count": 25,
   "metadata": {},
   "outputs": [
    {
     "data": {
      "text/html": [
       "<div>\n",
       "<style scoped>\n",
       "    .dataframe tbody tr th:only-of-type {\n",
       "        vertical-align: middle;\n",
       "    }\n",
       "\n",
       "    .dataframe tbody tr th {\n",
       "        vertical-align: top;\n",
       "    }\n",
       "\n",
       "    .dataframe thead th {\n",
       "        text-align: right;\n",
       "    }\n",
       "</style>\n",
       "<table border=\"1\" class=\"dataframe\">\n",
       "  <thead>\n",
       "    <tr style=\"text-align: right;\">\n",
       "      <th></th>\n",
       "      <th>CAMIS</th>\n",
       "      <th>DBA</th>\n",
       "      <th>CUISINE DESCRIPTION</th>\n",
       "      <th>VIOLATION CODE</th>\n",
       "      <th>CRITICAL FLAG</th>\n",
       "      <th>SCORE</th>\n",
       "      <th>GRADE</th>\n",
       "      <th>GRADE DATE</th>\n",
       "      <th>VIO_COUNT</th>\n",
       "    </tr>\n",
       "  </thead>\n",
       "  <tbody>\n",
       "    <tr>\n",
       "      <th>0</th>\n",
       "      <td>30075445</td>\n",
       "      <td>MORRIS PARK BAKE SHOP</td>\n",
       "      <td>Bakery</td>\n",
       "      <td>08C</td>\n",
       "      <td>0</td>\n",
       "      <td>5.0</td>\n",
       "      <td>A</td>\n",
       "      <td>05/11/2018</td>\n",
       "      <td>2</td>\n",
       "    </tr>\n",
       "    <tr>\n",
       "      <th>1</th>\n",
       "      <td>30075445</td>\n",
       "      <td>MORRIS PARK BAKE SHOP</td>\n",
       "      <td>Bakery</td>\n",
       "      <td>10F</td>\n",
       "      <td>0</td>\n",
       "      <td>5.0</td>\n",
       "      <td>A</td>\n",
       "      <td>05/11/2018</td>\n",
       "      <td>2</td>\n",
       "    </tr>\n",
       "  </tbody>\n",
       "</table>\n",
       "</div>"
      ],
      "text/plain": [
       "      CAMIS                    DBA CUISINE DESCRIPTION VIOLATION CODE  \\\n",
       "0  30075445  MORRIS PARK BAKE SHOP              Bakery            08C   \n",
       "1  30075445  MORRIS PARK BAKE SHOP              Bakery            10F   \n",
       "\n",
       "   CRITICAL FLAG  SCORE GRADE  GRADE DATE  VIO_COUNT  \n",
       "0              0    5.0     A  05/11/2018          2  \n",
       "1              0    5.0     A  05/11/2018          2  "
      ]
     },
     "execution_count": 25,
     "metadata": {},
     "output_type": "execute_result"
    }
   ],
   "source": [
    "# inspections['GRADE DATE'] = inspections['GRADE DATE'].dt.strftime('%m/%d/%Y')\n",
    "# pd.to_datetime(inspections['GRADE DATE'], format='%m/%d/%Y' ).dt.date.value_counts().rename('VIO_COUNT').to_frame()\n",
    "# inspections['Vio_Counts']=inspections.groupby(pd.to_datetime(inspections['GRADE DATE'], format='%m/%d/%Y').dt.date.value_counts())\n",
    "insp['VIO_COUNT'] = insp.groupby(['CAMIS', 'GRADE DATE'])['VIOLATION CODE'].transform('size')\n",
    "insp.head(2)"
   ]
  },
  {
   "cell_type": "code",
   "execution_count": 26,
   "metadata": {},
   "outputs": [
    {
     "name": "stdout",
     "output_type": "stream",
     "text": [
      "<class 'pandas.core.frame.DataFrame'>\n",
      "Int64Index: 183726 entries, 0 to 381484\n",
      "Data columns (total 9 columns):\n",
      "CAMIS                  183726 non-null int64\n",
      "DBA                    183726 non-null object\n",
      "CUISINE DESCRIPTION    183726 non-null object\n",
      "VIOLATION CODE         183726 non-null object\n",
      "CRITICAL FLAG          183726 non-null int64\n",
      "SCORE                  183726 non-null float64\n",
      "GRADE                  183726 non-null object\n",
      "GRADE DATE             183726 non-null object\n",
      "VIO_COUNT              183726 non-null int64\n",
      "dtypes: float64(1), int64(3), object(5)\n",
      "memory usage: 14.0+ MB\n"
     ]
    }
   ],
   "source": [
    "insp.info()"
   ]
  },
  {
   "cell_type": "code",
   "execution_count": 27,
   "metadata": {
    "scrolled": true
   },
   "outputs": [
    {
     "data": {
      "text/plain": [
       "{A}    70907\n",
       "{B}     6512\n",
       "{C}     1856\n",
       "Name: GRADE_LIST, dtype: int64"
      ]
     },
     "execution_count": 27,
     "metadata": {},
     "output_type": "execute_result"
    }
   ],
   "source": [
    "grade_merged = insp.groupby(['CAMIS','GRADE DATE'])['GRADE'].apply(set).reset_index()\n",
    "grade_merged.rename(columns={'GRADE':'GRADE_LIST'},inplace=True)\n",
    "grade_merged['GRADE_LIST'].value_counts()"
   ]
  },
  {
   "cell_type": "markdown",
   "metadata": {},
   "source": [
    "**This is to say, the grade is assigned once at a time.**"
   ]
  },
  {
   "cell_type": "code",
   "execution_count": 28,
   "metadata": {},
   "outputs": [
    {
     "data": {
      "text/html": [
       "<div>\n",
       "<style scoped>\n",
       "    .dataframe tbody tr th:only-of-type {\n",
       "        vertical-align: middle;\n",
       "    }\n",
       "\n",
       "    .dataframe tbody tr th {\n",
       "        vertical-align: top;\n",
       "    }\n",
       "\n",
       "    .dataframe thead th {\n",
       "        text-align: right;\n",
       "    }\n",
       "</style>\n",
       "<table border=\"1\" class=\"dataframe\">\n",
       "  <thead>\n",
       "    <tr style=\"text-align: right;\">\n",
       "      <th></th>\n",
       "      <th>CAMIS</th>\n",
       "      <th>GRADE DATE</th>\n",
       "      <th>VIO_CODE_LIST</th>\n",
       "    </tr>\n",
       "  </thead>\n",
       "  <tbody>\n",
       "    <tr>\n",
       "      <th>0</th>\n",
       "      <td>30075445</td>\n",
       "      <td>02/18/2016</td>\n",
       "      <td>{08A, 04L}</td>\n",
       "    </tr>\n",
       "    <tr>\n",
       "      <th>1</th>\n",
       "      <td>30075445</td>\n",
       "      <td>05/11/2018</td>\n",
       "      <td>{10F, 08C}</td>\n",
       "    </tr>\n",
       "  </tbody>\n",
       "</table>\n",
       "</div>"
      ],
      "text/plain": [
       "      CAMIS  GRADE DATE VIO_CODE_LIST\n",
       "0  30075445  02/18/2016    {08A, 04L}\n",
       "1  30075445  05/11/2018    {10F, 08C}"
      ]
     },
     "execution_count": 28,
     "metadata": {},
     "output_type": "execute_result"
    }
   ],
   "source": [
    "vio_merged = insp.groupby(['CAMIS','GRADE DATE'])['VIOLATION CODE'].apply(set).reset_index()\n",
    "vio_merged.rename(columns={'VIOLATION CODE':'VIO_CODE_LIST'},inplace=True)\n",
    "vio_merged.head(2)"
   ]
  },
  {
   "cell_type": "code",
   "execution_count": 29,
   "metadata": {},
   "outputs": [
    {
     "data": {
      "text/html": [
       "<div>\n",
       "<style scoped>\n",
       "    .dataframe tbody tr th:only-of-type {\n",
       "        vertical-align: middle;\n",
       "    }\n",
       "\n",
       "    .dataframe tbody tr th {\n",
       "        vertical-align: top;\n",
       "    }\n",
       "\n",
       "    .dataframe thead th {\n",
       "        text-align: right;\n",
       "    }\n",
       "</style>\n",
       "<table border=\"1\" class=\"dataframe\">\n",
       "  <thead>\n",
       "    <tr style=\"text-align: right;\">\n",
       "      <th></th>\n",
       "      <th>CAMIS</th>\n",
       "      <th>GRADE DATE</th>\n",
       "      <th>CRITICAL_COUNT</th>\n",
       "    </tr>\n",
       "  </thead>\n",
       "  <tbody>\n",
       "    <tr>\n",
       "      <th>0</th>\n",
       "      <td>30075445</td>\n",
       "      <td>02/18/2016</td>\n",
       "      <td>1</td>\n",
       "    </tr>\n",
       "    <tr>\n",
       "      <th>1</th>\n",
       "      <td>30075445</td>\n",
       "      <td>05/11/2018</td>\n",
       "      <td>0</td>\n",
       "    </tr>\n",
       "  </tbody>\n",
       "</table>\n",
       "</div>"
      ],
      "text/plain": [
       "      CAMIS  GRADE DATE  CRITICAL_COUNT\n",
       "0  30075445  02/18/2016               1\n",
       "1  30075445  05/11/2018               0"
      ]
     },
     "execution_count": 29,
     "metadata": {},
     "output_type": "execute_result"
    }
   ],
   "source": [
    "vio_critical = insp.groupby(['CAMIS','GRADE DATE'])['CRITICAL FLAG'].sum().reset_index()\n",
    "vio_critical.rename(columns={'CRITICAL FLAG':'CRITICAL_COUNT'},inplace=True)\n",
    "vio_critical.head(2)"
   ]
  },
  {
   "cell_type": "code",
   "execution_count": 30,
   "metadata": {},
   "outputs": [
    {
     "data": {
      "text/html": [
       "<div>\n",
       "<style scoped>\n",
       "    .dataframe tbody tr th:only-of-type {\n",
       "        vertical-align: middle;\n",
       "    }\n",
       "\n",
       "    .dataframe tbody tr th {\n",
       "        vertical-align: top;\n",
       "    }\n",
       "\n",
       "    .dataframe thead th {\n",
       "        text-align: right;\n",
       "    }\n",
       "</style>\n",
       "<table border=\"1\" class=\"dataframe\">\n",
       "  <thead>\n",
       "    <tr style=\"text-align: right;\">\n",
       "      <th></th>\n",
       "      <th>CAMIS</th>\n",
       "      <th>GRADE DATE</th>\n",
       "      <th>VIO_CODE_LIST</th>\n",
       "      <th>CRITICAL_COUNT</th>\n",
       "    </tr>\n",
       "  </thead>\n",
       "  <tbody>\n",
       "    <tr>\n",
       "      <th>0</th>\n",
       "      <td>30075445</td>\n",
       "      <td>02/18/2016</td>\n",
       "      <td>{08A, 04L}</td>\n",
       "      <td>1</td>\n",
       "    </tr>\n",
       "    <tr>\n",
       "      <th>1</th>\n",
       "      <td>30075445</td>\n",
       "      <td>05/11/2018</td>\n",
       "      <td>{10F, 08C}</td>\n",
       "      <td>0</td>\n",
       "    </tr>\n",
       "    <tr>\n",
       "      <th>2</th>\n",
       "      <td>30075445</td>\n",
       "      <td>05/18/2017</td>\n",
       "      <td>{10F, 06D}</td>\n",
       "      <td>1</td>\n",
       "    </tr>\n",
       "    <tr>\n",
       "      <th>3</th>\n",
       "      <td>30112340</td>\n",
       "      <td>03/04/2019</td>\n",
       "      <td>{10F, 02G, 10B}</td>\n",
       "      <td>1</td>\n",
       "    </tr>\n",
       "    <tr>\n",
       "      <th>4</th>\n",
       "      <td>30112340</td>\n",
       "      <td>03/13/2018</td>\n",
       "      <td>{08A, 04L, 10B}</td>\n",
       "      <td>1</td>\n",
       "    </tr>\n",
       "  </tbody>\n",
       "</table>\n",
       "</div>"
      ],
      "text/plain": [
       "      CAMIS  GRADE DATE    VIO_CODE_LIST  CRITICAL_COUNT\n",
       "0  30075445  02/18/2016       {08A, 04L}               1\n",
       "1  30075445  05/11/2018       {10F, 08C}               0\n",
       "2  30075445  05/18/2017       {10F, 06D}               1\n",
       "3  30112340  03/04/2019  {10F, 02G, 10B}               1\n",
       "4  30112340  03/13/2018  {08A, 04L, 10B}               1"
      ]
     },
     "execution_count": 30,
     "metadata": {},
     "output_type": "execute_result"
    }
   ],
   "source": [
    "vio = pd.merge(vio_merged, vio_critical, on=['CAMIS', 'GRADE DATE'])\n",
    "vio.head(5)"
   ]
  },
  {
   "cell_type": "code",
   "execution_count": 31,
   "metadata": {},
   "outputs": [
    {
     "data": {
      "text/html": [
       "<div>\n",
       "<style scoped>\n",
       "    .dataframe tbody tr th:only-of-type {\n",
       "        vertical-align: middle;\n",
       "    }\n",
       "\n",
       "    .dataframe tbody tr th {\n",
       "        vertical-align: top;\n",
       "    }\n",
       "\n",
       "    .dataframe thead th {\n",
       "        text-align: right;\n",
       "    }\n",
       "</style>\n",
       "<table border=\"1\" class=\"dataframe\">\n",
       "  <thead>\n",
       "    <tr style=\"text-align: right;\">\n",
       "      <th></th>\n",
       "      <th>CAMIS</th>\n",
       "      <th>DBA</th>\n",
       "      <th>CUISINE DESCRIPTION</th>\n",
       "      <th>GRADE DATE</th>\n",
       "      <th>SCORE</th>\n",
       "      <th>GRADE</th>\n",
       "      <th>VIO_COUNT</th>\n",
       "      <th>VIO_CODE_LIST</th>\n",
       "      <th>CRITICAL_COUNT</th>\n",
       "    </tr>\n",
       "  </thead>\n",
       "  <tbody>\n",
       "    <tr>\n",
       "      <th>0</th>\n",
       "      <td>30075445</td>\n",
       "      <td>MORRIS PARK BAKE SHOP</td>\n",
       "      <td>Bakery</td>\n",
       "      <td>05/11/2018</td>\n",
       "      <td>5.0</td>\n",
       "      <td>A</td>\n",
       "      <td>2</td>\n",
       "      <td>{10F, 08C}</td>\n",
       "      <td>0</td>\n",
       "    </tr>\n",
       "    <tr>\n",
       "      <th>1</th>\n",
       "      <td>30075445</td>\n",
       "      <td>MORRIS PARK BAKE SHOP</td>\n",
       "      <td>Bakery</td>\n",
       "      <td>05/11/2018</td>\n",
       "      <td>5.0</td>\n",
       "      <td>A</td>\n",
       "      <td>2</td>\n",
       "      <td>{10F, 08C}</td>\n",
       "      <td>0</td>\n",
       "    </tr>\n",
       "    <tr>\n",
       "      <th>2</th>\n",
       "      <td>30075445</td>\n",
       "      <td>MORRIS PARK BAKE SHOP</td>\n",
       "      <td>Bakery</td>\n",
       "      <td>05/18/2017</td>\n",
       "      <td>7.0</td>\n",
       "      <td>A</td>\n",
       "      <td>2</td>\n",
       "      <td>{10F, 06D}</td>\n",
       "      <td>1</td>\n",
       "    </tr>\n",
       "    <tr>\n",
       "      <th>3</th>\n",
       "      <td>30075445</td>\n",
       "      <td>MORRIS PARK BAKE SHOP</td>\n",
       "      <td>Bakery</td>\n",
       "      <td>05/18/2017</td>\n",
       "      <td>7.0</td>\n",
       "      <td>A</td>\n",
       "      <td>2</td>\n",
       "      <td>{10F, 06D}</td>\n",
       "      <td>1</td>\n",
       "    </tr>\n",
       "    <tr>\n",
       "      <th>4</th>\n",
       "      <td>30075445</td>\n",
       "      <td>MORRIS PARK BAKE SHOP</td>\n",
       "      <td>Bakery</td>\n",
       "      <td>02/18/2016</td>\n",
       "      <td>10.0</td>\n",
       "      <td>A</td>\n",
       "      <td>2</td>\n",
       "      <td>{08A, 04L}</td>\n",
       "      <td>1</td>\n",
       "    </tr>\n",
       "  </tbody>\n",
       "</table>\n",
       "</div>"
      ],
      "text/plain": [
       "      CAMIS                    DBA CUISINE DESCRIPTION  GRADE DATE  SCORE  \\\n",
       "0  30075445  MORRIS PARK BAKE SHOP              Bakery  05/11/2018    5.0   \n",
       "1  30075445  MORRIS PARK BAKE SHOP              Bakery  05/11/2018    5.0   \n",
       "2  30075445  MORRIS PARK BAKE SHOP              Bakery  05/18/2017    7.0   \n",
       "3  30075445  MORRIS PARK BAKE SHOP              Bakery  05/18/2017    7.0   \n",
       "4  30075445  MORRIS PARK BAKE SHOP              Bakery  02/18/2016   10.0   \n",
       "\n",
       "  GRADE  VIO_COUNT VIO_CODE_LIST  CRITICAL_COUNT  \n",
       "0     A          2    {10F, 08C}               0  \n",
       "1     A          2    {10F, 08C}               0  \n",
       "2     A          2    {10F, 06D}               1  \n",
       "3     A          2    {10F, 06D}               1  \n",
       "4     A          2    {08A, 04L}               1  "
      ]
     },
     "execution_count": 31,
     "metadata": {},
     "output_type": "execute_result"
    }
   ],
   "source": [
    "insp_ = pd.merge(insp.loc[:, ['CAMIS','DBA','CUISINE DESCRIPTION', 'GRADE DATE', 'SCORE', 'GRADE', 'VIO_COUNT']], vio, on=['CAMIS', 'GRADE DATE'])\n",
    "insp_.head(5)"
   ]
  },
  {
   "cell_type": "code",
   "execution_count": 32,
   "metadata": {},
   "outputs": [],
   "source": [
    "insp_['GRADE DATE'] = pd.to_datetime(insp_['GRADE DATE'])"
   ]
  },
  {
   "cell_type": "markdown",
   "metadata": {},
   "source": [
    "### Keep only most recent date records"
   ]
  },
  {
   "cell_type": "code",
   "execution_count": 33,
   "metadata": {},
   "outputs": [
    {
     "data": {
      "text/html": [
       "<div>\n",
       "<style scoped>\n",
       "    .dataframe tbody tr th:only-of-type {\n",
       "        vertical-align: middle;\n",
       "    }\n",
       "\n",
       "    .dataframe tbody tr th {\n",
       "        vertical-align: top;\n",
       "    }\n",
       "\n",
       "    .dataframe thead th {\n",
       "        text-align: right;\n",
       "    }\n",
       "</style>\n",
       "<table border=\"1\" class=\"dataframe\">\n",
       "  <thead>\n",
       "    <tr style=\"text-align: right;\">\n",
       "      <th></th>\n",
       "      <th>CAMIS</th>\n",
       "      <th>DBA</th>\n",
       "      <th>CUISINE DESCRIPTION</th>\n",
       "      <th>GRADE DATE</th>\n",
       "      <th>SCORE</th>\n",
       "      <th>GRADE</th>\n",
       "      <th>VIO_COUNT</th>\n",
       "      <th>VIO_CODE_LIST</th>\n",
       "      <th>CRITICAL_COUNT</th>\n",
       "    </tr>\n",
       "  </thead>\n",
       "  <tbody>\n",
       "    <tr>\n",
       "      <th>0</th>\n",
       "      <td>30075445</td>\n",
       "      <td>MORRIS PARK BAKE SHOP</td>\n",
       "      <td>Bakery</td>\n",
       "      <td>2018-05-11</td>\n",
       "      <td>5.0</td>\n",
       "      <td>A</td>\n",
       "      <td>2</td>\n",
       "      <td>{10F, 08C}</td>\n",
       "      <td>0</td>\n",
       "    </tr>\n",
       "    <tr>\n",
       "      <th>1</th>\n",
       "      <td>30112340</td>\n",
       "      <td>WENDY'S</td>\n",
       "      <td>Hamburgers</td>\n",
       "      <td>2019-03-04</td>\n",
       "      <td>13.0</td>\n",
       "      <td>A</td>\n",
       "      <td>3</td>\n",
       "      <td>{10F, 02G, 10B}</td>\n",
       "      <td>1</td>\n",
       "    </tr>\n",
       "    <tr>\n",
       "      <th>2</th>\n",
       "      <td>30191841</td>\n",
       "      <td>DJ REYNOLDS PUB AND RESTAURANT</td>\n",
       "      <td>Irish</td>\n",
       "      <td>2018-05-16</td>\n",
       "      <td>12.0</td>\n",
       "      <td>A</td>\n",
       "      <td>3</td>\n",
       "      <td>{08A, 10F, 04L}</td>\n",
       "      <td>1</td>\n",
       "    </tr>\n",
       "    <tr>\n",
       "      <th>3</th>\n",
       "      <td>40356018</td>\n",
       "      <td>RIVIERA CATERERS</td>\n",
       "      <td>American</td>\n",
       "      <td>2018-10-30</td>\n",
       "      <td>10.0</td>\n",
       "      <td>A</td>\n",
       "      <td>2</td>\n",
       "      <td>{10F, 06D}</td>\n",
       "      <td>1</td>\n",
       "    </tr>\n",
       "    <tr>\n",
       "      <th>4</th>\n",
       "      <td>40356151</td>\n",
       "      <td>BRUNOS ON THE BOULEVARD</td>\n",
       "      <td>American</td>\n",
       "      <td>2017-08-19</td>\n",
       "      <td>10.0</td>\n",
       "      <td>A</td>\n",
       "      <td>2</td>\n",
       "      <td>{10F, 06C}</td>\n",
       "      <td>1</td>\n",
       "    </tr>\n",
       "  </tbody>\n",
       "</table>\n",
       "</div>"
      ],
      "text/plain": [
       "      CAMIS                             DBA CUISINE DESCRIPTION GRADE DATE  \\\n",
       "0  30075445           MORRIS PARK BAKE SHOP              Bakery 2018-05-11   \n",
       "1  30112340                         WENDY'S          Hamburgers 2019-03-04   \n",
       "2  30191841  DJ REYNOLDS PUB AND RESTAURANT               Irish 2018-05-16   \n",
       "3  40356018                RIVIERA CATERERS            American 2018-10-30   \n",
       "4  40356151         BRUNOS ON THE BOULEVARD            American 2017-08-19   \n",
       "\n",
       "   SCORE GRADE  VIO_COUNT    VIO_CODE_LIST  CRITICAL_COUNT  \n",
       "0    5.0     A          2       {10F, 08C}               0  \n",
       "1   13.0     A          3  {10F, 02G, 10B}               1  \n",
       "2   12.0     A          3  {08A, 10F, 04L}               1  \n",
       "3   10.0     A          2       {10F, 06D}               1  \n",
       "4   10.0     A          2       {10F, 06C}               1  "
      ]
     },
     "execution_count": 33,
     "metadata": {},
     "output_type": "execute_result"
    }
   ],
   "source": [
    "unique_insp = insp_.sort_values('GRADE DATE').drop_duplicates(['CAMIS','DBA'], keep='last').sort_index()\n",
    "unique_insp.reset_index(inplace=True, drop=True)\n",
    "unique_insp.head(5)"
   ]
  },
  {
   "cell_type": "code",
   "execution_count": 34,
   "metadata": {},
   "outputs": [
    {
     "data": {
      "text/plain": [
       "CAMIS                  0\n",
       "DBA                    0\n",
       "CUISINE DESCRIPTION    0\n",
       "GRADE DATE             0\n",
       "SCORE                  0\n",
       "GRADE                  0\n",
       "VIO_COUNT              0\n",
       "VIO_CODE_LIST          0\n",
       "CRITICAL_COUNT         0\n",
       "dtype: int64"
      ]
     },
     "execution_count": 34,
     "metadata": {},
     "output_type": "execute_result"
    }
   ],
   "source": [
    "unique_insp.isna().sum()"
   ]
  },
  {
   "cell_type": "code",
   "execution_count": 35,
   "metadata": {},
   "outputs": [],
   "source": [
    "unique_insp.to_csv('most_recent_inspections.csv', index=False)"
   ]
  },
  {
   "cell_type": "code",
   "execution_count": 645,
   "metadata": {},
   "outputs": [],
   "source": [
    "# visual libraries\n",
    "import matplotlib.pyplot as plt\n",
    "import seaborn as sns"
   ]
  },
  {
   "cell_type": "code",
   "execution_count": 428,
   "metadata": {},
   "outputs": [],
   "source": [
    "# # heat map of correlation of features\n",
    "# correlation_matrix = unique_insp.corr()\n",
    "# fig = plt.figure(figsize=(12,9))\n",
    "# sns.heatmap(correlation_matrix,vmax=0.8,square = True)\n",
    "# plt.show()"
   ]
  },
  {
   "cell_type": "code",
   "execution_count": 647,
   "metadata": {},
   "outputs": [
    {
     "name": "stdout",
     "output_type": "stream",
     "text": [
      "Score A:  92 %\n"
     ]
    }
   ],
   "source": [
    "rest_count = unique_insp.shape[0]\n",
    "A_list = unique_insp[unique_insp['GRADE'] == 'A']\n",
    "\n",
    "x = len(A_list)/rest_count\n",
    "print(\"Score A: % 3d\" %(int(x*100)),  '%') \n",
    "# print('Score A Percentage:',,)"
   ]
  },
  {
   "cell_type": "code",
   "execution_count": 666,
   "metadata": {},
   "outputs": [
    {
     "data": {
      "image/png": "[encoded data removed]",
      "text/plain": [
       "<Figure size 432x288 with 1 Axes>"
      ]
     },
     "metadata": {},
     "output_type": "display_data"
    }
   ],
   "source": [
    "cmap = plt.get_cmap('Spectral')\n",
    "# colors = [cmap(i) for i in np.linspace(0, 1, 9)]\n",
    "colors = ['darkorange', 'lightskyblue', 'royalblue']\n",
    "# Pie chart\n",
    "labels = ['A', 'B', 'C']\n",
    "sizes = [unique_insp['GRADE'].value_counts()[0], unique_insp['GRADE'].value_counts()[1], unique_insp['GRADE'].value_counts()[2]]\n",
    "explode = (0, 0, 0.1)  \n",
    "\n",
    "fig1, ax1 = plt.subplots()\n",
    "ax1.pie(sizes, explode=explode, labels=labels, autopct='%1.1f%%',\n",
    "        shadow=True, colors=colors, startangle=45)\n",
    "# Equal aspect ratio ensures that pie is drawn as a circle\n",
    "ax1.axis('equal')  \n",
    "plt.tight_layout()\n",
    "plt.show()"
   ]
  },
  {
   "cell_type": "code",
   "execution_count": null,
   "metadata": {},
   "outputs": [],
   "source": []
  }
 ],
 "metadata": {
  "kernelspec": {
   "display_name": "Python 3",
   "language": "python",
   "name": "python3"
  },
  "language_info": {
   "codemirror_mode": {
    "name": "ipython",
    "version": 3
   },
   "file_extension": ".py",
   "mimetype": "text/x-python",
   "name": "python",
   "nbconvert_exporter": "python",
   "pygments_lexer": "ipython3",
   "version": "3.7.3"
  }
 },
 "nbformat": 4,
 "nbformat_minor": 2
}
