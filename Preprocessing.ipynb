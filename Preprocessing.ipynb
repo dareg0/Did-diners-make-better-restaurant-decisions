{
 "cells": [
  {
   "cell_type": "markdown",
   "metadata": {},
   "source": [
    "# Preprocessing the Inspection Dataset"
   ]
  },
  {
   "cell_type": "code",
   "execution_count": 69,
   "metadata": {},
   "outputs": [],
   "source": [
    "import pandas as pd\n",
    "import numpy as np"
   ]
  },
  {
   "cell_type": "code",
   "execution_count": 70,
   "metadata": {
    "scrolled": true
   },
   "outputs": [
    {
     "name": "stderr",
     "output_type": "stream",
     "text": [
      "/usr/local/lib/python3.7/site-packages/IPython/core/interactiveshell.py:3049: DtypeWarning: Columns (6) have mixed types. Specify dtype option on import or set low_memory=False.\n",
      "  interactivity=interactivity, compiler=compiler, result=result)\n"
     ]
    }
   ],
   "source": [
    "inspections = pd.read_csv('Data/DOHMH_New_York_City_Restaurant_Inspection_Results.csv')"
   ]
  },
  {
   "cell_type": "code",
   "execution_count": 71,
   "metadata": {},
   "outputs": [
    {
     "data": {
      "text/html": [
       "<div>\n",
       "<style scoped>\n",
       "    .dataframe tbody tr th:only-of-type {\n",
       "        vertical-align: middle;\n",
       "    }\n",
       "\n",
       "    .dataframe tbody tr th {\n",
       "        vertical-align: top;\n",
       "    }\n",
       "\n",
       "    .dataframe thead th {\n",
       "        text-align: right;\n",
       "    }\n",
       "</style>\n",
       "<table border=\"1\" class=\"dataframe\">\n",
       "  <thead>\n",
       "    <tr style=\"text-align: right;\">\n",
       "      <th></th>\n",
       "      <th>CAMIS</th>\n",
       "      <th>DBA</th>\n",
       "      <th>BORO</th>\n",
       "      <th>BUILDING</th>\n",
       "      <th>STREET</th>\n",
       "      <th>ZIPCODE</th>\n",
       "      <th>PHONE</th>\n",
       "      <th>CUISINE DESCRIPTION</th>\n",
       "      <th>INSPECTION DATE</th>\n",
       "      <th>ACTION</th>\n",
       "      <th>VIOLATION CODE</th>\n",
       "      <th>VIOLATION DESCRIPTION</th>\n",
       "      <th>CRITICAL FLAG</th>\n",
       "      <th>SCORE</th>\n",
       "      <th>GRADE</th>\n",
       "      <th>GRADE DATE</th>\n",
       "      <th>RECORD DATE</th>\n",
       "      <th>INSPECTION TYPE</th>\n",
       "    </tr>\n",
       "  </thead>\n",
       "  <tbody>\n",
       "    <tr>\n",
       "      <th>0</th>\n",
       "      <td>30075445</td>\n",
       "      <td>MORRIS PARK BAKE SHOP</td>\n",
       "      <td>BRONX</td>\n",
       "      <td>1007</td>\n",
       "      <td>MORRIS PARK AVE</td>\n",
       "      <td>10462.0</td>\n",
       "      <td>7188924968</td>\n",
       "      <td>Bakery</td>\n",
       "      <td>05/11/2018</td>\n",
       "      <td>Violations were cited in the following area(s).</td>\n",
       "      <td>08C</td>\n",
       "      <td>Pesticide use not in accordance with label or ...</td>\n",
       "      <td>Not Critical</td>\n",
       "      <td>5.0</td>\n",
       "      <td>A</td>\n",
       "      <td>05/11/2018</td>\n",
       "      <td>04/28/2019</td>\n",
       "      <td>Cycle Inspection / Initial Inspection</td>\n",
       "    </tr>\n",
       "    <tr>\n",
       "      <th>1</th>\n",
       "      <td>30075445</td>\n",
       "      <td>MORRIS PARK BAKE SHOP</td>\n",
       "      <td>BRONX</td>\n",
       "      <td>1007</td>\n",
       "      <td>MORRIS PARK AVE</td>\n",
       "      <td>10462.0</td>\n",
       "      <td>7188924968</td>\n",
       "      <td>Bakery</td>\n",
       "      <td>05/11/2018</td>\n",
       "      <td>Violations were cited in the following area(s).</td>\n",
       "      <td>10F</td>\n",
       "      <td>Non-food contact surface improperly constructe...</td>\n",
       "      <td>Not Critical</td>\n",
       "      <td>5.0</td>\n",
       "      <td>A</td>\n",
       "      <td>05/11/2018</td>\n",
       "      <td>04/28/2019</td>\n",
       "      <td>Cycle Inspection / Initial Inspection</td>\n",
       "    </tr>\n",
       "    <tr>\n",
       "      <th>2</th>\n",
       "      <td>30075445</td>\n",
       "      <td>MORRIS PARK BAKE SHOP</td>\n",
       "      <td>BRONX</td>\n",
       "      <td>1007</td>\n",
       "      <td>MORRIS PARK AVE</td>\n",
       "      <td>10462.0</td>\n",
       "      <td>7188924968</td>\n",
       "      <td>Bakery</td>\n",
       "      <td>05/18/2017</td>\n",
       "      <td>Violations were cited in the following area(s).</td>\n",
       "      <td>06D</td>\n",
       "      <td>Food contact surface not properly washed, rins...</td>\n",
       "      <td>Critical</td>\n",
       "      <td>7.0</td>\n",
       "      <td>A</td>\n",
       "      <td>05/18/2017</td>\n",
       "      <td>04/28/2019</td>\n",
       "      <td>Cycle Inspection / Initial Inspection</td>\n",
       "    </tr>\n",
       "    <tr>\n",
       "      <th>3</th>\n",
       "      <td>30075445</td>\n",
       "      <td>MORRIS PARK BAKE SHOP</td>\n",
       "      <td>BRONX</td>\n",
       "      <td>1007</td>\n",
       "      <td>MORRIS PARK AVE</td>\n",
       "      <td>10462.0</td>\n",
       "      <td>7188924968</td>\n",
       "      <td>Bakery</td>\n",
       "      <td>05/18/2017</td>\n",
       "      <td>Violations were cited in the following area(s).</td>\n",
       "      <td>10F</td>\n",
       "      <td>Non-food contact surface improperly constructe...</td>\n",
       "      <td>Not Critical</td>\n",
       "      <td>7.0</td>\n",
       "      <td>A</td>\n",
       "      <td>05/18/2017</td>\n",
       "      <td>04/28/2019</td>\n",
       "      <td>Cycle Inspection / Initial Inspection</td>\n",
       "    </tr>\n",
       "    <tr>\n",
       "      <th>4</th>\n",
       "      <td>30075445</td>\n",
       "      <td>MORRIS PARK BAKE SHOP</td>\n",
       "      <td>BRONX</td>\n",
       "      <td>1007</td>\n",
       "      <td>MORRIS PARK AVE</td>\n",
       "      <td>10462.0</td>\n",
       "      <td>7188924968</td>\n",
       "      <td>Bakery</td>\n",
       "      <td>02/18/2016</td>\n",
       "      <td>Violations were cited in the following area(s).</td>\n",
       "      <td>04L</td>\n",
       "      <td>Evidence of mice or live mice present in facil...</td>\n",
       "      <td>Critical</td>\n",
       "      <td>10.0</td>\n",
       "      <td>A</td>\n",
       "      <td>02/18/2016</td>\n",
       "      <td>04/28/2019</td>\n",
       "      <td>Cycle Inspection / Initial Inspection</td>\n",
       "    </tr>\n",
       "  </tbody>\n",
       "</table>\n",
       "</div>"
      ],
      "text/plain": [
       "      CAMIS                    DBA   BORO BUILDING           STREET  ZIPCODE  \\\n",
       "0  30075445  MORRIS PARK BAKE SHOP  BRONX     1007  MORRIS PARK AVE  10462.0   \n",
       "1  30075445  MORRIS PARK BAKE SHOP  BRONX     1007  MORRIS PARK AVE  10462.0   \n",
       "2  30075445  MORRIS PARK BAKE SHOP  BRONX     1007  MORRIS PARK AVE  10462.0   \n",
       "3  30075445  MORRIS PARK BAKE SHOP  BRONX     1007  MORRIS PARK AVE  10462.0   \n",
       "4  30075445  MORRIS PARK BAKE SHOP  BRONX     1007  MORRIS PARK AVE  10462.0   \n",
       "\n",
       "        PHONE CUISINE DESCRIPTION INSPECTION DATE  \\\n",
       "0  7188924968              Bakery      05/11/2018   \n",
       "1  7188924968              Bakery      05/11/2018   \n",
       "2  7188924968              Bakery      05/18/2017   \n",
       "3  7188924968              Bakery      05/18/2017   \n",
       "4  7188924968              Bakery      02/18/2016   \n",
       "\n",
       "                                            ACTION VIOLATION CODE  \\\n",
       "0  Violations were cited in the following area(s).            08C   \n",
       "1  Violations were cited in the following area(s).            10F   \n",
       "2  Violations were cited in the following area(s).            06D   \n",
       "3  Violations were cited in the following area(s).            10F   \n",
       "4  Violations were cited in the following area(s).            04L   \n",
       "\n",
       "                               VIOLATION DESCRIPTION CRITICAL FLAG  SCORE  \\\n",
       "0  Pesticide use not in accordance with label or ...  Not Critical    5.0   \n",
       "1  Non-food contact surface improperly constructe...  Not Critical    5.0   \n",
       "2  Food contact surface not properly washed, rins...      Critical    7.0   \n",
       "3  Non-food contact surface improperly constructe...  Not Critical    7.0   \n",
       "4  Evidence of mice or live mice present in facil...      Critical   10.0   \n",
       "\n",
       "  GRADE  GRADE DATE RECORD DATE                        INSPECTION TYPE  \n",
       "0     A  05/11/2018  04/28/2019  Cycle Inspection / Initial Inspection  \n",
       "1     A  05/11/2018  04/28/2019  Cycle Inspection / Initial Inspection  \n",
       "2     A  05/18/2017  04/28/2019  Cycle Inspection / Initial Inspection  \n",
       "3     A  05/18/2017  04/28/2019  Cycle Inspection / Initial Inspection  \n",
       "4     A  02/18/2016  04/28/2019  Cycle Inspection / Initial Inspection  "
      ]
     },
     "execution_count": 71,
     "metadata": {},
     "output_type": "execute_result"
    }
   ],
   "source": [
    "inspections.head(5)"
   ]
  },
  {
   "cell_type": "code",
   "execution_count": 72,
   "metadata": {},
   "outputs": [
    {
     "data": {
      "text/plain": [
       "(381911, 18)"
      ]
     },
     "execution_count": 72,
     "metadata": {},
     "output_type": "execute_result"
    }
   ],
   "source": [
    "inspections.shape"
   ]
  },
  {
   "cell_type": "code",
   "execution_count": 73,
   "metadata": {},
   "outputs": [
    {
     "data": {
      "text/plain": [
       "A                 13148\n",
       "B                  1249\n",
       "C                   310\n",
       "Z                   134\n",
       "Not Yet Graded      130\n",
       "P                    71\n",
       "Name: GRADE, dtype: int64"
      ]
     },
     "execution_count": 73,
     "metadata": {},
     "output_type": "execute_result"
    }
   ],
   "source": [
    "inspections[inspections['VIOLATION CODE']=='06D']['GRADE'].value_counts()"
   ]
  },
  {
   "cell_type": "markdown",
   "metadata": {},
   "source": [
    "**Above results suggest that the relationship between 'VIOLATION CODE' and 'GRADE' is not pairwise. So we decided to keep both columns as metrics.**"
   ]
  },
  {
   "cell_type": "code",
   "execution_count": 74,
   "metadata": {},
   "outputs": [
    {
     "data": {
      "text/plain": [
       "A                 152827\n",
       "B                  24214\n",
       "C                   7927\n",
       "Z                   2559\n",
       "Not Yet Graded      2535\n",
       "P                   2284\n",
       "G                      5\n",
       "Name: GRADE, dtype: int64"
      ]
     },
     "execution_count": 74,
     "metadata": {},
     "output_type": "execute_result"
    }
   ],
   "source": [
    "inspections['GRADE'].value_counts()"
   ]
  },
  {
   "cell_type": "code",
   "execution_count": 75,
   "metadata": {},
   "outputs": [
    {
     "data": {
      "text/html": [
       "<div>\n",
       "<style scoped>\n",
       "    .dataframe tbody tr th:only-of-type {\n",
       "        vertical-align: middle;\n",
       "    }\n",
       "\n",
       "    .dataframe tbody tr th {\n",
       "        vertical-align: top;\n",
       "    }\n",
       "\n",
       "    .dataframe thead th {\n",
       "        text-align: right;\n",
       "    }\n",
       "</style>\n",
       "<table border=\"1\" class=\"dataframe\">\n",
       "  <thead>\n",
       "    <tr style=\"text-align: right;\">\n",
       "      <th></th>\n",
       "      <th>CAMIS</th>\n",
       "      <th>DBA</th>\n",
       "      <th>BORO</th>\n",
       "      <th>BUILDING</th>\n",
       "      <th>STREET</th>\n",
       "      <th>ZIPCODE</th>\n",
       "      <th>PHONE</th>\n",
       "      <th>CUISINE DESCRIPTION</th>\n",
       "      <th>INSPECTION DATE</th>\n",
       "      <th>ACTION</th>\n",
       "      <th>VIOLATION CODE</th>\n",
       "      <th>VIOLATION DESCRIPTION</th>\n",
       "      <th>CRITICAL FLAG</th>\n",
       "      <th>SCORE</th>\n",
       "      <th>GRADE</th>\n",
       "      <th>GRADE DATE</th>\n",
       "      <th>RECORD DATE</th>\n",
       "      <th>INSPECTION TYPE</th>\n",
       "    </tr>\n",
       "  </thead>\n",
       "  <tbody>\n",
       "    <tr>\n",
       "      <th>323767</th>\n",
       "      <td>50059954</td>\n",
       "      <td>CAFFE BENE</td>\n",
       "      <td>MANHATTAN</td>\n",
       "      <td>378</td>\n",
       "      <td>CANAL ST</td>\n",
       "      <td>10013.0</td>\n",
       "      <td>9179637779</td>\n",
       "      <td>CafÃ©/Coffee/Tea</td>\n",
       "      <td>08/02/2018</td>\n",
       "      <td>Establishment re-opened by DOHMH</td>\n",
       "      <td>10F</td>\n",
       "      <td>Non-food contact surface improperly constructe...</td>\n",
       "      <td>Not Critical</td>\n",
       "      <td>4.0</td>\n",
       "      <td>P</td>\n",
       "      <td>08/02/2018</td>\n",
       "      <td>04/28/2019</td>\n",
       "      <td>Cycle Inspection / Reopening Inspection</td>\n",
       "    </tr>\n",
       "    <tr>\n",
       "      <th>362303</th>\n",
       "      <td>50075593</td>\n",
       "      <td>SUMELA TO GO</td>\n",
       "      <td>BROOKLYN</td>\n",
       "      <td>145</td>\n",
       "      <td>COURT ST</td>\n",
       "      <td>11201.0</td>\n",
       "      <td>7188555050</td>\n",
       "      <td>Turkish</td>\n",
       "      <td>06/22/2018</td>\n",
       "      <td>Establishment re-opened by DOHMH</td>\n",
       "      <td>10B</td>\n",
       "      <td>Plumbing not properly installed or maintained;...</td>\n",
       "      <td>Not Critical</td>\n",
       "      <td>6.0</td>\n",
       "      <td>P</td>\n",
       "      <td>06/22/2018</td>\n",
       "      <td>04/28/2019</td>\n",
       "      <td>Pre-permit (Operational) / Reopening Inspection</td>\n",
       "    </tr>\n",
       "    <tr>\n",
       "      <th>71612</th>\n",
       "      <td>41181385</td>\n",
       "      <td>EL DESPERTAR MARLENE</td>\n",
       "      <td>BRONX</td>\n",
       "      <td>849</td>\n",
       "      <td>PROSPECT AVENUE</td>\n",
       "      <td>10459.0</td>\n",
       "      <td>7188930324</td>\n",
       "      <td>Latin (Cuban, Dominican, Puerto Rican, South &amp;...</td>\n",
       "      <td>03/21/2018</td>\n",
       "      <td>Establishment re-opened by DOHMH</td>\n",
       "      <td>09C</td>\n",
       "      <td>Food contact surface not properly maintained.</td>\n",
       "      <td>Not Critical</td>\n",
       "      <td>2.0</td>\n",
       "      <td>P</td>\n",
       "      <td>03/21/2018</td>\n",
       "      <td>04/28/2019</td>\n",
       "      <td>Cycle Inspection / Reopening Inspection</td>\n",
       "    </tr>\n",
       "    <tr>\n",
       "      <th>164502</th>\n",
       "      <td>41664038</td>\n",
       "      <td>SIMPLY BAKERY</td>\n",
       "      <td>MANHATTAN</td>\n",
       "      <td>70</td>\n",
       "      <td>BAYARD STREET</td>\n",
       "      <td>10013.0</td>\n",
       "      <td>2127751188</td>\n",
       "      <td>Bakery</td>\n",
       "      <td>11/17/2016</td>\n",
       "      <td>Establishment re-opened by DOHMH</td>\n",
       "      <td>10F</td>\n",
       "      <td>Non-food contact surface improperly constructe...</td>\n",
       "      <td>Not Critical</td>\n",
       "      <td>4.0</td>\n",
       "      <td>P</td>\n",
       "      <td>11/17/2016</td>\n",
       "      <td>04/28/2019</td>\n",
       "      <td>Cycle Inspection / Reopening Inspection</td>\n",
       "    </tr>\n",
       "    <tr>\n",
       "      <th>300205</th>\n",
       "      <td>50051729</td>\n",
       "      <td>NEW YORK YUMMY TACO</td>\n",
       "      <td>BROOKLYN</td>\n",
       "      <td>129</td>\n",
       "      <td>CHURCH AVE</td>\n",
       "      <td>11218.0</td>\n",
       "      <td>7186967038</td>\n",
       "      <td>Mexican</td>\n",
       "      <td>02/16/2017</td>\n",
       "      <td>Establishment re-opened by DOHMH</td>\n",
       "      <td>10F</td>\n",
       "      <td>Non-food contact surface improperly constructe...</td>\n",
       "      <td>Not Critical</td>\n",
       "      <td>2.0</td>\n",
       "      <td>P</td>\n",
       "      <td>02/16/2017</td>\n",
       "      <td>04/28/2019</td>\n",
       "      <td>Cycle Inspection / Reopening Inspection</td>\n",
       "    </tr>\n",
       "  </tbody>\n",
       "</table>\n",
       "</div>"
      ],
      "text/plain": [
       "           CAMIS                   DBA       BORO BUILDING           STREET  \\\n",
       "323767  50059954            CAFFE BENE  MANHATTAN      378         CANAL ST   \n",
       "362303  50075593          SUMELA TO GO   BROOKLYN      145         COURT ST   \n",
       "71612   41181385  EL DESPERTAR MARLENE      BRONX      849  PROSPECT AVENUE   \n",
       "164502  41664038         SIMPLY BAKERY  MANHATTAN       70    BAYARD STREET   \n",
       "300205  50051729   NEW YORK YUMMY TACO   BROOKLYN      129       CHURCH AVE   \n",
       "\n",
       "        ZIPCODE       PHONE  \\\n",
       "323767  10013.0  9179637779   \n",
       "362303  11201.0  7188555050   \n",
       "71612   10459.0  7188930324   \n",
       "164502  10013.0  2127751188   \n",
       "300205  11218.0  7186967038   \n",
       "\n",
       "                                      CUISINE DESCRIPTION INSPECTION DATE  \\\n",
       "323767                                   CafÃ©/Coffee/Tea      08/02/2018   \n",
       "362303                                            Turkish      06/22/2018   \n",
       "71612   Latin (Cuban, Dominican, Puerto Rican, South &...      03/21/2018   \n",
       "164502                                             Bakery      11/17/2016   \n",
       "300205                                            Mexican      02/16/2017   \n",
       "\n",
       "                                  ACTION VIOLATION CODE  \\\n",
       "323767  Establishment re-opened by DOHMH            10F   \n",
       "362303  Establishment re-opened by DOHMH            10B   \n",
       "71612   Establishment re-opened by DOHMH            09C   \n",
       "164502  Establishment re-opened by DOHMH            10F   \n",
       "300205  Establishment re-opened by DOHMH            10F   \n",
       "\n",
       "                                    VIOLATION DESCRIPTION CRITICAL FLAG  \\\n",
       "323767  Non-food contact surface improperly constructe...  Not Critical   \n",
       "362303  Plumbing not properly installed or maintained;...  Not Critical   \n",
       "71612       Food contact surface not properly maintained.  Not Critical   \n",
       "164502  Non-food contact surface improperly constructe...  Not Critical   \n",
       "300205  Non-food contact surface improperly constructe...  Not Critical   \n",
       "\n",
       "        SCORE GRADE  GRADE DATE RECORD DATE  \\\n",
       "323767    4.0     P  08/02/2018  04/28/2019   \n",
       "362303    6.0     P  06/22/2018  04/28/2019   \n",
       "71612     2.0     P  03/21/2018  04/28/2019   \n",
       "164502    4.0     P  11/17/2016  04/28/2019   \n",
       "300205    2.0     P  02/16/2017  04/28/2019   \n",
       "\n",
       "                                        INSPECTION TYPE  \n",
       "323767          Cycle Inspection / Reopening Inspection  \n",
       "362303  Pre-permit (Operational) / Reopening Inspection  \n",
       "71612           Cycle Inspection / Reopening Inspection  \n",
       "164502          Cycle Inspection / Reopening Inspection  \n",
       "300205          Cycle Inspection / Reopening Inspection  "
      ]
     },
     "execution_count": 75,
     "metadata": {},
     "output_type": "execute_result"
    }
   ],
   "source": [
    "inspections[inspections['GRADE']=='P'].sample(5)"
   ]
  },
  {
   "cell_type": "code",
   "execution_count": 76,
   "metadata": {},
   "outputs": [
    {
     "data": {
      "text/html": [
       "<div>\n",
       "<style scoped>\n",
       "    .dataframe tbody tr th:only-of-type {\n",
       "        vertical-align: middle;\n",
       "    }\n",
       "\n",
       "    .dataframe tbody tr th {\n",
       "        vertical-align: top;\n",
       "    }\n",
       "\n",
       "    .dataframe thead th {\n",
       "        text-align: right;\n",
       "    }\n",
       "</style>\n",
       "<table border=\"1\" class=\"dataframe\">\n",
       "  <thead>\n",
       "    <tr style=\"text-align: right;\">\n",
       "      <th></th>\n",
       "      <th>CAMIS</th>\n",
       "      <th>DBA</th>\n",
       "      <th>BORO</th>\n",
       "      <th>BUILDING</th>\n",
       "      <th>STREET</th>\n",
       "      <th>ZIPCODE</th>\n",
       "      <th>PHONE</th>\n",
       "      <th>CUISINE DESCRIPTION</th>\n",
       "      <th>INSPECTION DATE</th>\n",
       "      <th>ACTION</th>\n",
       "      <th>VIOLATION CODE</th>\n",
       "      <th>VIOLATION DESCRIPTION</th>\n",
       "      <th>CRITICAL FLAG</th>\n",
       "      <th>SCORE</th>\n",
       "      <th>GRADE</th>\n",
       "      <th>GRADE DATE</th>\n",
       "      <th>RECORD DATE</th>\n",
       "      <th>INSPECTION TYPE</th>\n",
       "    </tr>\n",
       "  </thead>\n",
       "  <tbody>\n",
       "    <tr>\n",
       "      <th>333021</th>\n",
       "      <td>50064268</td>\n",
       "      <td>SHU JIAO FUZHOUESE CUISINE</td>\n",
       "      <td>MANHATTAN</td>\n",
       "      <td>118</td>\n",
       "      <td>ELDRIDGE ST</td>\n",
       "      <td>10002.0</td>\n",
       "      <td>9177706686</td>\n",
       "      <td>Chinese</td>\n",
       "      <td>03/29/2019</td>\n",
       "      <td>Violations were cited in the following area(s).</td>\n",
       "      <td>08A</td>\n",
       "      <td>Facility not vermin proof. Harborage or condit...</td>\n",
       "      <td>Not Critical</td>\n",
       "      <td>25.0</td>\n",
       "      <td>Z</td>\n",
       "      <td>03/29/2019</td>\n",
       "      <td>04/28/2019</td>\n",
       "      <td>Cycle Inspection / Re-inspection</td>\n",
       "    </tr>\n",
       "    <tr>\n",
       "      <th>357508</th>\n",
       "      <td>50073537</td>\n",
       "      <td>MAMAN</td>\n",
       "      <td>MANHATTAN</td>\n",
       "      <td>22</td>\n",
       "      <td>W 25TH ST</td>\n",
       "      <td>10010.0</td>\n",
       "      <td>6468380700</td>\n",
       "      <td>French</td>\n",
       "      <td>04/12/2019</td>\n",
       "      <td>Violations were cited in the following area(s).</td>\n",
       "      <td>06D</td>\n",
       "      <td>Food contact surface not properly washed, rins...</td>\n",
       "      <td>Critical</td>\n",
       "      <td>23.0</td>\n",
       "      <td>Z</td>\n",
       "      <td>04/12/2019</td>\n",
       "      <td>04/28/2019</td>\n",
       "      <td>Cycle Inspection / Re-inspection</td>\n",
       "    </tr>\n",
       "    <tr>\n",
       "      <th>196358</th>\n",
       "      <td>50002071</td>\n",
       "      <td>DELIS 48</td>\n",
       "      <td>MANHATTAN</td>\n",
       "      <td>48</td>\n",
       "      <td>W 48 STREET</td>\n",
       "      <td>10036.0</td>\n",
       "      <td>2127689600</td>\n",
       "      <td>American</td>\n",
       "      <td>03/21/2019</td>\n",
       "      <td>Violations were cited in the following area(s).</td>\n",
       "      <td>08C</td>\n",
       "      <td>Pesticide use not in accordance with label or ...</td>\n",
       "      <td>Not Critical</td>\n",
       "      <td>27.0</td>\n",
       "      <td>Z</td>\n",
       "      <td>03/21/2019</td>\n",
       "      <td>04/28/2019</td>\n",
       "      <td>Cycle Inspection / Re-inspection</td>\n",
       "    </tr>\n",
       "    <tr>\n",
       "      <th>170123</th>\n",
       "      <td>41685527</td>\n",
       "      <td>CAMPAGNA QUATTRO GATTI</td>\n",
       "      <td>MANHATTAN</td>\n",
       "      <td>205</td>\n",
       "      <td>EAST   81 STREET</td>\n",
       "      <td>10028.0</td>\n",
       "      <td>2125701073</td>\n",
       "      <td>Italian</td>\n",
       "      <td>04/10/2019</td>\n",
       "      <td>Violations were cited in the following area(s).</td>\n",
       "      <td>10B</td>\n",
       "      <td>Plumbing not properly installed or maintained;...</td>\n",
       "      <td>Not Critical</td>\n",
       "      <td>26.0</td>\n",
       "      <td>Z</td>\n",
       "      <td>04/10/2019</td>\n",
       "      <td>04/28/2019</td>\n",
       "      <td>Cycle Inspection / Re-inspection</td>\n",
       "    </tr>\n",
       "    <tr>\n",
       "      <th>357287</th>\n",
       "      <td>50073413</td>\n",
       "      <td>MISS LI HENAN CUISINE</td>\n",
       "      <td>QUEENS</td>\n",
       "      <td>13349</td>\n",
       "      <td>ROOSEVELT AVE</td>\n",
       "      <td>11354.0</td>\n",
       "      <td>3473684442</td>\n",
       "      <td>Chinese</td>\n",
       "      <td>03/13/2019</td>\n",
       "      <td>Violations were cited in the following area(s).</td>\n",
       "      <td>09C</td>\n",
       "      <td>Food contact surface not properly maintained.</td>\n",
       "      <td>Not Critical</td>\n",
       "      <td>24.0</td>\n",
       "      <td>Z</td>\n",
       "      <td>03/13/2019</td>\n",
       "      <td>04/28/2019</td>\n",
       "      <td>Cycle Inspection / Re-inspection</td>\n",
       "    </tr>\n",
       "  </tbody>\n",
       "</table>\n",
       "</div>"
      ],
      "text/plain": [
       "           CAMIS                         DBA       BORO BUILDING  \\\n",
       "333021  50064268  SHU JIAO FUZHOUESE CUISINE  MANHATTAN      118   \n",
       "357508  50073537                       MAMAN  MANHATTAN       22   \n",
       "196358  50002071                    DELIS 48  MANHATTAN       48   \n",
       "170123  41685527      CAMPAGNA QUATTRO GATTI  MANHATTAN      205   \n",
       "357287  50073413       MISS LI HENAN CUISINE     QUEENS    13349   \n",
       "\n",
       "                  STREET  ZIPCODE       PHONE CUISINE DESCRIPTION  \\\n",
       "333021       ELDRIDGE ST  10002.0  9177706686             Chinese   \n",
       "357508         W 25TH ST  10010.0  6468380700              French   \n",
       "196358       W 48 STREET  10036.0  2127689600            American   \n",
       "170123  EAST   81 STREET  10028.0  2125701073             Italian   \n",
       "357287     ROOSEVELT AVE  11354.0  3473684442             Chinese   \n",
       "\n",
       "       INSPECTION DATE                                           ACTION  \\\n",
       "333021      03/29/2019  Violations were cited in the following area(s).   \n",
       "357508      04/12/2019  Violations were cited in the following area(s).   \n",
       "196358      03/21/2019  Violations were cited in the following area(s).   \n",
       "170123      04/10/2019  Violations were cited in the following area(s).   \n",
       "357287      03/13/2019  Violations were cited in the following area(s).   \n",
       "\n",
       "       VIOLATION CODE                              VIOLATION DESCRIPTION  \\\n",
       "333021            08A  Facility not vermin proof. Harborage or condit...   \n",
       "357508            06D  Food contact surface not properly washed, rins...   \n",
       "196358            08C  Pesticide use not in accordance with label or ...   \n",
       "170123            10B  Plumbing not properly installed or maintained;...   \n",
       "357287            09C      Food contact surface not properly maintained.   \n",
       "\n",
       "       CRITICAL FLAG  SCORE GRADE  GRADE DATE RECORD DATE  \\\n",
       "333021  Not Critical   25.0     Z  03/29/2019  04/28/2019   \n",
       "357508      Critical   23.0     Z  04/12/2019  04/28/2019   \n",
       "196358  Not Critical   27.0     Z  03/21/2019  04/28/2019   \n",
       "170123  Not Critical   26.0     Z  04/10/2019  04/28/2019   \n",
       "357287  Not Critical   24.0     Z  03/13/2019  04/28/2019   \n",
       "\n",
       "                         INSPECTION TYPE  \n",
       "333021  Cycle Inspection / Re-inspection  \n",
       "357508  Cycle Inspection / Re-inspection  \n",
       "196358  Cycle Inspection / Re-inspection  \n",
       "170123  Cycle Inspection / Re-inspection  \n",
       "357287  Cycle Inspection / Re-inspection  "
      ]
     },
     "execution_count": 76,
     "metadata": {},
     "output_type": "execute_result"
    }
   ],
   "source": [
    "inspections[inspections['GRADE']=='Z'].sample(5)"
   ]
  },
  {
   "cell_type": "code",
   "execution_count": 77,
   "metadata": {},
   "outputs": [
    {
     "data": {
      "text/plain": [
       "156.0"
      ]
     },
     "execution_count": 77,
     "metadata": {},
     "output_type": "execute_result"
    }
   ],
   "source": [
    "inspections['SCORE'].max()"
   ]
  },
  {
   "cell_type": "code",
   "execution_count": 78,
   "metadata": {
    "scrolled": true
   },
   "outputs": [
    {
     "data": {
      "text/plain": [
       "-1.0"
      ]
     },
     "execution_count": 78,
     "metadata": {},
     "output_type": "execute_result"
    }
   ],
   "source": [
    "inspections['SCORE'].min()"
   ]
  },
  {
   "cell_type": "markdown",
   "metadata": {},
   "source": [
    "According to the column info provided by NYC Open Data:\n",
    "- N = Not Yet Graded\n",
    "- A = Grade A\n",
    "- B = Grade B\n",
    "- C = Grade C\n",
    "- Z = Grade Pending\n",
    "- P = Grade Pending issued on re-opening following an initial inspection that resulted in a closure"
   ]
  },
  {
   "cell_type": "code",
   "execution_count": 79,
   "metadata": {},
   "outputs": [
    {
     "data": {
      "text/plain": [
       "A    152827\n",
       "B     24214\n",
       "C      7927\n",
       "Name: GRADE, dtype: int64"
      ]
     },
     "execution_count": 79,
     "metadata": {},
     "output_type": "execute_result"
    }
   ],
   "source": [
    "inspections['GRADE'].replace({'Not Yet Graded':np.nan, 'Z':np.nan, 'P':np.nan, 'G':np.nan}, inplace=True)\n",
    "inspections['GRADE'].value_counts()"
   ]
  },
  {
   "cell_type": "code",
   "execution_count": 80,
   "metadata": {},
   "outputs": [
    {
     "data": {
      "text/plain": [
       "Critical          208533\n",
       "Not Critical      164991\n",
       "Not Applicable      8387\n",
       "Name: CRITICAL FLAG, dtype: int64"
      ]
     },
     "execution_count": 80,
     "metadata": {},
     "output_type": "execute_result"
    }
   ],
   "source": [
    "inspections['CRITICAL FLAG'].value_counts()"
   ]
  },
  {
   "cell_type": "code",
   "execution_count": 81,
   "metadata": {
    "scrolled": true
   },
   "outputs": [
    {
     "data": {
      "text/plain": [
       "Critical        208533\n",
       "Not Critical    164991\n",
       "Name: CRITICAL FLAG, dtype: int64"
      ]
     },
     "execution_count": 81,
     "metadata": {},
     "output_type": "execute_result"
    }
   ],
   "source": [
    "inspections['CRITICAL FLAG'].replace({'Not Applicable':np.nan}, inplace=True)\n",
    "inspections['CRITICAL FLAG'].value_counts()"
   ]
  },
  {
   "cell_type": "code",
   "execution_count": 82,
   "metadata": {
    "scrolled": true
   },
   "outputs": [
    {
     "data": {
      "text/plain": [
       "MANHATTAN        151520\n",
       "BROOKLYN          96622\n",
       "QUEENS            86225\n",
       "BRONX             34017\n",
       "STATEN ISLAND     13378\n",
       "Missing             149\n",
       "Name: BORO, dtype: int64"
      ]
     },
     "execution_count": 82,
     "metadata": {},
     "output_type": "execute_result"
    }
   ],
   "source": [
    "inspections['BORO'].value_counts()"
   ]
  },
  {
   "cell_type": "code",
   "execution_count": 83,
   "metadata": {},
   "outputs": [],
   "source": [
    "inspections['BORO'].replace({'STATEN ISLAND ':np.nan}, inplace=True)"
   ]
  },
  {
   "cell_type": "code",
   "execution_count": 84,
   "metadata": {},
   "outputs": [
    {
     "data": {
      "text/plain": [
       "CAMIS                         0\n",
       "DBA                         509\n",
       "BORO                          0\n",
       "BUILDING                    228\n",
       "STREET                        1\n",
       "ZIPCODE                    5551\n",
       "PHONE                         9\n",
       "CUISINE DESCRIPTION           0\n",
       "INSPECTION DATE               0\n",
       "ACTION                     1302\n",
       "VIOLATION CODE             5785\n",
       "VIOLATION DESCRIPTION      8387\n",
       "CRITICAL FLAG              8387\n",
       "SCORE                     18184\n",
       "GRADE                    196943\n",
       "GRADE DATE               192091\n",
       "RECORD DATE                   0\n",
       "INSPECTION TYPE            1302\n",
       "dtype: int64"
      ]
     },
     "execution_count": 84,
     "metadata": {},
     "output_type": "execute_result"
    }
   ],
   "source": [
    "inspections.isna().sum()"
   ]
  },
  {
   "cell_type": "code",
   "execution_count": 85,
   "metadata": {
    "scrolled": true
   },
   "outputs": [
    {
     "data": {
      "text/html": [
       "<div>\n",
       "<style scoped>\n",
       "    .dataframe tbody tr th:only-of-type {\n",
       "        vertical-align: middle;\n",
       "    }\n",
       "\n",
       "    .dataframe tbody tr th {\n",
       "        vertical-align: top;\n",
       "    }\n",
       "\n",
       "    .dataframe thead th {\n",
       "        text-align: right;\n",
       "    }\n",
       "</style>\n",
       "<table border=\"1\" class=\"dataframe\">\n",
       "  <thead>\n",
       "    <tr style=\"text-align: right;\">\n",
       "      <th></th>\n",
       "      <th>CAMIS</th>\n",
       "      <th>DBA</th>\n",
       "      <th>BORO</th>\n",
       "      <th>CUISINE DESCRIPTION</th>\n",
       "      <th>VIOLATION CODE</th>\n",
       "      <th>CRITICAL FLAG</th>\n",
       "      <th>SCORE</th>\n",
       "      <th>GRADE</th>\n",
       "      <th>GRADE DATE</th>\n",
       "    </tr>\n",
       "  </thead>\n",
       "  <tbody>\n",
       "    <tr>\n",
       "      <th>0</th>\n",
       "      <td>30075445</td>\n",
       "      <td>MORRIS PARK BAKE SHOP</td>\n",
       "      <td>BRONX</td>\n",
       "      <td>Bakery</td>\n",
       "      <td>08C</td>\n",
       "      <td>Not Critical</td>\n",
       "      <td>5.0</td>\n",
       "      <td>A</td>\n",
       "      <td>05/11/2018</td>\n",
       "    </tr>\n",
       "    <tr>\n",
       "      <th>1</th>\n",
       "      <td>30075445</td>\n",
       "      <td>MORRIS PARK BAKE SHOP</td>\n",
       "      <td>BRONX</td>\n",
       "      <td>Bakery</td>\n",
       "      <td>10F</td>\n",
       "      <td>Not Critical</td>\n",
       "      <td>5.0</td>\n",
       "      <td>A</td>\n",
       "      <td>05/11/2018</td>\n",
       "    </tr>\n",
       "    <tr>\n",
       "      <th>2</th>\n",
       "      <td>30075445</td>\n",
       "      <td>MORRIS PARK BAKE SHOP</td>\n",
       "      <td>BRONX</td>\n",
       "      <td>Bakery</td>\n",
       "      <td>06D</td>\n",
       "      <td>Critical</td>\n",
       "      <td>7.0</td>\n",
       "      <td>A</td>\n",
       "      <td>05/18/2017</td>\n",
       "    </tr>\n",
       "    <tr>\n",
       "      <th>3</th>\n",
       "      <td>30075445</td>\n",
       "      <td>MORRIS PARK BAKE SHOP</td>\n",
       "      <td>BRONX</td>\n",
       "      <td>Bakery</td>\n",
       "      <td>10F</td>\n",
       "      <td>Not Critical</td>\n",
       "      <td>7.0</td>\n",
       "      <td>A</td>\n",
       "      <td>05/18/2017</td>\n",
       "    </tr>\n",
       "    <tr>\n",
       "      <th>4</th>\n",
       "      <td>30075445</td>\n",
       "      <td>MORRIS PARK BAKE SHOP</td>\n",
       "      <td>BRONX</td>\n",
       "      <td>Bakery</td>\n",
       "      <td>04L</td>\n",
       "      <td>Critical</td>\n",
       "      <td>10.0</td>\n",
       "      <td>A</td>\n",
       "      <td>02/18/2016</td>\n",
       "    </tr>\n",
       "  </tbody>\n",
       "</table>\n",
       "</div>"
      ],
      "text/plain": [
       "      CAMIS                    DBA   BORO CUISINE DESCRIPTION VIOLATION CODE  \\\n",
       "0  30075445  MORRIS PARK BAKE SHOP  BRONX              Bakery            08C   \n",
       "1  30075445  MORRIS PARK BAKE SHOP  BRONX              Bakery            10F   \n",
       "2  30075445  MORRIS PARK BAKE SHOP  BRONX              Bakery            06D   \n",
       "3  30075445  MORRIS PARK BAKE SHOP  BRONX              Bakery            10F   \n",
       "4  30075445  MORRIS PARK BAKE SHOP  BRONX              Bakery            04L   \n",
       "\n",
       "  CRITICAL FLAG  SCORE GRADE  GRADE DATE  \n",
       "0  Not Critical    5.0     A  05/11/2018  \n",
       "1  Not Critical    5.0     A  05/11/2018  \n",
       "2      Critical    7.0     A  05/18/2017  \n",
       "3  Not Critical    7.0     A  05/18/2017  \n",
       "4      Critical   10.0     A  02/18/2016  "
      ]
     },
     "execution_count": 85,
     "metadata": {},
     "output_type": "execute_result"
    }
   ],
   "source": [
    "cols = ['CAMIS', 'DBA', 'BORO', 'CUISINE DESCRIPTION', 'VIOLATION CODE', 'CRITICAL FLAG', 'SCORE', 'GRADE', 'GRADE DATE']\n",
    "insp = inspections[cols]\n",
    "insp.head(5)"
   ]
  },
  {
   "cell_type": "markdown",
   "metadata": {},
   "source": [
    "### Checking for missing values"
   ]
  },
  {
   "cell_type": "code",
   "execution_count": 86,
   "metadata": {
    "scrolled": true
   },
   "outputs": [
    {
     "data": {
      "text/plain": [
       "CAMIS                       0\n",
       "DBA                       509\n",
       "BORO                        0\n",
       "CUISINE DESCRIPTION         0\n",
       "VIOLATION CODE           5785\n",
       "CRITICAL FLAG            8387\n",
       "SCORE                   18184\n",
       "GRADE                  196943\n",
       "GRADE DATE             192091\n",
       "dtype: int64"
      ]
     },
     "execution_count": 86,
     "metadata": {},
     "output_type": "execute_result"
    }
   ],
   "source": [
    "insp.isna().sum()"
   ]
  },
  {
   "cell_type": "code",
   "execution_count": 87,
   "metadata": {
    "scrolled": true
   },
   "outputs": [],
   "source": [
    "insp = insp.dropna()"
   ]
  },
  {
   "cell_type": "code",
   "execution_count": 88,
   "metadata": {},
   "outputs": [
    {
     "data": {
      "text/plain": [
       "CAMIS                  0\n",
       "DBA                    0\n",
       "BORO                   0\n",
       "CUISINE DESCRIPTION    0\n",
       "VIOLATION CODE         0\n",
       "CRITICAL FLAG          0\n",
       "SCORE                  0\n",
       "GRADE                  0\n",
       "GRADE DATE             0\n",
       "dtype: int64"
      ]
     },
     "execution_count": 88,
     "metadata": {},
     "output_type": "execute_result"
    }
   ],
   "source": [
    "insp.isna().sum()"
   ]
  },
  {
   "cell_type": "code",
   "execution_count": 89,
   "metadata": {},
   "outputs": [],
   "source": [
    "insp['CRITICAL FLAG'].replace(['Not Critical','Critical'],[0,1],inplace=True)"
   ]
  },
  {
   "cell_type": "code",
   "execution_count": 90,
   "metadata": {
    "scrolled": true
   },
   "outputs": [
    {
     "data": {
      "text/plain": [
       "1    94191\n",
       "0    89535\n",
       "Name: CRITICAL FLAG, dtype: int64"
      ]
     },
     "execution_count": 90,
     "metadata": {},
     "output_type": "execute_result"
    }
   ],
   "source": [
    "insp['CRITICAL FLAG'].astype(int)\n",
    "insp['CRITICAL FLAG'].value_counts()"
   ]
  },
  {
   "cell_type": "code",
   "execution_count": 91,
   "metadata": {},
   "outputs": [
    {
     "data": {
      "text/html": [
       "<div>\n",
       "<style scoped>\n",
       "    .dataframe tbody tr th:only-of-type {\n",
       "        vertical-align: middle;\n",
       "    }\n",
       "\n",
       "    .dataframe tbody tr th {\n",
       "        vertical-align: top;\n",
       "    }\n",
       "\n",
       "    .dataframe thead th {\n",
       "        text-align: right;\n",
       "    }\n",
       "</style>\n",
       "<table border=\"1\" class=\"dataframe\">\n",
       "  <thead>\n",
       "    <tr style=\"text-align: right;\">\n",
       "      <th></th>\n",
       "      <th>CAMIS</th>\n",
       "      <th>DBA</th>\n",
       "      <th>BORO</th>\n",
       "      <th>CUISINE DESCRIPTION</th>\n",
       "      <th>VIOLATION CODE</th>\n",
       "      <th>CRITICAL FLAG</th>\n",
       "      <th>SCORE</th>\n",
       "      <th>GRADE</th>\n",
       "      <th>GRADE DATE</th>\n",
       "      <th>VIO_COUNT</th>\n",
       "    </tr>\n",
       "  </thead>\n",
       "  <tbody>\n",
       "    <tr>\n",
       "      <th>0</th>\n",
       "      <td>30075445</td>\n",
       "      <td>MORRIS PARK BAKE SHOP</td>\n",
       "      <td>BRONX</td>\n",
       "      <td>Bakery</td>\n",
       "      <td>08C</td>\n",
       "      <td>0</td>\n",
       "      <td>5.0</td>\n",
       "      <td>A</td>\n",
       "      <td>05/11/2018</td>\n",
       "      <td>2</td>\n",
       "    </tr>\n",
       "    <tr>\n",
       "      <th>1</th>\n",
       "      <td>30075445</td>\n",
       "      <td>MORRIS PARK BAKE SHOP</td>\n",
       "      <td>BRONX</td>\n",
       "      <td>Bakery</td>\n",
       "      <td>10F</td>\n",
       "      <td>0</td>\n",
       "      <td>5.0</td>\n",
       "      <td>A</td>\n",
       "      <td>05/11/2018</td>\n",
       "      <td>2</td>\n",
       "    </tr>\n",
       "  </tbody>\n",
       "</table>\n",
       "</div>"
      ],
      "text/plain": [
       "      CAMIS                    DBA   BORO CUISINE DESCRIPTION VIOLATION CODE  \\\n",
       "0  30075445  MORRIS PARK BAKE SHOP  BRONX              Bakery            08C   \n",
       "1  30075445  MORRIS PARK BAKE SHOP  BRONX              Bakery            10F   \n",
       "\n",
       "   CRITICAL FLAG  SCORE GRADE  GRADE DATE  VIO_COUNT  \n",
       "0              0    5.0     A  05/11/2018          2  \n",
       "1              0    5.0     A  05/11/2018          2  "
      ]
     },
     "execution_count": 91,
     "metadata": {},
     "output_type": "execute_result"
    }
   ],
   "source": [
    "# inspections['GRADE DATE'] = inspections['GRADE DATE'].dt.strftime('%m/%d/%Y')\n",
    "# pd.to_datetime(inspections['GRADE DATE'], format='%m/%d/%Y' ).dt.date.value_counts().rename('VIO_COUNT').to_frame()\n",
    "# inspections['Vio_Counts']=inspections.groupby(pd.to_datetime(inspections['GRADE DATE'], format='%m/%d/%Y').dt.date.value_counts())\n",
    "insp['VIO_COUNT'] = insp.groupby(['CAMIS', 'GRADE DATE'])['VIOLATION CODE'].transform('size')\n",
    "insp.head(2)"
   ]
  },
  {
   "cell_type": "code",
   "execution_count": 92,
   "metadata": {},
   "outputs": [
    {
     "name": "stdout",
     "output_type": "stream",
     "text": [
      "<class 'pandas.core.frame.DataFrame'>\n",
      "Int64Index: 183726 entries, 0 to 381484\n",
      "Data columns (total 10 columns):\n",
      "CAMIS                  183726 non-null int64\n",
      "DBA                    183726 non-null object\n",
      "BORO                   183726 non-null object\n",
      "CUISINE DESCRIPTION    183726 non-null object\n",
      "VIOLATION CODE         183726 non-null object\n",
      "CRITICAL FLAG          183726 non-null int64\n",
      "SCORE                  183726 non-null float64\n",
      "GRADE                  183726 non-null object\n",
      "GRADE DATE             183726 non-null object\n",
      "VIO_COUNT              183726 non-null int64\n",
      "dtypes: float64(1), int64(3), object(6)\n",
      "memory usage: 15.4+ MB\n"
     ]
    }
   ],
   "source": [
    "insp.info()"
   ]
  },
  {
   "cell_type": "code",
   "execution_count": 93,
   "metadata": {
    "scrolled": true
   },
   "outputs": [
    {
     "data": {
      "text/plain": [
       "{A}    70907\n",
       "{B}     6512\n",
       "{C}     1856\n",
       "Name: GRADE_LIST, dtype: int64"
      ]
     },
     "execution_count": 93,
     "metadata": {},
     "output_type": "execute_result"
    }
   ],
   "source": [
    "grade_merged = insp.groupby(['CAMIS','GRADE DATE'])['GRADE'].apply(set).reset_index()\n",
    "grade_merged.rename(columns={'GRADE':'GRADE_LIST'},inplace=True)\n",
    "grade_merged['GRADE_LIST'].value_counts()"
   ]
  },
  {
   "cell_type": "markdown",
   "metadata": {},
   "source": [
    "**This is to say, the grade is assigned once at a time.**"
   ]
  },
  {
   "cell_type": "code",
   "execution_count": 94,
   "metadata": {},
   "outputs": [
    {
     "data": {
      "text/html": [
       "<div>\n",
       "<style scoped>\n",
       "    .dataframe tbody tr th:only-of-type {\n",
       "        vertical-align: middle;\n",
       "    }\n",
       "\n",
       "    .dataframe tbody tr th {\n",
       "        vertical-align: top;\n",
       "    }\n",
       "\n",
       "    .dataframe thead th {\n",
       "        text-align: right;\n",
       "    }\n",
       "</style>\n",
       "<table border=\"1\" class=\"dataframe\">\n",
       "  <thead>\n",
       "    <tr style=\"text-align: right;\">\n",
       "      <th></th>\n",
       "      <th>CAMIS</th>\n",
       "      <th>GRADE DATE</th>\n",
       "      <th>VIO_CODE_LIST</th>\n",
       "    </tr>\n",
       "  </thead>\n",
       "  <tbody>\n",
       "    <tr>\n",
       "      <th>0</th>\n",
       "      <td>30075445</td>\n",
       "      <td>02/18/2016</td>\n",
       "      <td>{08A, 04L}</td>\n",
       "    </tr>\n",
       "    <tr>\n",
       "      <th>1</th>\n",
       "      <td>30075445</td>\n",
       "      <td>05/11/2018</td>\n",
       "      <td>{10F, 08C}</td>\n",
       "    </tr>\n",
       "  </tbody>\n",
       "</table>\n",
       "</div>"
      ],
      "text/plain": [
       "      CAMIS  GRADE DATE VIO_CODE_LIST\n",
       "0  30075445  02/18/2016    {08A, 04L}\n",
       "1  30075445  05/11/2018    {10F, 08C}"
      ]
     },
     "execution_count": 94,
     "metadata": {},
     "output_type": "execute_result"
    }
   ],
   "source": [
    "vio_merged = insp.groupby(['CAMIS','GRADE DATE'])['VIOLATION CODE'].apply(set).reset_index()\n",
    "vio_merged.rename(columns={'VIOLATION CODE':'VIO_CODE_LIST'},inplace=True)\n",
    "vio_merged.head(2)"
   ]
  },
  {
   "cell_type": "code",
   "execution_count": 95,
   "metadata": {},
   "outputs": [
    {
     "data": {
      "text/html": [
       "<div>\n",
       "<style scoped>\n",
       "    .dataframe tbody tr th:only-of-type {\n",
       "        vertical-align: middle;\n",
       "    }\n",
       "\n",
       "    .dataframe tbody tr th {\n",
       "        vertical-align: top;\n",
       "    }\n",
       "\n",
       "    .dataframe thead th {\n",
       "        text-align: right;\n",
       "    }\n",
       "</style>\n",
       "<table border=\"1\" class=\"dataframe\">\n",
       "  <thead>\n",
       "    <tr style=\"text-align: right;\">\n",
       "      <th></th>\n",
       "      <th>CAMIS</th>\n",
       "      <th>GRADE DATE</th>\n",
       "      <th>CRITICAL_COUNT</th>\n",
       "    </tr>\n",
       "  </thead>\n",
       "  <tbody>\n",
       "    <tr>\n",
       "      <th>0</th>\n",
       "      <td>30075445</td>\n",
       "      <td>02/18/2016</td>\n",
       "      <td>1</td>\n",
       "    </tr>\n",
       "    <tr>\n",
       "      <th>1</th>\n",
       "      <td>30075445</td>\n",
       "      <td>05/11/2018</td>\n",
       "      <td>0</td>\n",
       "    </tr>\n",
       "  </tbody>\n",
       "</table>\n",
       "</div>"
      ],
      "text/plain": [
       "      CAMIS  GRADE DATE  CRITICAL_COUNT\n",
       "0  30075445  02/18/2016               1\n",
       "1  30075445  05/11/2018               0"
      ]
     },
     "execution_count": 95,
     "metadata": {},
     "output_type": "execute_result"
    }
   ],
   "source": [
    "vio_critical = insp.groupby(['CAMIS','GRADE DATE'])['CRITICAL FLAG'].sum().reset_index()\n",
    "vio_critical.rename(columns={'CRITICAL FLAG':'CRITICAL_COUNT'},inplace=True)\n",
    "vio_critical.head(2)"
   ]
  },
  {
   "cell_type": "code",
   "execution_count": 96,
   "metadata": {},
   "outputs": [
    {
     "data": {
      "text/html": [
       "<div>\n",
       "<style scoped>\n",
       "    .dataframe tbody tr th:only-of-type {\n",
       "        vertical-align: middle;\n",
       "    }\n",
       "\n",
       "    .dataframe tbody tr th {\n",
       "        vertical-align: top;\n",
       "    }\n",
       "\n",
       "    .dataframe thead th {\n",
       "        text-align: right;\n",
       "    }\n",
       "</style>\n",
       "<table border=\"1\" class=\"dataframe\">\n",
       "  <thead>\n",
       "    <tr style=\"text-align: right;\">\n",
       "      <th></th>\n",
       "      <th>CAMIS</th>\n",
       "      <th>GRADE DATE</th>\n",
       "      <th>VIO_CODE_LIST</th>\n",
       "      <th>CRITICAL_COUNT</th>\n",
       "    </tr>\n",
       "  </thead>\n",
       "  <tbody>\n",
       "    <tr>\n",
       "      <th>0</th>\n",
       "      <td>30075445</td>\n",
       "      <td>02/18/2016</td>\n",
       "      <td>{08A, 04L}</td>\n",
       "      <td>1</td>\n",
       "    </tr>\n",
       "    <tr>\n",
       "      <th>1</th>\n",
       "      <td>30075445</td>\n",
       "      <td>05/11/2018</td>\n",
       "      <td>{10F, 08C}</td>\n",
       "      <td>0</td>\n",
       "    </tr>\n",
       "    <tr>\n",
       "      <th>2</th>\n",
       "      <td>30075445</td>\n",
       "      <td>05/18/2017</td>\n",
       "      <td>{10F, 06D}</td>\n",
       "      <td>1</td>\n",
       "    </tr>\n",
       "    <tr>\n",
       "      <th>3</th>\n",
       "      <td>30112340</td>\n",
       "      <td>03/04/2019</td>\n",
       "      <td>{10F, 02G, 10B}</td>\n",
       "      <td>1</td>\n",
       "    </tr>\n",
       "    <tr>\n",
       "      <th>4</th>\n",
       "      <td>30112340</td>\n",
       "      <td>03/13/2018</td>\n",
       "      <td>{08A, 04L, 10B}</td>\n",
       "      <td>1</td>\n",
       "    </tr>\n",
       "  </tbody>\n",
       "</table>\n",
       "</div>"
      ],
      "text/plain": [
       "      CAMIS  GRADE DATE    VIO_CODE_LIST  CRITICAL_COUNT\n",
       "0  30075445  02/18/2016       {08A, 04L}               1\n",
       "1  30075445  05/11/2018       {10F, 08C}               0\n",
       "2  30075445  05/18/2017       {10F, 06D}               1\n",
       "3  30112340  03/04/2019  {10F, 02G, 10B}               1\n",
       "4  30112340  03/13/2018  {08A, 04L, 10B}               1"
      ]
     },
     "execution_count": 96,
     "metadata": {},
     "output_type": "execute_result"
    }
   ],
   "source": [
    "vio = pd.merge(vio_merged, vio_critical, on=['CAMIS', 'GRADE DATE'])\n",
    "vio.head(5)"
   ]
  },
  {
   "cell_type": "code",
   "execution_count": 97,
   "metadata": {},
   "outputs": [
    {
     "data": {
      "text/html": [
       "<div>\n",
       "<style scoped>\n",
       "    .dataframe tbody tr th:only-of-type {\n",
       "        vertical-align: middle;\n",
       "    }\n",
       "\n",
       "    .dataframe tbody tr th {\n",
       "        vertical-align: top;\n",
       "    }\n",
       "\n",
       "    .dataframe thead th {\n",
       "        text-align: right;\n",
       "    }\n",
       "</style>\n",
       "<table border=\"1\" class=\"dataframe\">\n",
       "  <thead>\n",
       "    <tr style=\"text-align: right;\">\n",
       "      <th></th>\n",
       "      <th>CAMIS</th>\n",
       "      <th>DBA</th>\n",
       "      <th>BORO</th>\n",
       "      <th>CUISINE DESCRIPTION</th>\n",
       "      <th>GRADE DATE</th>\n",
       "      <th>SCORE</th>\n",
       "      <th>GRADE</th>\n",
       "      <th>VIO_COUNT</th>\n",
       "      <th>VIO_CODE_LIST</th>\n",
       "      <th>CRITICAL_COUNT</th>\n",
       "    </tr>\n",
       "  </thead>\n",
       "  <tbody>\n",
       "    <tr>\n",
       "      <th>0</th>\n",
       "      <td>30075445</td>\n",
       "      <td>MORRIS PARK BAKE SHOP</td>\n",
       "      <td>BRONX</td>\n",
       "      <td>Bakery</td>\n",
       "      <td>05/11/2018</td>\n",
       "      <td>5.0</td>\n",
       "      <td>A</td>\n",
       "      <td>2</td>\n",
       "      <td>{10F, 08C}</td>\n",
       "      <td>0</td>\n",
       "    </tr>\n",
       "    <tr>\n",
       "      <th>1</th>\n",
       "      <td>30075445</td>\n",
       "      <td>MORRIS PARK BAKE SHOP</td>\n",
       "      <td>BRONX</td>\n",
       "      <td>Bakery</td>\n",
       "      <td>05/11/2018</td>\n",
       "      <td>5.0</td>\n",
       "      <td>A</td>\n",
       "      <td>2</td>\n",
       "      <td>{10F, 08C}</td>\n",
       "      <td>0</td>\n",
       "    </tr>\n",
       "    <tr>\n",
       "      <th>2</th>\n",
       "      <td>30075445</td>\n",
       "      <td>MORRIS PARK BAKE SHOP</td>\n",
       "      <td>BRONX</td>\n",
       "      <td>Bakery</td>\n",
       "      <td>05/18/2017</td>\n",
       "      <td>7.0</td>\n",
       "      <td>A</td>\n",
       "      <td>2</td>\n",
       "      <td>{10F, 06D}</td>\n",
       "      <td>1</td>\n",
       "    </tr>\n",
       "    <tr>\n",
       "      <th>3</th>\n",
       "      <td>30075445</td>\n",
       "      <td>MORRIS PARK BAKE SHOP</td>\n",
       "      <td>BRONX</td>\n",
       "      <td>Bakery</td>\n",
       "      <td>05/18/2017</td>\n",
       "      <td>7.0</td>\n",
       "      <td>A</td>\n",
       "      <td>2</td>\n",
       "      <td>{10F, 06D}</td>\n",
       "      <td>1</td>\n",
       "    </tr>\n",
       "    <tr>\n",
       "      <th>4</th>\n",
       "      <td>30075445</td>\n",
       "      <td>MORRIS PARK BAKE SHOP</td>\n",
       "      <td>BRONX</td>\n",
       "      <td>Bakery</td>\n",
       "      <td>02/18/2016</td>\n",
       "      <td>10.0</td>\n",
       "      <td>A</td>\n",
       "      <td>2</td>\n",
       "      <td>{08A, 04L}</td>\n",
       "      <td>1</td>\n",
       "    </tr>\n",
       "  </tbody>\n",
       "</table>\n",
       "</div>"
      ],
      "text/plain": [
       "      CAMIS                    DBA   BORO CUISINE DESCRIPTION  GRADE DATE  \\\n",
       "0  30075445  MORRIS PARK BAKE SHOP  BRONX              Bakery  05/11/2018   \n",
       "1  30075445  MORRIS PARK BAKE SHOP  BRONX              Bakery  05/11/2018   \n",
       "2  30075445  MORRIS PARK BAKE SHOP  BRONX              Bakery  05/18/2017   \n",
       "3  30075445  MORRIS PARK BAKE SHOP  BRONX              Bakery  05/18/2017   \n",
       "4  30075445  MORRIS PARK BAKE SHOP  BRONX              Bakery  02/18/2016   \n",
       "\n",
       "   SCORE GRADE  VIO_COUNT VIO_CODE_LIST  CRITICAL_COUNT  \n",
       "0    5.0     A          2    {10F, 08C}               0  \n",
       "1    5.0     A          2    {10F, 08C}               0  \n",
       "2    7.0     A          2    {10F, 06D}               1  \n",
       "3    7.0     A          2    {10F, 06D}               1  \n",
       "4   10.0     A          2    {08A, 04L}               1  "
      ]
     },
     "execution_count": 97,
     "metadata": {},
     "output_type": "execute_result"
    }
   ],
   "source": [
    "insp_ = pd.merge(insp.loc[:, ['CAMIS', 'DBA', 'BORO', 'CUISINE DESCRIPTION', 'GRADE DATE', 'SCORE', 'GRADE', 'VIO_COUNT']], vio, on=['CAMIS', 'GRADE DATE'])\n",
    "insp_.head(5)"
   ]
  },
  {
   "cell_type": "code",
   "execution_count": 98,
   "metadata": {},
   "outputs": [],
   "source": [
    "insp_['GRADE DATE'] = pd.to_datetime(insp_['GRADE DATE'])"
   ]
  },
  {
   "cell_type": "markdown",
   "metadata": {},
   "source": [
    "### Keep only most recent date records"
   ]
  },
  {
   "cell_type": "code",
   "execution_count": 99,
   "metadata": {},
   "outputs": [
    {
     "data": {
      "text/html": [
       "<div>\n",
       "<style scoped>\n",
       "    .dataframe tbody tr th:only-of-type {\n",
       "        vertical-align: middle;\n",
       "    }\n",
       "\n",
       "    .dataframe tbody tr th {\n",
       "        vertical-align: top;\n",
       "    }\n",
       "\n",
       "    .dataframe thead th {\n",
       "        text-align: right;\n",
       "    }\n",
       "</style>\n",
       "<table border=\"1\" class=\"dataframe\">\n",
       "  <thead>\n",
       "    <tr style=\"text-align: right;\">\n",
       "      <th></th>\n",
       "      <th>CAMIS</th>\n",
       "      <th>DBA</th>\n",
       "      <th>BORO</th>\n",
       "      <th>CUISINE DESCRIPTION</th>\n",
       "      <th>GRADE DATE</th>\n",
       "      <th>SCORE</th>\n",
       "      <th>GRADE</th>\n",
       "      <th>VIO_COUNT</th>\n",
       "      <th>VIO_CODE_LIST</th>\n",
       "      <th>CRITICAL_COUNT</th>\n",
       "    </tr>\n",
       "  </thead>\n",
       "  <tbody>\n",
       "    <tr>\n",
       "      <th>0</th>\n",
       "      <td>30075445</td>\n",
       "      <td>MORRIS PARK BAKE SHOP</td>\n",
       "      <td>BRONX</td>\n",
       "      <td>Bakery</td>\n",
       "      <td>2018-05-11</td>\n",
       "      <td>5.0</td>\n",
       "      <td>A</td>\n",
       "      <td>2</td>\n",
       "      <td>{10F, 08C}</td>\n",
       "      <td>0</td>\n",
       "    </tr>\n",
       "    <tr>\n",
       "      <th>1</th>\n",
       "      <td>30112340</td>\n",
       "      <td>WENDY'S</td>\n",
       "      <td>BROOKLYN</td>\n",
       "      <td>Hamburgers</td>\n",
       "      <td>2019-03-04</td>\n",
       "      <td>13.0</td>\n",
       "      <td>A</td>\n",
       "      <td>3</td>\n",
       "      <td>{10F, 02G, 10B}</td>\n",
       "      <td>1</td>\n",
       "    </tr>\n",
       "    <tr>\n",
       "      <th>2</th>\n",
       "      <td>30191841</td>\n",
       "      <td>DJ REYNOLDS PUB AND RESTAURANT</td>\n",
       "      <td>MANHATTAN</td>\n",
       "      <td>Irish</td>\n",
       "      <td>2018-05-16</td>\n",
       "      <td>12.0</td>\n",
       "      <td>A</td>\n",
       "      <td>3</td>\n",
       "      <td>{08A, 10F, 04L}</td>\n",
       "      <td>1</td>\n",
       "    </tr>\n",
       "    <tr>\n",
       "      <th>3</th>\n",
       "      <td>40356018</td>\n",
       "      <td>RIVIERA CATERERS</td>\n",
       "      <td>BROOKLYN</td>\n",
       "      <td>American</td>\n",
       "      <td>2018-10-30</td>\n",
       "      <td>10.0</td>\n",
       "      <td>A</td>\n",
       "      <td>2</td>\n",
       "      <td>{10F, 06D}</td>\n",
       "      <td>1</td>\n",
       "    </tr>\n",
       "    <tr>\n",
       "      <th>4</th>\n",
       "      <td>40356151</td>\n",
       "      <td>BRUNOS ON THE BOULEVARD</td>\n",
       "      <td>QUEENS</td>\n",
       "      <td>American</td>\n",
       "      <td>2017-08-19</td>\n",
       "      <td>10.0</td>\n",
       "      <td>A</td>\n",
       "      <td>2</td>\n",
       "      <td>{10F, 06C}</td>\n",
       "      <td>1</td>\n",
       "    </tr>\n",
       "  </tbody>\n",
       "</table>\n",
       "</div>"
      ],
      "text/plain": [
       "      CAMIS                             DBA       BORO CUISINE DESCRIPTION  \\\n",
       "0  30075445           MORRIS PARK BAKE SHOP      BRONX              Bakery   \n",
       "1  30112340                         WENDY'S   BROOKLYN          Hamburgers   \n",
       "2  30191841  DJ REYNOLDS PUB AND RESTAURANT  MANHATTAN               Irish   \n",
       "3  40356018                RIVIERA CATERERS   BROOKLYN            American   \n",
       "4  40356151         BRUNOS ON THE BOULEVARD     QUEENS            American   \n",
       "\n",
       "  GRADE DATE  SCORE GRADE  VIO_COUNT    VIO_CODE_LIST  CRITICAL_COUNT  \n",
       "0 2018-05-11    5.0     A          2       {10F, 08C}               0  \n",
       "1 2019-03-04   13.0     A          3  {10F, 02G, 10B}               1  \n",
       "2 2018-05-16   12.0     A          3  {08A, 10F, 04L}               1  \n",
       "3 2018-10-30   10.0     A          2       {10F, 06D}               1  \n",
       "4 2017-08-19   10.0     A          2       {10F, 06C}               1  "
      ]
     },
     "execution_count": 99,
     "metadata": {},
     "output_type": "execute_result"
    }
   ],
   "source": [
    "unique_insp = insp_.sort_values('GRADE DATE').drop_duplicates(['CAMIS','DBA'], keep='last').sort_index()\n",
    "unique_insp.reset_index(inplace=True, drop=True)\n",
    "unique_insp.head(5)"
   ]
  },
  {
   "cell_type": "code",
   "execution_count": 100,
   "metadata": {},
   "outputs": [
    {
     "data": {
      "text/plain": [
       "CAMIS                  0\n",
       "DBA                    0\n",
       "BORO                   0\n",
       "CUISINE DESCRIPTION    0\n",
       "GRADE DATE             0\n",
       "SCORE                  0\n",
       "GRADE                  0\n",
       "VIO_COUNT              0\n",
       "VIO_CODE_LIST          0\n",
       "CRITICAL_COUNT         0\n",
       "dtype: int64"
      ]
     },
     "execution_count": 100,
     "metadata": {},
     "output_type": "execute_result"
    }
   ],
   "source": [
    "unique_insp.isna().sum()"
   ]
  },
  {
   "cell_type": "code",
   "execution_count": 101,
   "metadata": {},
   "outputs": [],
   "source": [
    "unique_insp.to_csv('most_recent_inspections.csv', index=False)"
   ]
  },
  {
   "cell_type": "code",
   "execution_count": 102,
   "metadata": {},
   "outputs": [],
   "source": [
    "# visual libraries\n",
    "import matplotlib.pyplot as plt\n",
    "import seaborn as sns"
   ]
  },
  {
   "cell_type": "code",
   "execution_count": 103,
   "metadata": {},
   "outputs": [],
   "source": [
    "# # heat map of correlation of features\n",
    "# correlation_matrix = unique_insp.corr()\n",
    "# fig = plt.figure(figsize=(12,9))\n",
    "# sns.heatmap(correlation_matrix,vmax=0.8,square = True)\n",
    "# plt.show()"
   ]
  },
  {
   "cell_type": "code",
   "execution_count": 104,
   "metadata": {},
   "outputs": [
    {
     "name": "stdout",
     "output_type": "stream",
     "text": [
      "Score A:  92 %\n"
     ]
    }
   ],
   "source": [
    "rest_count = unique_insp.shape[0]\n",
    "A_list = unique_insp[unique_insp['GRADE'] == 'A']\n",
    "\n",
    "x = len(A_list)/rest_count\n",
    "print(\"Score A: % 3d\" %(int(x*100)),  '%') \n",
    "# print('Score A Percentage:',,)"
   ]
  },
  {
   "cell_type": "code",
   "execution_count": 105,
   "metadata": {},
   "outputs": [
    {
     "data": {
      "image/png": "[encoded data removed]",
      "text/plain": [
       "<Figure size 432x288 with 1 Axes>"
      ]
     },
     "metadata": {},
     "output_type": "display_data"
    }
   ],
   "source": [
    "cmap = plt.get_cmap('Spectral')\n",
    "# colors = [cmap(i) for i in np.linspace(0, 1, 9)]\n",
    "colors = ['darkorange', 'lightskyblue', 'royalblue']\n",
    "# Pie chart\n",
    "labels = ['A', 'B', 'C']\n",
    "sizes = [unique_insp['GRADE'].value_counts()[0], unique_insp['GRADE'].value_counts()[1], unique_insp['GRADE'].value_counts()[2]]\n",
    "explode = (0, 0, 0.1)  \n",
    "\n",
    "fig1, ax1 = plt.subplots()\n",
    "ax1.pie(sizes, explode=explode, labels=labels, autopct='%1.1f%%',\n",
    "        shadow=True, colors=colors, startangle=45)\n",
    "# Equal aspect ratio ensures that pie is drawn as a circle\n",
    "ax1.axis('equal')  \n",
    "plt.tight_layout()\n",
    "plt.show()"
   ]
  },
  {
   "cell_type": "code",
   "execution_count": null,
   "metadata": {},
   "outputs": [],
   "source": []
  }
 ],
 "metadata": {
  "kernelspec": {
   "display_name": "Python 3",
   "language": "python",
   "name": "python3"
  },
  "language_info": {
   "codemirror_mode": {
    "name": "ipython",
    "version": 3
   },
   "file_extension": ".py",
   "mimetype": "text/x-python",
   "name": "python",
   "nbconvert_exporter": "python",
   "pygments_lexer": "ipython3",
   "version": "3.7.3"
  }
 },
 "nbformat": 4,
 "nbformat_minor": 2
}
