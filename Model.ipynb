{
 "cells": [
  {
   "cell_type": "code",
   "execution_count": 159,
   "metadata": {},
   "outputs": [],
   "source": [
    "import pandas as pd\n",
    "from sklearn.model_selection import train_test_split\n",
    "from sklearn.linear_model import LogisticRegression\n",
    "from sklearn import metrics\n",
    "from sklearn.metrics import roc_curve, auc, classification_report\n",
    "from matplotlib import pyplot as plt"
   ]
  },
  {
   "cell_type": "code",
   "execution_count": 134,
   "metadata": {},
   "outputs": [
    {
     "data": {
      "text/html": [
       "<div>\n",
       "<style scoped>\n",
       "    .dataframe tbody tr th:only-of-type {\n",
       "        vertical-align: middle;\n",
       "    }\n",
       "\n",
       "    .dataframe tbody tr th {\n",
       "        vertical-align: top;\n",
       "    }\n",
       "\n",
       "    .dataframe thead th {\n",
       "        text-align: right;\n",
       "    }\n",
       "</style>\n",
       "<table border=\"1\" class=\"dataframe\">\n",
       "  <thead>\n",
       "    <tr style=\"text-align: right;\">\n",
       "      <th></th>\n",
       "      <th>Name</th>\n",
       "      <th>Rating</th>\n",
       "      <th>Popularity</th>\n",
       "      <th>Price</th>\n",
       "      <th>Categories</th>\n",
       "      <th>Reviews</th>\n",
       "      <th>url</th>\n",
       "      <th>Latitude</th>\n",
       "      <th>Longitude</th>\n",
       "      <th>DBA</th>\n",
       "      <th>BORO</th>\n",
       "      <th>CUISINE DESCRIPTION</th>\n",
       "      <th>GRADE DATE</th>\n",
       "      <th>SCORE</th>\n",
       "      <th>GRADE</th>\n",
       "      <th>VIO_COUNT</th>\n",
       "      <th>VIO_CODE_LIST</th>\n",
       "      <th>CRITICAL_COUNT</th>\n",
       "    </tr>\n",
       "    <tr>\n",
       "      <th>CAMIS</th>\n",
       "      <th></th>\n",
       "      <th></th>\n",
       "      <th></th>\n",
       "      <th></th>\n",
       "      <th></th>\n",
       "      <th></th>\n",
       "      <th></th>\n",
       "      <th></th>\n",
       "      <th></th>\n",
       "      <th></th>\n",
       "      <th></th>\n",
       "      <th></th>\n",
       "      <th></th>\n",
       "      <th></th>\n",
       "      <th></th>\n",
       "      <th></th>\n",
       "      <th></th>\n",
       "      <th></th>\n",
       "    </tr>\n",
       "  </thead>\n",
       "  <tbody>\n",
       "    <tr>\n",
       "      <th>30075445</th>\n",
       "      <td>Morris Park Bake Shop</td>\n",
       "      <td>4.0</td>\n",
       "      <td>41</td>\n",
       "      <td>2</td>\n",
       "      <td>Bakeries, Desserts</td>\n",
       "      <td>Hands down the BEST cannoli in the Business!! ...</td>\n",
       "      <td>https://www.yelp.com/biz/morris-park-bake-shop...</td>\n",
       "      <td>40.848390</td>\n",
       "      <td>-73.856010</td>\n",
       "      <td>MORRIS PARK BAKE SHOP</td>\n",
       "      <td>BRONX</td>\n",
       "      <td>Bakery</td>\n",
       "      <td>2018-05-11</td>\n",
       "      <td>5.0</td>\n",
       "      <td>A</td>\n",
       "      <td>2</td>\n",
       "      <td>{'10F', '08C'}</td>\n",
       "      <td>0</td>\n",
       "    </tr>\n",
       "    <tr>\n",
       "      <th>30112340</th>\n",
       "      <td>Wendy's</td>\n",
       "      <td>2.0</td>\n",
       "      <td>36</td>\n",
       "      <td>1</td>\n",
       "      <td>Fast Food, Burgers</td>\n",
       "      <td>Place has sick ass frostys. Bouta get some fri...</td>\n",
       "      <td>https://www.yelp.com/biz/wendys-brooklyn-4?adj...</td>\n",
       "      <td>40.662952</td>\n",
       "      <td>-73.961753</td>\n",
       "      <td>WENDY'S</td>\n",
       "      <td>BROOKLYN</td>\n",
       "      <td>Hamburgers</td>\n",
       "      <td>2019-03-04</td>\n",
       "      <td>13.0</td>\n",
       "      <td>A</td>\n",
       "      <td>3</td>\n",
       "      <td>{'10F', '02G', '10B'}</td>\n",
       "      <td>1</td>\n",
       "    </tr>\n",
       "    <tr>\n",
       "      <th>30191841</th>\n",
       "      <td>D.J. Reynolds</td>\n",
       "      <td>3.5</td>\n",
       "      <td>99</td>\n",
       "      <td>2</td>\n",
       "      <td>Irish, Pubs</td>\n",
       "      <td>Had dinner last night with a group of 14.  Foo...</td>\n",
       "      <td>https://www.yelp.com/biz/d-j-reynolds-new-york...</td>\n",
       "      <td>40.767750</td>\n",
       "      <td>-73.984870</td>\n",
       "      <td>DJ REYNOLDS PUB AND RESTAURANT</td>\n",
       "      <td>MANHATTAN</td>\n",
       "      <td>Irish</td>\n",
       "      <td>2018-05-16</td>\n",
       "      <td>12.0</td>\n",
       "      <td>A</td>\n",
       "      <td>3</td>\n",
       "      <td>{'08A', '10F', '04L'}</td>\n",
       "      <td>1</td>\n",
       "    </tr>\n",
       "    <tr>\n",
       "      <th>40356483</th>\n",
       "      <td>Wilkens Fine Foods</td>\n",
       "      <td>3.5</td>\n",
       "      <td>37</td>\n",
       "      <td>2</td>\n",
       "      <td>Delis</td>\n",
       "      <td>I've been coming here for years since I've mov...</td>\n",
       "      <td>https://www.yelp.com/biz/wilkens-fine-foods-br...</td>\n",
       "      <td>40.619900</td>\n",
       "      <td>-73.906850</td>\n",
       "      <td>WILKEN'S FINE FOOD</td>\n",
       "      <td>BROOKLYN</td>\n",
       "      <td>Delicatessen</td>\n",
       "      <td>2018-05-10</td>\n",
       "      <td>13.0</td>\n",
       "      <td>A</td>\n",
       "      <td>2</td>\n",
       "      <td>{'10F', '06C'}</td>\n",
       "      <td>1</td>\n",
       "    </tr>\n",
       "    <tr>\n",
       "      <th>40356731</th>\n",
       "      <td>Taste the Tropics USA</td>\n",
       "      <td>4.5</td>\n",
       "      <td>31</td>\n",
       "      <td>1</td>\n",
       "      <td>Ice Cream &amp; Frozen Yogurt</td>\n",
       "      <td>The best ice cream shop by far and I have been...</td>\n",
       "      <td>https://www.yelp.com/biz/taste-the-tropics-usa...</td>\n",
       "      <td>40.640830</td>\n",
       "      <td>-73.948350</td>\n",
       "      <td>TASTE THE TROPICS ICE CREAM</td>\n",
       "      <td>BROOKLYN</td>\n",
       "      <td>Ice Cream, Gelato, Yogurt, Ices</td>\n",
       "      <td>2018-05-16</td>\n",
       "      <td>13.0</td>\n",
       "      <td>A</td>\n",
       "      <td>4</td>\n",
       "      <td>{'08A', '10F', '08C', '04L'}</td>\n",
       "      <td>1</td>\n",
       "    </tr>\n",
       "  </tbody>\n",
       "</table>\n",
       "</div>"
      ],
      "text/plain": [
       "                           Name  Rating  Popularity  Price  \\\n",
       "CAMIS                                                        \n",
       "30075445  Morris Park Bake Shop     4.0          41      2   \n",
       "30112340                Wendy's     2.0          36      1   \n",
       "30191841          D.J. Reynolds     3.5          99      2   \n",
       "40356483     Wilkens Fine Foods     3.5          37      2   \n",
       "40356731  Taste the Tropics USA     4.5          31      1   \n",
       "\n",
       "                         Categories  \\\n",
       "CAMIS                                 \n",
       "30075445         Bakeries, Desserts   \n",
       "30112340         Fast Food, Burgers   \n",
       "30191841                Irish, Pubs   \n",
       "40356483                      Delis   \n",
       "40356731  Ice Cream & Frozen Yogurt   \n",
       "\n",
       "                                                    Reviews  \\\n",
       "CAMIS                                                         \n",
       "30075445  Hands down the BEST cannoli in the Business!! ...   \n",
       "30112340  Place has sick ass frostys. Bouta get some fri...   \n",
       "30191841  Had dinner last night with a group of 14.  Foo...   \n",
       "40356483  I've been coming here for years since I've mov...   \n",
       "40356731  The best ice cream shop by far and I have been...   \n",
       "\n",
       "                                                        url   Latitude  \\\n",
       "CAMIS                                                                    \n",
       "30075445  https://www.yelp.com/biz/morris-park-bake-shop...  40.848390   \n",
       "30112340  https://www.yelp.com/biz/wendys-brooklyn-4?adj...  40.662952   \n",
       "30191841  https://www.yelp.com/biz/d-j-reynolds-new-york...  40.767750   \n",
       "40356483  https://www.yelp.com/biz/wilkens-fine-foods-br...  40.619900   \n",
       "40356731  https://www.yelp.com/biz/taste-the-tropics-usa...  40.640830   \n",
       "\n",
       "          Longitude                             DBA       BORO  \\\n",
       "CAMIS                                                            \n",
       "30075445 -73.856010           MORRIS PARK BAKE SHOP      BRONX   \n",
       "30112340 -73.961753                         WENDY'S   BROOKLYN   \n",
       "30191841 -73.984870  DJ REYNOLDS PUB AND RESTAURANT  MANHATTAN   \n",
       "40356483 -73.906850              WILKEN'S FINE FOOD   BROOKLYN   \n",
       "40356731 -73.948350     TASTE THE TROPICS ICE CREAM   BROOKLYN   \n",
       "\n",
       "                      CUISINE DESCRIPTION  GRADE DATE  SCORE GRADE  VIO_COUNT  \\\n",
       "CAMIS                                                                           \n",
       "30075445                           Bakery  2018-05-11    5.0     A          2   \n",
       "30112340                       Hamburgers  2019-03-04   13.0     A          3   \n",
       "30191841                            Irish  2018-05-16   12.0     A          3   \n",
       "40356483                     Delicatessen  2018-05-10   13.0     A          2   \n",
       "40356731  Ice Cream, Gelato, Yogurt, Ices  2018-05-16   13.0     A          4   \n",
       "\n",
       "                         VIO_CODE_LIST  CRITICAL_COUNT  \n",
       "CAMIS                                                   \n",
       "30075445                {'10F', '08C'}               0  \n",
       "30112340         {'10F', '02G', '10B'}               1  \n",
       "30191841         {'08A', '10F', '04L'}               1  \n",
       "40356483                {'10F', '06C'}               1  \n",
       "40356731  {'08A', '10F', '08C', '04L'}               1  "
      ]
     },
     "execution_count": 134,
     "metadata": {},
     "output_type": "execute_result"
    }
   ],
   "source": [
    "data = pd.read_csv('Data/merged_yelp_inspections.csv', index_col = 'CAMIS')\n",
    "data.head(5)"
   ]
  },
  {
   "cell_type": "code",
   "execution_count": 135,
   "metadata": {
    "scrolled": true
   },
   "outputs": [
    {
     "data": {
      "text/plain": [
       "Chinese                                                          792\n",
       "Pizza                                                            678\n",
       "Coffee & Tea                                                     532\n",
       "Donuts, Coffee & Tea                                             403\n",
       "Mexican                                                          376\n",
       "Italian                                                          337\n",
       "Pizza, Italian                                                   309\n",
       "Bakeries                                                         233\n",
       "Sandwiches, Fast Food                                            194\n",
       "Bars                                                             170\n",
       "Caribbean                                                        157\n",
       "Hotels                                                           153\n",
       "Thai                                                             149\n",
       "Japanese, Sushi Bars                                             145\n",
       "American (New)                                                   130\n",
       "Fast Food, Burgers, Coffee & Tea                                 121\n",
       "Italian, Pizza                                                   119\n",
       "Indian                                                           117\n",
       "Ice Cream & Frozen Yogurt                                        112\n",
       "Fast Food, Burgers                                                98\n",
       "Sushi Bars, Japanese                                              96\n",
       "Diners                                                            89\n",
       "Coffee & Tea, Donuts                                              86\n",
       "Cafes                                                             81\n",
       "Pizza, Chicken Wings, Sandwiches                                  80\n",
       "Fast Food, Chicken Wings                                          80\n",
       "American (Traditional)                                            79\n",
       "Japanese                                                          79\n",
       "Latin American                                                    78\n",
       "Pubs                                                              78\n",
       "                                                                ... \n",
       "Sushi Bars, Buffets, Seafood                                       1\n",
       "Bars, Mini Golf                                                    1\n",
       "Turkish, Mediterranean, Desserts                                   1\n",
       "Bakeries, Cafes, Brasseries                                        1\n",
       "Wine Bars, Tapas Bars, Beer Gardens                                1\n",
       "Brazilian, Burgers, Salad                                          1\n",
       "Steakhouses, Irish, Venues & Event Spaces                          1\n",
       "Burgers, American (Traditional), Salad                             1\n",
       "Massage Therapy, Nail Salons                                       1\n",
       "Cocktail Bars, American (New), Speakeasies                         1\n",
       "Breakfast & Brunch, Salad, Hot Dogs                                1\n",
       "Colombian, Burgers                                                 1\n",
       "Coffee & Tea, Patisserie/Cake Shop, Ice Cream & Frozen Yogurt      1\n",
       "Russian, Uzbek, Modern European                                    1\n",
       "Chicken Wings, Korean, Beer Bar                                    1\n",
       "Chicken Shop, Chicken Wings                                        1\n",
       "Tapas/Small Plates, Cocktail Bars, Tacos                           1\n",
       "American (Traditional), Cajun/Creole, Sushi Bars                   1\n",
       "Burgers, Mexican                                                   1\n",
       "Wine Bars, Pizza, Italian                                          1\n",
       "Pool Halls, Cocktail Bars                                          1\n",
       "Korean, Bars, Soup                                                 1\n",
       "Bakeries, Argentine                                                1\n",
       "Whiskey Bars, Wine Bars                                            1\n",
       "Steakhouses, Burgers, American (Traditional)                       1\n",
       "Bakeries, Dominican                                                1\n",
       "American (Traditional), Coffee & Tea, Breakfast & Brunch           1\n",
       "Gas Stations, Convenience Stores                                   1\n",
       "Wine Bars, Latin American, Seafood                                 1\n",
       "Karaoke, Music Venues, Irish Pub                                   1\n",
       "Name: Categories, Length: 5132, dtype: int64"
      ]
     },
     "execution_count": 135,
     "metadata": {},
     "output_type": "execute_result"
    }
   ],
   "source": [
    "data['Categories'].value_counts()"
   ]
  },
  {
   "cell_type": "code",
   "execution_count": 136,
   "metadata": {
    "scrolled": true
   },
   "outputs": [
    {
     "data": {
      "text/plain": [
       "American                                                            4321\n",
       "Chinese                                                             1728\n",
       "CafÃ©/Coffee/Tea                                                    1248\n",
       "Pizza                                                                945\n",
       "Italian                                                              820\n",
       "Japanese                                                             699\n",
       "Mexican                                                              663\n",
       "Latin (Cuban, Dominican, Puerto Rican, South & Central American)     585\n",
       "Bakery                                                               569\n",
       "Donuts                                                               488\n",
       "Caribbean                                                            453\n",
       "Chicken                                                              412\n",
       "Pizza/Italian                                                        389\n",
       "Spanish                                                              378\n",
       "Hamburgers                                                           339\n",
       "Sandwiches                                                           308\n",
       "French                                                               267\n",
       "Asian                                                                260\n",
       "Ice Cream, Gelato, Yogurt, Ices                                      256\n",
       "Juice, Smoothies, Fruit Salads                                       254\n",
       "Indian                                                               243\n",
       "Delicatessen                                                         232\n",
       "Thai                                                                 220\n",
       "Jewish/Kosher                                                        217\n",
       "Korean                                                               215\n",
       "Mediterranean                                                        213\n",
       "Sandwiches/Salads/Mixed Buffet                                       185\n",
       "Irish                                                                167\n",
       "Seafood                                                              163\n",
       "Bagels/Pretzels                                                      133\n",
       "                                                                    ... \n",
       "Polish                                                                24\n",
       "Hotdogs                                                               23\n",
       "Filipino                                                              22\n",
       "Pakistani                                                             21\n",
       "Brazilian                                                             19\n",
       "Australian                                                            18\n",
       "Hotdogs/Pretzels                                                      16\n",
       "Ethiopian                                                             15\n",
       "Creole                                                                14\n",
       "Chinese/Cuban                                                         14\n",
       "Armenian                                                              13\n",
       "English                                                               11\n",
       "Pancakes/Waffles                                                      11\n",
       "Egyptian                                                               9\n",
       "Afghan                                                                 9\n",
       "Portuguese                                                             8\n",
       "Moroccan                                                               8\n",
       "Indonesian                                                             8\n",
       "Soups                                                                  7\n",
       "Fruits/Vegetables                                                      6\n",
       "Not Listed/Not Applicable                                              5\n",
       "Cajun                                                                  5\n",
       "Scandinavian                                                           4\n",
       "Californian                                                            4\n",
       "Creole/Cajun                                                           4\n",
       "Nuts/Confectionary                                                     3\n",
       "Iranian                                                                2\n",
       "Southwestern                                                           2\n",
       "Chilean                                                                1\n",
       "Czech                                                                  1\n",
       "Name: CUISINE DESCRIPTION, Length: 83, dtype: int64"
      ]
     },
     "execution_count": 136,
     "metadata": {},
     "output_type": "execute_result"
    }
   ],
   "source": [
    "data['CUISINE DESCRIPTION'].value_counts()"
   ]
  },
  {
   "cell_type": "markdown",
   "metadata": {},
   "source": [
    "**Compared to 'Categories', column 'CUISINE DESCRIPTION' has less categories to encode with.**"
   ]
  },
  {
   "cell_type": "code",
   "execution_count": 137,
   "metadata": {},
   "outputs": [
    {
     "name": "stdout",
     "output_type": "stream",
     "text": [
      "<class 'pandas.core.frame.DataFrame'>\n",
      "Int64Index: 19086 entries, 30075445 to 50090040\n",
      "Data columns (total 18 columns):\n",
      "Name                   19086 non-null object\n",
      "Rating                 19086 non-null float64\n",
      "Popularity             19086 non-null int64\n",
      "Price                  19086 non-null int64\n",
      "Categories             19086 non-null object\n",
      "Reviews                19086 non-null object\n",
      "url                    19086 non-null object\n",
      "Latitude               19086 non-null float64\n",
      "Longitude              19086 non-null float64\n",
      "DBA                    19086 non-null object\n",
      "BORO                   19086 non-null object\n",
      "CUISINE DESCRIPTION    19086 non-null object\n",
      "GRADE DATE             19086 non-null object\n",
      "SCORE                  19086 non-null float64\n",
      "GRADE                  19086 non-null object\n",
      "VIO_COUNT              19086 non-null int64\n",
      "VIO_CODE_LIST          19086 non-null object\n",
      "CRITICAL_COUNT         19086 non-null int64\n",
      "dtypes: float64(4), int64(4), object(10)\n",
      "memory usage: 2.8+ MB\n"
     ]
    }
   ],
   "source": [
    "data.info()"
   ]
  },
  {
   "cell_type": "code",
   "execution_count": 138,
   "metadata": {},
   "outputs": [
    {
     "data": {
      "text/plain": [
       "4.0    6715\n",
       "3.5    4912\n",
       "4.5    2621\n",
       "3.0    2288\n",
       "2.5    1213\n",
       "2.0     783\n",
       "1.5     276\n",
       "5.0     206\n",
       "1.0      72\n",
       "Name: Rating, dtype: int64"
      ]
     },
     "execution_count": 138,
     "metadata": {},
     "output_type": "execute_result"
    }
   ],
   "source": [
    "data['Rating'].value_counts()"
   ]
  },
  {
   "cell_type": "code",
   "execution_count": 139,
   "metadata": {},
   "outputs": [
    {
     "data": {
      "text/plain": [
       "40    6715\n",
       "35    4912\n",
       "45    2621\n",
       "30    2288\n",
       "25    1213\n",
       "20     783\n",
       "15     276\n",
       "50     206\n",
       "10      72\n",
       "Name: Rating, dtype: int64"
      ]
     },
     "execution_count": 139,
     "metadata": {},
     "output_type": "execute_result"
    }
   ],
   "source": [
    "data['Rating'] = data['Rating'].apply(lambda x: x*10)\n",
    "data['Rating'] = data['Rating'].astype(int)\n",
    "data['Rating'].value_counts()"
   ]
  },
  {
   "cell_type": "code",
   "execution_count": 140,
   "metadata": {},
   "outputs": [
    {
     "name": "stdout",
     "output_type": "stream",
     "text": [
      "<class 'pandas.core.frame.DataFrame'>\n",
      "Int64Index: 19086 entries, 30075445 to 50090040\n",
      "Data columns (total 18 columns):\n",
      "Name                   19086 non-null object\n",
      "Rating                 19086 non-null int64\n",
      "Popularity             19086 non-null int64\n",
      "Price                  19086 non-null int64\n",
      "Categories             19086 non-null object\n",
      "Reviews                19086 non-null object\n",
      "url                    19086 non-null object\n",
      "Latitude               19086 non-null float64\n",
      "Longitude              19086 non-null float64\n",
      "DBA                    19086 non-null object\n",
      "BORO                   19086 non-null object\n",
      "CUISINE DESCRIPTION    19086 non-null object\n",
      "GRADE DATE             19086 non-null object\n",
      "SCORE                  19086 non-null int64\n",
      "GRADE                  19086 non-null object\n",
      "VIO_COUNT              19086 non-null int64\n",
      "VIO_CODE_LIST          19086 non-null object\n",
      "CRITICAL_COUNT         19086 non-null int64\n",
      "dtypes: float64(2), int64(6), object(10)\n",
      "memory usage: 2.8+ MB\n"
     ]
    }
   ],
   "source": [
    "# Convert from float to integers for future models to read\n",
    "# data['Rating'] = data['Rating'].astype(int)\n",
    "data['SCORE'] = data['SCORE'].astype(int)\n",
    "data['VIO_COUNT'] = data['VIO_COUNT'].astype(int)\n",
    "data.info()"
   ]
  },
  {
   "cell_type": "code",
   "execution_count": 141,
   "metadata": {},
   "outputs": [
    {
     "data": {
      "text/html": [
       "<div>\n",
       "<style scoped>\n",
       "    .dataframe tbody tr th:only-of-type {\n",
       "        vertical-align: middle;\n",
       "    }\n",
       "\n",
       "    .dataframe tbody tr th {\n",
       "        vertical-align: top;\n",
       "    }\n",
       "\n",
       "    .dataframe thead th {\n",
       "        text-align: right;\n",
       "    }\n",
       "</style>\n",
       "<table border=\"1\" class=\"dataframe\">\n",
       "  <thead>\n",
       "    <tr style=\"text-align: right;\">\n",
       "      <th></th>\n",
       "      <th>Rating</th>\n",
       "      <th>Popularity</th>\n",
       "      <th>Price</th>\n",
       "      <th>CUISINE DESCRIPTION</th>\n",
       "      <th>BORO</th>\n",
       "      <th>SCORE</th>\n",
       "      <th>GRADE</th>\n",
       "      <th>VIO_COUNT</th>\n",
       "      <th>CRITICAL_COUNT</th>\n",
       "    </tr>\n",
       "    <tr>\n",
       "      <th>CAMIS</th>\n",
       "      <th></th>\n",
       "      <th></th>\n",
       "      <th></th>\n",
       "      <th></th>\n",
       "      <th></th>\n",
       "      <th></th>\n",
       "      <th></th>\n",
       "      <th></th>\n",
       "      <th></th>\n",
       "    </tr>\n",
       "  </thead>\n",
       "  <tbody>\n",
       "    <tr>\n",
       "      <th>30075445</th>\n",
       "      <td>40</td>\n",
       "      <td>41</td>\n",
       "      <td>2</td>\n",
       "      <td>Bakery</td>\n",
       "      <td>BRONX</td>\n",
       "      <td>5</td>\n",
       "      <td>A</td>\n",
       "      <td>2</td>\n",
       "      <td>0</td>\n",
       "    </tr>\n",
       "    <tr>\n",
       "      <th>30112340</th>\n",
       "      <td>20</td>\n",
       "      <td>36</td>\n",
       "      <td>1</td>\n",
       "      <td>Hamburgers</td>\n",
       "      <td>BROOKLYN</td>\n",
       "      <td>13</td>\n",
       "      <td>A</td>\n",
       "      <td>3</td>\n",
       "      <td>1</td>\n",
       "    </tr>\n",
       "  </tbody>\n",
       "</table>\n",
       "</div>"
      ],
      "text/plain": [
       "          Rating  Popularity  Price CUISINE DESCRIPTION      BORO  SCORE  \\\n",
       "CAMIS                                                                      \n",
       "30075445      40          41      2              Bakery     BRONX      5   \n",
       "30112340      20          36      1          Hamburgers  BROOKLYN     13   \n",
       "\n",
       "         GRADE  VIO_COUNT  CRITICAL_COUNT  \n",
       "CAMIS                                      \n",
       "30075445     A          2               0  \n",
       "30112340     A          3               1  "
      ]
     },
     "execution_count": 141,
     "metadata": {},
     "output_type": "execute_result"
    }
   ],
   "source": [
    "selected = data[['Rating','Popularity', 'Price', 'CUISINE DESCRIPTION', 'BORO', 'SCORE', 'GRADE', 'VIO_COUNT', 'CRITICAL_COUNT']]\n",
    "selected.head(2)"
   ]
  },
  {
   "cell_type": "markdown",
   "metadata": {},
   "source": [
    "## One Hot Encoding"
   ]
  },
  {
   "cell_type": "code",
   "execution_count": 142,
   "metadata": {},
   "outputs": [],
   "source": [
    "# dummying the object columns\n",
    "descrip = pd.get_dummies(selected['CUISINE DESCRIPTION'],drop_first=True)\n",
    "boro = pd.get_dummies(selected['BORO'],drop_first=True)\n",
    "grade = pd.get_dummies(selected['GRADE'],drop_first=True)"
   ]
  },
  {
   "cell_type": "markdown",
   "metadata": {},
   "source": [
    "**From 2018-07-24, Yelp placed health inspection scores directly on a restaurant’s page on the user-generated review site.**"
   ]
  },
  {
   "cell_type": "code",
   "execution_count": 144,
   "metadata": {},
   "outputs": [
    {
     "name": "stdout",
     "output_type": "stream",
     "text": [
      "<class 'pandas.core.frame.DataFrame'>\n",
      "Int64Index: 19086 entries, 30075445 to 50090040\n",
      "Data columns (total 9 columns):\n",
      "Rating                 19086 non-null int64\n",
      "Popularity             19086 non-null int64\n",
      "Price                  19086 non-null int64\n",
      "CUISINE DESCRIPTION    19086 non-null object\n",
      "BORO                   19086 non-null object\n",
      "SCORE                  19086 non-null int64\n",
      "GRADE                  19086 non-null object\n",
      "VIO_COUNT              19086 non-null int64\n",
      "CRITICAL_COUNT         19086 non-null int64\n",
      "dtypes: int64(6), object(3)\n",
      "memory usage: 1.5+ MB\n"
     ]
    }
   ],
   "source": [
    "selected.info()"
   ]
  },
  {
   "cell_type": "code",
   "execution_count": 145,
   "metadata": {},
   "outputs": [
    {
     "data": {
      "text/plain": [
       "Index(['Rating', 'Popularity', 'Price', 'SCORE', 'VIO_COUNT',\n",
       "       'CRITICAL_COUNT'],\n",
       "      dtype='object')"
      ]
     },
     "execution_count": 145,
     "metadata": {},
     "output_type": "execute_result"
    }
   ],
   "source": [
    "# drop the rest of the columns which are not needed.\n",
    "selected_ = selected.drop(['CUISINE DESCRIPTION','BORO','GRADE'],axis=1)\n",
    "selected_.columns"
   ]
  },
  {
   "cell_type": "code",
   "execution_count": 146,
   "metadata": {},
   "outputs": [],
   "source": [
    "# concatenate the new categorical columns to the dataframe\n",
    "X = pd.concat([selected_, descrip, boro, grade],axis=1)"
   ]
  },
  {
   "cell_type": "code",
   "execution_count": 147,
   "metadata": {},
   "outputs": [],
   "source": [
    "Y = selected_['Rating'].values"
   ]
  },
  {
   "cell_type": "markdown",
   "metadata": {},
   "source": [
    "### Test Train Split"
   ]
  },
  {
   "cell_type": "code",
   "execution_count": 148,
   "metadata": {},
   "outputs": [],
   "source": [
    "X_train, X_test, Y_train, Y_test = train_test_split(X, Y, test_size=0.25)"
   ]
  },
  {
   "cell_type": "markdown",
   "metadata": {},
   "source": [
    "### Training and Predicting"
   ]
  },
  {
   "cell_type": "code",
   "execution_count": 149,
   "metadata": {},
   "outputs": [
    {
     "name": "stderr",
     "output_type": "stream",
     "text": [
      "/usr/local/lib/python3.7/site-packages/sklearn/linear_model/logistic.py:433: FutureWarning: Default solver will be changed to 'lbfgs' in 0.22. Specify a solver to silence this warning.\n",
      "  FutureWarning)\n",
      "/usr/local/lib/python3.7/site-packages/sklearn/linear_model/logistic.py:460: FutureWarning: Default multi_class will be changed to 'auto' in 0.22. Specify the multi_class option to silence this warning.\n",
      "  \"this warning.\", FutureWarning)\n"
     ]
    },
    {
     "data": {
      "text/plain": [
       "LogisticRegression(C=1.0, class_weight=None, dual=False, fit_intercept=True,\n",
       "          intercept_scaling=1, max_iter=100, multi_class='warn',\n",
       "          n_jobs=None, penalty='l2', random_state=None, solver='warn',\n",
       "          tol=0.0001, verbose=0, warm_start=False)"
      ]
     },
     "execution_count": 149,
     "metadata": {},
     "output_type": "execute_result"
    }
   ],
   "source": [
    "lr = LogisticRegression()\n",
    "lr.fit(X_train, Y_train)"
   ]
  },
  {
   "cell_type": "code",
   "execution_count": 150,
   "metadata": {},
   "outputs": [],
   "source": [
    "test_prediction = lr.predict(X_test)"
   ]
  },
  {
   "cell_type": "markdown",
   "metadata": {},
   "source": [
    "### Evaluation"
   ]
  },
  {
   "cell_type": "code",
   "execution_count": 151,
   "metadata": {},
   "outputs": [
    {
     "name": "stdout",
     "output_type": "stream",
     "text": [
      "0.6508801341156748\n"
     ]
    }
   ],
   "source": [
    "print(metrics.accuracy_score(Y_test, test_prediction))"
   ]
  },
  {
   "cell_type": "code",
   "execution_count": 152,
   "metadata": {},
   "outputs": [
    {
     "name": "stdout",
     "output_type": "stream",
     "text": [
      "              precision    recall  f1-score   support\n",
      "\n",
      "          10       1.00      0.13      0.24        15\n",
      "          15       0.96      0.36      0.52        73\n",
      "          20       0.59      0.52      0.55       188\n",
      "          25       0.58      0.11      0.18       327\n",
      "          30       0.13      0.05      0.07       587\n",
      "          35       0.50      0.61      0.55      1207\n",
      "          40       0.74      0.99      0.85      1690\n",
      "          45       0.91      0.80      0.85       636\n",
      "          50       0.00      0.00      0.00        49\n",
      "\n",
      "   micro avg       0.65      0.65      0.65      4772\n",
      "   macro avg       0.60      0.40      0.42      4772\n",
      "weighted avg       0.61      0.65      0.60      4772\n",
      "\n"
     ]
    },
    {
     "name": "stderr",
     "output_type": "stream",
     "text": [
      "/usr/local/lib/python3.7/site-packages/sklearn/metrics/classification.py:1143: UndefinedMetricWarning: Precision and F-score are ill-defined and being set to 0.0 in labels with no predicted samples.\n",
      "  'precision', 'predicted', average, warn_for)\n"
     ]
    }
   ],
   "source": [
    "print(classification_report(Y_test, test_prediction))"
   ]
  },
  {
   "cell_type": "code",
   "execution_count": 153,
   "metadata": {},
   "outputs": [
    {
     "data": {
      "text/plain": [
       "Sandwiches                                                          1.291823e+00\n",
       "Pizza                                                               1.214154e+00\n",
       "Price                                                               1.189166e+00\n",
       "Hamburgers                                                          9.769738e-01\n",
       "Sandwiches/Salads/Mixed Buffet                                      8.897382e-01\n",
       "Bagels/Pretzels                                                     8.816587e-01\n",
       "VIO_COUNT                                                           5.780958e-01\n",
       "American                                                            4.541504e-01\n",
       "Delicatessen                                                        4.244783e-01\n",
       "BROOKLYN                                                            3.971314e-01\n",
       "CafÃ©/Coffee/Tea                                                    3.317807e-01\n",
       "QUEENS                                                              2.158255e-01\n",
       "Chicken                                                             1.216165e-01\n",
       "SCORE                                                               1.212719e-01\n",
       "Latin (Cuban, Dominican, Puerto Rican, South & Central American)    1.003574e-01\n",
       "Bakery                                                              9.407131e-02\n",
       "MANHATTAN                                                           1.229283e-02\n",
       "Czech                                                               0.000000e+00\n",
       "Cajun                                                              -8.363552e-10\n",
       "Southwestern                                                       -4.047925e-09\n",
       "Iranian                                                            -9.747696e-09\n",
       "Australian                                                         -6.371254e-08\n",
       "Ethiopian                                                          -8.225250e-08\n",
       "Scandinavian                                                       -1.183388e-07\n",
       "Californian                                                        -1.452227e-07\n",
       "Indonesian                                                         -1.569564e-07\n",
       "Portuguese                                                         -1.936306e-07\n",
       "Brazilian                                                          -1.978692e-07\n",
       "Not Listed/Not Applicable                                          -2.284171e-07\n",
       "English                                                            -2.818834e-07\n",
       "                                                                        ...     \n",
       "Bangladeshi                                                        -5.305146e-04\n",
       "Pancakes/Waffles                                                   -6.678997e-04\n",
       "Soups & Sandwiches                                                 -7.261924e-04\n",
       "Seafood                                                            -8.349287e-04\n",
       "Italian                                                            -1.188129e-03\n",
       "Chinese/Japanese                                                   -1.373361e-03\n",
       "Korean                                                             -1.389073e-03\n",
       "Mediterranean                                                      -1.926641e-03\n",
       "Other                                                              -8.760502e-03\n",
       "Indian                                                             -8.937754e-03\n",
       "Popularity                                                         -1.454560e-02\n",
       "Tex-Mex                                                            -1.533137e-02\n",
       "Russian                                                            -1.631630e-02\n",
       "Soul Food                                                          -2.044936e-02\n",
       "Juice, Smoothies, Fruit Salads                                     -2.441378e-02\n",
       "Pizza/Italian                                                      -3.953569e-02\n",
       "Japanese                                                           -5.061923e-02\n",
       "Jewish/Kosher                                                      -6.798163e-02\n",
       "Asian                                                              -7.456377e-02\n",
       "Mexican                                                            -7.997161e-02\n",
       "CRITICAL_COUNT                                                     -9.547746e-02\n",
       "Bottled beverages, including water, sodas, juices, etc.            -1.509715e-01\n",
       "STATEN ISLAND                                                      -1.580238e-01\n",
       "Chinese                                                            -1.607590e-01\n",
       "Spanish                                                            -2.330297e-01\n",
       "Donuts                                                             -2.968110e-01\n",
       "C                                                                  -3.063811e-01\n",
       "B                                                                  -3.159418e-01\n",
       "Caribbean                                                          -3.725378e-01\n",
       "Rating                                                             -8.230840e-01\n",
       "Length: 95, dtype: float64"
      ]
     },
     "execution_count": 153,
     "metadata": {},
     "output_type": "execute_result"
    }
   ],
   "source": [
    "weights = pd.Series(lr.coef_[0], index=X.columns.values)\n",
    "weights.sort_values(ascending = False)"
   ]
  },
  {
   "cell_type": "code",
   "execution_count": 158,
   "metadata": {},
   "outputs": [
    {
     "data": {
      "image/png": "[encoded data removed]",
      "text/plain": [
       "<Figure size 720x432 with 1 Axes>"
      ]
     },
     "metadata": {
      "needs_background": "light"
     },
     "output_type": "display_data"
    }
   ],
   "source": [
    "%matplotlib inline\n",
    "plt.figure(figsize=(10,6))\n",
    "weights.nlargest(10).plot(kind='barh').invert_yaxis()"
   ]
  },
  {
   "cell_type": "code",
   "execution_count": null,
   "metadata": {},
   "outputs": [],
   "source": []
  }
 ],
 "metadata": {
  "kernelspec": {
   "display_name": "Python 3",
   "language": "python",
   "name": "python3"
  },
  "language_info": {
   "codemirror_mode": {
    "name": "ipython",
    "version": 3
   },
   "file_extension": ".py",
   "mimetype": "text/x-python",
   "name": "python",
   "nbconvert_exporter": "python",
   "pygments_lexer": "ipython3",
   "version": "3.7.3"
  }
 },
 "nbformat": 4,
 "nbformat_minor": 2
}
