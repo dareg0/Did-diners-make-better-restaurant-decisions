{
 "cells": [
  {
   "cell_type": "code",
   "execution_count": 1,
   "metadata": {},
   "outputs": [],
   "source": [
    "import pandas as pd\n",
    "from sklearn.model_selection import train_test_split\n",
    "from sklearn.linear_model import LogisticRegression\n",
    "from sklearn import metrics\n",
    "from sklearn.metrics import roc_curve, auc, classification_report\n",
    "from matplotlib import pyplot as plt"
   ]
  },
  {
   "cell_type": "code",
   "execution_count": 2,
   "metadata": {},
   "outputs": [
    {
     "data": {
      "text/html": [
       "<div>\n",
       "<style scoped>\n",
       "    .dataframe tbody tr th:only-of-type {\n",
       "        vertical-align: middle;\n",
       "    }\n",
       "\n",
       "    .dataframe tbody tr th {\n",
       "        vertical-align: top;\n",
       "    }\n",
       "\n",
       "    .dataframe thead th {\n",
       "        text-align: right;\n",
       "    }\n",
       "</style>\n",
       "<table border=\"1\" class=\"dataframe\">\n",
       "  <thead>\n",
       "    <tr style=\"text-align: right;\">\n",
       "      <th></th>\n",
       "      <th>Name</th>\n",
       "      <th>Rating</th>\n",
       "      <th>Popularity</th>\n",
       "      <th>Price</th>\n",
       "      <th>Categories</th>\n",
       "      <th>Reviews</th>\n",
       "      <th>url</th>\n",
       "      <th>Latitude</th>\n",
       "      <th>Longitude</th>\n",
       "      <th>DBA</th>\n",
       "      <th>BORO</th>\n",
       "      <th>CUISINE DESCRIPTION</th>\n",
       "      <th>GRADE DATE</th>\n",
       "      <th>SCORE</th>\n",
       "      <th>GRADE</th>\n",
       "      <th>VIO_COUNT</th>\n",
       "      <th>VIO_CODE_LIST</th>\n",
       "      <th>CRITICAL_COUNT</th>\n",
       "    </tr>\n",
       "    <tr>\n",
       "      <th>CAMIS</th>\n",
       "      <th></th>\n",
       "      <th></th>\n",
       "      <th></th>\n",
       "      <th></th>\n",
       "      <th></th>\n",
       "      <th></th>\n",
       "      <th></th>\n",
       "      <th></th>\n",
       "      <th></th>\n",
       "      <th></th>\n",
       "      <th></th>\n",
       "      <th></th>\n",
       "      <th></th>\n",
       "      <th></th>\n",
       "      <th></th>\n",
       "      <th></th>\n",
       "      <th></th>\n",
       "      <th></th>\n",
       "    </tr>\n",
       "  </thead>\n",
       "  <tbody>\n",
       "    <tr>\n",
       "      <th>30075445</th>\n",
       "      <td>Morris Park Bake Shop</td>\n",
       "      <td>4.0</td>\n",
       "      <td>41</td>\n",
       "      <td>2</td>\n",
       "      <td>Bakeries, Desserts</td>\n",
       "      <td>Hands down the BEST cannoli in the Business!! ...</td>\n",
       "      <td>https://www.yelp.com/biz/morris-park-bake-shop...</td>\n",
       "      <td>40.848390</td>\n",
       "      <td>-73.856010</td>\n",
       "      <td>MORRIS PARK BAKE SHOP</td>\n",
       "      <td>BRONX</td>\n",
       "      <td>Bakery</td>\n",
       "      <td>2018-05-11</td>\n",
       "      <td>5.0</td>\n",
       "      <td>A</td>\n",
       "      <td>2</td>\n",
       "      <td>{'10F', '08C'}</td>\n",
       "      <td>0</td>\n",
       "    </tr>\n",
       "    <tr>\n",
       "      <th>30112340</th>\n",
       "      <td>Wendy's</td>\n",
       "      <td>2.0</td>\n",
       "      <td>36</td>\n",
       "      <td>1</td>\n",
       "      <td>Fast Food, Burgers</td>\n",
       "      <td>Place has sick ass frostys. Bouta get some fri...</td>\n",
       "      <td>https://www.yelp.com/biz/wendys-brooklyn-4?adj...</td>\n",
       "      <td>40.662952</td>\n",
       "      <td>-73.961753</td>\n",
       "      <td>WENDY'S</td>\n",
       "      <td>BROOKLYN</td>\n",
       "      <td>Hamburgers</td>\n",
       "      <td>2019-03-04</td>\n",
       "      <td>13.0</td>\n",
       "      <td>A</td>\n",
       "      <td>3</td>\n",
       "      <td>{'02G', '10F', '10B'}</td>\n",
       "      <td>1</td>\n",
       "    </tr>\n",
       "    <tr>\n",
       "      <th>30191841</th>\n",
       "      <td>D.J. Reynolds</td>\n",
       "      <td>3.5</td>\n",
       "      <td>99</td>\n",
       "      <td>2</td>\n",
       "      <td>Irish, Pubs</td>\n",
       "      <td>Had dinner last night with a group of 14.  Foo...</td>\n",
       "      <td>https://www.yelp.com/biz/d-j-reynolds-new-york...</td>\n",
       "      <td>40.767750</td>\n",
       "      <td>-73.984870</td>\n",
       "      <td>DJ REYNOLDS PUB AND RESTAURANT</td>\n",
       "      <td>MANHATTAN</td>\n",
       "      <td>Irish</td>\n",
       "      <td>2018-05-16</td>\n",
       "      <td>12.0</td>\n",
       "      <td>A</td>\n",
       "      <td>3</td>\n",
       "      <td>{'04L', '08A', '10F'}</td>\n",
       "      <td>1</td>\n",
       "    </tr>\n",
       "    <tr>\n",
       "      <th>40356483</th>\n",
       "      <td>Wilkens Fine Foods</td>\n",
       "      <td>3.5</td>\n",
       "      <td>37</td>\n",
       "      <td>2</td>\n",
       "      <td>Delis</td>\n",
       "      <td>I've been coming here for years since I've mov...</td>\n",
       "      <td>https://www.yelp.com/biz/wilkens-fine-foods-br...</td>\n",
       "      <td>40.619900</td>\n",
       "      <td>-73.906850</td>\n",
       "      <td>WILKEN'S FINE FOOD</td>\n",
       "      <td>BROOKLYN</td>\n",
       "      <td>Delicatessen</td>\n",
       "      <td>2018-05-10</td>\n",
       "      <td>13.0</td>\n",
       "      <td>A</td>\n",
       "      <td>2</td>\n",
       "      <td>{'10F', '06C'}</td>\n",
       "      <td>1</td>\n",
       "    </tr>\n",
       "    <tr>\n",
       "      <th>40356731</th>\n",
       "      <td>Taste the Tropics USA</td>\n",
       "      <td>4.5</td>\n",
       "      <td>31</td>\n",
       "      <td>1</td>\n",
       "      <td>Ice Cream &amp; Frozen Yogurt</td>\n",
       "      <td>The best ice cream shop by far and I have been...</td>\n",
       "      <td>https://www.yelp.com/biz/taste-the-tropics-usa...</td>\n",
       "      <td>40.640830</td>\n",
       "      <td>-73.948350</td>\n",
       "      <td>TASTE THE TROPICS ICE CREAM</td>\n",
       "      <td>BROOKLYN</td>\n",
       "      <td>Ice Cream, Gelato, Yogurt, Ices</td>\n",
       "      <td>2018-05-16</td>\n",
       "      <td>13.0</td>\n",
       "      <td>A</td>\n",
       "      <td>4</td>\n",
       "      <td>{'04L', '08A', '08C', '10F'}</td>\n",
       "      <td>1</td>\n",
       "    </tr>\n",
       "  </tbody>\n",
       "</table>\n",
       "</div>"
      ],
      "text/plain": [
       "                           Name  Rating  Popularity  Price  \\\n",
       "CAMIS                                                        \n",
       "30075445  Morris Park Bake Shop     4.0          41      2   \n",
       "30112340                Wendy's     2.0          36      1   \n",
       "30191841          D.J. Reynolds     3.5          99      2   \n",
       "40356483     Wilkens Fine Foods     3.5          37      2   \n",
       "40356731  Taste the Tropics USA     4.5          31      1   \n",
       "\n",
       "                         Categories  \\\n",
       "CAMIS                                 \n",
       "30075445         Bakeries, Desserts   \n",
       "30112340         Fast Food, Burgers   \n",
       "30191841                Irish, Pubs   \n",
       "40356483                      Delis   \n",
       "40356731  Ice Cream & Frozen Yogurt   \n",
       "\n",
       "                                                    Reviews  \\\n",
       "CAMIS                                                         \n",
       "30075445  Hands down the BEST cannoli in the Business!! ...   \n",
       "30112340  Place has sick ass frostys. Bouta get some fri...   \n",
       "30191841  Had dinner last night with a group of 14.  Foo...   \n",
       "40356483  I've been coming here for years since I've mov...   \n",
       "40356731  The best ice cream shop by far and I have been...   \n",
       "\n",
       "                                                        url   Latitude  \\\n",
       "CAMIS                                                                    \n",
       "30075445  https://www.yelp.com/biz/morris-park-bake-shop...  40.848390   \n",
       "30112340  https://www.yelp.com/biz/wendys-brooklyn-4?adj...  40.662952   \n",
       "30191841  https://www.yelp.com/biz/d-j-reynolds-new-york...  40.767750   \n",
       "40356483  https://www.yelp.com/biz/wilkens-fine-foods-br...  40.619900   \n",
       "40356731  https://www.yelp.com/biz/taste-the-tropics-usa...  40.640830   \n",
       "\n",
       "          Longitude                             DBA       BORO  \\\n",
       "CAMIS                                                            \n",
       "30075445 -73.856010           MORRIS PARK BAKE SHOP      BRONX   \n",
       "30112340 -73.961753                         WENDY'S   BROOKLYN   \n",
       "30191841 -73.984870  DJ REYNOLDS PUB AND RESTAURANT  MANHATTAN   \n",
       "40356483 -73.906850              WILKEN'S FINE FOOD   BROOKLYN   \n",
       "40356731 -73.948350     TASTE THE TROPICS ICE CREAM   BROOKLYN   \n",
       "\n",
       "                      CUISINE DESCRIPTION  GRADE DATE  SCORE GRADE  VIO_COUNT  \\\n",
       "CAMIS                                                                           \n",
       "30075445                           Bakery  2018-05-11    5.0     A          2   \n",
       "30112340                       Hamburgers  2019-03-04   13.0     A          3   \n",
       "30191841                            Irish  2018-05-16   12.0     A          3   \n",
       "40356483                     Delicatessen  2018-05-10   13.0     A          2   \n",
       "40356731  Ice Cream, Gelato, Yogurt, Ices  2018-05-16   13.0     A          4   \n",
       "\n",
       "                         VIO_CODE_LIST  CRITICAL_COUNT  \n",
       "CAMIS                                                   \n",
       "30075445                {'10F', '08C'}               0  \n",
       "30112340         {'02G', '10F', '10B'}               1  \n",
       "30191841         {'04L', '08A', '10F'}               1  \n",
       "40356483                {'10F', '06C'}               1  \n",
       "40356731  {'04L', '08A', '08C', '10F'}               1  "
      ]
     },
     "execution_count": 2,
     "metadata": {},
     "output_type": "execute_result"
    }
   ],
   "source": [
    "data = pd.read_csv('merged_yelp_inspections.csv', index_col = 'CAMIS')\n",
    "data.head(5)"
   ]
  },
  {
   "cell_type": "code",
   "execution_count": 3,
   "metadata": {
    "scrolled": true
   },
   "outputs": [
    {
     "data": {
      "text/plain": [
       "Chinese                                                      792\n",
       "Pizza                                                        679\n",
       "Coffee & Tea                                                 532\n",
       "Donuts, Coffee & Tea                                         403\n",
       "Mexican                                                      376\n",
       "Italian                                                      337\n",
       "Pizza, Italian                                               309\n",
       "Bakeries                                                     233\n",
       "Sandwiches, Fast Food                                        194\n",
       "Bars                                                         170\n",
       "Caribbean                                                    157\n",
       "Hotels                                                       153\n",
       "Thai                                                         149\n",
       "Japanese, Sushi Bars                                         145\n",
       "American (New)                                               130\n",
       "Fast Food, Burgers, Coffee & Tea                             121\n",
       "Italian, Pizza                                               119\n",
       "Indian                                                       117\n",
       "Ice Cream & Frozen Yogurt                                    112\n",
       "Fast Food, Burgers                                            98\n",
       "Sushi Bars, Japanese                                          96\n",
       "Diners                                                        89\n",
       "Coffee & Tea, Donuts                                          86\n",
       "Cafes                                                         81\n",
       "Fast Food, Chicken Wings                                      80\n",
       "Pizza, Chicken Wings, Sandwiches                              80\n",
       "Japanese                                                      79\n",
       "American (Traditional)                                        79\n",
       "Pubs                                                          78\n",
       "Latin American                                                78\n",
       "                                                            ... \n",
       "Food Court, Barbeque                                           1\n",
       "Mexican, Bars, Venues & Event Spaces                           1\n",
       "Bars, Irish                                                    1\n",
       "American (New), Seafood, Steakhouses                           1\n",
       "Italian, Soup                                                  1\n",
       "Korean, Japanese, Sushi Bars                                   1\n",
       "Thai, Soup                                                     1\n",
       "Vietnamese, Soup                                               1\n",
       "Ramen, Poke, Izakaya                                           1\n",
       "Cocktail Bars, Lounges, Sports Bars                            1\n",
       "Restaurants, Lounges                                           1\n",
       "Home Decor, Furniture Stores, Kitchen & Bath                   1\n",
       "Turkish, Halal, Uzbek                                          1\n",
       "Coffee & Tea, Breakfast & Brunch, Bars                         1\n",
       "Bakeries, Creperies, Breakfast & Brunch                        1\n",
       "French, Wine Bars, Desserts                                    1\n",
       "Burgers, Ice Cream & Frozen Yogurt, Food Trucks                1\n",
       "Hot Pot, Buffets, Chinese                                      1\n",
       "Desserts, Ice Cream & Frozen Yogurt, Patisserie/Cake Shop      1\n",
       "Peruvian, Chicken Shop                                         1\n",
       "Chinese, Imported Food                                         1\n",
       "American (New), Japanese, Sushi Bars                           1\n",
       "Mexican, Tex-Mex, Bars                                         1\n",
       "Bagels, Coffee & Tea, Juice Bars & Smoothies                   1\n",
       "Pizza, Steakhouses, Wine Bars                                  1\n",
       "Kosher, Russian, Uzbek                                         1\n",
       "Ethiopian, Vegan, African                                      1\n",
       "Italian, Pizza, French                                         1\n",
       "Burgers, Coffee & Tea, Fast Food                               1\n",
       "Bars, Tex-Mex                                                  1\n",
       "Name: Categories, Length: 5133, dtype: int64"
      ]
     },
     "execution_count": 3,
     "metadata": {},
     "output_type": "execute_result"
    }
   ],
   "source": [
    "data['Categories'].value_counts()"
   ]
  },
  {
   "cell_type": "code",
   "execution_count": 4,
   "metadata": {
    "scrolled": true
   },
   "outputs": [
    {
     "data": {
      "text/plain": [
       "American                                                            4322\n",
       "Chinese                                                             1729\n",
       "CafÃ©/Coffee/Tea                                                    1248\n",
       "Pizza                                                                945\n",
       "Italian                                                              820\n",
       "Japanese                                                             699\n",
       "Mexican                                                              663\n",
       "Latin (Cuban, Dominican, Puerto Rican, South & Central American)     585\n",
       "Bakery                                                               569\n",
       "Donuts                                                               488\n",
       "Caribbean                                                            453\n",
       "Chicken                                                              412\n",
       "Pizza/Italian                                                        389\n",
       "Spanish                                                              378\n",
       "Hamburgers                                                           339\n",
       "Sandwiches                                                           308\n",
       "French                                                               267\n",
       "Asian                                                                260\n",
       "Ice Cream, Gelato, Yogurt, Ices                                      256\n",
       "Juice, Smoothies, Fruit Salads                                       254\n",
       "Indian                                                               243\n",
       "Delicatessen                                                         232\n",
       "Thai                                                                 220\n",
       "Jewish/Kosher                                                        218\n",
       "Korean                                                               215\n",
       "Mediterranean                                                        213\n",
       "Sandwiches/Salads/Mixed Buffet                                       185\n",
       "Irish                                                                167\n",
       "Seafood                                                              163\n",
       "Bagels/Pretzels                                                      133\n",
       "                                                                    ... \n",
       "Polish                                                                24\n",
       "Hotdogs                                                               23\n",
       "Filipino                                                              22\n",
       "Pakistani                                                             21\n",
       "Brazilian                                                             19\n",
       "Australian                                                            18\n",
       "Hotdogs/Pretzels                                                      16\n",
       "Ethiopian                                                             15\n",
       "Creole                                                                14\n",
       "Chinese/Cuban                                                         14\n",
       "Armenian                                                              13\n",
       "English                                                               11\n",
       "Pancakes/Waffles                                                      11\n",
       "Afghan                                                                 9\n",
       "Egyptian                                                               9\n",
       "Moroccan                                                               8\n",
       "Portuguese                                                             8\n",
       "Indonesian                                                             8\n",
       "Soups                                                                  7\n",
       "Fruits/Vegetables                                                      6\n",
       "Cajun                                                                  5\n",
       "Not Listed/Not Applicable                                              5\n",
       "Scandinavian                                                           4\n",
       "Creole/Cajun                                                           4\n",
       "Californian                                                            4\n",
       "Nuts/Confectionary                                                     3\n",
       "Southwestern                                                           2\n",
       "Iranian                                                                2\n",
       "Czech                                                                  1\n",
       "Chilean                                                                1\n",
       "Name: CUISINE DESCRIPTION, Length: 83, dtype: int64"
      ]
     },
     "execution_count": 4,
     "metadata": {},
     "output_type": "execute_result"
    }
   ],
   "source": [
    "data['CUISINE DESCRIPTION'].value_counts()"
   ]
  },
  {
   "cell_type": "code",
   "execution_count": 56,
   "metadata": {},
   "outputs": [
    {
     "data": {
      "text/plain": [
       "A    17691\n",
       "B     1136\n",
       "C      243\n",
       "P       19\n",
       "Name: GRADE, dtype: int64"
      ]
     },
     "execution_count": 56,
     "metadata": {},
     "output_type": "execute_result"
    }
   ],
   "source": [
    "data['GRADE'].value_counts()"
   ]
  },
  {
   "cell_type": "markdown",
   "metadata": {},
   "source": [
    "**Compared to 'Categories', column 'CUISINE DESCRIPTION' has less categories to encode with.**"
   ]
  },
  {
   "cell_type": "code",
   "execution_count": 5,
   "metadata": {},
   "outputs": [
    {
     "name": "stdout",
     "output_type": "stream",
     "text": [
      "<class 'pandas.core.frame.DataFrame'>\n",
      "Int64Index: 19089 entries, 30075445 to 50090040\n",
      "Data columns (total 18 columns):\n",
      "Name                   19089 non-null object\n",
      "Rating                 19089 non-null float64\n",
      "Popularity             19089 non-null int64\n",
      "Price                  19089 non-null int64\n",
      "Categories             19089 non-null object\n",
      "Reviews                19089 non-null object\n",
      "url                    19089 non-null object\n",
      "Latitude               19089 non-null float64\n",
      "Longitude              19089 non-null float64\n",
      "DBA                    19089 non-null object\n",
      "BORO                   19089 non-null object\n",
      "CUISINE DESCRIPTION    19089 non-null object\n",
      "GRADE DATE             19089 non-null object\n",
      "SCORE                  19089 non-null float64\n",
      "GRADE                  19089 non-null object\n",
      "VIO_COUNT              19089 non-null int64\n",
      "VIO_CODE_LIST          19089 non-null object\n",
      "CRITICAL_COUNT         19089 non-null int64\n",
      "dtypes: float64(4), int64(4), object(10)\n",
      "memory usage: 2.8+ MB\n"
     ]
    }
   ],
   "source": [
    "data.info()"
   ]
  },
  {
   "cell_type": "code",
   "execution_count": 6,
   "metadata": {},
   "outputs": [
    {
     "data": {
      "text/plain": [
       "4.0    6717\n",
       "3.5    4913\n",
       "4.5    2621\n",
       "3.0    2288\n",
       "2.5    1213\n",
       "2.0     783\n",
       "1.5     276\n",
       "5.0     206\n",
       "1.0      72\n",
       "Name: Rating, dtype: int64"
      ]
     },
     "execution_count": 6,
     "metadata": {},
     "output_type": "execute_result"
    }
   ],
   "source": [
    "data['Rating'].value_counts()"
   ]
  },
  {
   "cell_type": "code",
   "execution_count": 7,
   "metadata": {},
   "outputs": [
    {
     "name": "stdout",
     "output_type": "stream",
     "text": [
      "<class 'pandas.core.frame.DataFrame'>\n",
      "Int64Index: 19089 entries, 30075445 to 50090040\n",
      "Data columns (total 18 columns):\n",
      "Name                   19089 non-null object\n",
      "Rating                 19089 non-null float64\n",
      "Popularity             19089 non-null int64\n",
      "Price                  19089 non-null int64\n",
      "Categories             19089 non-null object\n",
      "Reviews                19089 non-null object\n",
      "url                    19089 non-null object\n",
      "Latitude               19089 non-null float64\n",
      "Longitude              19089 non-null float64\n",
      "DBA                    19089 non-null object\n",
      "BORO                   19089 non-null object\n",
      "CUISINE DESCRIPTION    19089 non-null object\n",
      "GRADE DATE             19089 non-null object\n",
      "SCORE                  19089 non-null int64\n",
      "GRADE                  19089 non-null object\n",
      "VIO_COUNT              19089 non-null int64\n",
      "VIO_CODE_LIST          19089 non-null object\n",
      "CRITICAL_COUNT         19089 non-null int64\n",
      "dtypes: float64(3), int64(5), object(10)\n",
      "memory usage: 2.8+ MB\n"
     ]
    }
   ],
   "source": [
    "# Convert from float to integers for future models to read\n",
    "# data['Rating'] = data['Rating'].astype(int)\n",
    "data['SCORE'] = data['SCORE'].astype(int)\n",
    "data['VIO_COUNT'] = data['VIO_COUNT'].astype(int)\n",
    "data.info()"
   ]
  },
  {
   "cell_type": "code",
   "execution_count": 8,
   "metadata": {
    "scrolled": false
   },
   "outputs": [
    {
     "data": {
      "text/html": [
       "<div>\n",
       "<style scoped>\n",
       "    .dataframe tbody tr th:only-of-type {\n",
       "        vertical-align: middle;\n",
       "    }\n",
       "\n",
       "    .dataframe tbody tr th {\n",
       "        vertical-align: top;\n",
       "    }\n",
       "\n",
       "    .dataframe thead th {\n",
       "        text-align: right;\n",
       "    }\n",
       "</style>\n",
       "<table border=\"1\" class=\"dataframe\">\n",
       "  <thead>\n",
       "    <tr style=\"text-align: right;\">\n",
       "      <th></th>\n",
       "      <th>Rating</th>\n",
       "      <th>Popularity</th>\n",
       "      <th>Price</th>\n",
       "      <th>CUISINE DESCRIPTION</th>\n",
       "      <th>BORO</th>\n",
       "      <th>SCORE</th>\n",
       "      <th>GRADE</th>\n",
       "      <th>VIO_COUNT</th>\n",
       "      <th>CRITICAL_COUNT</th>\n",
       "    </tr>\n",
       "    <tr>\n",
       "      <th>CAMIS</th>\n",
       "      <th></th>\n",
       "      <th></th>\n",
       "      <th></th>\n",
       "      <th></th>\n",
       "      <th></th>\n",
       "      <th></th>\n",
       "      <th></th>\n",
       "      <th></th>\n",
       "      <th></th>\n",
       "    </tr>\n",
       "  </thead>\n",
       "  <tbody>\n",
       "    <tr>\n",
       "      <th>30075445</th>\n",
       "      <td>4.0</td>\n",
       "      <td>41</td>\n",
       "      <td>2</td>\n",
       "      <td>Bakery</td>\n",
       "      <td>BRONX</td>\n",
       "      <td>5</td>\n",
       "      <td>A</td>\n",
       "      <td>2</td>\n",
       "      <td>0</td>\n",
       "    </tr>\n",
       "    <tr>\n",
       "      <th>30112340</th>\n",
       "      <td>2.0</td>\n",
       "      <td>36</td>\n",
       "      <td>1</td>\n",
       "      <td>Hamburgers</td>\n",
       "      <td>BROOKLYN</td>\n",
       "      <td>13</td>\n",
       "      <td>A</td>\n",
       "      <td>3</td>\n",
       "      <td>1</td>\n",
       "    </tr>\n",
       "  </tbody>\n",
       "</table>\n",
       "</div>"
      ],
      "text/plain": [
       "          Rating  Popularity  Price CUISINE DESCRIPTION      BORO  SCORE  \\\n",
       "CAMIS                                                                      \n",
       "30075445     4.0          41      2              Bakery     BRONX      5   \n",
       "30112340     2.0          36      1          Hamburgers  BROOKLYN     13   \n",
       "\n",
       "         GRADE  VIO_COUNT  CRITICAL_COUNT  \n",
       "CAMIS                                      \n",
       "30075445     A          2               0  \n",
       "30112340     A          3               1  "
      ]
     },
     "execution_count": 8,
     "metadata": {},
     "output_type": "execute_result"
    }
   ],
   "source": [
    "selected = data[['Rating','Popularity', 'Price', 'CUISINE DESCRIPTION', 'BORO', 'SCORE', 'GRADE', 'VIO_COUNT', 'CRITICAL_COUNT']]\n",
    "selected.head(2)"
   ]
  },
  {
   "cell_type": "code",
   "execution_count": 9,
   "metadata": {},
   "outputs": [
    {
     "data": {
      "text/plain": [
       "4.0    6717\n",
       "3.5    4913\n",
       "4.5    2621\n",
       "3.0    2288\n",
       "2.5    1213\n",
       "2.0     783\n",
       "1.5     276\n",
       "5.0     206\n",
       "1.0      72\n",
       "Name: Rating, dtype: int64"
      ]
     },
     "execution_count": 9,
     "metadata": {},
     "output_type": "execute_result"
    }
   ],
   "source": [
    "se = selected.copy()\n",
    "# se['GRADE'].replace({'A':1, 'B':2, 'C':3}, inplace=True)\n",
    "se['Rating'].value_counts()"
   ]
  },
  {
   "cell_type": "code",
   "execution_count": 10,
   "metadata": {},
   "outputs": [
    {
     "data": {
      "text/plain": [
       "2    10399\n",
       "1     7143\n",
       "3     1251\n",
       "4      296\n",
       "Name: Price, dtype: int64"
      ]
     },
     "execution_count": 10,
     "metadata": {},
     "output_type": "execute_result"
    }
   ],
   "source": [
    "se['Price'].value_counts()"
   ]
  },
  {
   "cell_type": "code",
   "execution_count": 11,
   "metadata": {
    "scrolled": true
   },
   "outputs": [
    {
     "data": {
      "text/plain": [
       "MANHATTAN        7954\n",
       "BROOKLYN         4729\n",
       "QUEENS           4101\n",
       "BRONX            1637\n",
       "STATEN ISLAND     662\n",
       "Missing             6\n",
       "Name: BORO, dtype: int64"
      ]
     },
     "execution_count": 11,
     "metadata": {},
     "output_type": "execute_result"
    }
   ],
   "source": [
    "se['BORO'].value_counts()"
   ]
  },
  {
   "cell_type": "code",
   "execution_count": 12,
   "metadata": {
    "scrolled": true
   },
   "outputs": [
    {
     "data": {
      "text/plain": [
       "MANHATTAN        7954\n",
       "BROOKLYN         4729\n",
       "QUEENS           4101\n",
       "BRONX            1637\n",
       "STATEN ISLAND     662\n",
       "Name: BORO, dtype: int64"
      ]
     },
     "execution_count": 12,
     "metadata": {},
     "output_type": "execute_result"
    }
   ],
   "source": [
    "import numpy as np\n",
    "se['BORO'].replace({'Missing':np.nan}, inplace=True)\n",
    "se = se.dropna()\n",
    "se['BORO'].value_counts()"
   ]
  },
  {
   "cell_type": "code",
   "execution_count": 13,
   "metadata": {},
   "outputs": [],
   "source": [
    "from sklearn.preprocessing import LabelEncoder\n",
    "lbl = LabelEncoder()\n",
    "# se.apply(lbl.fit_transform)\n",
    "se['BORO'] = lbl.fit_transform(se['BORO'])"
   ]
  },
  {
   "cell_type": "code",
   "execution_count": 14,
   "metadata": {},
   "outputs": [
    {
     "data": {
      "text/plain": [
       "2    7954\n",
       "1    4729\n",
       "3    4101\n",
       "0    1637\n",
       "4     662\n",
       "Name: BORO, dtype: int64"
      ]
     },
     "execution_count": 14,
     "metadata": {},
     "output_type": "execute_result"
    }
   ],
   "source": [
    "se['BORO'].value_counts()"
   ]
  },
  {
   "cell_type": "code",
   "execution_count": 15,
   "metadata": {},
   "outputs": [],
   "source": [
    "se['GRADE'] = lbl.fit_transform(se['GRADE'])"
   ]
  },
  {
   "cell_type": "code",
   "execution_count": 16,
   "metadata": {},
   "outputs": [
    {
     "data": {
      "text/plain": [
       "0    17685\n",
       "1     1136\n",
       "2      243\n",
       "3       19\n",
       "Name: GRADE, dtype: int64"
      ]
     },
     "execution_count": 16,
     "metadata": {},
     "output_type": "execute_result"
    }
   ],
   "source": [
    "se['GRADE'].value_counts()"
   ]
  },
  {
   "cell_type": "code",
   "execution_count": 60,
   "metadata": {},
   "outputs": [
    {
     "data": {
      "text/plain": [
       "2     4320\n",
       "18    1729\n",
       "12    1247\n",
       "61     945\n",
       "45     820\n",
       "46     699\n",
       "52     663\n",
       "50     585\n",
       "7      569\n",
       "26     488\n",
       "15     453\n",
       "16     412\n",
       "62     388\n",
       "75     378\n",
       "36     339\n",
       "67     308\n",
       "32     267\n",
       "4      259\n",
       "40     256\n",
       "48     254\n",
       "41     243\n",
       "25     232\n",
       "79     220\n",
       "47     218\n",
       "49     215\n",
       "51     213\n",
       "68     185\n",
       "44     167\n",
       "70     163\n",
       "6      133\n",
       "      ... \n",
       "63      24\n",
       "38      23\n",
       "31      22\n",
       "58      21\n",
       "11      19\n",
       "5       18\n",
       "39      16\n",
       "30      15\n",
       "22      14\n",
       "19      14\n",
       "3       13\n",
       "59      11\n",
       "29      11\n",
       "0        9\n",
       "28       9\n",
       "54       8\n",
       "42       8\n",
       "64       8\n",
       "72       7\n",
       "33       6\n",
       "13       5\n",
       "55       5\n",
       "23       4\n",
       "14       4\n",
       "69       3\n",
       "56       3\n",
       "74       2\n",
       "43       2\n",
       "24       1\n",
       "17       1\n",
       "Name: CUISINE DESCRIPTION, Length: 83, dtype: int64"
      ]
     },
     "execution_count": 60,
     "metadata": {},
     "output_type": "execute_result"
    }
   ],
   "source": [
    "se['CUISINE DESCRIPTION'] = lbl.fit_transform(se['CUISINE DESCRIPTION'])\n",
    "se['CUISINE DESCRIPTION'].value_counts()"
   ]
  },
  {
   "cell_type": "code",
   "execution_count": 92,
   "metadata": {},
   "outputs": [
    {
     "data": {
      "text/html": [
       "<table class=\"simpletable\">\n",
       "<caption>OLS Regression Results</caption>\n",
       "<tr>\n",
       "  <th>Dep. Variable:</th>         <td>Rating</td>      <th>  R-squared:         </th> <td>   0.901</td> \n",
       "</tr>\n",
       "<tr>\n",
       "  <th>Model:</th>                   <td>OLS</td>       <th>  Adj. R-squared:    </th> <td>   0.900</td> \n",
       "</tr>\n",
       "<tr>\n",
       "  <th>Method:</th>             <td>Least Squares</td>  <th>  F-statistic:       </th> <td>2.878e+04</td>\n",
       "</tr>\n",
       "<tr>\n",
       "  <th>Date:</th>             <td>Thu, 09 May 2019</td> <th>  Prob (F-statistic):</th>  <td>  0.00</td>  \n",
       "</tr>\n",
       "<tr>\n",
       "  <th>Time:</th>                 <td>20:13:49</td>     <th>  Log-Likelihood:    </th> <td> -37249.</td> \n",
       "</tr>\n",
       "<tr>\n",
       "  <th>No. Observations:</th>      <td> 19083</td>      <th>  AIC:               </th> <td>7.451e+04</td>\n",
       "</tr>\n",
       "<tr>\n",
       "  <th>Df Residuals:</th>          <td> 19077</td>      <th>  BIC:               </th> <td>7.456e+04</td>\n",
       "</tr>\n",
       "<tr>\n",
       "  <th>Df Model:</th>              <td>     6</td>      <th>                     </th>     <td> </td>    \n",
       "</tr>\n",
       "<tr>\n",
       "  <th>Covariance Type:</th>      <td>nonrobust</td>    <th>                     </th>     <td> </td>    \n",
       "</tr>\n",
       "</table>\n",
       "<table class=\"simpletable\">\n",
       "<tr>\n",
       "           <td></td>              <th>coef</th>     <th>std err</th>      <th>t</th>      <th>P>|t|</th>  <th>[0.025</th>    <th>0.975]</th>  \n",
       "</tr>\n",
       "<tr>\n",
       "  <th>BORO</th>                <td>    0.4372</td> <td>    0.012</td> <td>   37.646</td> <td> 0.000</td> <td>    0.414</td> <td>    0.460</td>\n",
       "</tr>\n",
       "<tr>\n",
       "  <th>Popularity</th>          <td>    0.0003</td> <td> 1.74e-05</td> <td>   14.814</td> <td> 0.000</td> <td>    0.000</td> <td>    0.000</td>\n",
       "</tr>\n",
       "<tr>\n",
       "  <th>GRADE</th>               <td>   -1.6106</td> <td>    0.050</td> <td>  -32.499</td> <td> 0.000</td> <td>   -1.708</td> <td>   -1.513</td>\n",
       "</tr>\n",
       "<tr>\n",
       "  <th>SCORE</th>               <td>    0.1539</td> <td>    0.003</td> <td>   55.784</td> <td> 0.000</td> <td>    0.148</td> <td>    0.159</td>\n",
       "</tr>\n",
       "<tr>\n",
       "  <th>Price</th>               <td>    1.3121</td> <td>    0.016</td> <td>   83.276</td> <td> 0.000</td> <td>    1.281</td> <td>    1.343</td>\n",
       "</tr>\n",
       "<tr>\n",
       "  <th>CUISINE DESCRIPTION</th> <td>    0.0127</td> <td>    0.000</td> <td>   26.380</td> <td> 0.000</td> <td>    0.012</td> <td>    0.014</td>\n",
       "</tr>\n",
       "</table>\n",
       "<table class=\"simpletable\">\n",
       "<tr>\n",
       "  <th>Omnibus:</th>       <td>132.014</td> <th>  Durbin-Watson:     </th> <td>   1.856</td>\n",
       "</tr>\n",
       "<tr>\n",
       "  <th>Prob(Omnibus):</th> <td> 0.000</td>  <th>  Jarque-Bera (JB):  </th> <td> 152.143</td>\n",
       "</tr>\n",
       "<tr>\n",
       "  <th>Skew:</th>          <td>-0.151</td>  <th>  Prob(JB):          </th> <td>9.18e-34</td>\n",
       "</tr>\n",
       "<tr>\n",
       "  <th>Kurtosis:</th>      <td> 3.316</td>  <th>  Cond. No.          </th> <td>3.17e+03</td>\n",
       "</tr>\n",
       "</table><br/><br/>Warnings:<br/>[1] Standard Errors assume that the covariance matrix of the errors is correctly specified.<br/>[2] The condition number is large, 3.17e+03. This might indicate that there are<br/>strong multicollinearity or other numerical problems."
      ],
      "text/plain": [
       "<class 'statsmodels.iolib.summary.Summary'>\n",
       "\"\"\"\n",
       "                            OLS Regression Results                            \n",
       "==============================================================================\n",
       "Dep. Variable:                 Rating   R-squared:                       0.901\n",
       "Model:                            OLS   Adj. R-squared:                  0.900\n",
       "Method:                 Least Squares   F-statistic:                 2.878e+04\n",
       "Date:                Thu, 09 May 2019   Prob (F-statistic):               0.00\n",
       "Time:                        20:13:49   Log-Likelihood:                -37249.\n",
       "No. Observations:               19083   AIC:                         7.451e+04\n",
       "Df Residuals:                   19077   BIC:                         7.456e+04\n",
       "Df Model:                           6                                         \n",
       "Covariance Type:            nonrobust                                         \n",
       "=======================================================================================\n",
       "                          coef    std err          t      P>|t|      [0.025      0.975]\n",
       "---------------------------------------------------------------------------------------\n",
       "BORO                    0.4372      0.012     37.646      0.000       0.414       0.460\n",
       "Popularity              0.0003   1.74e-05     14.814      0.000       0.000       0.000\n",
       "GRADE                  -1.6106      0.050    -32.499      0.000      -1.708      -1.513\n",
       "SCORE                   0.1539      0.003     55.784      0.000       0.148       0.159\n",
       "Price                   1.3121      0.016     83.276      0.000       1.281       1.343\n",
       "CUISINE DESCRIPTION     0.0127      0.000     26.380      0.000       0.012       0.014\n",
       "==============================================================================\n",
       "Omnibus:                      132.014   Durbin-Watson:                   1.856\n",
       "Prob(Omnibus):                  0.000   Jarque-Bera (JB):              152.143\n",
       "Skew:                          -0.151   Prob(JB):                     9.18e-34\n",
       "Kurtosis:                       3.316   Cond. No.                     3.17e+03\n",
       "==============================================================================\n",
       "\n",
       "Warnings:\n",
       "[1] Standard Errors assume that the covariance matrix of the errors is correctly specified.\n",
       "[2] The condition number is large, 3.17e+03. This might indicate that there are\n",
       "strong multicollinearity or other numerical problems.\n",
       "\"\"\""
      ]
     },
     "execution_count": 92,
     "metadata": {},
     "output_type": "execute_result"
    }
   ],
   "source": [
    "import statsmodels.api as sm # import statsmodels \n",
    "\n",
    "X = se[['BORO', 'Popularity', 'GRADE', 'SCORE', 'Price', 'CUISINE DESCRIPTION']]\n",
    "y = se['Rating'] ## Y usually means our output/dependent variable\n",
    "# X = sm.add_constant(se[['Rating','Popularity', 'Price']]) ## let's add an intercept (beta_0) to our model\n",
    "\n",
    "# Note the difference in argument order\n",
    "model = sm.OLS(y, X).fit() ## sm.OLS(output, input)\n",
    "predictions = model.predict(X)\n",
    "\n",
    "# Print out the statistics\n",
    "model.summary()"
   ]
  },
  {
   "cell_type": "code",
   "execution_count": 93,
   "metadata": {},
   "outputs": [
    {
     "data": {
      "text/html": [
       "<table class=\"simpletable\">\n",
       "<caption>OLS Regression Results</caption>\n",
       "<tr>\n",
       "  <th>Dep. Variable:</th>         <td>Rating</td>      <th>  R-squared:         </th> <td>   0.884</td> \n",
       "</tr>\n",
       "<tr>\n",
       "  <th>Model:</th>                   <td>OLS</td>       <th>  Adj. R-squared:    </th> <td>   0.884</td> \n",
       "</tr>\n",
       "<tr>\n",
       "  <th>Method:</th>             <td>Least Squares</td>  <th>  F-statistic:       </th> <td>3.637e+04</td>\n",
       "</tr>\n",
       "<tr>\n",
       "  <th>Date:</th>             <td>Thu, 09 May 2019</td> <th>  Prob (F-statistic):</th>  <td>  0.00</td>  \n",
       "</tr>\n",
       "<tr>\n",
       "  <th>Time:</th>                 <td>20:13:55</td>     <th>  Log-Likelihood:    </th> <td> -38709.</td> \n",
       "</tr>\n",
       "<tr>\n",
       "  <th>No. Observations:</th>      <td> 19083</td>      <th>  AIC:               </th> <td>7.743e+04</td>\n",
       "</tr>\n",
       "<tr>\n",
       "  <th>Df Residuals:</th>          <td> 19079</td>      <th>  BIC:               </th> <td>7.746e+04</td>\n",
       "</tr>\n",
       "<tr>\n",
       "  <th>Df Model:</th>              <td>     4</td>      <th>                     </th>     <td> </td>    \n",
       "</tr>\n",
       "<tr>\n",
       "  <th>Covariance Type:</th>      <td>nonrobust</td>    <th>                     </th>     <td> </td>    \n",
       "</tr>\n",
       "</table>\n",
       "<table class=\"simpletable\">\n",
       "<tr>\n",
       "           <td></td>              <th>coef</th>     <th>std err</th>      <th>t</th>      <th>P>|t|</th>  <th>[0.025</th>    <th>0.975]</th>  \n",
       "</tr>\n",
       "<tr>\n",
       "  <th>BORO</th>                <td>    0.6364</td> <td>    0.012</td> <td>   53.315</td> <td> 0.000</td> <td>    0.613</td> <td>    0.660</td>\n",
       "</tr>\n",
       "<tr>\n",
       "  <th>Popularity</th>          <td>    0.0003</td> <td> 1.88e-05</td> <td>   14.015</td> <td> 0.000</td> <td>    0.000</td> <td>    0.000</td>\n",
       "</tr>\n",
       "<tr>\n",
       "  <th>Price</th>               <td>    1.7685</td> <td>    0.015</td> <td>  121.396</td> <td> 0.000</td> <td>    1.740</td> <td>    1.797</td>\n",
       "</tr>\n",
       "<tr>\n",
       "  <th>CUISINE DESCRIPTION</th> <td>    0.0186</td> <td>    0.001</td> <td>   36.591</td> <td> 0.000</td> <td>    0.018</td> <td>    0.020</td>\n",
       "</tr>\n",
       "</table>\n",
       "<table class=\"simpletable\">\n",
       "<tr>\n",
       "  <th>Omnibus:</th>       <td>51.466</td> <th>  Durbin-Watson:     </th> <td>   1.836</td>\n",
       "</tr>\n",
       "<tr>\n",
       "  <th>Prob(Omnibus):</th> <td> 0.000</td> <th>  Jarque-Bera (JB):  </th> <td>  51.812</td>\n",
       "</tr>\n",
       "<tr>\n",
       "  <th>Skew:</th>          <td>-0.127</td> <th>  Prob(JB):          </th> <td>5.61e-12</td>\n",
       "</tr>\n",
       "<tr>\n",
       "  <th>Kurtosis:</th>      <td> 3.020</td> <th>  Cond. No.          </th> <td>1.02e+03</td>\n",
       "</tr>\n",
       "</table><br/><br/>Warnings:<br/>[1] Standard Errors assume that the covariance matrix of the errors is correctly specified.<br/>[2] The condition number is large, 1.02e+03. This might indicate that there are<br/>strong multicollinearity or other numerical problems."
      ],
      "text/plain": [
       "<class 'statsmodels.iolib.summary.Summary'>\n",
       "\"\"\"\n",
       "                            OLS Regression Results                            \n",
       "==============================================================================\n",
       "Dep. Variable:                 Rating   R-squared:                       0.884\n",
       "Model:                            OLS   Adj. R-squared:                  0.884\n",
       "Method:                 Least Squares   F-statistic:                 3.637e+04\n",
       "Date:                Thu, 09 May 2019   Prob (F-statistic):               0.00\n",
       "Time:                        20:13:55   Log-Likelihood:                -38709.\n",
       "No. Observations:               19083   AIC:                         7.743e+04\n",
       "Df Residuals:                   19079   BIC:                         7.746e+04\n",
       "Df Model:                           4                                         \n",
       "Covariance Type:            nonrobust                                         \n",
       "=======================================================================================\n",
       "                          coef    std err          t      P>|t|      [0.025      0.975]\n",
       "---------------------------------------------------------------------------------------\n",
       "BORO                    0.6364      0.012     53.315      0.000       0.613       0.660\n",
       "Popularity              0.0003   1.88e-05     14.015      0.000       0.000       0.000\n",
       "Price                   1.7685      0.015    121.396      0.000       1.740       1.797\n",
       "CUISINE DESCRIPTION     0.0186      0.001     36.591      0.000       0.018       0.020\n",
       "==============================================================================\n",
       "Omnibus:                       51.466   Durbin-Watson:                   1.836\n",
       "Prob(Omnibus):                  0.000   Jarque-Bera (JB):               51.812\n",
       "Skew:                          -0.127   Prob(JB):                     5.61e-12\n",
       "Kurtosis:                       3.020   Cond. No.                     1.02e+03\n",
       "==============================================================================\n",
       "\n",
       "Warnings:\n",
       "[1] Standard Errors assume that the covariance matrix of the errors is correctly specified.\n",
       "[2] The condition number is large, 1.02e+03. This might indicate that there are\n",
       "strong multicollinearity or other numerical problems.\n",
       "\"\"\""
      ]
     },
     "execution_count": 93,
     "metadata": {},
     "output_type": "execute_result"
    }
   ],
   "source": [
    "import statsmodels.api as sm # import statsmodels \n",
    "\n",
    "X = se[['BORO', 'Popularity', 'Price', 'CUISINE DESCRIPTION']]\n",
    "y = se['Rating'] ## Y usually means our output/dependent variable\n",
    "# X = sm.add_constant(se[['Rating','Popularity', 'Price']]) ## let's add an intercept (beta_0) to our model\n",
    "\n",
    "# Note the difference in argument order\n",
    "model = sm.OLS(y, X).fit() ## sm.OLS(output, input)\n",
    "predictions = model.predict(X)\n",
    "\n",
    "# Print out the statistics\n",
    "model.summary()"
   ]
  },
  {
   "cell_type": "code",
   "execution_count": 63,
   "metadata": {},
   "outputs": [
    {
     "data": {
      "text/html": [
       "<table class=\"simpletable\">\n",
       "<caption>OLS Regression Results</caption>\n",
       "<tr>\n",
       "  <th>Dep. Variable:</th>         <td>Rating</td>      <th>  R-squared:         </th> <td>   0.851</td> \n",
       "</tr>\n",
       "<tr>\n",
       "  <th>Model:</th>                   <td>OLS</td>       <th>  Adj. R-squared:    </th> <td>   0.851</td> \n",
       "</tr>\n",
       "<tr>\n",
       "  <th>Method:</th>             <td>Least Squares</td>  <th>  F-statistic:       </th> <td>5.460e+04</td>\n",
       "</tr>\n",
       "<tr>\n",
       "  <th>Date:</th>             <td>Thu, 09 May 2019</td> <th>  Prob (F-statistic):</th>  <td>  0.00</td>  \n",
       "</tr>\n",
       "<tr>\n",
       "  <th>Time:</th>                 <td>20:12:55</td>     <th>  Log-Likelihood:    </th> <td> -41087.</td> \n",
       "</tr>\n",
       "<tr>\n",
       "  <th>No. Observations:</th>      <td> 19083</td>      <th>  AIC:               </th> <td>8.218e+04</td>\n",
       "</tr>\n",
       "<tr>\n",
       "  <th>Df Residuals:</th>          <td> 19081</td>      <th>  BIC:               </th> <td>8.219e+04</td>\n",
       "</tr>\n",
       "<tr>\n",
       "  <th>Df Model:</th>              <td>     2</td>      <th>                     </th>     <td> </td>    \n",
       "</tr>\n",
       "<tr>\n",
       "  <th>Covariance Type:</th>      <td>nonrobust</td>    <th>                     </th>     <td> </td>    \n",
       "</tr>\n",
       "</table>\n",
       "<table class=\"simpletable\">\n",
       "<tr>\n",
       "       <td></td>         <th>coef</th>     <th>std err</th>      <th>t</th>      <th>P>|t|</th>  <th>[0.025</th>    <th>0.975]</th>  \n",
       "</tr>\n",
       "<tr>\n",
       "  <th>Popularity</th> <td>    0.0003</td> <td> 2.13e-05</td> <td>   11.920</td> <td> 0.000</td> <td>    0.000</td> <td>    0.000</td>\n",
       "</tr>\n",
       "<tr>\n",
       "  <th>Price</th>      <td>    2.6593</td> <td>    0.009</td> <td>  293.488</td> <td> 0.000</td> <td>    2.642</td> <td>    2.677</td>\n",
       "</tr>\n",
       "</table>\n",
       "<table class=\"simpletable\">\n",
       "<tr>\n",
       "  <th>Omnibus:</th>       <td>332.800</td> <th>  Durbin-Watson:     </th> <td>   1.784</td>\n",
       "</tr>\n",
       "<tr>\n",
       "  <th>Prob(Omnibus):</th> <td> 0.000</td>  <th>  Jarque-Bera (JB):  </th> <td> 377.532</td>\n",
       "</tr>\n",
       "<tr>\n",
       "  <th>Skew:</th>          <td>-0.283</td>  <th>  Prob(JB):          </th> <td>1.05e-82</td>\n",
       "</tr>\n",
       "<tr>\n",
       "  <th>Kurtosis:</th>      <td> 3.392</td>  <th>  Cond. No.          </th> <td>    472.</td>\n",
       "</tr>\n",
       "</table><br/><br/>Warnings:<br/>[1] Standard Errors assume that the covariance matrix of the errors is correctly specified."
      ],
      "text/plain": [
       "<class 'statsmodels.iolib.summary.Summary'>\n",
       "\"\"\"\n",
       "                            OLS Regression Results                            \n",
       "==============================================================================\n",
       "Dep. Variable:                 Rating   R-squared:                       0.851\n",
       "Model:                            OLS   Adj. R-squared:                  0.851\n",
       "Method:                 Least Squares   F-statistic:                 5.460e+04\n",
       "Date:                Thu, 09 May 2019   Prob (F-statistic):               0.00\n",
       "Time:                        20:12:55   Log-Likelihood:                -41087.\n",
       "No. Observations:               19083   AIC:                         8.218e+04\n",
       "Df Residuals:                   19081   BIC:                         8.219e+04\n",
       "Df Model:                           2                                         \n",
       "Covariance Type:            nonrobust                                         \n",
       "==============================================================================\n",
       "                 coef    std err          t      P>|t|      [0.025      0.975]\n",
       "------------------------------------------------------------------------------\n",
       "Popularity     0.0003   2.13e-05     11.920      0.000       0.000       0.000\n",
       "Price          2.6593      0.009    293.488      0.000       2.642       2.677\n",
       "==============================================================================\n",
       "Omnibus:                      332.800   Durbin-Watson:                   1.784\n",
       "Prob(Omnibus):                  0.000   Jarque-Bera (JB):              377.532\n",
       "Skew:                          -0.283   Prob(JB):                     1.05e-82\n",
       "Kurtosis:                       3.392   Cond. No.                         472.\n",
       "==============================================================================\n",
       "\n",
       "Warnings:\n",
       "[1] Standard Errors assume that the covariance matrix of the errors is correctly specified.\n",
       "\"\"\""
      ]
     },
     "execution_count": 63,
     "metadata": {},
     "output_type": "execute_result"
    }
   ],
   "source": [
    "X = se[['Popularity', 'Price']]\n",
    "y = se['Rating']\n",
    "model = sm.OLS(y, X).fit()\n",
    "predictions = model.predict(X)\n",
    "model.summary()"
   ]
  },
  {
   "cell_type": "markdown",
   "metadata": {},
   "source": [
    "## One Hot Encoding"
   ]
  },
  {
   "cell_type": "code",
   "execution_count": 64,
   "metadata": {},
   "outputs": [],
   "source": [
    "# dummying the object columns\n",
    "descrip = pd.get_dummies(selected['CUISINE DESCRIPTION'],drop_first=True)\n",
    "boro = pd.get_dummies(selected['BORO'],drop_first=True)\n",
    "grade = pd.get_dummies(selected['GRADE'],drop_first=True)"
   ]
  },
  {
   "cell_type": "markdown",
   "metadata": {},
   "source": [
    "**From 2018-07-24, Yelp placed health inspection scores directly on a restaurant’s page on the user-generated review site.**"
   ]
  },
  {
   "cell_type": "code",
   "execution_count": 65,
   "metadata": {},
   "outputs": [
    {
     "name": "stdout",
     "output_type": "stream",
     "text": [
      "<class 'pandas.core.frame.DataFrame'>\n",
      "Int64Index: 19089 entries, 30075445 to 50090040\n",
      "Data columns (total 9 columns):\n",
      "Rating                 19089 non-null float64\n",
      "Popularity             19089 non-null int64\n",
      "Price                  19089 non-null int64\n",
      "CUISINE DESCRIPTION    19089 non-null object\n",
      "BORO                   19089 non-null object\n",
      "SCORE                  19089 non-null int64\n",
      "GRADE                  19089 non-null object\n",
      "VIO_COUNT              19089 non-null int64\n",
      "CRITICAL_COUNT         19089 non-null int64\n",
      "dtypes: float64(1), int64(5), object(3)\n",
      "memory usage: 1.5+ MB\n"
     ]
    }
   ],
   "source": [
    "selected.info()"
   ]
  },
  {
   "cell_type": "code",
   "execution_count": 66,
   "metadata": {},
   "outputs": [
    {
     "data": {
      "text/plain": [
       "Index(['Rating', 'Popularity', 'Price', 'SCORE'], dtype='object')"
      ]
     },
     "execution_count": 66,
     "metadata": {},
     "output_type": "execute_result"
    }
   ],
   "source": [
    "# drop the rest of the columns which are not needed.\n",
    "selected_ = selected.drop(['CUISINE DESCRIPTION','BORO','GRADE', 'GRADE', 'VIO_COUNT',\n",
    "       'CRITICAL_COUNT'],axis=1)\n",
    "selected_.columns"
   ]
  },
  {
   "cell_type": "code",
   "execution_count": 67,
   "metadata": {},
   "outputs": [],
   "source": [
    "# concatenate the new categorical columns to the dataframe\n",
    "X = pd.concat([selected_, descrip, boro, grade],axis=1)"
   ]
  },
  {
   "cell_type": "code",
   "execution_count": 68,
   "metadata": {},
   "outputs": [
    {
     "data": {
      "text/plain": [
       "40    6717\n",
       "35    4913\n",
       "45    2621\n",
       "30    2288\n",
       "25    1213\n",
       "20     783\n",
       "15     276\n",
       "50     206\n",
       "10      72\n",
       "Name: Rating, dtype: int64"
      ]
     },
     "execution_count": 68,
     "metadata": {},
     "output_type": "execute_result"
    }
   ],
   "source": [
    "X['Rating'] = X['Rating'].apply(lambda x: x*10)\n",
    "\n",
    "X['Rating'] = X['Rating'].astype(int)\n",
    "X['Rating'].value_counts()"
   ]
  },
  {
   "cell_type": "code",
   "execution_count": 69,
   "metadata": {},
   "outputs": [],
   "source": [
    "Y = X['Rating'].values"
   ]
  },
  {
   "cell_type": "markdown",
   "metadata": {},
   "source": [
    "### Test Train Split"
   ]
  },
  {
   "cell_type": "code",
   "execution_count": 70,
   "metadata": {},
   "outputs": [],
   "source": [
    "X_train, X_test, Y_train, Y_test = train_test_split(X, Y, test_size=0.25)"
   ]
  },
  {
   "cell_type": "markdown",
   "metadata": {},
   "source": [
    "### Training and Predicting"
   ]
  },
  {
   "cell_type": "code",
   "execution_count": 71,
   "metadata": {},
   "outputs": [
    {
     "name": "stderr",
     "output_type": "stream",
     "text": [
      "/usr/local/lib/python3.7/site-packages/sklearn/linear_model/logistic.py:433: FutureWarning: Default solver will be changed to 'lbfgs' in 0.22. Specify a solver to silence this warning.\n",
      "  FutureWarning)\n",
      "/usr/local/lib/python3.7/site-packages/sklearn/linear_model/logistic.py:460: FutureWarning: Default multi_class will be changed to 'auto' in 0.22. Specify the multi_class option to silence this warning.\n",
      "  \"this warning.\", FutureWarning)\n"
     ]
    },
    {
     "data": {
      "text/plain": [
       "LogisticRegression(C=1.0, class_weight=None, dual=False, fit_intercept=True,\n",
       "          intercept_scaling=1, max_iter=100, multi_class='warn',\n",
       "          n_jobs=None, penalty='l2', random_state=None, solver='warn',\n",
       "          tol=0.0001, verbose=0, warm_start=False)"
      ]
     },
     "execution_count": 71,
     "metadata": {},
     "output_type": "execute_result"
    }
   ],
   "source": [
    "lr = LogisticRegression()\n",
    "lr.fit(X_train, Y_train)"
   ]
  },
  {
   "cell_type": "code",
   "execution_count": 72,
   "metadata": {},
   "outputs": [],
   "source": [
    "test_prediction = lr.predict(X_test)"
   ]
  },
  {
   "cell_type": "markdown",
   "metadata": {},
   "source": [
    "### Evaluation"
   ]
  },
  {
   "cell_type": "code",
   "execution_count": 73,
   "metadata": {},
   "outputs": [
    {
     "name": "stdout",
     "output_type": "stream",
     "text": [
      "0.6314686779803059\n"
     ]
    }
   ],
   "source": [
    "print(metrics.accuracy_score(Y_test, test_prediction))"
   ]
  },
  {
   "cell_type": "code",
   "execution_count": 74,
   "metadata": {},
   "outputs": [
    {
     "name": "stdout",
     "output_type": "stream",
     "text": [
      "              precision    recall  f1-score   support\n",
      "\n",
      "          10       1.00      0.12      0.22        16\n",
      "          15       0.85      0.32      0.47        71\n",
      "          20       0.61      0.49      0.55       200\n",
      "          25       0.48      0.09      0.15       300\n",
      "          30       0.14      0.06      0.09       553\n",
      "          35       0.52      0.53      0.52      1300\n",
      "          40       0.68      0.99      0.81      1633\n",
      "          45       0.91      0.79      0.84       649\n",
      "          50       0.00      0.00      0.00        51\n",
      "\n",
      "   micro avg       0.63      0.63      0.63      4773\n",
      "   macro avg       0.58      0.38      0.41      4773\n",
      "weighted avg       0.59      0.63      0.59      4773\n",
      "\n"
     ]
    },
    {
     "name": "stderr",
     "output_type": "stream",
     "text": [
      "/usr/local/lib/python3.7/site-packages/sklearn/metrics/classification.py:1143: UndefinedMetricWarning: Precision and F-score are ill-defined and being set to 0.0 in labels with no predicted samples.\n",
      "  'precision', 'predicted', average, warn_for)\n",
      "/usr/local/lib/python3.7/site-packages/sklearn/metrics/classification.py:1143: UndefinedMetricWarning: Precision and F-score are ill-defined and being set to 0.0 in labels with no predicted samples.\n",
      "  'precision', 'predicted', average, warn_for)\n",
      "/usr/local/lib/python3.7/site-packages/sklearn/metrics/classification.py:1143: UndefinedMetricWarning: Precision and F-score are ill-defined and being set to 0.0 in labels with no predicted samples.\n",
      "  'precision', 'predicted', average, warn_for)\n"
     ]
    }
   ],
   "source": [
    "print(classification_report(Y_test, test_prediction))"
   ]
  },
  {
   "cell_type": "code",
   "execution_count": 75,
   "metadata": {},
   "outputs": [
    {
     "data": {
      "text/plain": [
       "Hamburgers                                                          1.428728e+00\n",
       "Sandwiches                                                          1.344970e+00\n",
       "Pizza                                                               1.205721e+00\n",
       "Price                                                               1.198367e+00\n",
       "Sandwiches/Salads/Mixed Buffet                                      7.091349e-01\n",
       "Bagels/Pretzels                                                     5.738876e-01\n",
       "Delicatessen                                                        4.649873e-01\n",
       "American                                                            4.173809e-01\n",
       "Bakery                                                              2.400709e-01\n",
       "QUEENS                                                              1.948310e-01\n",
       "SCORE                                                               1.632156e-01\n",
       "Latin (Cuban, Dominican, Puerto Rican, South & Central American)    1.362270e-01\n",
       "BROOKLYN                                                            1.319809e-01\n",
       "MANHATTAN                                                           1.298518e-01\n",
       "Chinese                                                             1.000342e-01\n",
       "Iranian                                                             0.000000e+00\n",
       "Czech                                                              -2.450270e-10\n",
       "Scandinavian                                                       -3.683034e-10\n",
       "Cajun                                                              -3.245067e-09\n",
       "Southwestern                                                       -2.613169e-08\n",
       "Soups                                                              -1.045479e-07\n",
       "Australian                                                         -3.154104e-07\n",
       "Ethiopian                                                          -4.160656e-07\n",
       "Brazilian                                                          -7.823525e-07\n",
       "Indonesian                                                         -1.149979e-06\n",
       "English                                                            -1.286719e-06\n",
       "Chilean                                                            -1.503718e-06\n",
       "Portuguese                                                         -1.818964e-06\n",
       "Nuts/Confectionary                                                 -2.878900e-06\n",
       "Armenian                                                           -4.516283e-06\n",
       "                                                                        ...     \n",
       "Creole                                                             -1.387779e-03\n",
       "Pancakes/Waffles                                                   -1.676692e-03\n",
       "Italian                                                            -1.700323e-03\n",
       "Soups & Sandwiches                                                 -1.956767e-03\n",
       "Continental                                                        -2.049080e-03\n",
       "French                                                             -2.364847e-03\n",
       "Mediterranean                                                      -2.546131e-03\n",
       "Korean                                                             -3.081800e-03\n",
       "Chinese/Japanese                                                   -5.604911e-03\n",
       "Indian                                                             -1.442449e-02\n",
       "Other                                                              -1.536061e-02\n",
       "Popularity                                                         -1.551704e-02\n",
       "Soul Food                                                          -1.670233e-02\n",
       "Tex-Mex                                                            -1.988267e-02\n",
       "Juice, Smoothies, Fruit Salads                                     -3.051593e-02\n",
       "Ice Cream, Gelato, Yogurt, Ices                                    -3.400638e-02\n",
       "Japanese                                                           -3.871960e-02\n",
       "Chicken                                                            -4.406328e-02\n",
       "Mexican                                                            -4.815420e-02\n",
       "Pizza/Italian                                                      -5.548755e-02\n",
       "STATEN ISLAND                                                      -6.001332e-02\n",
       "Jewish/Kosher                                                      -7.486633e-02\n",
       "Asian                                                              -8.729424e-02\n",
       "Spanish                                                            -9.698985e-02\n",
       "CafÃ©/Coffee/Tea                                                   -1.687106e-01\n",
       "B                                                                  -2.412688e-01\n",
       "Donuts                                                             -3.033595e-01\n",
       "Caribbean                                                          -3.715793e-01\n",
       "C                                                                  -5.767479e-01\n",
       "Rating                                                             -7.730751e-01\n",
       "Length: 94, dtype: float64"
      ]
     },
     "execution_count": 75,
     "metadata": {},
     "output_type": "execute_result"
    }
   ],
   "source": [
    "weights = pd.Series(lr.coef_[0], index=X.columns.values)\n",
    "weights.sort_values(ascending = False)"
   ]
  },
  {
   "cell_type": "code",
   "execution_count": 76,
   "metadata": {
    "scrolled": true
   },
   "outputs": [
    {
     "data": {
      "image/png": "[encoded data removed]",
      "text/plain": [
       "<Figure size 720x432 with 1 Axes>"
      ]
     },
     "metadata": {
      "needs_background": "light"
     },
     "output_type": "display_data"
    }
   ],
   "source": [
    "%matplotlib inline\n",
    "plt.figure(figsize=(10,6))\n",
    "weights.nlargest(10).plot(kind='barh').invert_yaxis()"
   ]
  },
  {
   "cell_type": "code",
   "execution_count": 77,
   "metadata": {},
   "outputs": [],
   "source": [
    "# from sklearn.metrics import roc_auc_score\n",
    "# roc=roc_auc_score(Y_test, lr.predict_proba(X_test)[:,1])"
   ]
  },
  {
   "cell_type": "markdown",
   "metadata": {},
   "source": [
    "### Logistic Regression without Inspection Features"
   ]
  },
  {
   "cell_type": "code",
   "execution_count": 78,
   "metadata": {},
   "outputs": [
    {
     "data": {
      "text/plain": [
       "Index(['Rating', 'Popularity', 'Price'], dtype='object')"
      ]
     },
     "execution_count": 78,
     "metadata": {},
     "output_type": "execute_result"
    }
   ],
   "source": [
    "# not contain Inspection feature\n",
    "selected2_ = selected.drop(['CUISINE DESCRIPTION','BORO','GRADE','VIO_COUNT','SCORE','CRITICAL_COUNT'],axis=1)\n",
    "selected2_.columns"
   ]
  },
  {
   "cell_type": "code",
   "execution_count": 79,
   "metadata": {},
   "outputs": [],
   "source": [
    "X2 = pd.concat([selected2_, descrip, boro],axis=1)"
   ]
  },
  {
   "cell_type": "code",
   "execution_count": 80,
   "metadata": {},
   "outputs": [],
   "source": [
    "X2['Rating'] = X2['Rating'].apply(lambda x: x*10)\n",
    "\n",
    "X2['Rating'] = X2['Rating'].astype(int)\n",
    "X2['Rating'].value_counts()\n",
    "Y2 = X2['Rating'].values"
   ]
  },
  {
   "cell_type": "code",
   "execution_count": 81,
   "metadata": {},
   "outputs": [],
   "source": [
    "X_train2, X_test2, Y_train2, Y_test2 = train_test_split(X2, Y2, test_size=0.25)"
   ]
  },
  {
   "cell_type": "code",
   "execution_count": 82,
   "metadata": {},
   "outputs": [
    {
     "name": "stderr",
     "output_type": "stream",
     "text": [
      "/usr/local/lib/python3.7/site-packages/sklearn/linear_model/logistic.py:433: FutureWarning: Default solver will be changed to 'lbfgs' in 0.22. Specify a solver to silence this warning.\n",
      "  FutureWarning)\n",
      "/usr/local/lib/python3.7/site-packages/sklearn/linear_model/logistic.py:460: FutureWarning: Default multi_class will be changed to 'auto' in 0.22. Specify the multi_class option to silence this warning.\n",
      "  \"this warning.\", FutureWarning)\n"
     ]
    },
    {
     "data": {
      "text/plain": [
       "LogisticRegression(C=1.0, class_weight=None, dual=False, fit_intercept=True,\n",
       "          intercept_scaling=1, max_iter=100, multi_class='warn',\n",
       "          n_jobs=None, penalty='l2', random_state=None, solver='warn',\n",
       "          tol=0.0001, verbose=0, warm_start=False)"
      ]
     },
     "execution_count": 82,
     "metadata": {},
     "output_type": "execute_result"
    }
   ],
   "source": [
    "lr2 = LogisticRegression()\n",
    "lr2.fit(X_train2, Y_train2)"
   ]
  },
  {
   "cell_type": "code",
   "execution_count": 83,
   "metadata": {},
   "outputs": [],
   "source": [
    "test_prediction2 = lr2.predict(X_test2)"
   ]
  },
  {
   "cell_type": "code",
   "execution_count": 84,
   "metadata": {},
   "outputs": [
    {
     "name": "stdout",
     "output_type": "stream",
     "text": [
      "0.6559815629583071\n"
     ]
    }
   ],
   "source": [
    "print(metrics.accuracy_score(Y_test2, test_prediction2)) # slightly higher than the previous model"
   ]
  },
  {
   "cell_type": "code",
   "execution_count": 85,
   "metadata": {
    "scrolled": true
   },
   "outputs": [
    {
     "name": "stdout",
     "output_type": "stream",
     "text": [
      "              precision    recall  f1-score   support\n",
      "\n",
      "          10       1.00      0.06      0.11        17\n",
      "          15       0.81      0.33      0.47        66\n",
      "          20       0.63      0.48      0.55       187\n",
      "          25       0.45      0.12      0.19       280\n",
      "          30       0.12      0.04      0.06       580\n",
      "          35       0.52      0.60      0.56      1218\n",
      "          40       0.73      1.00      0.84      1705\n",
      "          45       0.90      0.80      0.84       660\n",
      "          50       0.00      0.00      0.00        60\n",
      "\n",
      "   micro avg       0.66      0.66      0.66      4773\n",
      "   macro avg       0.57      0.38      0.40      4773\n",
      "weighted avg       0.60      0.66      0.61      4773\n",
      "\n"
     ]
    },
    {
     "name": "stderr",
     "output_type": "stream",
     "text": [
      "/usr/local/lib/python3.7/site-packages/sklearn/metrics/classification.py:1143: UndefinedMetricWarning: Precision and F-score are ill-defined and being set to 0.0 in labels with no predicted samples.\n",
      "  'precision', 'predicted', average, warn_for)\n",
      "/usr/local/lib/python3.7/site-packages/sklearn/metrics/classification.py:1143: UndefinedMetricWarning: Precision and F-score are ill-defined and being set to 0.0 in labels with no predicted samples.\n",
      "  'precision', 'predicted', average, warn_for)\n",
      "/usr/local/lib/python3.7/site-packages/sklearn/metrics/classification.py:1143: UndefinedMetricWarning: Precision and F-score are ill-defined and being set to 0.0 in labels with no predicted samples.\n",
      "  'precision', 'predicted', average, warn_for)\n"
     ]
    }
   ],
   "source": [
    "print(classification_report(Y_test2, test_prediction2))"
   ]
  },
  {
   "cell_type": "code",
   "execution_count": 86,
   "metadata": {
    "scrolled": true
   },
   "outputs": [
    {
     "data": {
      "text/plain": [
       "Hamburgers                                                          1.315883e+00\n",
       "Sandwiches                                                          1.268862e+00\n",
       "Pizza                                                               1.099560e+00\n",
       "Price                                                               1.032879e+00\n",
       "Sandwiches/Salads/Mixed Buffet                                      7.665978e-01\n",
       "American                                                            7.487077e-01\n",
       "Delicatessen                                                        5.157747e-01\n",
       "Chinese                                                             5.012380e-01\n",
       "Bakery                                                              4.824062e-01\n",
       "Bagels/Pretzels                                                     3.717178e-01\n",
       "QUEENS                                                              3.351717e-01\n",
       "Latin (Cuban, Dominican, Puerto Rican, South & Central American)    2.203296e-01\n",
       "MANHATTAN                                                           7.695059e-02\n",
       "BROOKLYN                                                            4.385050e-02\n",
       "Chicken                                                             2.089613e-02\n",
       "Southwestern                                                        1.155274e-08\n",
       "Czech                                                               4.157648e-10\n",
       "Chilean                                                             0.000000e+00\n",
       "Cajun                                                              -3.588545e-08\n",
       "Scandinavian                                                       -2.182126e-06\n",
       "Australian                                                         -2.413937e-06\n",
       "Brazilian                                                          -2.702042e-06\n",
       "Ethiopian                                                          -3.065980e-06\n",
       "English                                                            -4.105885e-06\n",
       "Moroccan                                                           -4.622268e-06\n",
       "Nuts/Confectionary                                                 -4.657595e-06\n",
       "Indonesian                                                         -5.031393e-06\n",
       "Portuguese                                                         -5.768985e-06\n",
       "Not Listed/Not Applicable                                          -7.743242e-06\n",
       "Soups                                                              -8.078059e-06\n",
       "                                                                        ...     \n",
       "German                                                             -1.066160e-03\n",
       "Creole                                                             -1.164222e-03\n",
       "Bangladeshi                                                        -1.409808e-03\n",
       "Indian                                                             -1.622665e-03\n",
       "Pancakes/Waffles                                                   -1.720264e-03\n",
       "Soups & Sandwiches                                                 -2.235462e-03\n",
       "Continental                                                        -2.356642e-03\n",
       "French                                                             -3.097515e-03\n",
       "Italian                                                            -3.322352e-03\n",
       "Chinese/Japanese                                                   -4.221936e-03\n",
       "Korean                                                             -4.645410e-03\n",
       "Mediterranean                                                      -5.126506e-03\n",
       "Popularity                                                         -1.118884e-02\n",
       "Other                                                              -1.453501e-02\n",
       "Tex-Mex                                                            -1.477624e-02\n",
       "Juice, Smoothies, Fruit Salads                                     -2.207029e-02\n",
       "Russian                                                            -2.755099e-02\n",
       "Japanese                                                           -3.275287e-02\n",
       "Ice Cream, Gelato, Yogurt, Ices                                    -5.465099e-02\n",
       "Spanish                                                            -5.648720e-02\n",
       "Bottled beverages, including water, sodas, juices, etc.            -6.218029e-02\n",
       "Mexican                                                            -6.222352e-02\n",
       "Asian                                                              -6.286363e-02\n",
       "Pizza/Italian                                                      -7.978945e-02\n",
       "Jewish/Kosher                                                      -8.936937e-02\n",
       "CafÃ©/Coffee/Tea                                                   -1.849650e-01\n",
       "STATEN ISLAND                                                      -2.301076e-01\n",
       "Caribbean                                                          -2.634717e-01\n",
       "Donuts                                                             -3.761916e-01\n",
       "Rating                                                             -7.074941e-01\n",
       "Length: 90, dtype: float64"
      ]
     },
     "execution_count": 86,
     "metadata": {},
     "output_type": "execute_result"
    }
   ],
   "source": [
    "weights = pd.Series(lr2.coef_[0], index=X2.columns.values)\n",
    "weights.sort_values(ascending = False)"
   ]
  },
  {
   "cell_type": "code",
   "execution_count": 87,
   "metadata": {
    "scrolled": true
   },
   "outputs": [
    {
     "data": {
      "image/png": "[encoded data removed]",
      "text/plain": [
       "<Figure size 720x432 with 1 Axes>"
      ]
     },
     "metadata": {
      "needs_background": "light"
     },
     "output_type": "display_data"
    }
   ],
   "source": [
    "%matplotlib inline\n",
    "plt.figure(figsize=(10,6))\n",
    "weights.nlargest(10).plot(kind='barh').invert_yaxis()"
   ]
  },
  {
   "cell_type": "markdown",
   "metadata": {},
   "source": [
    "### Heat Maps"
   ]
  },
  {
   "cell_type": "code",
   "execution_count": 88,
   "metadata": {},
   "outputs": [
    {
     "data": {
      "text/plain": [
       "4.0    6717\n",
       "3.5    4913\n",
       "4.5    2621\n",
       "3.0    2288\n",
       "2.5    1213\n",
       "2.0     783\n",
       "1.5     276\n",
       "5.0     206\n",
       "1.0      72\n",
       "Name: Rating, dtype: int64"
      ]
     },
     "execution_count": 88,
     "metadata": {},
     "output_type": "execute_result"
    }
   ],
   "source": [
    "data['Rating'].value_counts()"
   ]
  },
  {
   "cell_type": "markdown",
   "metadata": {},
   "source": [
    "### High yelp rating restaurnats, over 4.0\n"
   ]
  },
  {
   "cell_type": "code",
   "execution_count": 89,
   "metadata": {},
   "outputs": [],
   "source": [
    "df_rating4 = data.loc[(data['Rating'] >= 40)]"
   ]
  },
  {
   "cell_type": "code",
   "execution_count": 90,
   "metadata": {},
   "outputs": [
    {
     "ename": "ModuleNotFoundError",
     "evalue": "No module named 'folium'",
     "output_type": "error",
     "traceback": [
      "\u001b[0;31m---------------------------------------------------------------------------\u001b[0m",
      "\u001b[0;31mModuleNotFoundError\u001b[0m                       Traceback (most recent call last)",
      "\u001b[0;32m<ipython-input-90-0f32e661d8af>\u001b[0m in \u001b[0;36m<module>\u001b[0;34m\u001b[0m\n\u001b[0;32m----> 1\u001b[0;31m \u001b[0;32mimport\u001b[0m \u001b[0mfolium\u001b[0m\u001b[0;34m\u001b[0m\u001b[0;34m\u001b[0m\u001b[0m\n\u001b[0m\u001b[1;32m      2\u001b[0m \u001b[0;32mfrom\u001b[0m \u001b[0mfolium\u001b[0m\u001b[0;34m.\u001b[0m\u001b[0mplugins\u001b[0m \u001b[0;32mimport\u001b[0m \u001b[0mFastMarkerCluster\u001b[0m\u001b[0;34m\u001b[0m\u001b[0;34m\u001b[0m\u001b[0m\n\u001b[1;32m      3\u001b[0m \u001b[0;32mfrom\u001b[0m \u001b[0mfolium\u001b[0m\u001b[0;34m.\u001b[0m\u001b[0mplugins\u001b[0m \u001b[0;32mimport\u001b[0m \u001b[0mMarkerCluster\u001b[0m\u001b[0;34m\u001b[0m\u001b[0;34m\u001b[0m\u001b[0m\n\u001b[1;32m      4\u001b[0m \u001b[0;32mfrom\u001b[0m \u001b[0msklearn\u001b[0m\u001b[0;34m.\u001b[0m\u001b[0mcluster\u001b[0m \u001b[0;32mimport\u001b[0m \u001b[0mDBSCAN\u001b[0m\u001b[0;34m\u001b[0m\u001b[0;34m\u001b[0m\u001b[0m\n\u001b[1;32m      5\u001b[0m \u001b[0;32mfrom\u001b[0m \u001b[0mfolium\u001b[0m\u001b[0;34m.\u001b[0m\u001b[0mplugins\u001b[0m \u001b[0;32mimport\u001b[0m \u001b[0mHeatMap\u001b[0m\u001b[0;34m\u001b[0m\u001b[0;34m\u001b[0m\u001b[0m\n",
      "\u001b[0;31mModuleNotFoundError\u001b[0m: No module named 'folium'"
     ]
    }
   ],
   "source": [
    "import folium\n",
    "from folium.plugins import FastMarkerCluster\n",
    "from folium.plugins import MarkerCluster\n",
    "from sklearn.cluster import DBSCAN\n",
    "from folium.plugins import HeatMap\n"
   ]
  },
  {
   "cell_type": "code",
   "execution_count": null,
   "metadata": {},
   "outputs": [],
   "source": [
    "NYmap = folium.Map(location=[40.7128,-74.0060],zoom_start=10)\n",
    "heatmap_data = [[row['Latitude'],row['Longitude']] for index, row in df_rating4.iterrows()]\n",
    "HeatMap(heatmap_data, radius=5, blur=5).add_to(NYmap)\n",
    "NYmap"
   ]
  },
  {
   "cell_type": "markdown",
   "metadata": {},
   "source": [
    "### Cleanest Restaruant "
   ]
  },
  {
   "cell_type": "code",
   "execution_count": null,
   "metadata": {},
   "outputs": [],
   "source": [
    "data.info()"
   ]
  },
  {
   "cell_type": "code",
   "execution_count": null,
   "metadata": {},
   "outputs": [],
   "source": [
    "data['GRADE'].value_counts()"
   ]
  },
  {
   "cell_type": "code",
   "execution_count": null,
   "metadata": {},
   "outputs": [],
   "source": [
    "df_clean = data.loc[(data['VIO_COUNT'] <= 1) & (data['CRITICAL_COUNT'] == 0) \n",
    "                    &(data['GRADE'] == 'A') ] # check VIO_Count and Critical Count "
   ]
  },
  {
   "cell_type": "code",
   "execution_count": null,
   "metadata": {},
   "outputs": [],
   "source": [
    "df_clean['GRADE'].value_counts()"
   ]
  },
  {
   "cell_type": "code",
   "execution_count": null,
   "metadata": {},
   "outputs": [],
   "source": [
    "NYmap = folium.Map(location=[40.7128,-74.0060],zoom_start=10)\n",
    "heatmap_data = [[row['Latitude'],row['Longitude']] for index, row in df_clean.iterrows()]\n",
    "HeatMap(heatmap_data, radius=5, blur=5).add_to(NYmap)\n",
    "NYmap"
   ]
  },
  {
   "cell_type": "code",
   "execution_count": null,
   "metadata": {},
   "outputs": [],
   "source": [
    "df_clean['BORO'].value_counts()"
   ]
  },
  {
   "cell_type": "code",
   "execution_count": null,
   "metadata": {},
   "outputs": [],
   "source": [
    "df_clean['BORO'].value_counts().plot(kind='bar') # To Do: to percentage"
   ]
  },
  {
   "cell_type": "code",
   "execution_count": null,
   "metadata": {},
   "outputs": [],
   "source": [
    "# Percentage of clean restaurants in in each Boro\n",
    "\n",
    "print(\"MANHATTAN:\")\n",
    "print(len(df_clean[df_clean['BORO'] == 'MANHATTAN' ].index)/len(data[data['BORO'] == 'MANHATTAN'].index)*100)\n",
    "print(\"BROOKLYN:\")\n",
    "print(len(df_clean[df_clean['BORO'] == 'BROOKLYN' ].index)/len(data[data['BORO'] == 'BROOKLYN'].index)*100)\n",
    "print(\"QUEENS:\")\n",
    "print(len(df_clean[df_clean['BORO'] == 'QUEENS' ].index)/len(data[data['BORO'] == 'QUEENS'].index)*100)\n",
    "print(\"BRONX:\")\n",
    "print(len(df_clean[df_clean['BORO'] == 'BRONX' ].index)/len(data[data['BORO'] == 'BRONX'].index)*100)\n",
    "print(\"STATEN ISLAND:\")\n",
    "print(len(df_clean[df_clean['BORO'] == 'STATEN ISLAND' ].index)/len(data[data['BORO'] == 'STATEN ISLAND'].index)*100)\n",
    "\n",
    "# May need visualization? "
   ]
  },
  {
   "cell_type": "code",
   "execution_count": null,
   "metadata": {},
   "outputs": [],
   "source": [
    "df_clean.groupby(['BORO']).size()\n"
   ]
  },
  {
   "cell_type": "markdown",
   "metadata": {},
   "source": [
    "### Check-in most restaurant"
   ]
  },
  {
   "cell_type": "code",
   "execution_count": null,
   "metadata": {
    "scrolled": true
   },
   "outputs": [],
   "source": [
    "# Popularity over 500 ?\n",
    "df_pop = data.loc[(data['Popularity'] >= 500)]\n",
    "df_pop.info()"
   ]
  },
  {
   "cell_type": "code",
   "execution_count": null,
   "metadata": {
    "scrolled": true
   },
   "outputs": [],
   "source": [
    "NYmap = folium.Map(location=[40.7128,-74.0060],zoom_start=10)\n",
    "heatmap_data = [[row['Latitude'],row['Longitude']] for index, row in df_pop.iterrows()]\n",
    "HeatMap(heatmap_data, radius=5, blur=5).add_to(NYmap)\n",
    "NYmap"
   ]
  },
  {
   "cell_type": "code",
   "execution_count": null,
   "metadata": {},
   "outputs": [],
   "source": []
  }
 ],
 "metadata": {
  "kernelspec": {
   "display_name": "Python 3",
   "language": "python",
   "name": "python3"
  },
  "language_info": {
   "codemirror_mode": {
    "name": "ipython",
    "version": 3
   },
   "file_extension": ".py",
   "mimetype": "text/x-python",
   "name": "python",
   "nbconvert_exporter": "python",
   "pygments_lexer": "ipython3",
   "version": "3.7.3"
  }
 },
 "nbformat": 4,
 "nbformat_minor": 2
}
