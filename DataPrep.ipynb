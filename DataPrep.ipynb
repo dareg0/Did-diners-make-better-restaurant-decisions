{
 "cells": [
  {
   "cell_type": "markdown",
   "metadata": {
    "colab_type": "text",
    "id": "gRCdO97L3Dx4"
   },
   "source": [
    "Inspection Dataset comes from [DOHMH New York City Restaurant Inspection Results](https://data.cityofnewyork.us/Health/DOHMH-New-York-City-Restaurant-Inspection-Results/43nn-pn8j)"
   ]
  },
  {
   "cell_type": "code",
   "execution_count": 1,
   "metadata": {
    "colab": {
     "base_uri": "https://localhost:8080/",
     "height": 71
    },
    "colab_type": "code",
    "id": "eRx3iZDR3syv",
    "outputId": "1a2820d2-01c0-4c77-b7c2-8cae941ef74c"
   },
   "outputs": [
    {
     "name": "stderr",
     "output_type": "stream",
     "text": [
      "/usr/local/lib/python3.7/site-packages/IPython/core/interactiveshell.py:3049: DtypeWarning: Columns (6) have mixed types. Specify dtype option on import or set low_memory=False.\n",
      "  interactivity=interactivity, compiler=compiler, result=result)\n"
     ]
    }
   ],
   "source": [
    "import pandas as pd\n",
    "inspections = pd.read_csv('Data/DOHMH_New_York_City_Restaurant_Inspection_Results.csv')\n",
    "# Inspection Dataset is now stored in a Pandas Dataframe"
   ]
  },
  {
   "cell_type": "code",
   "execution_count": 2,
   "metadata": {
    "colab": {
     "base_uri": "https://localhost:8080/",
     "height": 102
    },
    "colab_type": "code",
    "id": "mL4G2sCM83qa",
    "outputId": "207e7f86-8874-422b-e4e3-bcaff7ba35f6"
   },
   "outputs": [
    {
     "data": {
      "text/plain": [
       "Index(['CAMIS', 'DBA', 'BORO', 'BUILDING', 'STREET', 'ZIPCODE', 'PHONE',\n",
       "       'CUISINE DESCRIPTION', 'INSPECTION DATE', 'ACTION', 'VIOLATION CODE',\n",
       "       'VIOLATION DESCRIPTION', 'CRITICAL FLAG', 'SCORE', 'GRADE',\n",
       "       'GRADE DATE', 'RECORD DATE', 'INSPECTION TYPE'],\n",
       "      dtype='object')"
      ]
     },
     "execution_count": 2,
     "metadata": {},
     "output_type": "execute_result"
    }
   ],
   "source": [
    "inspections.columns"
   ]
  },
  {
   "cell_type": "code",
   "execution_count": 3,
   "metadata": {},
   "outputs": [
    {
     "data": {
      "text/plain": [
       "(381911, 18)"
      ]
     },
     "execution_count": 3,
     "metadata": {},
     "output_type": "execute_result"
    }
   ],
   "source": [
    "inspections.shape"
   ]
  },
  {
   "cell_type": "code",
   "execution_count": 4,
   "metadata": {},
   "outputs": [
    {
     "data": {
      "text/plain": [
       "(26979, 18)"
      ]
     },
     "execution_count": 4,
     "metadata": {},
     "output_type": "execute_result"
    }
   ],
   "source": [
    "unique = inspections.drop_duplicates(subset=['CAMIS'])\n",
    "unique.shape"
   ]
  },
  {
   "cell_type": "code",
   "execution_count": 5,
   "metadata": {
    "colab": {
     "base_uri": "https://localhost:8080/",
     "height": 666
    },
    "colab_type": "code",
    "id": "O42DC1gRowgb",
    "outputId": "dc99bfef-0e89-4aaa-ff05-53e970c6b635"
   },
   "outputs": [
    {
     "name": "stderr",
     "output_type": "stream",
     "text": [
      "/usr/local/lib/python3.7/site-packages/ipykernel_launcher.py:1: SettingWithCopyWarning: \n",
      "A value is trying to be set on a copy of a slice from a DataFrame.\n",
      "Try using .loc[row_indexer,col_indexer] = value instead\n",
      "\n",
      "See the caveats in the documentation: http://pandas.pydata.org/pandas-docs/stable/indexing.html#indexing-view-versus-copy\n",
      "  \"\"\"Entry point for launching an IPython kernel.\n"
     ]
    },
    {
     "data": {
      "text/html": [
       "<div>\n",
       "<style scoped>\n",
       "    .dataframe tbody tr th:only-of-type {\n",
       "        vertical-align: middle;\n",
       "    }\n",
       "\n",
       "    .dataframe tbody tr th {\n",
       "        vertical-align: top;\n",
       "    }\n",
       "\n",
       "    .dataframe thead th {\n",
       "        text-align: right;\n",
       "    }\n",
       "</style>\n",
       "<table border=\"1\" class=\"dataframe\">\n",
       "  <thead>\n",
       "    <tr style=\"text-align: right;\">\n",
       "      <th></th>\n",
       "      <th>CAMIS</th>\n",
       "      <th>DBA</th>\n",
       "      <th>BORO</th>\n",
       "      <th>BUILDING</th>\n",
       "      <th>STREET</th>\n",
       "      <th>ZIPCODE</th>\n",
       "      <th>PHONE</th>\n",
       "      <th>CUISINE DESCRIPTION</th>\n",
       "      <th>INSPECTION DATE</th>\n",
       "      <th>ACTION</th>\n",
       "      <th>VIOLATION CODE</th>\n",
       "      <th>VIOLATION DESCRIPTION</th>\n",
       "      <th>CRITICAL FLAG</th>\n",
       "      <th>SCORE</th>\n",
       "      <th>GRADE</th>\n",
       "      <th>GRADE DATE</th>\n",
       "      <th>RECORD DATE</th>\n",
       "      <th>INSPECTION TYPE</th>\n",
       "      <th>Location</th>\n",
       "    </tr>\n",
       "  </thead>\n",
       "  <tbody>\n",
       "    <tr>\n",
       "      <th>0</th>\n",
       "      <td>30075445</td>\n",
       "      <td>MORRIS PARK BAKE SHOP</td>\n",
       "      <td>BRONX</td>\n",
       "      <td>1007</td>\n",
       "      <td>MORRIS PARK AVE</td>\n",
       "      <td>10462.0</td>\n",
       "      <td>7188924968</td>\n",
       "      <td>Bakery</td>\n",
       "      <td>05/11/2018</td>\n",
       "      <td>Violations were cited in the following area(s).</td>\n",
       "      <td>08C</td>\n",
       "      <td>Pesticide use not in accordance with label or ...</td>\n",
       "      <td>Not Critical</td>\n",
       "      <td>5.0</td>\n",
       "      <td>A</td>\n",
       "      <td>05/11/2018</td>\n",
       "      <td>04/28/2019</td>\n",
       "      <td>Cycle Inspection / Initial Inspection</td>\n",
       "      <td>1007 MORRIS PARK AVE</td>\n",
       "    </tr>\n",
       "    <tr>\n",
       "      <th>6</th>\n",
       "      <td>30112340</td>\n",
       "      <td>WENDY'S</td>\n",
       "      <td>BROOKLYN</td>\n",
       "      <td>469</td>\n",
       "      <td>FLATBUSH AVENUE</td>\n",
       "      <td>11225.0</td>\n",
       "      <td>7182875005</td>\n",
       "      <td>Hamburgers</td>\n",
       "      <td>03/04/2019</td>\n",
       "      <td>Violations were cited in the following area(s).</td>\n",
       "      <td>02G</td>\n",
       "      <td>Cold food item held above 41Âº F (smoked fish ...</td>\n",
       "      <td>Critical</td>\n",
       "      <td>13.0</td>\n",
       "      <td>A</td>\n",
       "      <td>03/04/2019</td>\n",
       "      <td>04/28/2019</td>\n",
       "      <td>Cycle Inspection / Initial Inspection</td>\n",
       "      <td>469 FLATBUSH AVENUE</td>\n",
       "    </tr>\n",
       "  </tbody>\n",
       "</table>\n",
       "</div>"
      ],
      "text/plain": [
       "      CAMIS                    DBA      BORO BUILDING           STREET  \\\n",
       "0  30075445  MORRIS PARK BAKE SHOP     BRONX     1007  MORRIS PARK AVE   \n",
       "6  30112340                WENDY'S  BROOKLYN      469  FLATBUSH AVENUE   \n",
       "\n",
       "   ZIPCODE       PHONE CUISINE DESCRIPTION INSPECTION DATE  \\\n",
       "0  10462.0  7188924968              Bakery      05/11/2018   \n",
       "6  11225.0  7182875005          Hamburgers      03/04/2019   \n",
       "\n",
       "                                            ACTION VIOLATION CODE  \\\n",
       "0  Violations were cited in the following area(s).            08C   \n",
       "6  Violations were cited in the following area(s).            02G   \n",
       "\n",
       "                               VIOLATION DESCRIPTION CRITICAL FLAG  SCORE  \\\n",
       "0  Pesticide use not in accordance with label or ...  Not Critical    5.0   \n",
       "6  Cold food item held above 41Âº F (smoked fish ...      Critical   13.0   \n",
       "\n",
       "  GRADE  GRADE DATE RECORD DATE                        INSPECTION TYPE  \\\n",
       "0     A  05/11/2018  04/28/2019  Cycle Inspection / Initial Inspection   \n",
       "6     A  03/04/2019  04/28/2019  Cycle Inspection / Initial Inspection   \n",
       "\n",
       "               Location  \n",
       "0  1007 MORRIS PARK AVE  \n",
       "6   469 FLATBUSH AVENUE  "
      ]
     },
     "execution_count": 5,
     "metadata": {},
     "output_type": "execute_result"
    }
   ],
   "source": [
    "unique[\"Location\"] = unique[\"BUILDING\"].map(str) + \" \" + inspections[\"STREET\"].map(str)\n",
    "unique.head(2)"
   ]
  },
  {
   "cell_type": "code",
   "execution_count": 6,
   "metadata": {},
   "outputs": [
    {
     "name": "stderr",
     "output_type": "stream",
     "text": [
      "/usr/local/lib/python3.7/site-packages/pandas/core/frame.py:3940: SettingWithCopyWarning: \n",
      "A value is trying to be set on a copy of a slice from a DataFrame\n",
      "\n",
      "See the caveats in the documentation: http://pandas.pydata.org/pandas-docs/stable/indexing.html#indexing-view-versus-copy\n",
      "  errors=errors)\n"
     ]
    },
    {
     "data": {
      "text/plain": [
       "(26979, 17)"
      ]
     },
     "execution_count": 6,
     "metadata": {},
     "output_type": "execute_result"
    }
   ],
   "source": [
    "unique.drop(columns=['BUILDING', 'STREET'], inplace=True)\n",
    "unique.shape"
   ]
  },
  {
   "cell_type": "code",
   "execution_count": 8,
   "metadata": {
    "colab": {},
    "colab_type": "code",
    "id": "do2UeRX0xLXP"
   },
   "outputs": [],
   "source": [
    "%run yelp_api.py"
   ]
  },
  {
   "cell_type": "code",
   "execution_count": 9,
   "metadata": {
    "colab": {
     "base_uri": "https://localhost:8080/",
     "height": 1207
    },
    "colab_type": "code",
    "id": "Lw3J3vi47uGJ",
    "outputId": "ab700161-6459-45d9-8134-cd3aaddb4cef"
   },
   "outputs": [
    {
     "name": "stdout",
     "output_type": "stream",
     "text": [
      "NOSTRAND DONUT SHOP\n",
      "Nostrand Donut Shop\n",
      "34\n",
      "4.0\n",
      "$\n",
      "DORRIAN'S RED HAND RESTAURANT\n",
      "Dorrian's Red Hand\n",
      "193\n",
      "3.0\n",
      "$$\n",
      "LA GRENOUILLE\n",
      "La Grenouille\n",
      "411\n",
      "4.0\n",
      "$$$$\n",
      "COMO PIZZA\n",
      "La Tavola\n",
      "170\n",
      "4.5\n",
      "$$\n",
      "KEATS RESTAURANT\n",
      "Keats Bar\n",
      "130\n",
      "3.5\n",
      "$$\n",
      "ANGELO OF MULBERRY ST.\n",
      "Paesano of Mulberry Street\n",
      "672\n",
      "4.0\n",
      "$$\n",
      "PANCHITO'S\n",
      "Panchito's Mexican Restaurant & Cantina\n",
      "301\n",
      "2.5\n",
      "$$\n",
      "NEW CORNER\n",
      "New Corner Restaurant\n",
      "132\n",
      "3.5\n",
      "$$\n",
      "THE PRINCETON CLUB\n",
      "Princeton Club\n",
      "50\n",
      "3.5\n",
      "None\n",
      "ARTURO'S\n",
      "Arturo's\n",
      "627\n",
      "4.0\n",
      "$$\n"
     ]
    }
   ],
   "source": [
    "for i, rest in unique.iloc[70:80].iterrows():\n",
    "    camis = rest['CAMIS']\n",
    "    name = rest['DBA']\n",
    "    print(name)\n",
    "    phone = rest['PHONE']\n",
    "    loc = rest['Location']\n",
    "    query_api(name, loc, phone)"
   ]
  }
 ],
 "metadata": {
  "colab": {
   "collapsed_sections": [],
   "name": "TestYelpApi.ipynb",
   "provenance": [],
   "version": "0.3.2"
  },
  "kernelspec": {
   "display_name": "Python 3",
   "language": "python",
   "name": "python3"
  },
  "language_info": {
   "codemirror_mode": {
    "name": "ipython",
    "version": 3
   },
   "file_extension": ".py",
   "mimetype": "text/x-python",
   "name": "python",
   "nbconvert_exporter": "python",
   "pygments_lexer": "ipython3",
   "version": "3.7.3"
  }
 },
 "nbformat": 4,
 "nbformat_minor": 1
}
