{
 "cells": [
  {
   "cell_type": "markdown",
   "metadata": {},
   "source": [
    "# Preprocessing the Inspection Dataset"
   ]
  },
  {
   "cell_type": "code",
   "execution_count": 1,
   "metadata": {},
   "outputs": [],
   "source": [
    "import pandas as pd\n",
    "import numpy as np"
   ]
  },
  {
   "cell_type": "code",
   "execution_count": 2,
   "metadata": {
    "scrolled": true
   },
   "outputs": [
    {
     "name": "stderr",
     "output_type": "stream",
     "text": [
      "/usr/local/lib/python3.7/site-packages/IPython/core/interactiveshell.py:3049: DtypeWarning: Columns (6) have mixed types. Specify dtype option on import or set low_memory=False.\n",
      "  interactivity=interactivity, compiler=compiler, result=result)\n"
     ]
    }
   ],
   "source": [
    "inspections = pd.read_csv('Data/DOHMH_New_York_City_Restaurant_Inspection_Results.csv')"
   ]
  },
  {
   "cell_type": "code",
   "execution_count": 3,
   "metadata": {},
   "outputs": [
    {
     "data": {
      "text/html": [
       "<div>\n",
       "<style scoped>\n",
       "    .dataframe tbody tr th:only-of-type {\n",
       "        vertical-align: middle;\n",
       "    }\n",
       "\n",
       "    .dataframe tbody tr th {\n",
       "        vertical-align: top;\n",
       "    }\n",
       "\n",
       "    .dataframe thead th {\n",
       "        text-align: right;\n",
       "    }\n",
       "</style>\n",
       "<table border=\"1\" class=\"dataframe\">\n",
       "  <thead>\n",
       "    <tr style=\"text-align: right;\">\n",
       "      <th></th>\n",
       "      <th>CAMIS</th>\n",
       "      <th>DBA</th>\n",
       "      <th>BORO</th>\n",
       "      <th>BUILDING</th>\n",
       "      <th>STREET</th>\n",
       "      <th>ZIPCODE</th>\n",
       "      <th>PHONE</th>\n",
       "      <th>CUISINE DESCRIPTION</th>\n",
       "      <th>INSPECTION DATE</th>\n",
       "      <th>ACTION</th>\n",
       "      <th>VIOLATION CODE</th>\n",
       "      <th>VIOLATION DESCRIPTION</th>\n",
       "      <th>CRITICAL FLAG</th>\n",
       "      <th>SCORE</th>\n",
       "      <th>GRADE</th>\n",
       "      <th>GRADE DATE</th>\n",
       "      <th>RECORD DATE</th>\n",
       "      <th>INSPECTION TYPE</th>\n",
       "    </tr>\n",
       "  </thead>\n",
       "  <tbody>\n",
       "    <tr>\n",
       "      <th>0</th>\n",
       "      <td>30075445</td>\n",
       "      <td>MORRIS PARK BAKE SHOP</td>\n",
       "      <td>BRONX</td>\n",
       "      <td>1007</td>\n",
       "      <td>MORRIS PARK AVE</td>\n",
       "      <td>10462.0</td>\n",
       "      <td>7188924968</td>\n",
       "      <td>Bakery</td>\n",
       "      <td>05/11/2018</td>\n",
       "      <td>Violations were cited in the following area(s).</td>\n",
       "      <td>08C</td>\n",
       "      <td>Pesticide use not in accordance with label or ...</td>\n",
       "      <td>Not Critical</td>\n",
       "      <td>5.0</td>\n",
       "      <td>A</td>\n",
       "      <td>05/11/2018</td>\n",
       "      <td>04/28/2019</td>\n",
       "      <td>Cycle Inspection / Initial Inspection</td>\n",
       "    </tr>\n",
       "    <tr>\n",
       "      <th>1</th>\n",
       "      <td>30075445</td>\n",
       "      <td>MORRIS PARK BAKE SHOP</td>\n",
       "      <td>BRONX</td>\n",
       "      <td>1007</td>\n",
       "      <td>MORRIS PARK AVE</td>\n",
       "      <td>10462.0</td>\n",
       "      <td>7188924968</td>\n",
       "      <td>Bakery</td>\n",
       "      <td>05/11/2018</td>\n",
       "      <td>Violations were cited in the following area(s).</td>\n",
       "      <td>10F</td>\n",
       "      <td>Non-food contact surface improperly constructe...</td>\n",
       "      <td>Not Critical</td>\n",
       "      <td>5.0</td>\n",
       "      <td>A</td>\n",
       "      <td>05/11/2018</td>\n",
       "      <td>04/28/2019</td>\n",
       "      <td>Cycle Inspection / Initial Inspection</td>\n",
       "    </tr>\n",
       "    <tr>\n",
       "      <th>2</th>\n",
       "      <td>30075445</td>\n",
       "      <td>MORRIS PARK BAKE SHOP</td>\n",
       "      <td>BRONX</td>\n",
       "      <td>1007</td>\n",
       "      <td>MORRIS PARK AVE</td>\n",
       "      <td>10462.0</td>\n",
       "      <td>7188924968</td>\n",
       "      <td>Bakery</td>\n",
       "      <td>05/18/2017</td>\n",
       "      <td>Violations were cited in the following area(s).</td>\n",
       "      <td>06D</td>\n",
       "      <td>Food contact surface not properly washed, rins...</td>\n",
       "      <td>Critical</td>\n",
       "      <td>7.0</td>\n",
       "      <td>A</td>\n",
       "      <td>05/18/2017</td>\n",
       "      <td>04/28/2019</td>\n",
       "      <td>Cycle Inspection / Initial Inspection</td>\n",
       "    </tr>\n",
       "    <tr>\n",
       "      <th>3</th>\n",
       "      <td>30075445</td>\n",
       "      <td>MORRIS PARK BAKE SHOP</td>\n",
       "      <td>BRONX</td>\n",
       "      <td>1007</td>\n",
       "      <td>MORRIS PARK AVE</td>\n",
       "      <td>10462.0</td>\n",
       "      <td>7188924968</td>\n",
       "      <td>Bakery</td>\n",
       "      <td>05/18/2017</td>\n",
       "      <td>Violations were cited in the following area(s).</td>\n",
       "      <td>10F</td>\n",
       "      <td>Non-food contact surface improperly constructe...</td>\n",
       "      <td>Not Critical</td>\n",
       "      <td>7.0</td>\n",
       "      <td>A</td>\n",
       "      <td>05/18/2017</td>\n",
       "      <td>04/28/2019</td>\n",
       "      <td>Cycle Inspection / Initial Inspection</td>\n",
       "    </tr>\n",
       "    <tr>\n",
       "      <th>4</th>\n",
       "      <td>30075445</td>\n",
       "      <td>MORRIS PARK BAKE SHOP</td>\n",
       "      <td>BRONX</td>\n",
       "      <td>1007</td>\n",
       "      <td>MORRIS PARK AVE</td>\n",
       "      <td>10462.0</td>\n",
       "      <td>7188924968</td>\n",
       "      <td>Bakery</td>\n",
       "      <td>02/18/2016</td>\n",
       "      <td>Violations were cited in the following area(s).</td>\n",
       "      <td>04L</td>\n",
       "      <td>Evidence of mice or live mice present in facil...</td>\n",
       "      <td>Critical</td>\n",
       "      <td>10.0</td>\n",
       "      <td>A</td>\n",
       "      <td>02/18/2016</td>\n",
       "      <td>04/28/2019</td>\n",
       "      <td>Cycle Inspection / Initial Inspection</td>\n",
       "    </tr>\n",
       "  </tbody>\n",
       "</table>\n",
       "</div>"
      ],
      "text/plain": [
       "      CAMIS                    DBA   BORO BUILDING           STREET  ZIPCODE  \\\n",
       "0  30075445  MORRIS PARK BAKE SHOP  BRONX     1007  MORRIS PARK AVE  10462.0   \n",
       "1  30075445  MORRIS PARK BAKE SHOP  BRONX     1007  MORRIS PARK AVE  10462.0   \n",
       "2  30075445  MORRIS PARK BAKE SHOP  BRONX     1007  MORRIS PARK AVE  10462.0   \n",
       "3  30075445  MORRIS PARK BAKE SHOP  BRONX     1007  MORRIS PARK AVE  10462.0   \n",
       "4  30075445  MORRIS PARK BAKE SHOP  BRONX     1007  MORRIS PARK AVE  10462.0   \n",
       "\n",
       "        PHONE CUISINE DESCRIPTION INSPECTION DATE  \\\n",
       "0  7188924968              Bakery      05/11/2018   \n",
       "1  7188924968              Bakery      05/11/2018   \n",
       "2  7188924968              Bakery      05/18/2017   \n",
       "3  7188924968              Bakery      05/18/2017   \n",
       "4  7188924968              Bakery      02/18/2016   \n",
       "\n",
       "                                            ACTION VIOLATION CODE  \\\n",
       "0  Violations were cited in the following area(s).            08C   \n",
       "1  Violations were cited in the following area(s).            10F   \n",
       "2  Violations were cited in the following area(s).            06D   \n",
       "3  Violations were cited in the following area(s).            10F   \n",
       "4  Violations were cited in the following area(s).            04L   \n",
       "\n",
       "                               VIOLATION DESCRIPTION CRITICAL FLAG  SCORE  \\\n",
       "0  Pesticide use not in accordance with label or ...  Not Critical    5.0   \n",
       "1  Non-food contact surface improperly constructe...  Not Critical    5.0   \n",
       "2  Food contact surface not properly washed, rins...      Critical    7.0   \n",
       "3  Non-food contact surface improperly constructe...  Not Critical    7.0   \n",
       "4  Evidence of mice or live mice present in facil...      Critical   10.0   \n",
       "\n",
       "  GRADE  GRADE DATE RECORD DATE                        INSPECTION TYPE  \n",
       "0     A  05/11/2018  04/28/2019  Cycle Inspection / Initial Inspection  \n",
       "1     A  05/11/2018  04/28/2019  Cycle Inspection / Initial Inspection  \n",
       "2     A  05/18/2017  04/28/2019  Cycle Inspection / Initial Inspection  \n",
       "3     A  05/18/2017  04/28/2019  Cycle Inspection / Initial Inspection  \n",
       "4     A  02/18/2016  04/28/2019  Cycle Inspection / Initial Inspection  "
      ]
     },
     "execution_count": 3,
     "metadata": {},
     "output_type": "execute_result"
    }
   ],
   "source": [
    "inspections.head(5)"
   ]
  },
  {
   "cell_type": "code",
   "execution_count": 4,
   "metadata": {},
   "outputs": [
    {
     "data": {
      "text/plain": [
       "(381911, 18)"
      ]
     },
     "execution_count": 4,
     "metadata": {},
     "output_type": "execute_result"
    }
   ],
   "source": [
    "inspections.shape"
   ]
  },
  {
   "cell_type": "code",
   "execution_count": 5,
   "metadata": {},
   "outputs": [
    {
     "data": {
      "text/plain": [
       "A                 13148\n",
       "B                  1249\n",
       "C                   310\n",
       "Z                   134\n",
       "Not Yet Graded      130\n",
       "P                    71\n",
       "Name: GRADE, dtype: int64"
      ]
     },
     "execution_count": 5,
     "metadata": {},
     "output_type": "execute_result"
    }
   ],
   "source": [
    "inspections[inspections['VIOLATION CODE']=='06D']['GRADE'].value_counts()"
   ]
  },
  {
   "cell_type": "markdown",
   "metadata": {},
   "source": [
    "**Above results suggest that the relationship between 'VIOLATION CODE' and 'GRADE' is not pairwise. So we decided to keep both columns as metrics.**"
   ]
  },
  {
   "cell_type": "code",
   "execution_count": 6,
   "metadata": {},
   "outputs": [
    {
     "data": {
      "text/plain": [
       "A                 152827\n",
       "B                  24214\n",
       "C                   7927\n",
       "Z                   2559\n",
       "Not Yet Graded      2535\n",
       "P                   2284\n",
       "G                      5\n",
       "Name: GRADE, dtype: int64"
      ]
     },
     "execution_count": 6,
     "metadata": {},
     "output_type": "execute_result"
    }
   ],
   "source": [
    "inspections['GRADE'].value_counts()"
   ]
  },
  {
   "cell_type": "code",
   "execution_count": 7,
   "metadata": {},
   "outputs": [
    {
     "data": {
      "text/html": [
       "<div>\n",
       "<style scoped>\n",
       "    .dataframe tbody tr th:only-of-type {\n",
       "        vertical-align: middle;\n",
       "    }\n",
       "\n",
       "    .dataframe tbody tr th {\n",
       "        vertical-align: top;\n",
       "    }\n",
       "\n",
       "    .dataframe thead th {\n",
       "        text-align: right;\n",
       "    }\n",
       "</style>\n",
       "<table border=\"1\" class=\"dataframe\">\n",
       "  <thead>\n",
       "    <tr style=\"text-align: right;\">\n",
       "      <th></th>\n",
       "      <th>CAMIS</th>\n",
       "      <th>DBA</th>\n",
       "      <th>BORO</th>\n",
       "      <th>BUILDING</th>\n",
       "      <th>STREET</th>\n",
       "      <th>ZIPCODE</th>\n",
       "      <th>PHONE</th>\n",
       "      <th>CUISINE DESCRIPTION</th>\n",
       "      <th>INSPECTION DATE</th>\n",
       "      <th>ACTION</th>\n",
       "      <th>VIOLATION CODE</th>\n",
       "      <th>VIOLATION DESCRIPTION</th>\n",
       "      <th>CRITICAL FLAG</th>\n",
       "      <th>SCORE</th>\n",
       "      <th>GRADE</th>\n",
       "      <th>GRADE DATE</th>\n",
       "      <th>RECORD DATE</th>\n",
       "      <th>INSPECTION TYPE</th>\n",
       "    </tr>\n",
       "  </thead>\n",
       "  <tbody>\n",
       "    <tr>\n",
       "      <th>120887</th>\n",
       "      <td>41480255</td>\n",
       "      <td>CHARLEY'S PHILLY STEAKS</td>\n",
       "      <td>BROOKLYN</td>\n",
       "      <td>5100</td>\n",
       "      <td>KINGS PLAZA</td>\n",
       "      <td>11234.0</td>\n",
       "      <td>7183383083</td>\n",
       "      <td>Sandwiches</td>\n",
       "      <td>03/30/2018</td>\n",
       "      <td>Establishment re-opened by DOHMH</td>\n",
       "      <td>04L</td>\n",
       "      <td>Evidence of mice or live mice present in facil...</td>\n",
       "      <td>Critical</td>\n",
       "      <td>16.0</td>\n",
       "      <td>P</td>\n",
       "      <td>03/30/2018</td>\n",
       "      <td>04/28/2019</td>\n",
       "      <td>Cycle Inspection / Reopening Inspection</td>\n",
       "    </tr>\n",
       "    <tr>\n",
       "      <th>245083</th>\n",
       "      <td>50032642</td>\n",
       "      <td>DELICACY</td>\n",
       "      <td>MANHATTAN</td>\n",
       "      <td>12</td>\n",
       "      <td>E 44TH ST</td>\n",
       "      <td>10017.0</td>\n",
       "      <td>2126974444</td>\n",
       "      <td>Delicatessen</td>\n",
       "      <td>04/30/2018</td>\n",
       "      <td>Establishment re-opened by DOHMH</td>\n",
       "      <td>04M</td>\n",
       "      <td>Live roaches present in facility's food and/or...</td>\n",
       "      <td>Critical</td>\n",
       "      <td>9.0</td>\n",
       "      <td>P</td>\n",
       "      <td>04/30/2018</td>\n",
       "      <td>04/28/2019</td>\n",
       "      <td>Cycle Inspection / Reopening Inspection</td>\n",
       "    </tr>\n",
       "    <tr>\n",
       "      <th>332248</th>\n",
       "      <td>50063947</td>\n",
       "      <td>DECCAN SPICE</td>\n",
       "      <td>MANHATTAN</td>\n",
       "      <td>120</td>\n",
       "      <td>LEXINGTON AVE</td>\n",
       "      <td>10016.0</td>\n",
       "      <td>2125107200</td>\n",
       "      <td>Indian</td>\n",
       "      <td>09/06/2018</td>\n",
       "      <td>Establishment re-opened by DOHMH</td>\n",
       "      <td>10F</td>\n",
       "      <td>Non-food contact surface improperly constructe...</td>\n",
       "      <td>Not Critical</td>\n",
       "      <td>4.0</td>\n",
       "      <td>P</td>\n",
       "      <td>09/06/2018</td>\n",
       "      <td>04/28/2019</td>\n",
       "      <td>Cycle Inspection / Reopening Inspection</td>\n",
       "    </tr>\n",
       "    <tr>\n",
       "      <th>310128</th>\n",
       "      <td>50055697</td>\n",
       "      <td>INDIAN EXPRESS</td>\n",
       "      <td>MANHATTAN</td>\n",
       "      <td>301</td>\n",
       "      <td>W 154TH ST</td>\n",
       "      <td>10039.0</td>\n",
       "      <td>2122560903</td>\n",
       "      <td>Indian</td>\n",
       "      <td>10/25/2017</td>\n",
       "      <td>Establishment re-opened by DOHMH</td>\n",
       "      <td>08A</td>\n",
       "      <td>Facility not vermin proof. Harborage or condit...</td>\n",
       "      <td>Not Critical</td>\n",
       "      <td>17.0</td>\n",
       "      <td>P</td>\n",
       "      <td>10/25/2017</td>\n",
       "      <td>04/28/2019</td>\n",
       "      <td>Cycle Inspection / Reopening Inspection</td>\n",
       "    </tr>\n",
       "    <tr>\n",
       "      <th>376544</th>\n",
       "      <td>50085693</td>\n",
       "      <td>JOE'S PIZZA OF PARK SLOPE</td>\n",
       "      <td>BROOKLYN</td>\n",
       "      <td>349</td>\n",
       "      <td>5TH AVE</td>\n",
       "      <td>11215.0</td>\n",
       "      <td>7188322525</td>\n",
       "      <td>Pizza/Italian</td>\n",
       "      <td>12/18/2018</td>\n",
       "      <td>Establishment re-opened by DOHMH</td>\n",
       "      <td>06C</td>\n",
       "      <td>Food not protected from potential source of co...</td>\n",
       "      <td>Critical</td>\n",
       "      <td>5.0</td>\n",
       "      <td>P</td>\n",
       "      <td>12/18/2018</td>\n",
       "      <td>04/28/2019</td>\n",
       "      <td>Pre-permit (Operational) / Reopening Inspection</td>\n",
       "    </tr>\n",
       "  </tbody>\n",
       "</table>\n",
       "</div>"
      ],
      "text/plain": [
       "           CAMIS                        DBA       BORO BUILDING  \\\n",
       "120887  41480255    CHARLEY'S PHILLY STEAKS   BROOKLYN     5100   \n",
       "245083  50032642                   DELICACY  MANHATTAN       12   \n",
       "332248  50063947               DECCAN SPICE  MANHATTAN      120   \n",
       "310128  50055697             INDIAN EXPRESS  MANHATTAN      301   \n",
       "376544  50085693  JOE'S PIZZA OF PARK SLOPE   BROOKLYN      349   \n",
       "\n",
       "               STREET  ZIPCODE       PHONE CUISINE DESCRIPTION  \\\n",
       "120887    KINGS PLAZA  11234.0  7183383083          Sandwiches   \n",
       "245083      E 44TH ST  10017.0  2126974444        Delicatessen   \n",
       "332248  LEXINGTON AVE  10016.0  2125107200              Indian   \n",
       "310128     W 154TH ST  10039.0  2122560903              Indian   \n",
       "376544        5TH AVE  11215.0  7188322525       Pizza/Italian   \n",
       "\n",
       "       INSPECTION DATE                            ACTION VIOLATION CODE  \\\n",
       "120887      03/30/2018  Establishment re-opened by DOHMH            04L   \n",
       "245083      04/30/2018  Establishment re-opened by DOHMH            04M   \n",
       "332248      09/06/2018  Establishment re-opened by DOHMH            10F   \n",
       "310128      10/25/2017  Establishment re-opened by DOHMH            08A   \n",
       "376544      12/18/2018  Establishment re-opened by DOHMH            06C   \n",
       "\n",
       "                                    VIOLATION DESCRIPTION CRITICAL FLAG  \\\n",
       "120887  Evidence of mice or live mice present in facil...      Critical   \n",
       "245083  Live roaches present in facility's food and/or...      Critical   \n",
       "332248  Non-food contact surface improperly constructe...  Not Critical   \n",
       "310128  Facility not vermin proof. Harborage or condit...  Not Critical   \n",
       "376544  Food not protected from potential source of co...      Critical   \n",
       "\n",
       "        SCORE GRADE  GRADE DATE RECORD DATE  \\\n",
       "120887   16.0     P  03/30/2018  04/28/2019   \n",
       "245083    9.0     P  04/30/2018  04/28/2019   \n",
       "332248    4.0     P  09/06/2018  04/28/2019   \n",
       "310128   17.0     P  10/25/2017  04/28/2019   \n",
       "376544    5.0     P  12/18/2018  04/28/2019   \n",
       "\n",
       "                                        INSPECTION TYPE  \n",
       "120887          Cycle Inspection / Reopening Inspection  \n",
       "245083          Cycle Inspection / Reopening Inspection  \n",
       "332248          Cycle Inspection / Reopening Inspection  \n",
       "310128          Cycle Inspection / Reopening Inspection  \n",
       "376544  Pre-permit (Operational) / Reopening Inspection  "
      ]
     },
     "execution_count": 7,
     "metadata": {},
     "output_type": "execute_result"
    }
   ],
   "source": [
    "inspections[inspections['GRADE']=='P'].sample(5)"
   ]
  },
  {
   "cell_type": "code",
   "execution_count": 8,
   "metadata": {},
   "outputs": [
    {
     "data": {
      "text/html": [
       "<div>\n",
       "<style scoped>\n",
       "    .dataframe tbody tr th:only-of-type {\n",
       "        vertical-align: middle;\n",
       "    }\n",
       "\n",
       "    .dataframe tbody tr th {\n",
       "        vertical-align: top;\n",
       "    }\n",
       "\n",
       "    .dataframe thead th {\n",
       "        text-align: right;\n",
       "    }\n",
       "</style>\n",
       "<table border=\"1\" class=\"dataframe\">\n",
       "  <thead>\n",
       "    <tr style=\"text-align: right;\">\n",
       "      <th></th>\n",
       "      <th>CAMIS</th>\n",
       "      <th>DBA</th>\n",
       "      <th>BORO</th>\n",
       "      <th>BUILDING</th>\n",
       "      <th>STREET</th>\n",
       "      <th>ZIPCODE</th>\n",
       "      <th>PHONE</th>\n",
       "      <th>CUISINE DESCRIPTION</th>\n",
       "      <th>INSPECTION DATE</th>\n",
       "      <th>ACTION</th>\n",
       "      <th>VIOLATION CODE</th>\n",
       "      <th>VIOLATION DESCRIPTION</th>\n",
       "      <th>CRITICAL FLAG</th>\n",
       "      <th>SCORE</th>\n",
       "      <th>GRADE</th>\n",
       "      <th>GRADE DATE</th>\n",
       "      <th>RECORD DATE</th>\n",
       "      <th>INSPECTION TYPE</th>\n",
       "    </tr>\n",
       "  </thead>\n",
       "  <tbody>\n",
       "    <tr>\n",
       "      <th>181314</th>\n",
       "      <td>41710976</td>\n",
       "      <td>SWEET MAMA'S SOUL FOOD</td>\n",
       "      <td>MANHATTAN</td>\n",
       "      <td>689</td>\n",
       "      <td>LENOX AVENUE</td>\n",
       "      <td>10037.0</td>\n",
       "      <td>2129399383</td>\n",
       "      <td>Soul Food</td>\n",
       "      <td>04/18/2019</td>\n",
       "      <td>Violations were cited in the following area(s).</td>\n",
       "      <td>06C</td>\n",
       "      <td>Food not protected from potential source of co...</td>\n",
       "      <td>Critical</td>\n",
       "      <td>36.0</td>\n",
       "      <td>Z</td>\n",
       "      <td>04/18/2019</td>\n",
       "      <td>04/28/2019</td>\n",
       "      <td>Cycle Inspection / Re-inspection</td>\n",
       "    </tr>\n",
       "    <tr>\n",
       "      <th>117685</th>\n",
       "      <td>41466951</td>\n",
       "      <td>AMANDA'S KITCHEN</td>\n",
       "      <td>BROOKLYN</td>\n",
       "      <td>264</td>\n",
       "      <td>SUYDAM STREET</td>\n",
       "      <td>11237.0</td>\n",
       "      <td>3474886297</td>\n",
       "      <td>Latin (Cuban, Dominican, Puerto Rican, South &amp;...</td>\n",
       "      <td>12/18/2018</td>\n",
       "      <td>Violations were cited in the following area(s).</td>\n",
       "      <td>04M</td>\n",
       "      <td>Live roaches present in facility's food and/or...</td>\n",
       "      <td>Critical</td>\n",
       "      <td>20.0</td>\n",
       "      <td>Z</td>\n",
       "      <td>12/18/2018</td>\n",
       "      <td>04/28/2019</td>\n",
       "      <td>Cycle Inspection / Re-inspection</td>\n",
       "    </tr>\n",
       "    <tr>\n",
       "      <th>237252</th>\n",
       "      <td>50017329</td>\n",
       "      <td>JUS CHILL BAR &amp; GRILL</td>\n",
       "      <td>BROOKLYN</td>\n",
       "      <td>589</td>\n",
       "      <td>NEW LOTS AVE</td>\n",
       "      <td>11207.0</td>\n",
       "      <td>7185064040</td>\n",
       "      <td>Caribbean</td>\n",
       "      <td>04/11/2019</td>\n",
       "      <td>Violations were cited in the following area(s).</td>\n",
       "      <td>04A</td>\n",
       "      <td>Food Protection Certificate not held by superv...</td>\n",
       "      <td>Critical</td>\n",
       "      <td>33.0</td>\n",
       "      <td>Z</td>\n",
       "      <td>04/11/2019</td>\n",
       "      <td>04/28/2019</td>\n",
       "      <td>Cycle Inspection / Re-inspection</td>\n",
       "    </tr>\n",
       "    <tr>\n",
       "      <th>116631</th>\n",
       "      <td>41461985</td>\n",
       "      <td>MATSU SUSHI</td>\n",
       "      <td>QUEENS</td>\n",
       "      <td>3411</td>\n",
       "      <td>30 AVENUE</td>\n",
       "      <td>11103.0</td>\n",
       "      <td>7187267029</td>\n",
       "      <td>Japanese</td>\n",
       "      <td>01/14/2019</td>\n",
       "      <td>Establishment re-opened by DOHMH</td>\n",
       "      <td>10F</td>\n",
       "      <td>Non-food contact surface improperly constructe...</td>\n",
       "      <td>Not Critical</td>\n",
       "      <td>2.0</td>\n",
       "      <td>Z</td>\n",
       "      <td>01/14/2019</td>\n",
       "      <td>04/28/2019</td>\n",
       "      <td>Cycle Inspection / Reopening Inspection</td>\n",
       "    </tr>\n",
       "    <tr>\n",
       "      <th>11201</th>\n",
       "      <td>40393688</td>\n",
       "      <td>EL MOLINO ROJO RESTAURANT</td>\n",
       "      <td>BRONX</td>\n",
       "      <td>101</td>\n",
       "      <td>EAST  161 STREET</td>\n",
       "      <td>10451.0</td>\n",
       "      <td>7185389642</td>\n",
       "      <td>Latin (Cuban, Dominican, Puerto Rican, South &amp;...</td>\n",
       "      <td>03/11/2019</td>\n",
       "      <td>Violations were cited in the following area(s).</td>\n",
       "      <td>10F</td>\n",
       "      <td>Non-food contact surface improperly constructe...</td>\n",
       "      <td>Not Critical</td>\n",
       "      <td>26.0</td>\n",
       "      <td>Z</td>\n",
       "      <td>03/11/2019</td>\n",
       "      <td>04/28/2019</td>\n",
       "      <td>Cycle Inspection / Re-inspection</td>\n",
       "    </tr>\n",
       "  </tbody>\n",
       "</table>\n",
       "</div>"
      ],
      "text/plain": [
       "           CAMIS                        DBA       BORO BUILDING  \\\n",
       "181314  41710976     SWEET MAMA'S SOUL FOOD  MANHATTAN      689   \n",
       "117685  41466951           AMANDA'S KITCHEN   BROOKLYN      264   \n",
       "237252  50017329      JUS CHILL BAR & GRILL   BROOKLYN      589   \n",
       "116631  41461985                MATSU SUSHI     QUEENS     3411   \n",
       "11201   40393688  EL MOLINO ROJO RESTAURANT      BRONX      101   \n",
       "\n",
       "                  STREET  ZIPCODE       PHONE  \\\n",
       "181314      LENOX AVENUE  10037.0  2129399383   \n",
       "117685     SUYDAM STREET  11237.0  3474886297   \n",
       "237252      NEW LOTS AVE  11207.0  7185064040   \n",
       "116631         30 AVENUE  11103.0  7187267029   \n",
       "11201   EAST  161 STREET  10451.0  7185389642   \n",
       "\n",
       "                                      CUISINE DESCRIPTION INSPECTION DATE  \\\n",
       "181314                                          Soul Food      04/18/2019   \n",
       "117685  Latin (Cuban, Dominican, Puerto Rican, South &...      12/18/2018   \n",
       "237252                                          Caribbean      04/11/2019   \n",
       "116631                                           Japanese      01/14/2019   \n",
       "11201   Latin (Cuban, Dominican, Puerto Rican, South &...      03/11/2019   \n",
       "\n",
       "                                                 ACTION VIOLATION CODE  \\\n",
       "181314  Violations were cited in the following area(s).            06C   \n",
       "117685  Violations were cited in the following area(s).            04M   \n",
       "237252  Violations were cited in the following area(s).            04A   \n",
       "116631                 Establishment re-opened by DOHMH            10F   \n",
       "11201   Violations were cited in the following area(s).            10F   \n",
       "\n",
       "                                    VIOLATION DESCRIPTION CRITICAL FLAG  \\\n",
       "181314  Food not protected from potential source of co...      Critical   \n",
       "117685  Live roaches present in facility's food and/or...      Critical   \n",
       "237252  Food Protection Certificate not held by superv...      Critical   \n",
       "116631  Non-food contact surface improperly constructe...  Not Critical   \n",
       "11201   Non-food contact surface improperly constructe...  Not Critical   \n",
       "\n",
       "        SCORE GRADE  GRADE DATE RECORD DATE  \\\n",
       "181314   36.0     Z  04/18/2019  04/28/2019   \n",
       "117685   20.0     Z  12/18/2018  04/28/2019   \n",
       "237252   33.0     Z  04/11/2019  04/28/2019   \n",
       "116631    2.0     Z  01/14/2019  04/28/2019   \n",
       "11201    26.0     Z  03/11/2019  04/28/2019   \n",
       "\n",
       "                                INSPECTION TYPE  \n",
       "181314         Cycle Inspection / Re-inspection  \n",
       "117685         Cycle Inspection / Re-inspection  \n",
       "237252         Cycle Inspection / Re-inspection  \n",
       "116631  Cycle Inspection / Reopening Inspection  \n",
       "11201          Cycle Inspection / Re-inspection  "
      ]
     },
     "execution_count": 8,
     "metadata": {},
     "output_type": "execute_result"
    }
   ],
   "source": [
    "inspections[inspections['GRADE']=='Z'].sample(5)"
   ]
  },
  {
   "cell_type": "code",
   "execution_count": 9,
   "metadata": {},
   "outputs": [
    {
     "data": {
      "text/plain": [
       "156.0"
      ]
     },
     "execution_count": 9,
     "metadata": {},
     "output_type": "execute_result"
    }
   ],
   "source": [
    "inspections['SCORE'].max()"
   ]
  },
  {
   "cell_type": "code",
   "execution_count": 10,
   "metadata": {
    "scrolled": true
   },
   "outputs": [
    {
     "data": {
      "text/plain": [
       "-1.0"
      ]
     },
     "execution_count": 10,
     "metadata": {},
     "output_type": "execute_result"
    }
   ],
   "source": [
    "inspections['SCORE'].min()"
   ]
  },
  {
   "cell_type": "markdown",
   "metadata": {},
   "source": [
    "According to the column info provided by NYC Open Data:\n",
    "- N = Not Yet Graded\n",
    "- A = Grade A\n",
    "- B = Grade B\n",
    "- C = Grade C\n",
    "- Z = Grade Pending\n",
    "- P = Grade Pending issued on re-opening following an initial inspection that resulted in a closure"
   ]
  },
  {
   "cell_type": "code",
   "execution_count": 12,
   "metadata": {},
   "outputs": [
    {
     "data": {
      "text/plain": [
       "A    152827\n",
       "B     24214\n",
       "C      7927\n",
       "P      2284\n",
       "Name: GRADE, dtype: int64"
      ]
     },
     "execution_count": 12,
     "metadata": {},
     "output_type": "execute_result"
    }
   ],
   "source": [
    "inspections['GRADE'].replace({'Not Yet Graded':np.nan, 'Z':np.nan, 'G':np.nan}, inplace=True)\n",
    "# inspections['GRADE'].replace({'Not Yet Graded':np.nan, 'Z':np.nan, 'P':np.nan, 'G':np.nan}, inplace=True)\n",
    "inspections['GRADE'].value_counts()"
   ]
  },
  {
   "cell_type": "code",
   "execution_count": 13,
   "metadata": {},
   "outputs": [
    {
     "data": {
      "text/plain": [
       "Critical          208533\n",
       "Not Critical      164991\n",
       "Not Applicable      8387\n",
       "Name: CRITICAL FLAG, dtype: int64"
      ]
     },
     "execution_count": 13,
     "metadata": {},
     "output_type": "execute_result"
    }
   ],
   "source": [
    "inspections['CRITICAL FLAG'].value_counts()"
   ]
  },
  {
   "cell_type": "code",
   "execution_count": 14,
   "metadata": {
    "scrolled": true
   },
   "outputs": [
    {
     "data": {
      "text/plain": [
       "Critical        208533\n",
       "Not Critical    164991\n",
       "Name: CRITICAL FLAG, dtype: int64"
      ]
     },
     "execution_count": 14,
     "metadata": {},
     "output_type": "execute_result"
    }
   ],
   "source": [
    "inspections['CRITICAL FLAG'].replace({'Not Applicable':np.nan}, inplace=True)\n",
    "inspections['CRITICAL FLAG'].value_counts()"
   ]
  },
  {
   "cell_type": "code",
   "execution_count": 15,
   "metadata": {
    "scrolled": true
   },
   "outputs": [
    {
     "data": {
      "text/plain": [
       "MANHATTAN        151520\n",
       "BROOKLYN          96622\n",
       "QUEENS            86225\n",
       "BRONX             34017\n",
       "STATEN ISLAND     13378\n",
       "Missing             149\n",
       "Name: BORO, dtype: int64"
      ]
     },
     "execution_count": 15,
     "metadata": {},
     "output_type": "execute_result"
    }
   ],
   "source": [
    "inspections['BORO'].value_counts()"
   ]
  },
  {
   "cell_type": "code",
   "execution_count": 16,
   "metadata": {},
   "outputs": [],
   "source": [
    "inspections['BORO'].replace({'STATEN ISLAND ':np.nan}, inplace=True)"
   ]
  },
  {
   "cell_type": "code",
   "execution_count": 17,
   "metadata": {},
   "outputs": [
    {
     "data": {
      "text/plain": [
       "CAMIS                         0\n",
       "DBA                         509\n",
       "BORO                          0\n",
       "BUILDING                    228\n",
       "STREET                        1\n",
       "ZIPCODE                    5551\n",
       "PHONE                         9\n",
       "CUISINE DESCRIPTION           0\n",
       "INSPECTION DATE               0\n",
       "ACTION                     1302\n",
       "VIOLATION CODE             5785\n",
       "VIOLATION DESCRIPTION      8387\n",
       "CRITICAL FLAG              8387\n",
       "SCORE                     18184\n",
       "GRADE                    194659\n",
       "GRADE DATE               192091\n",
       "RECORD DATE                   0\n",
       "INSPECTION TYPE            1302\n",
       "dtype: int64"
      ]
     },
     "execution_count": 17,
     "metadata": {},
     "output_type": "execute_result"
    }
   ],
   "source": [
    "inspections.isna().sum()"
   ]
  },
  {
   "cell_type": "code",
   "execution_count": 18,
   "metadata": {
    "scrolled": true
   },
   "outputs": [
    {
     "data": {
      "text/html": [
       "<div>\n",
       "<style scoped>\n",
       "    .dataframe tbody tr th:only-of-type {\n",
       "        vertical-align: middle;\n",
       "    }\n",
       "\n",
       "    .dataframe tbody tr th {\n",
       "        vertical-align: top;\n",
       "    }\n",
       "\n",
       "    .dataframe thead th {\n",
       "        text-align: right;\n",
       "    }\n",
       "</style>\n",
       "<table border=\"1\" class=\"dataframe\">\n",
       "  <thead>\n",
       "    <tr style=\"text-align: right;\">\n",
       "      <th></th>\n",
       "      <th>CAMIS</th>\n",
       "      <th>DBA</th>\n",
       "      <th>BORO</th>\n",
       "      <th>CUISINE DESCRIPTION</th>\n",
       "      <th>VIOLATION CODE</th>\n",
       "      <th>CRITICAL FLAG</th>\n",
       "      <th>SCORE</th>\n",
       "      <th>GRADE</th>\n",
       "      <th>GRADE DATE</th>\n",
       "    </tr>\n",
       "  </thead>\n",
       "  <tbody>\n",
       "    <tr>\n",
       "      <th>0</th>\n",
       "      <td>30075445</td>\n",
       "      <td>MORRIS PARK BAKE SHOP</td>\n",
       "      <td>BRONX</td>\n",
       "      <td>Bakery</td>\n",
       "      <td>08C</td>\n",
       "      <td>Not Critical</td>\n",
       "      <td>5.0</td>\n",
       "      <td>A</td>\n",
       "      <td>05/11/2018</td>\n",
       "    </tr>\n",
       "    <tr>\n",
       "      <th>1</th>\n",
       "      <td>30075445</td>\n",
       "      <td>MORRIS PARK BAKE SHOP</td>\n",
       "      <td>BRONX</td>\n",
       "      <td>Bakery</td>\n",
       "      <td>10F</td>\n",
       "      <td>Not Critical</td>\n",
       "      <td>5.0</td>\n",
       "      <td>A</td>\n",
       "      <td>05/11/2018</td>\n",
       "    </tr>\n",
       "    <tr>\n",
       "      <th>2</th>\n",
       "      <td>30075445</td>\n",
       "      <td>MORRIS PARK BAKE SHOP</td>\n",
       "      <td>BRONX</td>\n",
       "      <td>Bakery</td>\n",
       "      <td>06D</td>\n",
       "      <td>Critical</td>\n",
       "      <td>7.0</td>\n",
       "      <td>A</td>\n",
       "      <td>05/18/2017</td>\n",
       "    </tr>\n",
       "    <tr>\n",
       "      <th>3</th>\n",
       "      <td>30075445</td>\n",
       "      <td>MORRIS PARK BAKE SHOP</td>\n",
       "      <td>BRONX</td>\n",
       "      <td>Bakery</td>\n",
       "      <td>10F</td>\n",
       "      <td>Not Critical</td>\n",
       "      <td>7.0</td>\n",
       "      <td>A</td>\n",
       "      <td>05/18/2017</td>\n",
       "    </tr>\n",
       "    <tr>\n",
       "      <th>4</th>\n",
       "      <td>30075445</td>\n",
       "      <td>MORRIS PARK BAKE SHOP</td>\n",
       "      <td>BRONX</td>\n",
       "      <td>Bakery</td>\n",
       "      <td>04L</td>\n",
       "      <td>Critical</td>\n",
       "      <td>10.0</td>\n",
       "      <td>A</td>\n",
       "      <td>02/18/2016</td>\n",
       "    </tr>\n",
       "  </tbody>\n",
       "</table>\n",
       "</div>"
      ],
      "text/plain": [
       "      CAMIS                    DBA   BORO CUISINE DESCRIPTION VIOLATION CODE  \\\n",
       "0  30075445  MORRIS PARK BAKE SHOP  BRONX              Bakery            08C   \n",
       "1  30075445  MORRIS PARK BAKE SHOP  BRONX              Bakery            10F   \n",
       "2  30075445  MORRIS PARK BAKE SHOP  BRONX              Bakery            06D   \n",
       "3  30075445  MORRIS PARK BAKE SHOP  BRONX              Bakery            10F   \n",
       "4  30075445  MORRIS PARK BAKE SHOP  BRONX              Bakery            04L   \n",
       "\n",
       "  CRITICAL FLAG  SCORE GRADE  GRADE DATE  \n",
       "0  Not Critical    5.0     A  05/11/2018  \n",
       "1  Not Critical    5.0     A  05/11/2018  \n",
       "2      Critical    7.0     A  05/18/2017  \n",
       "3  Not Critical    7.0     A  05/18/2017  \n",
       "4      Critical   10.0     A  02/18/2016  "
      ]
     },
     "execution_count": 18,
     "metadata": {},
     "output_type": "execute_result"
    }
   ],
   "source": [
    "cols = ['CAMIS', 'DBA', 'BORO', 'CUISINE DESCRIPTION', 'VIOLATION CODE', 'CRITICAL FLAG', 'SCORE', 'GRADE', 'GRADE DATE']\n",
    "insp = inspections[cols]\n",
    "insp.head(5)"
   ]
  },
  {
   "cell_type": "markdown",
   "metadata": {},
   "source": [
    "### Checking for missing values"
   ]
  },
  {
   "cell_type": "code",
   "execution_count": 19,
   "metadata": {
    "scrolled": true
   },
   "outputs": [
    {
     "data": {
      "text/plain": [
       "CAMIS                       0\n",
       "DBA                       509\n",
       "BORO                        0\n",
       "CUISINE DESCRIPTION         0\n",
       "VIOLATION CODE           5785\n",
       "CRITICAL FLAG            8387\n",
       "SCORE                   18184\n",
       "GRADE                  194659\n",
       "GRADE DATE             192091\n",
       "dtype: int64"
      ]
     },
     "execution_count": 19,
     "metadata": {},
     "output_type": "execute_result"
    }
   ],
   "source": [
    "insp.isna().sum()"
   ]
  },
  {
   "cell_type": "code",
   "execution_count": 20,
   "metadata": {
    "scrolled": true
   },
   "outputs": [],
   "source": [
    "insp = insp.dropna()"
   ]
  },
  {
   "cell_type": "code",
   "execution_count": 21,
   "metadata": {},
   "outputs": [
    {
     "data": {
      "text/plain": [
       "CAMIS                  0\n",
       "DBA                    0\n",
       "BORO                   0\n",
       "CUISINE DESCRIPTION    0\n",
       "VIOLATION CODE         0\n",
       "CRITICAL FLAG          0\n",
       "SCORE                  0\n",
       "GRADE                  0\n",
       "GRADE DATE             0\n",
       "dtype: int64"
      ]
     },
     "execution_count": 21,
     "metadata": {},
     "output_type": "execute_result"
    }
   ],
   "source": [
    "insp.isna().sum()"
   ]
  },
  {
   "cell_type": "code",
   "execution_count": 22,
   "metadata": {},
   "outputs": [],
   "source": [
    "insp['CRITICAL FLAG'].replace(['Not Critical','Critical'],[0,1],inplace=True)"
   ]
  },
  {
   "cell_type": "code",
   "execution_count": 23,
   "metadata": {
    "scrolled": true
   },
   "outputs": [
    {
     "data": {
      "text/plain": [
       "1    94733\n",
       "0    91070\n",
       "Name: CRITICAL FLAG, dtype: int64"
      ]
     },
     "execution_count": 23,
     "metadata": {},
     "output_type": "execute_result"
    }
   ],
   "source": [
    "insp['CRITICAL FLAG'].astype(int)\n",
    "insp['CRITICAL FLAG'].value_counts()"
   ]
  },
  {
   "cell_type": "code",
   "execution_count": 24,
   "metadata": {},
   "outputs": [
    {
     "data": {
      "text/html": [
       "<div>\n",
       "<style scoped>\n",
       "    .dataframe tbody tr th:only-of-type {\n",
       "        vertical-align: middle;\n",
       "    }\n",
       "\n",
       "    .dataframe tbody tr th {\n",
       "        vertical-align: top;\n",
       "    }\n",
       "\n",
       "    .dataframe thead th {\n",
       "        text-align: right;\n",
       "    }\n",
       "</style>\n",
       "<table border=\"1\" class=\"dataframe\">\n",
       "  <thead>\n",
       "    <tr style=\"text-align: right;\">\n",
       "      <th></th>\n",
       "      <th>CAMIS</th>\n",
       "      <th>DBA</th>\n",
       "      <th>BORO</th>\n",
       "      <th>CUISINE DESCRIPTION</th>\n",
       "      <th>VIOLATION CODE</th>\n",
       "      <th>CRITICAL FLAG</th>\n",
       "      <th>SCORE</th>\n",
       "      <th>GRADE</th>\n",
       "      <th>GRADE DATE</th>\n",
       "      <th>VIO_COUNT</th>\n",
       "    </tr>\n",
       "  </thead>\n",
       "  <tbody>\n",
       "    <tr>\n",
       "      <th>0</th>\n",
       "      <td>30075445</td>\n",
       "      <td>MORRIS PARK BAKE SHOP</td>\n",
       "      <td>BRONX</td>\n",
       "      <td>Bakery</td>\n",
       "      <td>08C</td>\n",
       "      <td>0</td>\n",
       "      <td>5.0</td>\n",
       "      <td>A</td>\n",
       "      <td>05/11/2018</td>\n",
       "      <td>2</td>\n",
       "    </tr>\n",
       "    <tr>\n",
       "      <th>1</th>\n",
       "      <td>30075445</td>\n",
       "      <td>MORRIS PARK BAKE SHOP</td>\n",
       "      <td>BRONX</td>\n",
       "      <td>Bakery</td>\n",
       "      <td>10F</td>\n",
       "      <td>0</td>\n",
       "      <td>5.0</td>\n",
       "      <td>A</td>\n",
       "      <td>05/11/2018</td>\n",
       "      <td>2</td>\n",
       "    </tr>\n",
       "  </tbody>\n",
       "</table>\n",
       "</div>"
      ],
      "text/plain": [
       "      CAMIS                    DBA   BORO CUISINE DESCRIPTION VIOLATION CODE  \\\n",
       "0  30075445  MORRIS PARK BAKE SHOP  BRONX              Bakery            08C   \n",
       "1  30075445  MORRIS PARK BAKE SHOP  BRONX              Bakery            10F   \n",
       "\n",
       "   CRITICAL FLAG  SCORE GRADE  GRADE DATE  VIO_COUNT  \n",
       "0              0    5.0     A  05/11/2018          2  \n",
       "1              0    5.0     A  05/11/2018          2  "
      ]
     },
     "execution_count": 24,
     "metadata": {},
     "output_type": "execute_result"
    }
   ],
   "source": [
    "# inspections['GRADE DATE'] = inspections['GRADE DATE'].dt.strftime('%m/%d/%Y')\n",
    "# pd.to_datetime(inspections['GRADE DATE'], format='%m/%d/%Y' ).dt.date.value_counts().rename('VIO_COUNT').to_frame()\n",
    "# inspections['Vio_Counts']=inspections.groupby(pd.to_datetime(inspections['GRADE DATE'], format='%m/%d/%Y').dt.date.value_counts())\n",
    "insp['VIO_COUNT'] = insp.groupby(['CAMIS', 'GRADE DATE'])['VIOLATION CODE'].transform('size')\n",
    "insp.head(2)"
   ]
  },
  {
   "cell_type": "code",
   "execution_count": 25,
   "metadata": {},
   "outputs": [
    {
     "name": "stdout",
     "output_type": "stream",
     "text": [
      "<class 'pandas.core.frame.DataFrame'>\n",
      "Int64Index: 185803 entries, 0 to 381484\n",
      "Data columns (total 10 columns):\n",
      "CAMIS                  185803 non-null int64\n",
      "DBA                    185803 non-null object\n",
      "BORO                   185803 non-null object\n",
      "CUISINE DESCRIPTION    185803 non-null object\n",
      "VIOLATION CODE         185803 non-null object\n",
      "CRITICAL FLAG          185803 non-null int64\n",
      "SCORE                  185803 non-null float64\n",
      "GRADE                  185803 non-null object\n",
      "GRADE DATE             185803 non-null object\n",
      "VIO_COUNT              185803 non-null int64\n",
      "dtypes: float64(1), int64(3), object(6)\n",
      "memory usage: 15.6+ MB\n"
     ]
    }
   ],
   "source": [
    "insp.info()"
   ]
  },
  {
   "cell_type": "code",
   "execution_count": 26,
   "metadata": {
    "scrolled": true
   },
   "outputs": [
    {
     "data": {
      "text/plain": [
       "{A}    70907\n",
       "{B}     6512\n",
       "{C}     1856\n",
       "{P}     1344\n",
       "Name: GRADE_LIST, dtype: int64"
      ]
     },
     "execution_count": 26,
     "metadata": {},
     "output_type": "execute_result"
    }
   ],
   "source": [
    "grade_merged = insp.groupby(['CAMIS','GRADE DATE'])['GRADE'].apply(set).reset_index()\n",
    "grade_merged.rename(columns={'GRADE':'GRADE_LIST'},inplace=True)\n",
    "grade_merged['GRADE_LIST'].value_counts()"
   ]
  },
  {
   "cell_type": "markdown",
   "metadata": {},
   "source": [
    "**This is to say, the grade is assigned once at a time.**"
   ]
  },
  {
   "cell_type": "code",
   "execution_count": 27,
   "metadata": {},
   "outputs": [
    {
     "data": {
      "text/html": [
       "<div>\n",
       "<style scoped>\n",
       "    .dataframe tbody tr th:only-of-type {\n",
       "        vertical-align: middle;\n",
       "    }\n",
       "\n",
       "    .dataframe tbody tr th {\n",
       "        vertical-align: top;\n",
       "    }\n",
       "\n",
       "    .dataframe thead th {\n",
       "        text-align: right;\n",
       "    }\n",
       "</style>\n",
       "<table border=\"1\" class=\"dataframe\">\n",
       "  <thead>\n",
       "    <tr style=\"text-align: right;\">\n",
       "      <th></th>\n",
       "      <th>CAMIS</th>\n",
       "      <th>GRADE DATE</th>\n",
       "      <th>VIO_CODE_LIST</th>\n",
       "    </tr>\n",
       "  </thead>\n",
       "  <tbody>\n",
       "    <tr>\n",
       "      <th>0</th>\n",
       "      <td>30075445</td>\n",
       "      <td>02/18/2016</td>\n",
       "      <td>{04L, 08A}</td>\n",
       "    </tr>\n",
       "    <tr>\n",
       "      <th>1</th>\n",
       "      <td>30075445</td>\n",
       "      <td>05/11/2018</td>\n",
       "      <td>{10F, 08C}</td>\n",
       "    </tr>\n",
       "  </tbody>\n",
       "</table>\n",
       "</div>"
      ],
      "text/plain": [
       "      CAMIS  GRADE DATE VIO_CODE_LIST\n",
       "0  30075445  02/18/2016    {04L, 08A}\n",
       "1  30075445  05/11/2018    {10F, 08C}"
      ]
     },
     "execution_count": 27,
     "metadata": {},
     "output_type": "execute_result"
    }
   ],
   "source": [
    "vio_merged = insp.groupby(['CAMIS','GRADE DATE'])['VIOLATION CODE'].apply(set).reset_index()\n",
    "vio_merged.rename(columns={'VIOLATION CODE':'VIO_CODE_LIST'},inplace=True)\n",
    "vio_merged.head(2)"
   ]
  },
  {
   "cell_type": "code",
   "execution_count": 28,
   "metadata": {},
   "outputs": [
    {
     "data": {
      "text/html": [
       "<div>\n",
       "<style scoped>\n",
       "    .dataframe tbody tr th:only-of-type {\n",
       "        vertical-align: middle;\n",
       "    }\n",
       "\n",
       "    .dataframe tbody tr th {\n",
       "        vertical-align: top;\n",
       "    }\n",
       "\n",
       "    .dataframe thead th {\n",
       "        text-align: right;\n",
       "    }\n",
       "</style>\n",
       "<table border=\"1\" class=\"dataframe\">\n",
       "  <thead>\n",
       "    <tr style=\"text-align: right;\">\n",
       "      <th></th>\n",
       "      <th>CAMIS</th>\n",
       "      <th>GRADE DATE</th>\n",
       "      <th>CRITICAL_COUNT</th>\n",
       "    </tr>\n",
       "  </thead>\n",
       "  <tbody>\n",
       "    <tr>\n",
       "      <th>0</th>\n",
       "      <td>30075445</td>\n",
       "      <td>02/18/2016</td>\n",
       "      <td>1</td>\n",
       "    </tr>\n",
       "    <tr>\n",
       "      <th>1</th>\n",
       "      <td>30075445</td>\n",
       "      <td>05/11/2018</td>\n",
       "      <td>0</td>\n",
       "    </tr>\n",
       "  </tbody>\n",
       "</table>\n",
       "</div>"
      ],
      "text/plain": [
       "      CAMIS  GRADE DATE  CRITICAL_COUNT\n",
       "0  30075445  02/18/2016               1\n",
       "1  30075445  05/11/2018               0"
      ]
     },
     "execution_count": 28,
     "metadata": {},
     "output_type": "execute_result"
    }
   ],
   "source": [
    "vio_critical = insp.groupby(['CAMIS','GRADE DATE'])['CRITICAL FLAG'].sum().reset_index()\n",
    "vio_critical.rename(columns={'CRITICAL FLAG':'CRITICAL_COUNT'},inplace=True)\n",
    "vio_critical.head(2)"
   ]
  },
  {
   "cell_type": "code",
   "execution_count": 29,
   "metadata": {},
   "outputs": [
    {
     "data": {
      "text/html": [
       "<div>\n",
       "<style scoped>\n",
       "    .dataframe tbody tr th:only-of-type {\n",
       "        vertical-align: middle;\n",
       "    }\n",
       "\n",
       "    .dataframe tbody tr th {\n",
       "        vertical-align: top;\n",
       "    }\n",
       "\n",
       "    .dataframe thead th {\n",
       "        text-align: right;\n",
       "    }\n",
       "</style>\n",
       "<table border=\"1\" class=\"dataframe\">\n",
       "  <thead>\n",
       "    <tr style=\"text-align: right;\">\n",
       "      <th></th>\n",
       "      <th>CAMIS</th>\n",
       "      <th>GRADE DATE</th>\n",
       "      <th>VIO_CODE_LIST</th>\n",
       "      <th>CRITICAL_COUNT</th>\n",
       "    </tr>\n",
       "  </thead>\n",
       "  <tbody>\n",
       "    <tr>\n",
       "      <th>0</th>\n",
       "      <td>30075445</td>\n",
       "      <td>02/18/2016</td>\n",
       "      <td>{04L, 08A}</td>\n",
       "      <td>1</td>\n",
       "    </tr>\n",
       "    <tr>\n",
       "      <th>1</th>\n",
       "      <td>30075445</td>\n",
       "      <td>05/11/2018</td>\n",
       "      <td>{10F, 08C}</td>\n",
       "      <td>0</td>\n",
       "    </tr>\n",
       "    <tr>\n",
       "      <th>2</th>\n",
       "      <td>30075445</td>\n",
       "      <td>05/18/2017</td>\n",
       "      <td>{06D, 10F}</td>\n",
       "      <td>1</td>\n",
       "    </tr>\n",
       "    <tr>\n",
       "      <th>3</th>\n",
       "      <td>30112340</td>\n",
       "      <td>03/04/2019</td>\n",
       "      <td>{02G, 10F, 10B}</td>\n",
       "      <td>1</td>\n",
       "    </tr>\n",
       "    <tr>\n",
       "      <th>4</th>\n",
       "      <td>30112340</td>\n",
       "      <td>03/13/2018</td>\n",
       "      <td>{04L, 08A, 10B}</td>\n",
       "      <td>1</td>\n",
       "    </tr>\n",
       "  </tbody>\n",
       "</table>\n",
       "</div>"
      ],
      "text/plain": [
       "      CAMIS  GRADE DATE    VIO_CODE_LIST  CRITICAL_COUNT\n",
       "0  30075445  02/18/2016       {04L, 08A}               1\n",
       "1  30075445  05/11/2018       {10F, 08C}               0\n",
       "2  30075445  05/18/2017       {06D, 10F}               1\n",
       "3  30112340  03/04/2019  {02G, 10F, 10B}               1\n",
       "4  30112340  03/13/2018  {04L, 08A, 10B}               1"
      ]
     },
     "execution_count": 29,
     "metadata": {},
     "output_type": "execute_result"
    }
   ],
   "source": [
    "vio = pd.merge(vio_merged, vio_critical, on=['CAMIS', 'GRADE DATE'])\n",
    "vio.head(5)"
   ]
  },
  {
   "cell_type": "code",
   "execution_count": 30,
   "metadata": {},
   "outputs": [
    {
     "data": {
      "text/html": [
       "<div>\n",
       "<style scoped>\n",
       "    .dataframe tbody tr th:only-of-type {\n",
       "        vertical-align: middle;\n",
       "    }\n",
       "\n",
       "    .dataframe tbody tr th {\n",
       "        vertical-align: top;\n",
       "    }\n",
       "\n",
       "    .dataframe thead th {\n",
       "        text-align: right;\n",
       "    }\n",
       "</style>\n",
       "<table border=\"1\" class=\"dataframe\">\n",
       "  <thead>\n",
       "    <tr style=\"text-align: right;\">\n",
       "      <th></th>\n",
       "      <th>CAMIS</th>\n",
       "      <th>DBA</th>\n",
       "      <th>BORO</th>\n",
       "      <th>CUISINE DESCRIPTION</th>\n",
       "      <th>GRADE DATE</th>\n",
       "      <th>SCORE</th>\n",
       "      <th>GRADE</th>\n",
       "      <th>VIO_COUNT</th>\n",
       "      <th>VIO_CODE_LIST</th>\n",
       "      <th>CRITICAL_COUNT</th>\n",
       "    </tr>\n",
       "  </thead>\n",
       "  <tbody>\n",
       "    <tr>\n",
       "      <th>0</th>\n",
       "      <td>30075445</td>\n",
       "      <td>MORRIS PARK BAKE SHOP</td>\n",
       "      <td>BRONX</td>\n",
       "      <td>Bakery</td>\n",
       "      <td>05/11/2018</td>\n",
       "      <td>5.0</td>\n",
       "      <td>A</td>\n",
       "      <td>2</td>\n",
       "      <td>{10F, 08C}</td>\n",
       "      <td>0</td>\n",
       "    </tr>\n",
       "    <tr>\n",
       "      <th>1</th>\n",
       "      <td>30075445</td>\n",
       "      <td>MORRIS PARK BAKE SHOP</td>\n",
       "      <td>BRONX</td>\n",
       "      <td>Bakery</td>\n",
       "      <td>05/11/2018</td>\n",
       "      <td>5.0</td>\n",
       "      <td>A</td>\n",
       "      <td>2</td>\n",
       "      <td>{10F, 08C}</td>\n",
       "      <td>0</td>\n",
       "    </tr>\n",
       "    <tr>\n",
       "      <th>2</th>\n",
       "      <td>30075445</td>\n",
       "      <td>MORRIS PARK BAKE SHOP</td>\n",
       "      <td>BRONX</td>\n",
       "      <td>Bakery</td>\n",
       "      <td>05/18/2017</td>\n",
       "      <td>7.0</td>\n",
       "      <td>A</td>\n",
       "      <td>2</td>\n",
       "      <td>{06D, 10F}</td>\n",
       "      <td>1</td>\n",
       "    </tr>\n",
       "    <tr>\n",
       "      <th>3</th>\n",
       "      <td>30075445</td>\n",
       "      <td>MORRIS PARK BAKE SHOP</td>\n",
       "      <td>BRONX</td>\n",
       "      <td>Bakery</td>\n",
       "      <td>05/18/2017</td>\n",
       "      <td>7.0</td>\n",
       "      <td>A</td>\n",
       "      <td>2</td>\n",
       "      <td>{06D, 10F}</td>\n",
       "      <td>1</td>\n",
       "    </tr>\n",
       "    <tr>\n",
       "      <th>4</th>\n",
       "      <td>30075445</td>\n",
       "      <td>MORRIS PARK BAKE SHOP</td>\n",
       "      <td>BRONX</td>\n",
       "      <td>Bakery</td>\n",
       "      <td>02/18/2016</td>\n",
       "      <td>10.0</td>\n",
       "      <td>A</td>\n",
       "      <td>2</td>\n",
       "      <td>{04L, 08A}</td>\n",
       "      <td>1</td>\n",
       "    </tr>\n",
       "  </tbody>\n",
       "</table>\n",
       "</div>"
      ],
      "text/plain": [
       "      CAMIS                    DBA   BORO CUISINE DESCRIPTION  GRADE DATE  \\\n",
       "0  30075445  MORRIS PARK BAKE SHOP  BRONX              Bakery  05/11/2018   \n",
       "1  30075445  MORRIS PARK BAKE SHOP  BRONX              Bakery  05/11/2018   \n",
       "2  30075445  MORRIS PARK BAKE SHOP  BRONX              Bakery  05/18/2017   \n",
       "3  30075445  MORRIS PARK BAKE SHOP  BRONX              Bakery  05/18/2017   \n",
       "4  30075445  MORRIS PARK BAKE SHOP  BRONX              Bakery  02/18/2016   \n",
       "\n",
       "   SCORE GRADE  VIO_COUNT VIO_CODE_LIST  CRITICAL_COUNT  \n",
       "0    5.0     A          2    {10F, 08C}               0  \n",
       "1    5.0     A          2    {10F, 08C}               0  \n",
       "2    7.0     A          2    {06D, 10F}               1  \n",
       "3    7.0     A          2    {06D, 10F}               1  \n",
       "4   10.0     A          2    {04L, 08A}               1  "
      ]
     },
     "execution_count": 30,
     "metadata": {},
     "output_type": "execute_result"
    }
   ],
   "source": [
    "insp_ = pd.merge(insp.loc[:, ['CAMIS', 'DBA', 'BORO', 'CUISINE DESCRIPTION', 'GRADE DATE', 'SCORE', 'GRADE', 'VIO_COUNT']], vio, on=['CAMIS', 'GRADE DATE'])\n",
    "insp_.head(5)"
   ]
  },
  {
   "cell_type": "code",
   "execution_count": 31,
   "metadata": {},
   "outputs": [],
   "source": [
    "insp_['GRADE DATE'] = pd.to_datetime(insp_['GRADE DATE'])"
   ]
  },
  {
   "cell_type": "markdown",
   "metadata": {},
   "source": [
    "### Keep only most recent date records"
   ]
  },
  {
   "cell_type": "code",
   "execution_count": 32,
   "metadata": {},
   "outputs": [
    {
     "data": {
      "text/html": [
       "<div>\n",
       "<style scoped>\n",
       "    .dataframe tbody tr th:only-of-type {\n",
       "        vertical-align: middle;\n",
       "    }\n",
       "\n",
       "    .dataframe tbody tr th {\n",
       "        vertical-align: top;\n",
       "    }\n",
       "\n",
       "    .dataframe thead th {\n",
       "        text-align: right;\n",
       "    }\n",
       "</style>\n",
       "<table border=\"1\" class=\"dataframe\">\n",
       "  <thead>\n",
       "    <tr style=\"text-align: right;\">\n",
       "      <th></th>\n",
       "      <th>CAMIS</th>\n",
       "      <th>DBA</th>\n",
       "      <th>BORO</th>\n",
       "      <th>CUISINE DESCRIPTION</th>\n",
       "      <th>GRADE DATE</th>\n",
       "      <th>SCORE</th>\n",
       "      <th>GRADE</th>\n",
       "      <th>VIO_COUNT</th>\n",
       "      <th>VIO_CODE_LIST</th>\n",
       "      <th>CRITICAL_COUNT</th>\n",
       "    </tr>\n",
       "  </thead>\n",
       "  <tbody>\n",
       "    <tr>\n",
       "      <th>0</th>\n",
       "      <td>30075445</td>\n",
       "      <td>MORRIS PARK BAKE SHOP</td>\n",
       "      <td>BRONX</td>\n",
       "      <td>Bakery</td>\n",
       "      <td>2018-05-11</td>\n",
       "      <td>5.0</td>\n",
       "      <td>A</td>\n",
       "      <td>2</td>\n",
       "      <td>{10F, 08C}</td>\n",
       "      <td>0</td>\n",
       "    </tr>\n",
       "    <tr>\n",
       "      <th>1</th>\n",
       "      <td>30112340</td>\n",
       "      <td>WENDY'S</td>\n",
       "      <td>BROOKLYN</td>\n",
       "      <td>Hamburgers</td>\n",
       "      <td>2019-03-04</td>\n",
       "      <td>13.0</td>\n",
       "      <td>A</td>\n",
       "      <td>3</td>\n",
       "      <td>{02G, 10F, 10B}</td>\n",
       "      <td>1</td>\n",
       "    </tr>\n",
       "    <tr>\n",
       "      <th>2</th>\n",
       "      <td>30191841</td>\n",
       "      <td>DJ REYNOLDS PUB AND RESTAURANT</td>\n",
       "      <td>MANHATTAN</td>\n",
       "      <td>Irish</td>\n",
       "      <td>2018-05-16</td>\n",
       "      <td>12.0</td>\n",
       "      <td>A</td>\n",
       "      <td>3</td>\n",
       "      <td>{04L, 08A, 10F}</td>\n",
       "      <td>1</td>\n",
       "    </tr>\n",
       "    <tr>\n",
       "      <th>3</th>\n",
       "      <td>40356018</td>\n",
       "      <td>RIVIERA CATERERS</td>\n",
       "      <td>BROOKLYN</td>\n",
       "      <td>American</td>\n",
       "      <td>2018-10-30</td>\n",
       "      <td>10.0</td>\n",
       "      <td>A</td>\n",
       "      <td>2</td>\n",
       "      <td>{06D, 10F}</td>\n",
       "      <td>1</td>\n",
       "    </tr>\n",
       "    <tr>\n",
       "      <th>4</th>\n",
       "      <td>40356151</td>\n",
       "      <td>BRUNOS ON THE BOULEVARD</td>\n",
       "      <td>QUEENS</td>\n",
       "      <td>American</td>\n",
       "      <td>2017-08-19</td>\n",
       "      <td>10.0</td>\n",
       "      <td>A</td>\n",
       "      <td>2</td>\n",
       "      <td>{10F, 06C}</td>\n",
       "      <td>1</td>\n",
       "    </tr>\n",
       "  </tbody>\n",
       "</table>\n",
       "</div>"
      ],
      "text/plain": [
       "      CAMIS                             DBA       BORO CUISINE DESCRIPTION  \\\n",
       "0  30075445           MORRIS PARK BAKE SHOP      BRONX              Bakery   \n",
       "1  30112340                         WENDY'S   BROOKLYN          Hamburgers   \n",
       "2  30191841  DJ REYNOLDS PUB AND RESTAURANT  MANHATTAN               Irish   \n",
       "3  40356018                RIVIERA CATERERS   BROOKLYN            American   \n",
       "4  40356151         BRUNOS ON THE BOULEVARD     QUEENS            American   \n",
       "\n",
       "  GRADE DATE  SCORE GRADE  VIO_COUNT    VIO_CODE_LIST  CRITICAL_COUNT  \n",
       "0 2018-05-11    5.0     A          2       {10F, 08C}               0  \n",
       "1 2019-03-04   13.0     A          3  {02G, 10F, 10B}               1  \n",
       "2 2018-05-16   12.0     A          3  {04L, 08A, 10F}               1  \n",
       "3 2018-10-30   10.0     A          2       {06D, 10F}               1  \n",
       "4 2017-08-19   10.0     A          2       {10F, 06C}               1  "
      ]
     },
     "execution_count": 32,
     "metadata": {},
     "output_type": "execute_result"
    }
   ],
   "source": [
    "unique_insp = insp_.sort_values('GRADE DATE').drop_duplicates(['CAMIS','DBA'], keep='last').sort_index()\n",
    "unique_insp.reset_index(inplace=True, drop=True)\n",
    "unique_insp.head(5)"
   ]
  },
  {
   "cell_type": "code",
   "execution_count": 33,
   "metadata": {},
   "outputs": [
    {
     "data": {
      "text/plain": [
       "CAMIS                  0\n",
       "DBA                    0\n",
       "BORO                   0\n",
       "CUISINE DESCRIPTION    0\n",
       "GRADE DATE             0\n",
       "SCORE                  0\n",
       "GRADE                  0\n",
       "VIO_COUNT              0\n",
       "VIO_CODE_LIST          0\n",
       "CRITICAL_COUNT         0\n",
       "dtype: int64"
      ]
     },
     "execution_count": 33,
     "metadata": {},
     "output_type": "execute_result"
    }
   ],
   "source": [
    "unique_insp.isna().sum()"
   ]
  },
  {
   "cell_type": "code",
   "execution_count": 34,
   "metadata": {},
   "outputs": [],
   "source": [
    "unique_insp.to_csv('most_recent_inspections.csv', index=False)"
   ]
  },
  {
   "cell_type": "code",
   "execution_count": 35,
   "metadata": {},
   "outputs": [],
   "source": [
    "# visual libraries\n",
    "import matplotlib.pyplot as plt\n",
    "import seaborn as sns"
   ]
  },
  {
   "cell_type": "code",
   "execution_count": 51,
   "metadata": {},
   "outputs": [
    {
     "data": {
      "image/png": "[encoded data removed]",
      "text/plain": [
       "<Figure size 864x648 with 2 Axes>"
      ]
     },
     "metadata": {
      "needs_background": "light"
     },
     "output_type": "display_data"
    }
   ],
   "source": [
    "# heat map of correlation of features\n",
    "correlation_matrix = unique_insp.drop(columns=['CAMIS']).corr()\n",
    "fig = plt.figure(figsize=(12,9))\n",
    "sns.heatmap(correlation_matrix,vmax=0.8,square = True)\n",
    "plt.show()"
   ]
  },
  {
   "cell_type": "code",
   "execution_count": 37,
   "metadata": {},
   "outputs": [
    {
     "name": "stdout",
     "output_type": "stream",
     "text": [
      "Score A:  92 %\n"
     ]
    }
   ],
   "source": [
    "rest_count = unique_insp.shape[0]\n",
    "A_list = unique_insp[unique_insp['GRADE'] == 'A']\n",
    "\n",
    "x = len(A_list)/rest_count\n",
    "print(\"Score A: % 3d\" %(int(x*100)),  '%') \n",
    "# print('Score A Percentage:',,)"
   ]
  },
  {
   "cell_type": "code",
   "execution_count": 44,
   "metadata": {},
   "outputs": [
    {
     "data": {
      "text/plain": [
       "349"
      ]
     },
     "execution_count": 44,
     "metadata": {},
     "output_type": "execute_result"
    }
   ],
   "source": [
    " unique_insp['GRADE'].value_counts()[2]"
   ]
  },
  {
   "cell_type": "code",
   "execution_count": 48,
   "metadata": {},
   "outputs": [
    {
     "data": {
      "image/png": "[encoded data removed]",
      "text/plain": [
       "<Figure size 432x288 with 1 Axes>"
      ]
     },
     "metadata": {},
     "output_type": "display_data"
    }
   ],
   "source": [
    "cmap = plt.get_cmap('Spectral')\n",
    "# colors = [cmap(i) for i in np.linspace(0, 1, 9)]\n",
    "colors = ['orange', 'lightskyblue', 'royalblue', 'red']\n",
    "# Pie chart\n",
    "labels = ['A', 'B', 'C', 'P']\n",
    "sizes = [unique_insp['GRADE'].value_counts()[0], unique_insp['GRADE'].value_counts()[1], unique_insp['GRADE'].value_counts()[2], unique_insp['GRADE'].value_counts()[3]]\n",
    "explode = (0, 0.05, 0.1, 0.2)  \n",
    "\n",
    "fig1, ax1 = plt.subplots()\n",
    "ax1.pie(sizes, explode=explode, labels=labels, autopct='%1.1f%%',\n",
    "        shadow=True, colors=colors, startangle=45)\n",
    "# Equal aspect ratio ensures that pie is drawn as a circle\n",
    "ax1.axis('equal')  \n",
    "plt.tight_layout()\n",
    "plt.show()"
   ]
  },
  {
   "cell_type": "code",
   "execution_count": null,
   "metadata": {},
   "outputs": [],
   "source": []
  }
 ],
 "metadata": {
  "kernelspec": {
   "display_name": "Python 3",
   "language": "python",
   "name": "python3"
  },
  "language_info": {
   "codemirror_mode": {
    "name": "ipython",
    "version": 3
   },
   "file_extension": ".py",
   "mimetype": "text/x-python",
   "name": "python",
   "nbconvert_exporter": "python",
   "pygments_lexer": "ipython3",
   "version": "3.7.3"
  }
 },
 "nbformat": 4,
 "nbformat_minor": 2
}
