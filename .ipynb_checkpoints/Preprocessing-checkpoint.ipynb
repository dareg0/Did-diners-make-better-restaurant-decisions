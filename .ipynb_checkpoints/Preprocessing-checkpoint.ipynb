{
 "cells": [
  {
   "cell_type": "markdown",
   "metadata": {},
   "source": [
    "# Preprocessing the Inspection Dataset"
   ]
  },
  {
   "cell_type": "code",
   "execution_count": 667,
   "metadata": {},
   "outputs": [],
   "source": [
    "import pandas as pd\n",
    "import numpy as np"
   ]
  },
  {
   "cell_type": "code",
   "execution_count": 668,
   "metadata": {
    "scrolled": true
   },
   "outputs": [
    {
     "name": "stderr",
     "output_type": "stream",
     "text": [
      "/usr/local/lib/python3.7/site-packages/IPython/core/interactiveshell.py:3049: DtypeWarning: Columns (6) have mixed types. Specify dtype option on import or set low_memory=False.\n",
      "  interactivity=interactivity, compiler=compiler, result=result)\n"
     ]
    }
   ],
   "source": [
    "inspections = pd.read_csv('Data/DOHMH_New_York_City_Restaurant_Inspection_Results.csv')"
   ]
  },
  {
   "cell_type": "code",
   "execution_count": 669,
   "metadata": {},
   "outputs": [
    {
     "data": {
      "text/html": [
       "<div>\n",
       "<style scoped>\n",
       "    .dataframe tbody tr th:only-of-type {\n",
       "        vertical-align: middle;\n",
       "    }\n",
       "\n",
       "    .dataframe tbody tr th {\n",
       "        vertical-align: top;\n",
       "    }\n",
       "\n",
       "    .dataframe thead th {\n",
       "        text-align: right;\n",
       "    }\n",
       "</style>\n",
       "<table border=\"1\" class=\"dataframe\">\n",
       "  <thead>\n",
       "    <tr style=\"text-align: right;\">\n",
       "      <th></th>\n",
       "      <th>CAMIS</th>\n",
       "      <th>DBA</th>\n",
       "      <th>BORO</th>\n",
       "      <th>BUILDING</th>\n",
       "      <th>STREET</th>\n",
       "      <th>ZIPCODE</th>\n",
       "      <th>PHONE</th>\n",
       "      <th>CUISINE DESCRIPTION</th>\n",
       "      <th>INSPECTION DATE</th>\n",
       "      <th>ACTION</th>\n",
       "      <th>VIOLATION CODE</th>\n",
       "      <th>VIOLATION DESCRIPTION</th>\n",
       "      <th>CRITICAL FLAG</th>\n",
       "      <th>SCORE</th>\n",
       "      <th>GRADE</th>\n",
       "      <th>GRADE DATE</th>\n",
       "      <th>RECORD DATE</th>\n",
       "      <th>INSPECTION TYPE</th>\n",
       "    </tr>\n",
       "  </thead>\n",
       "  <tbody>\n",
       "    <tr>\n",
       "      <th>0</th>\n",
       "      <td>30075445</td>\n",
       "      <td>MORRIS PARK BAKE SHOP</td>\n",
       "      <td>BRONX</td>\n",
       "      <td>1007</td>\n",
       "      <td>MORRIS PARK AVE</td>\n",
       "      <td>10462.0</td>\n",
       "      <td>7188924968</td>\n",
       "      <td>Bakery</td>\n",
       "      <td>05/11/2018</td>\n",
       "      <td>Violations were cited in the following area(s).</td>\n",
       "      <td>08C</td>\n",
       "      <td>Pesticide use not in accordance with label or ...</td>\n",
       "      <td>Not Critical</td>\n",
       "      <td>5.0</td>\n",
       "      <td>A</td>\n",
       "      <td>05/11/2018</td>\n",
       "      <td>04/28/2019</td>\n",
       "      <td>Cycle Inspection / Initial Inspection</td>\n",
       "    </tr>\n",
       "    <tr>\n",
       "      <th>1</th>\n",
       "      <td>30075445</td>\n",
       "      <td>MORRIS PARK BAKE SHOP</td>\n",
       "      <td>BRONX</td>\n",
       "      <td>1007</td>\n",
       "      <td>MORRIS PARK AVE</td>\n",
       "      <td>10462.0</td>\n",
       "      <td>7188924968</td>\n",
       "      <td>Bakery</td>\n",
       "      <td>05/11/2018</td>\n",
       "      <td>Violations were cited in the following area(s).</td>\n",
       "      <td>10F</td>\n",
       "      <td>Non-food contact surface improperly constructe...</td>\n",
       "      <td>Not Critical</td>\n",
       "      <td>5.0</td>\n",
       "      <td>A</td>\n",
       "      <td>05/11/2018</td>\n",
       "      <td>04/28/2019</td>\n",
       "      <td>Cycle Inspection / Initial Inspection</td>\n",
       "    </tr>\n",
       "    <tr>\n",
       "      <th>2</th>\n",
       "      <td>30075445</td>\n",
       "      <td>MORRIS PARK BAKE SHOP</td>\n",
       "      <td>BRONX</td>\n",
       "      <td>1007</td>\n",
       "      <td>MORRIS PARK AVE</td>\n",
       "      <td>10462.0</td>\n",
       "      <td>7188924968</td>\n",
       "      <td>Bakery</td>\n",
       "      <td>05/18/2017</td>\n",
       "      <td>Violations were cited in the following area(s).</td>\n",
       "      <td>06D</td>\n",
       "      <td>Food contact surface not properly washed, rins...</td>\n",
       "      <td>Critical</td>\n",
       "      <td>7.0</td>\n",
       "      <td>A</td>\n",
       "      <td>05/18/2017</td>\n",
       "      <td>04/28/2019</td>\n",
       "      <td>Cycle Inspection / Initial Inspection</td>\n",
       "    </tr>\n",
       "    <tr>\n",
       "      <th>3</th>\n",
       "      <td>30075445</td>\n",
       "      <td>MORRIS PARK BAKE SHOP</td>\n",
       "      <td>BRONX</td>\n",
       "      <td>1007</td>\n",
       "      <td>MORRIS PARK AVE</td>\n",
       "      <td>10462.0</td>\n",
       "      <td>7188924968</td>\n",
       "      <td>Bakery</td>\n",
       "      <td>05/18/2017</td>\n",
       "      <td>Violations were cited in the following area(s).</td>\n",
       "      <td>10F</td>\n",
       "      <td>Non-food contact surface improperly constructe...</td>\n",
       "      <td>Not Critical</td>\n",
       "      <td>7.0</td>\n",
       "      <td>A</td>\n",
       "      <td>05/18/2017</td>\n",
       "      <td>04/28/2019</td>\n",
       "      <td>Cycle Inspection / Initial Inspection</td>\n",
       "    </tr>\n",
       "    <tr>\n",
       "      <th>4</th>\n",
       "      <td>30075445</td>\n",
       "      <td>MORRIS PARK BAKE SHOP</td>\n",
       "      <td>BRONX</td>\n",
       "      <td>1007</td>\n",
       "      <td>MORRIS PARK AVE</td>\n",
       "      <td>10462.0</td>\n",
       "      <td>7188924968</td>\n",
       "      <td>Bakery</td>\n",
       "      <td>02/18/2016</td>\n",
       "      <td>Violations were cited in the following area(s).</td>\n",
       "      <td>04L</td>\n",
       "      <td>Evidence of mice or live mice present in facil...</td>\n",
       "      <td>Critical</td>\n",
       "      <td>10.0</td>\n",
       "      <td>A</td>\n",
       "      <td>02/18/2016</td>\n",
       "      <td>04/28/2019</td>\n",
       "      <td>Cycle Inspection / Initial Inspection</td>\n",
       "    </tr>\n",
       "  </tbody>\n",
       "</table>\n",
       "</div>"
      ],
      "text/plain": [
       "      CAMIS                    DBA   BORO BUILDING           STREET  ZIPCODE  \\\n",
       "0  30075445  MORRIS PARK BAKE SHOP  BRONX     1007  MORRIS PARK AVE  10462.0   \n",
       "1  30075445  MORRIS PARK BAKE SHOP  BRONX     1007  MORRIS PARK AVE  10462.0   \n",
       "2  30075445  MORRIS PARK BAKE SHOP  BRONX     1007  MORRIS PARK AVE  10462.0   \n",
       "3  30075445  MORRIS PARK BAKE SHOP  BRONX     1007  MORRIS PARK AVE  10462.0   \n",
       "4  30075445  MORRIS PARK BAKE SHOP  BRONX     1007  MORRIS PARK AVE  10462.0   \n",
       "\n",
       "        PHONE CUISINE DESCRIPTION INSPECTION DATE  \\\n",
       "0  7188924968              Bakery      05/11/2018   \n",
       "1  7188924968              Bakery      05/11/2018   \n",
       "2  7188924968              Bakery      05/18/2017   \n",
       "3  7188924968              Bakery      05/18/2017   \n",
       "4  7188924968              Bakery      02/18/2016   \n",
       "\n",
       "                                            ACTION VIOLATION CODE  \\\n",
       "0  Violations were cited in the following area(s).            08C   \n",
       "1  Violations were cited in the following area(s).            10F   \n",
       "2  Violations were cited in the following area(s).            06D   \n",
       "3  Violations were cited in the following area(s).            10F   \n",
       "4  Violations were cited in the following area(s).            04L   \n",
       "\n",
       "                               VIOLATION DESCRIPTION CRITICAL FLAG  SCORE  \\\n",
       "0  Pesticide use not in accordance with label or ...  Not Critical    5.0   \n",
       "1  Non-food contact surface improperly constructe...  Not Critical    5.0   \n",
       "2  Food contact surface not properly washed, rins...      Critical    7.0   \n",
       "3  Non-food contact surface improperly constructe...  Not Critical    7.0   \n",
       "4  Evidence of mice or live mice present in facil...      Critical   10.0   \n",
       "\n",
       "  GRADE  GRADE DATE RECORD DATE                        INSPECTION TYPE  \n",
       "0     A  05/11/2018  04/28/2019  Cycle Inspection / Initial Inspection  \n",
       "1     A  05/11/2018  04/28/2019  Cycle Inspection / Initial Inspection  \n",
       "2     A  05/18/2017  04/28/2019  Cycle Inspection / Initial Inspection  \n",
       "3     A  05/18/2017  04/28/2019  Cycle Inspection / Initial Inspection  \n",
       "4     A  02/18/2016  04/28/2019  Cycle Inspection / Initial Inspection  "
      ]
     },
     "execution_count": 669,
     "metadata": {},
     "output_type": "execute_result"
    }
   ],
   "source": [
    "inspections.head(5)"
   ]
  },
  {
   "cell_type": "code",
   "execution_count": 670,
   "metadata": {},
   "outputs": [
    {
     "data": {
      "text/plain": [
       "(381911, 18)"
      ]
     },
     "execution_count": 670,
     "metadata": {},
     "output_type": "execute_result"
    }
   ],
   "source": [
    "inspections.shape"
   ]
  },
  {
   "cell_type": "code",
   "execution_count": 671,
   "metadata": {},
   "outputs": [
    {
     "data": {
      "text/plain": [
       "A                 13148\n",
       "B                  1249\n",
       "C                   310\n",
       "Z                   134\n",
       "Not Yet Graded      130\n",
       "P                    71\n",
       "Name: GRADE, dtype: int64"
      ]
     },
     "execution_count": 671,
     "metadata": {},
     "output_type": "execute_result"
    }
   ],
   "source": [
    "inspections[inspections['VIOLATION CODE']=='06D']['GRADE'].value_counts()"
   ]
  },
  {
   "cell_type": "markdown",
   "metadata": {},
   "source": [
    "**Above results suggest that the relationship between 'VIOLATION CODE' and 'GRADE' is not pairwise. So we decided to keep both columns as metrics.**"
   ]
  },
  {
   "cell_type": "code",
   "execution_count": 672,
   "metadata": {},
   "outputs": [
    {
     "data": {
      "text/plain": [
       "A                 152827\n",
       "B                  24214\n",
       "C                   7927\n",
       "Z                   2559\n",
       "Not Yet Graded      2535\n",
       "P                   2284\n",
       "G                      5\n",
       "Name: GRADE, dtype: int64"
      ]
     },
     "execution_count": 672,
     "metadata": {},
     "output_type": "execute_result"
    }
   ],
   "source": [
    "inspections['GRADE'].value_counts()"
   ]
  },
  {
   "cell_type": "markdown",
   "metadata": {},
   "source": [
    "According to the column info provided by NYC Open Data:\n",
    "- N = Not Yet Graded\n",
    "- A = Grade A\n",
    "- B = Grade B\n",
    "- C = Grade C\n",
    "- Z = Grade Pending\n",
    "- P = Grade Pending issued on re-opening following an initial inspection that resulted in a closure"
   ]
  },
  {
   "cell_type": "code",
   "execution_count": 673,
   "metadata": {},
   "outputs": [
    {
     "data": {
      "text/html": [
       "<div>\n",
       "<style scoped>\n",
       "    .dataframe tbody tr th:only-of-type {\n",
       "        vertical-align: middle;\n",
       "    }\n",
       "\n",
       "    .dataframe tbody tr th {\n",
       "        vertical-align: top;\n",
       "    }\n",
       "\n",
       "    .dataframe thead th {\n",
       "        text-align: right;\n",
       "    }\n",
       "</style>\n",
       "<table border=\"1\" class=\"dataframe\">\n",
       "  <thead>\n",
       "    <tr style=\"text-align: right;\">\n",
       "      <th></th>\n",
       "      <th>CAMIS</th>\n",
       "      <th>DBA</th>\n",
       "      <th>BORO</th>\n",
       "      <th>BUILDING</th>\n",
       "      <th>STREET</th>\n",
       "      <th>ZIPCODE</th>\n",
       "      <th>PHONE</th>\n",
       "      <th>CUISINE DESCRIPTION</th>\n",
       "      <th>INSPECTION DATE</th>\n",
       "      <th>ACTION</th>\n",
       "      <th>VIOLATION CODE</th>\n",
       "      <th>VIOLATION DESCRIPTION</th>\n",
       "      <th>CRITICAL FLAG</th>\n",
       "      <th>SCORE</th>\n",
       "      <th>GRADE</th>\n",
       "      <th>GRADE DATE</th>\n",
       "      <th>RECORD DATE</th>\n",
       "      <th>INSPECTION TYPE</th>\n",
       "    </tr>\n",
       "  </thead>\n",
       "  <tbody>\n",
       "    <tr>\n",
       "      <th>270808</th>\n",
       "      <td>50042900</td>\n",
       "      <td>NEW SANTANA DELI &amp; RESTAURANT</td>\n",
       "      <td>BROOKLYN</td>\n",
       "      <td>187</td>\n",
       "      <td>IRVING AVE</td>\n",
       "      <td>11237.0</td>\n",
       "      <td>9292100860</td>\n",
       "      <td>Mexican</td>\n",
       "      <td>03/29/2017</td>\n",
       "      <td>Establishment re-opened by DOHMH</td>\n",
       "      <td>10F</td>\n",
       "      <td>Non-food contact surface improperly constructe...</td>\n",
       "      <td>Not Critical</td>\n",
       "      <td>3.0</td>\n",
       "      <td>P</td>\n",
       "      <td>03/29/2017</td>\n",
       "      <td>04/28/2019</td>\n",
       "      <td>Cycle Inspection / Reopening Inspection</td>\n",
       "    </tr>\n",
       "    <tr>\n",
       "      <th>289298</th>\n",
       "      <td>50047546</td>\n",
       "      <td>BKLN DINER</td>\n",
       "      <td>BROOKLYN</td>\n",
       "      <td>5922-24</td>\n",
       "      <td>AVENUE N</td>\n",
       "      <td>11234.0</td>\n",
       "      <td>7182092246</td>\n",
       "      <td>American</td>\n",
       "      <td>05/01/2017</td>\n",
       "      <td>Establishment re-opened by DOHMH</td>\n",
       "      <td>10F</td>\n",
       "      <td>Non-food contact surface improperly constructe...</td>\n",
       "      <td>Not Critical</td>\n",
       "      <td>5.0</td>\n",
       "      <td>P</td>\n",
       "      <td>05/01/2017</td>\n",
       "      <td>04/28/2019</td>\n",
       "      <td>Cycle Inspection / Reopening Inspection</td>\n",
       "    </tr>\n",
       "    <tr>\n",
       "      <th>373482</th>\n",
       "      <td>50083241</td>\n",
       "      <td>COBBLE &amp; CO</td>\n",
       "      <td>MANHATTAN</td>\n",
       "      <td>19</td>\n",
       "      <td>FULTON ST</td>\n",
       "      <td>10038.0</td>\n",
       "      <td>2123853689</td>\n",
       "      <td>American</td>\n",
       "      <td>10/03/2018</td>\n",
       "      <td>Establishment re-opened by DOHMH</td>\n",
       "      <td>10F</td>\n",
       "      <td>Non-food contact surface improperly constructe...</td>\n",
       "      <td>Not Critical</td>\n",
       "      <td>2.0</td>\n",
       "      <td>P</td>\n",
       "      <td>10/03/2018</td>\n",
       "      <td>04/28/2019</td>\n",
       "      <td>Pre-permit (Operational) / Reopening Inspection</td>\n",
       "    </tr>\n",
       "    <tr>\n",
       "      <th>339477</th>\n",
       "      <td>50066795</td>\n",
       "      <td>JII PIZZA</td>\n",
       "      <td>BROOKLYN</td>\n",
       "      <td>5114</td>\n",
       "      <td>13TH AVE</td>\n",
       "      <td>11219.0</td>\n",
       "      <td>7184385560</td>\n",
       "      <td>Jewish/Kosher</td>\n",
       "      <td>03/08/2019</td>\n",
       "      <td>Establishment re-opened by DOHMH</td>\n",
       "      <td>10F</td>\n",
       "      <td>Non-food contact surface improperly constructe...</td>\n",
       "      <td>Not Critical</td>\n",
       "      <td>7.0</td>\n",
       "      <td>P</td>\n",
       "      <td>03/08/2019</td>\n",
       "      <td>04/28/2019</td>\n",
       "      <td>Pre-permit (Operational) / Reopening Inspection</td>\n",
       "    </tr>\n",
       "    <tr>\n",
       "      <th>281051</th>\n",
       "      <td>50045404</td>\n",
       "      <td>AFRICAN HOME RESTAURANT</td>\n",
       "      <td>BRONX</td>\n",
       "      <td>57</td>\n",
       "      <td>E TREMONT AVE</td>\n",
       "      <td>10453.0</td>\n",
       "      <td>3475677708</td>\n",
       "      <td>African</td>\n",
       "      <td>03/09/2018</td>\n",
       "      <td>Establishment re-opened by DOHMH</td>\n",
       "      <td>10F</td>\n",
       "      <td>Non-food contact surface improperly constructe...</td>\n",
       "      <td>Not Critical</td>\n",
       "      <td>2.0</td>\n",
       "      <td>P</td>\n",
       "      <td>03/09/2018</td>\n",
       "      <td>04/28/2019</td>\n",
       "      <td>Cycle Inspection / Reopening Inspection</td>\n",
       "    </tr>\n",
       "  </tbody>\n",
       "</table>\n",
       "</div>"
      ],
      "text/plain": [
       "           CAMIS                            DBA       BORO BUILDING  \\\n",
       "270808  50042900  NEW SANTANA DELI & RESTAURANT   BROOKLYN      187   \n",
       "289298  50047546                     BKLN DINER   BROOKLYN  5922-24   \n",
       "373482  50083241                    COBBLE & CO  MANHATTAN       19   \n",
       "339477  50066795                      JII PIZZA   BROOKLYN     5114   \n",
       "281051  50045404        AFRICAN HOME RESTAURANT      BRONX       57   \n",
       "\n",
       "               STREET  ZIPCODE       PHONE CUISINE DESCRIPTION  \\\n",
       "270808     IRVING AVE  11237.0  9292100860             Mexican   \n",
       "289298       AVENUE N  11234.0  7182092246            American   \n",
       "373482      FULTON ST  10038.0  2123853689            American   \n",
       "339477       13TH AVE  11219.0  7184385560       Jewish/Kosher   \n",
       "281051  E TREMONT AVE  10453.0  3475677708             African   \n",
       "\n",
       "       INSPECTION DATE                            ACTION VIOLATION CODE  \\\n",
       "270808      03/29/2017  Establishment re-opened by DOHMH            10F   \n",
       "289298      05/01/2017  Establishment re-opened by DOHMH            10F   \n",
       "373482      10/03/2018  Establishment re-opened by DOHMH            10F   \n",
       "339477      03/08/2019  Establishment re-opened by DOHMH            10F   \n",
       "281051      03/09/2018  Establishment re-opened by DOHMH            10F   \n",
       "\n",
       "                                    VIOLATION DESCRIPTION CRITICAL FLAG  \\\n",
       "270808  Non-food contact surface improperly constructe...  Not Critical   \n",
       "289298  Non-food contact surface improperly constructe...  Not Critical   \n",
       "373482  Non-food contact surface improperly constructe...  Not Critical   \n",
       "339477  Non-food contact surface improperly constructe...  Not Critical   \n",
       "281051  Non-food contact surface improperly constructe...  Not Critical   \n",
       "\n",
       "        SCORE GRADE  GRADE DATE RECORD DATE  \\\n",
       "270808    3.0     P  03/29/2017  04/28/2019   \n",
       "289298    5.0     P  05/01/2017  04/28/2019   \n",
       "373482    2.0     P  10/03/2018  04/28/2019   \n",
       "339477    7.0     P  03/08/2019  04/28/2019   \n",
       "281051    2.0     P  03/09/2018  04/28/2019   \n",
       "\n",
       "                                        INSPECTION TYPE  \n",
       "270808          Cycle Inspection / Reopening Inspection  \n",
       "289298          Cycle Inspection / Reopening Inspection  \n",
       "373482  Pre-permit (Operational) / Reopening Inspection  \n",
       "339477  Pre-permit (Operational) / Reopening Inspection  \n",
       "281051          Cycle Inspection / Reopening Inspection  "
      ]
     },
     "execution_count": 673,
     "metadata": {},
     "output_type": "execute_result"
    }
   ],
   "source": [
    "inspections[inspections['GRADE']=='P'].sample(5)"
   ]
  },
  {
   "cell_type": "code",
   "execution_count": 674,
   "metadata": {},
   "outputs": [
    {
     "data": {
      "text/html": [
       "<div>\n",
       "<style scoped>\n",
       "    .dataframe tbody tr th:only-of-type {\n",
       "        vertical-align: middle;\n",
       "    }\n",
       "\n",
       "    .dataframe tbody tr th {\n",
       "        vertical-align: top;\n",
       "    }\n",
       "\n",
       "    .dataframe thead th {\n",
       "        text-align: right;\n",
       "    }\n",
       "</style>\n",
       "<table border=\"1\" class=\"dataframe\">\n",
       "  <thead>\n",
       "    <tr style=\"text-align: right;\">\n",
       "      <th></th>\n",
       "      <th>CAMIS</th>\n",
       "      <th>DBA</th>\n",
       "      <th>BORO</th>\n",
       "      <th>BUILDING</th>\n",
       "      <th>STREET</th>\n",
       "      <th>ZIPCODE</th>\n",
       "      <th>PHONE</th>\n",
       "      <th>CUISINE DESCRIPTION</th>\n",
       "      <th>INSPECTION DATE</th>\n",
       "      <th>ACTION</th>\n",
       "      <th>VIOLATION CODE</th>\n",
       "      <th>VIOLATION DESCRIPTION</th>\n",
       "      <th>CRITICAL FLAG</th>\n",
       "      <th>SCORE</th>\n",
       "      <th>GRADE</th>\n",
       "      <th>GRADE DATE</th>\n",
       "      <th>RECORD DATE</th>\n",
       "      <th>INSPECTION TYPE</th>\n",
       "    </tr>\n",
       "  </thead>\n",
       "  <tbody>\n",
       "    <tr>\n",
       "      <th>369160</th>\n",
       "      <td>50079640</td>\n",
       "      <td>TROPICAL JADE 3 ROTI EXPRESS</td>\n",
       "      <td>QUEENS</td>\n",
       "      <td>11803</td>\n",
       "      <td>LIBERTY AVE</td>\n",
       "      <td>11419.0</td>\n",
       "      <td>7185719888</td>\n",
       "      <td>Caribbean</td>\n",
       "      <td>03/25/2019</td>\n",
       "      <td>Violations were cited in the following area(s).</td>\n",
       "      <td>04M</td>\n",
       "      <td>Live roaches present in facility's food and/or...</td>\n",
       "      <td>Critical</td>\n",
       "      <td>33.0</td>\n",
       "      <td>Z</td>\n",
       "      <td>03/25/2019</td>\n",
       "      <td>04/28/2019</td>\n",
       "      <td>Cycle Inspection / Re-inspection</td>\n",
       "    </tr>\n",
       "    <tr>\n",
       "      <th>372311</th>\n",
       "      <td>50082054</td>\n",
       "      <td>CABANA BREEZE</td>\n",
       "      <td>QUEENS</td>\n",
       "      <td>13501</td>\n",
       "      <td>LEFFERTS BLVD</td>\n",
       "      <td>11420.0</td>\n",
       "      <td>3472411591</td>\n",
       "      <td>American</td>\n",
       "      <td>03/23/2019</td>\n",
       "      <td>Violations were cited in the following area(s).</td>\n",
       "      <td>04L</td>\n",
       "      <td>Evidence of mice or live mice present in facil...</td>\n",
       "      <td>Critical</td>\n",
       "      <td>35.0</td>\n",
       "      <td>Z</td>\n",
       "      <td>03/23/2019</td>\n",
       "      <td>04/28/2019</td>\n",
       "      <td>Pre-permit (Operational) / Re-inspection</td>\n",
       "    </tr>\n",
       "    <tr>\n",
       "      <th>281557</th>\n",
       "      <td>50045536</td>\n",
       "      <td>DR. SEA</td>\n",
       "      <td>QUEENS</td>\n",
       "      <td>4508</td>\n",
       "      <td>PARSONS BLVD</td>\n",
       "      <td>11355.0</td>\n",
       "      <td>7187374666</td>\n",
       "      <td>Chinese</td>\n",
       "      <td>03/19/2019</td>\n",
       "      <td>Violations were cited in the following area(s).</td>\n",
       "      <td>06C</td>\n",
       "      <td>Food not protected from potential source of co...</td>\n",
       "      <td>Critical</td>\n",
       "      <td>26.0</td>\n",
       "      <td>Z</td>\n",
       "      <td>03/19/2019</td>\n",
       "      <td>04/28/2019</td>\n",
       "      <td>Cycle Inspection / Re-inspection</td>\n",
       "    </tr>\n",
       "    <tr>\n",
       "      <th>180395</th>\n",
       "      <td>41709361</td>\n",
       "      <td>LINS CHINA GARDEN</td>\n",
       "      <td>BROOKLYN</td>\n",
       "      <td>679</td>\n",
       "      <td>MYRTLE AVENUE</td>\n",
       "      <td>11205.0</td>\n",
       "      <td>7188756637</td>\n",
       "      <td>Chinese</td>\n",
       "      <td>03/15/2019</td>\n",
       "      <td>Violations were cited in the following area(s).</td>\n",
       "      <td>04L</td>\n",
       "      <td>Evidence of mice or live mice present in facil...</td>\n",
       "      <td>Critical</td>\n",
       "      <td>33.0</td>\n",
       "      <td>Z</td>\n",
       "      <td>03/15/2019</td>\n",
       "      <td>04/28/2019</td>\n",
       "      <td>Cycle Inspection / Re-inspection</td>\n",
       "    </tr>\n",
       "    <tr>\n",
       "      <th>251433</th>\n",
       "      <td>50034608</td>\n",
       "      <td>PALACIO CHINO RESTAURANT</td>\n",
       "      <td>BROOKLYN</td>\n",
       "      <td>5621</td>\n",
       "      <td>5TH AVE</td>\n",
       "      <td>11220.0</td>\n",
       "      <td>7184391117</td>\n",
       "      <td>Chinese</td>\n",
       "      <td>04/11/2019</td>\n",
       "      <td>Establishment re-opened by DOHMH</td>\n",
       "      <td>10F</td>\n",
       "      <td>Non-food contact surface improperly constructe...</td>\n",
       "      <td>Not Critical</td>\n",
       "      <td>2.0</td>\n",
       "      <td>Z</td>\n",
       "      <td>04/11/2019</td>\n",
       "      <td>04/28/2019</td>\n",
       "      <td>Cycle Inspection / Reopening Inspection</td>\n",
       "    </tr>\n",
       "  </tbody>\n",
       "</table>\n",
       "</div>"
      ],
      "text/plain": [
       "           CAMIS                           DBA      BORO BUILDING  \\\n",
       "369160  50079640  TROPICAL JADE 3 ROTI EXPRESS    QUEENS    11803   \n",
       "372311  50082054                 CABANA BREEZE    QUEENS    13501   \n",
       "281557  50045536                       DR. SEA    QUEENS     4508   \n",
       "180395  41709361             LINS CHINA GARDEN  BROOKLYN      679   \n",
       "251433  50034608      PALACIO CHINO RESTAURANT  BROOKLYN     5621   \n",
       "\n",
       "               STREET  ZIPCODE       PHONE CUISINE DESCRIPTION  \\\n",
       "369160    LIBERTY AVE  11419.0  7185719888           Caribbean   \n",
       "372311  LEFFERTS BLVD  11420.0  3472411591            American   \n",
       "281557   PARSONS BLVD  11355.0  7187374666             Chinese   \n",
       "180395  MYRTLE AVENUE  11205.0  7188756637             Chinese   \n",
       "251433        5TH AVE  11220.0  7184391117             Chinese   \n",
       "\n",
       "       INSPECTION DATE                                           ACTION  \\\n",
       "369160      03/25/2019  Violations were cited in the following area(s).   \n",
       "372311      03/23/2019  Violations were cited in the following area(s).   \n",
       "281557      03/19/2019  Violations were cited in the following area(s).   \n",
       "180395      03/15/2019  Violations were cited in the following area(s).   \n",
       "251433      04/11/2019                 Establishment re-opened by DOHMH   \n",
       "\n",
       "       VIOLATION CODE                              VIOLATION DESCRIPTION  \\\n",
       "369160            04M  Live roaches present in facility's food and/or...   \n",
       "372311            04L  Evidence of mice or live mice present in facil...   \n",
       "281557            06C  Food not protected from potential source of co...   \n",
       "180395            04L  Evidence of mice or live mice present in facil...   \n",
       "251433            10F  Non-food contact surface improperly constructe...   \n",
       "\n",
       "       CRITICAL FLAG  SCORE GRADE  GRADE DATE RECORD DATE  \\\n",
       "369160      Critical   33.0     Z  03/25/2019  04/28/2019   \n",
       "372311      Critical   35.0     Z  03/23/2019  04/28/2019   \n",
       "281557      Critical   26.0     Z  03/19/2019  04/28/2019   \n",
       "180395      Critical   33.0     Z  03/15/2019  04/28/2019   \n",
       "251433  Not Critical    2.0     Z  04/11/2019  04/28/2019   \n",
       "\n",
       "                                 INSPECTION TYPE  \n",
       "369160          Cycle Inspection / Re-inspection  \n",
       "372311  Pre-permit (Operational) / Re-inspection  \n",
       "281557          Cycle Inspection / Re-inspection  \n",
       "180395          Cycle Inspection / Re-inspection  \n",
       "251433   Cycle Inspection / Reopening Inspection  "
      ]
     },
     "execution_count": 674,
     "metadata": {},
     "output_type": "execute_result"
    }
   ],
   "source": [
    "inspections[inspections['GRADE']=='Z'].sample(5)"
   ]
  },
  {
   "cell_type": "code",
   "execution_count": 675,
   "metadata": {},
   "outputs": [
    {
     "data": {
      "text/plain": [
       "156.0"
      ]
     },
     "execution_count": 675,
     "metadata": {},
     "output_type": "execute_result"
    }
   ],
   "source": [
    "inspections['SCORE'].max()"
   ]
  },
  {
   "cell_type": "code",
   "execution_count": 676,
   "metadata": {},
   "outputs": [
    {
     "data": {
      "text/plain": [
       "-1.0"
      ]
     },
     "execution_count": 676,
     "metadata": {},
     "output_type": "execute_result"
    }
   ],
   "source": [
    "inspections['SCORE'].min()"
   ]
  },
  {
   "cell_type": "code",
   "execution_count": 677,
   "metadata": {},
   "outputs": [
    {
     "data": {
      "text/plain": [
       "A    152827\n",
       "B     24214\n",
       "C      7927\n",
       "Name: GRADE, dtype: int64"
      ]
     },
     "execution_count": 677,
     "metadata": {},
     "output_type": "execute_result"
    }
   ],
   "source": [
    "inspections['GRADE'].replace({'Not Yet Graded':np.nan, 'Z':np.nan, 'P':np.nan, 'G':np.nan}, inplace=True)\n",
    "inspections['GRADE'].value_counts()"
   ]
  },
  {
   "cell_type": "code",
   "execution_count": 678,
   "metadata": {},
   "outputs": [
    {
     "data": {
      "text/plain": [
       "Critical          208533\n",
       "Not Critical      164991\n",
       "Not Applicable      8387\n",
       "Name: CRITICAL FLAG, dtype: int64"
      ]
     },
     "execution_count": 678,
     "metadata": {},
     "output_type": "execute_result"
    }
   ],
   "source": [
    "inspections['CRITICAL FLAG'].value_counts()"
   ]
  },
  {
   "cell_type": "code",
   "execution_count": 679,
   "metadata": {
    "scrolled": true
   },
   "outputs": [
    {
     "data": {
      "text/plain": [
       "Critical        208533\n",
       "Not Critical    164991\n",
       "Name: CRITICAL FLAG, dtype: int64"
      ]
     },
     "execution_count": 679,
     "metadata": {},
     "output_type": "execute_result"
    }
   ],
   "source": [
    "inspections['CRITICAL FLAG'].replace({'Not Applicable':np.nan}, inplace=True)\n",
    "inspections['CRITICAL FLAG'].value_counts()"
   ]
  },
  {
   "cell_type": "code",
   "execution_count": 680,
   "metadata": {},
   "outputs": [
    {
     "data": {
      "text/plain": [
       "CAMIS                         0\n",
       "DBA                         509\n",
       "BORO                          0\n",
       "BUILDING                    228\n",
       "STREET                        1\n",
       "ZIPCODE                    5551\n",
       "PHONE                         9\n",
       "CUISINE DESCRIPTION           0\n",
       "INSPECTION DATE               0\n",
       "ACTION                     1302\n",
       "VIOLATION CODE             5785\n",
       "VIOLATION DESCRIPTION      8387\n",
       "CRITICAL FLAG              8387\n",
       "SCORE                     18184\n",
       "GRADE                    196943\n",
       "GRADE DATE               192091\n",
       "RECORD DATE                   0\n",
       "INSPECTION TYPE            1302\n",
       "dtype: int64"
      ]
     },
     "execution_count": 680,
     "metadata": {},
     "output_type": "execute_result"
    }
   ],
   "source": [
    "inspections.isna().sum()"
   ]
  },
  {
   "cell_type": "code",
   "execution_count": 681,
   "metadata": {
    "scrolled": true
   },
   "outputs": [
    {
     "data": {
      "text/html": [
       "<div>\n",
       "<style scoped>\n",
       "    .dataframe tbody tr th:only-of-type {\n",
       "        vertical-align: middle;\n",
       "    }\n",
       "\n",
       "    .dataframe tbody tr th {\n",
       "        vertical-align: top;\n",
       "    }\n",
       "\n",
       "    .dataframe thead th {\n",
       "        text-align: right;\n",
       "    }\n",
       "</style>\n",
       "<table border=\"1\" class=\"dataframe\">\n",
       "  <thead>\n",
       "    <tr style=\"text-align: right;\">\n",
       "      <th></th>\n",
       "      <th>CAMIS</th>\n",
       "      <th>DBA</th>\n",
       "      <th>CUISINE DESCRIPTION</th>\n",
       "      <th>VIOLATION CODE</th>\n",
       "      <th>CRITICAL FLAG</th>\n",
       "      <th>SCORE</th>\n",
       "      <th>GRADE</th>\n",
       "      <th>GRADE DATE</th>\n",
       "    </tr>\n",
       "  </thead>\n",
       "  <tbody>\n",
       "    <tr>\n",
       "      <th>0</th>\n",
       "      <td>30075445</td>\n",
       "      <td>MORRIS PARK BAKE SHOP</td>\n",
       "      <td>Bakery</td>\n",
       "      <td>08C</td>\n",
       "      <td>Not Critical</td>\n",
       "      <td>5.0</td>\n",
       "      <td>A</td>\n",
       "      <td>05/11/2018</td>\n",
       "    </tr>\n",
       "    <tr>\n",
       "      <th>1</th>\n",
       "      <td>30075445</td>\n",
       "      <td>MORRIS PARK BAKE SHOP</td>\n",
       "      <td>Bakery</td>\n",
       "      <td>10F</td>\n",
       "      <td>Not Critical</td>\n",
       "      <td>5.0</td>\n",
       "      <td>A</td>\n",
       "      <td>05/11/2018</td>\n",
       "    </tr>\n",
       "    <tr>\n",
       "      <th>2</th>\n",
       "      <td>30075445</td>\n",
       "      <td>MORRIS PARK BAKE SHOP</td>\n",
       "      <td>Bakery</td>\n",
       "      <td>06D</td>\n",
       "      <td>Critical</td>\n",
       "      <td>7.0</td>\n",
       "      <td>A</td>\n",
       "      <td>05/18/2017</td>\n",
       "    </tr>\n",
       "    <tr>\n",
       "      <th>3</th>\n",
       "      <td>30075445</td>\n",
       "      <td>MORRIS PARK BAKE SHOP</td>\n",
       "      <td>Bakery</td>\n",
       "      <td>10F</td>\n",
       "      <td>Not Critical</td>\n",
       "      <td>7.0</td>\n",
       "      <td>A</td>\n",
       "      <td>05/18/2017</td>\n",
       "    </tr>\n",
       "    <tr>\n",
       "      <th>4</th>\n",
       "      <td>30075445</td>\n",
       "      <td>MORRIS PARK BAKE SHOP</td>\n",
       "      <td>Bakery</td>\n",
       "      <td>04L</td>\n",
       "      <td>Critical</td>\n",
       "      <td>10.0</td>\n",
       "      <td>A</td>\n",
       "      <td>02/18/2016</td>\n",
       "    </tr>\n",
       "  </tbody>\n",
       "</table>\n",
       "</div>"
      ],
      "text/plain": [
       "      CAMIS                    DBA CUISINE DESCRIPTION VIOLATION CODE  \\\n",
       "0  30075445  MORRIS PARK BAKE SHOP              Bakery            08C   \n",
       "1  30075445  MORRIS PARK BAKE SHOP              Bakery            10F   \n",
       "2  30075445  MORRIS PARK BAKE SHOP              Bakery            06D   \n",
       "3  30075445  MORRIS PARK BAKE SHOP              Bakery            10F   \n",
       "4  30075445  MORRIS PARK BAKE SHOP              Bakery            04L   \n",
       "\n",
       "  CRITICAL FLAG  SCORE GRADE  GRADE DATE  \n",
       "0  Not Critical    5.0     A  05/11/2018  \n",
       "1  Not Critical    5.0     A  05/11/2018  \n",
       "2      Critical    7.0     A  05/18/2017  \n",
       "3  Not Critical    7.0     A  05/18/2017  \n",
       "4      Critical   10.0     A  02/18/2016  "
      ]
     },
     "execution_count": 681,
     "metadata": {},
     "output_type": "execute_result"
    }
   ],
   "source": [
    "cols = ['CAMIS', 'DBA', 'CUISINE DESCRIPTION', 'VIOLATION CODE', 'CRITICAL FLAG', 'SCORE', 'GRADE', 'GRADE DATE']\n",
    "insp = inspections[cols]\n",
    "insp.head(5)"
   ]
  },
  {
   "cell_type": "markdown",
   "metadata": {},
   "source": [
    "### Checking for missing values"
   ]
  },
  {
   "cell_type": "code",
   "execution_count": 682,
   "metadata": {
    "scrolled": true
   },
   "outputs": [
    {
     "data": {
      "text/plain": [
       "CAMIS                       0\n",
       "DBA                       509\n",
       "CUISINE DESCRIPTION         0\n",
       "VIOLATION CODE           5785\n",
       "CRITICAL FLAG            8387\n",
       "SCORE                   18184\n",
       "GRADE                  196943\n",
       "GRADE DATE             192091\n",
       "dtype: int64"
      ]
     },
     "execution_count": 682,
     "metadata": {},
     "output_type": "execute_result"
    }
   ],
   "source": [
    "insp.isna().sum()"
   ]
  },
  {
   "cell_type": "code",
   "execution_count": 683,
   "metadata": {
    "scrolled": true
   },
   "outputs": [],
   "source": [
    "insp = insp.dropna()"
   ]
  },
  {
   "cell_type": "code",
   "execution_count": 684,
   "metadata": {},
   "outputs": [
    {
     "data": {
      "text/plain": [
       "CAMIS                  0\n",
       "DBA                    0\n",
       "CUISINE DESCRIPTION    0\n",
       "VIOLATION CODE         0\n",
       "CRITICAL FLAG          0\n",
       "SCORE                  0\n",
       "GRADE                  0\n",
       "GRADE DATE             0\n",
       "dtype: int64"
      ]
     },
     "execution_count": 684,
     "metadata": {},
     "output_type": "execute_result"
    }
   ],
   "source": [
    "insp.isna().sum()"
   ]
  },
  {
   "cell_type": "code",
   "execution_count": 685,
   "metadata": {},
   "outputs": [],
   "source": [
    "insp['CRITICAL FLAG'].replace(['Not Critical','Critical'],[0,1],inplace=True)"
   ]
  },
  {
   "cell_type": "code",
   "execution_count": 686,
   "metadata": {
    "scrolled": true
   },
   "outputs": [
    {
     "data": {
      "text/plain": [
       "1    94191\n",
       "0    89535\n",
       "Name: CRITICAL FLAG, dtype: int64"
      ]
     },
     "execution_count": 686,
     "metadata": {},
     "output_type": "execute_result"
    }
   ],
   "source": [
    "insp['CRITICAL FLAG'].astype(int)\n",
    "insp['CRITICAL FLAG'].value_counts()"
   ]
  },
  {
   "cell_type": "code",
   "execution_count": 687,
   "metadata": {},
   "outputs": [
    {
     "data": {
      "text/html": [
       "<div>\n",
       "<style scoped>\n",
       "    .dataframe tbody tr th:only-of-type {\n",
       "        vertical-align: middle;\n",
       "    }\n",
       "\n",
       "    .dataframe tbody tr th {\n",
       "        vertical-align: top;\n",
       "    }\n",
       "\n",
       "    .dataframe thead th {\n",
       "        text-align: right;\n",
       "    }\n",
       "</style>\n",
       "<table border=\"1\" class=\"dataframe\">\n",
       "  <thead>\n",
       "    <tr style=\"text-align: right;\">\n",
       "      <th></th>\n",
       "      <th>CAMIS</th>\n",
       "      <th>DBA</th>\n",
       "      <th>CUISINE DESCRIPTION</th>\n",
       "      <th>VIOLATION CODE</th>\n",
       "      <th>CRITICAL FLAG</th>\n",
       "      <th>SCORE</th>\n",
       "      <th>GRADE</th>\n",
       "      <th>GRADE DATE</th>\n",
       "      <th>VIO_COUNT</th>\n",
       "    </tr>\n",
       "  </thead>\n",
       "  <tbody>\n",
       "    <tr>\n",
       "      <th>0</th>\n",
       "      <td>30075445</td>\n",
       "      <td>MORRIS PARK BAKE SHOP</td>\n",
       "      <td>Bakery</td>\n",
       "      <td>08C</td>\n",
       "      <td>0</td>\n",
       "      <td>5.0</td>\n",
       "      <td>A</td>\n",
       "      <td>05/11/2018</td>\n",
       "      <td>2</td>\n",
       "    </tr>\n",
       "    <tr>\n",
       "      <th>1</th>\n",
       "      <td>30075445</td>\n",
       "      <td>MORRIS PARK BAKE SHOP</td>\n",
       "      <td>Bakery</td>\n",
       "      <td>10F</td>\n",
       "      <td>0</td>\n",
       "      <td>5.0</td>\n",
       "      <td>A</td>\n",
       "      <td>05/11/2018</td>\n",
       "      <td>2</td>\n",
       "    </tr>\n",
       "  </tbody>\n",
       "</table>\n",
       "</div>"
      ],
      "text/plain": [
       "      CAMIS                    DBA CUISINE DESCRIPTION VIOLATION CODE  \\\n",
       "0  30075445  MORRIS PARK BAKE SHOP              Bakery            08C   \n",
       "1  30075445  MORRIS PARK BAKE SHOP              Bakery            10F   \n",
       "\n",
       "   CRITICAL FLAG  SCORE GRADE  GRADE DATE  VIO_COUNT  \n",
       "0              0    5.0     A  05/11/2018          2  \n",
       "1              0    5.0     A  05/11/2018          2  "
      ]
     },
     "execution_count": 687,
     "metadata": {},
     "output_type": "execute_result"
    }
   ],
   "source": [
    "# inspections['GRADE DATE'] = inspections['GRADE DATE'].dt.strftime('%m/%d/%Y')\n",
    "# pd.to_datetime(inspections['GRADE DATE'], format='%m/%d/%Y' ).dt.date.value_counts().rename('VIO_COUNT').to_frame()\n",
    "# inspections['Vio_Counts']=inspections.groupby(pd.to_datetime(inspections['GRADE DATE'], format='%m/%d/%Y').dt.date.value_counts())\n",
    "insp['VIO_COUNT'] = insp.groupby(['CAMIS', 'GRADE DATE'])['VIOLATION CODE'].transform('size')\n",
    "insp.head(2)"
   ]
  },
  {
   "cell_type": "code",
   "execution_count": 688,
   "metadata": {},
   "outputs": [
    {
     "name": "stdout",
     "output_type": "stream",
     "text": [
      "<class 'pandas.core.frame.DataFrame'>\n",
      "Int64Index: 183726 entries, 0 to 381484\n",
      "Data columns (total 9 columns):\n",
      "CAMIS                  183726 non-null int64\n",
      "DBA                    183726 non-null object\n",
      "CUISINE DESCRIPTION    183726 non-null object\n",
      "VIOLATION CODE         183726 non-null object\n",
      "CRITICAL FLAG          183726 non-null int64\n",
      "SCORE                  183726 non-null float64\n",
      "GRADE                  183726 non-null object\n",
      "GRADE DATE             183726 non-null object\n",
      "VIO_COUNT              183726 non-null int64\n",
      "dtypes: float64(1), int64(3), object(5)\n",
      "memory usage: 14.0+ MB\n"
     ]
    }
   ],
   "source": [
    "insp.info()"
   ]
  },
  {
   "cell_type": "code",
   "execution_count": 689,
   "metadata": {
    "scrolled": true
   },
   "outputs": [
    {
     "data": {
      "text/plain": [
       "{A}    70907\n",
       "{B}     6512\n",
       "{C}     1856\n",
       "Name: GRADE_LIST, dtype: int64"
      ]
     },
     "execution_count": 689,
     "metadata": {},
     "output_type": "execute_result"
    }
   ],
   "source": [
    "grade_merged = insp.groupby(['CAMIS','GRADE DATE'])['GRADE'].apply(set).reset_index()\n",
    "grade_merged.rename(columns={'GRADE':'GRADE_LIST'},inplace=True)\n",
    "grade_merged['GRADE_LIST'].value_counts()"
   ]
  },
  {
   "cell_type": "markdown",
   "metadata": {},
   "source": [
    "**This is to say, the grade is assigned once at a time.**"
   ]
  },
  {
   "cell_type": "code",
   "execution_count": 690,
   "metadata": {},
   "outputs": [
    {
     "data": {
      "text/html": [
       "<div>\n",
       "<style scoped>\n",
       "    .dataframe tbody tr th:only-of-type {\n",
       "        vertical-align: middle;\n",
       "    }\n",
       "\n",
       "    .dataframe tbody tr th {\n",
       "        vertical-align: top;\n",
       "    }\n",
       "\n",
       "    .dataframe thead th {\n",
       "        text-align: right;\n",
       "    }\n",
       "</style>\n",
       "<table border=\"1\" class=\"dataframe\">\n",
       "  <thead>\n",
       "    <tr style=\"text-align: right;\">\n",
       "      <th></th>\n",
       "      <th>CAMIS</th>\n",
       "      <th>GRADE DATE</th>\n",
       "      <th>VIO_CODE_LIST</th>\n",
       "    </tr>\n",
       "  </thead>\n",
       "  <tbody>\n",
       "    <tr>\n",
       "      <th>0</th>\n",
       "      <td>30075445</td>\n",
       "      <td>02/18/2016</td>\n",
       "      <td>{04L, 08A}</td>\n",
       "    </tr>\n",
       "    <tr>\n",
       "      <th>1</th>\n",
       "      <td>30075445</td>\n",
       "      <td>05/11/2018</td>\n",
       "      <td>{08C, 10F}</td>\n",
       "    </tr>\n",
       "  </tbody>\n",
       "</table>\n",
       "</div>"
      ],
      "text/plain": [
       "      CAMIS  GRADE DATE VIO_CODE_LIST\n",
       "0  30075445  02/18/2016    {04L, 08A}\n",
       "1  30075445  05/11/2018    {08C, 10F}"
      ]
     },
     "execution_count": 690,
     "metadata": {},
     "output_type": "execute_result"
    }
   ],
   "source": [
    "vio_merged = insp.groupby(['CAMIS','GRADE DATE'])['VIOLATION CODE'].apply(set).reset_index()\n",
    "vio_merged.rename(columns={'VIOLATION CODE':'VIO_CODE_LIST'},inplace=True)\n",
    "vio_merged.head(2)"
   ]
  },
  {
   "cell_type": "code",
   "execution_count": 691,
   "metadata": {},
   "outputs": [
    {
     "data": {
      "text/html": [
       "<div>\n",
       "<style scoped>\n",
       "    .dataframe tbody tr th:only-of-type {\n",
       "        vertical-align: middle;\n",
       "    }\n",
       "\n",
       "    .dataframe tbody tr th {\n",
       "        vertical-align: top;\n",
       "    }\n",
       "\n",
       "    .dataframe thead th {\n",
       "        text-align: right;\n",
       "    }\n",
       "</style>\n",
       "<table border=\"1\" class=\"dataframe\">\n",
       "  <thead>\n",
       "    <tr style=\"text-align: right;\">\n",
       "      <th></th>\n",
       "      <th>CAMIS</th>\n",
       "      <th>GRADE DATE</th>\n",
       "      <th>CRITICAL_COUNT</th>\n",
       "    </tr>\n",
       "  </thead>\n",
       "  <tbody>\n",
       "    <tr>\n",
       "      <th>0</th>\n",
       "      <td>30075445</td>\n",
       "      <td>02/18/2016</td>\n",
       "      <td>1</td>\n",
       "    </tr>\n",
       "    <tr>\n",
       "      <th>1</th>\n",
       "      <td>30075445</td>\n",
       "      <td>05/11/2018</td>\n",
       "      <td>0</td>\n",
       "    </tr>\n",
       "  </tbody>\n",
       "</table>\n",
       "</div>"
      ],
      "text/plain": [
       "      CAMIS  GRADE DATE  CRITICAL_COUNT\n",
       "0  30075445  02/18/2016               1\n",
       "1  30075445  05/11/2018               0"
      ]
     },
     "execution_count": 691,
     "metadata": {},
     "output_type": "execute_result"
    }
   ],
   "source": [
    "vio_critical = insp.groupby(['CAMIS','GRADE DATE'])['CRITICAL FLAG'].sum().reset_index()\n",
    "vio_critical.rename(columns={'CRITICAL FLAG':'CRITICAL_COUNT'},inplace=True)\n",
    "vio_critical.head(2)"
   ]
  },
  {
   "cell_type": "code",
   "execution_count": 692,
   "metadata": {},
   "outputs": [
    {
     "data": {
      "text/html": [
       "<div>\n",
       "<style scoped>\n",
       "    .dataframe tbody tr th:only-of-type {\n",
       "        vertical-align: middle;\n",
       "    }\n",
       "\n",
       "    .dataframe tbody tr th {\n",
       "        vertical-align: top;\n",
       "    }\n",
       "\n",
       "    .dataframe thead th {\n",
       "        text-align: right;\n",
       "    }\n",
       "</style>\n",
       "<table border=\"1\" class=\"dataframe\">\n",
       "  <thead>\n",
       "    <tr style=\"text-align: right;\">\n",
       "      <th></th>\n",
       "      <th>CAMIS</th>\n",
       "      <th>GRADE DATE</th>\n",
       "      <th>VIO_CODE_LIST</th>\n",
       "      <th>CRITICAL_COUNT</th>\n",
       "    </tr>\n",
       "  </thead>\n",
       "  <tbody>\n",
       "    <tr>\n",
       "      <th>0</th>\n",
       "      <td>30075445</td>\n",
       "      <td>02/18/2016</td>\n",
       "      <td>{04L, 08A}</td>\n",
       "      <td>1</td>\n",
       "    </tr>\n",
       "    <tr>\n",
       "      <th>1</th>\n",
       "      <td>30075445</td>\n",
       "      <td>05/11/2018</td>\n",
       "      <td>{08C, 10F}</td>\n",
       "      <td>0</td>\n",
       "    </tr>\n",
       "    <tr>\n",
       "      <th>2</th>\n",
       "      <td>30075445</td>\n",
       "      <td>05/18/2017</td>\n",
       "      <td>{06D, 10F}</td>\n",
       "      <td>1</td>\n",
       "    </tr>\n",
       "    <tr>\n",
       "      <th>3</th>\n",
       "      <td>30112340</td>\n",
       "      <td>03/04/2019</td>\n",
       "      <td>{10B, 02G, 10F}</td>\n",
       "      <td>1</td>\n",
       "    </tr>\n",
       "    <tr>\n",
       "      <th>4</th>\n",
       "      <td>30112340</td>\n",
       "      <td>03/13/2018</td>\n",
       "      <td>{04L, 10B, 08A}</td>\n",
       "      <td>1</td>\n",
       "    </tr>\n",
       "  </tbody>\n",
       "</table>\n",
       "</div>"
      ],
      "text/plain": [
       "      CAMIS  GRADE DATE    VIO_CODE_LIST  CRITICAL_COUNT\n",
       "0  30075445  02/18/2016       {04L, 08A}               1\n",
       "1  30075445  05/11/2018       {08C, 10F}               0\n",
       "2  30075445  05/18/2017       {06D, 10F}               1\n",
       "3  30112340  03/04/2019  {10B, 02G, 10F}               1\n",
       "4  30112340  03/13/2018  {04L, 10B, 08A}               1"
      ]
     },
     "execution_count": 692,
     "metadata": {},
     "output_type": "execute_result"
    }
   ],
   "source": [
    "vio = pd.merge(vio_merged, vio_critical, on=['CAMIS', 'GRADE DATE'])\n",
    "vio.head(5)"
   ]
  },
  {
   "cell_type": "code",
   "execution_count": 693,
   "metadata": {},
   "outputs": [
    {
     "data": {
      "text/html": [
       "<div>\n",
       "<style scoped>\n",
       "    .dataframe tbody tr th:only-of-type {\n",
       "        vertical-align: middle;\n",
       "    }\n",
       "\n",
       "    .dataframe tbody tr th {\n",
       "        vertical-align: top;\n",
       "    }\n",
       "\n",
       "    .dataframe thead th {\n",
       "        text-align: right;\n",
       "    }\n",
       "</style>\n",
       "<table border=\"1\" class=\"dataframe\">\n",
       "  <thead>\n",
       "    <tr style=\"text-align: right;\">\n",
       "      <th></th>\n",
       "      <th>CAMIS</th>\n",
       "      <th>DBA</th>\n",
       "      <th>CUISINE DESCRIPTION</th>\n",
       "      <th>GRADE DATE</th>\n",
       "      <th>SCORE</th>\n",
       "      <th>GRADE</th>\n",
       "      <th>VIO_COUNT</th>\n",
       "      <th>VIO_CODE_LIST</th>\n",
       "      <th>CRITICAL_COUNT</th>\n",
       "    </tr>\n",
       "  </thead>\n",
       "  <tbody>\n",
       "    <tr>\n",
       "      <th>0</th>\n",
       "      <td>30075445</td>\n",
       "      <td>MORRIS PARK BAKE SHOP</td>\n",
       "      <td>Bakery</td>\n",
       "      <td>05/11/2018</td>\n",
       "      <td>5.0</td>\n",
       "      <td>A</td>\n",
       "      <td>2</td>\n",
       "      <td>{08C, 10F}</td>\n",
       "      <td>0</td>\n",
       "    </tr>\n",
       "    <tr>\n",
       "      <th>1</th>\n",
       "      <td>30075445</td>\n",
       "      <td>MORRIS PARK BAKE SHOP</td>\n",
       "      <td>Bakery</td>\n",
       "      <td>05/11/2018</td>\n",
       "      <td>5.0</td>\n",
       "      <td>A</td>\n",
       "      <td>2</td>\n",
       "      <td>{08C, 10F}</td>\n",
       "      <td>0</td>\n",
       "    </tr>\n",
       "    <tr>\n",
       "      <th>2</th>\n",
       "      <td>30075445</td>\n",
       "      <td>MORRIS PARK BAKE SHOP</td>\n",
       "      <td>Bakery</td>\n",
       "      <td>05/18/2017</td>\n",
       "      <td>7.0</td>\n",
       "      <td>A</td>\n",
       "      <td>2</td>\n",
       "      <td>{06D, 10F}</td>\n",
       "      <td>1</td>\n",
       "    </tr>\n",
       "    <tr>\n",
       "      <th>3</th>\n",
       "      <td>30075445</td>\n",
       "      <td>MORRIS PARK BAKE SHOP</td>\n",
       "      <td>Bakery</td>\n",
       "      <td>05/18/2017</td>\n",
       "      <td>7.0</td>\n",
       "      <td>A</td>\n",
       "      <td>2</td>\n",
       "      <td>{06D, 10F}</td>\n",
       "      <td>1</td>\n",
       "    </tr>\n",
       "    <tr>\n",
       "      <th>4</th>\n",
       "      <td>30075445</td>\n",
       "      <td>MORRIS PARK BAKE SHOP</td>\n",
       "      <td>Bakery</td>\n",
       "      <td>02/18/2016</td>\n",
       "      <td>10.0</td>\n",
       "      <td>A</td>\n",
       "      <td>2</td>\n",
       "      <td>{04L, 08A}</td>\n",
       "      <td>1</td>\n",
       "    </tr>\n",
       "  </tbody>\n",
       "</table>\n",
       "</div>"
      ],
      "text/plain": [
       "      CAMIS                    DBA CUISINE DESCRIPTION  GRADE DATE  SCORE  \\\n",
       "0  30075445  MORRIS PARK BAKE SHOP              Bakery  05/11/2018    5.0   \n",
       "1  30075445  MORRIS PARK BAKE SHOP              Bakery  05/11/2018    5.0   \n",
       "2  30075445  MORRIS PARK BAKE SHOP              Bakery  05/18/2017    7.0   \n",
       "3  30075445  MORRIS PARK BAKE SHOP              Bakery  05/18/2017    7.0   \n",
       "4  30075445  MORRIS PARK BAKE SHOP              Bakery  02/18/2016   10.0   \n",
       "\n",
       "  GRADE  VIO_COUNT VIO_CODE_LIST  CRITICAL_COUNT  \n",
       "0     A          2    {08C, 10F}               0  \n",
       "1     A          2    {08C, 10F}               0  \n",
       "2     A          2    {06D, 10F}               1  \n",
       "3     A          2    {06D, 10F}               1  \n",
       "4     A          2    {04L, 08A}               1  "
      ]
     },
     "execution_count": 693,
     "metadata": {},
     "output_type": "execute_result"
    }
   ],
   "source": [
    "insp_ = pd.merge(insp.loc[:, ['CAMIS','DBA','CUISINE DESCRIPTION', 'GRADE DATE', 'SCORE', 'GRADE', 'VIO_COUNT']], vio, on=['CAMIS', 'GRADE DATE'])\n",
    "insp_.head(5)"
   ]
  },
  {
   "cell_type": "code",
   "execution_count": 694,
   "metadata": {},
   "outputs": [],
   "source": [
    "insp_['GRADE DATE'] = pd.to_datetime(insp_['GRADE DATE'])"
   ]
  },
  {
   "cell_type": "markdown",
   "metadata": {},
   "source": [
    "### Keep only most recent date records"
   ]
  },
  {
   "cell_type": "code",
   "execution_count": 695,
   "metadata": {},
   "outputs": [
    {
     "data": {
      "text/html": [
       "<div>\n",
       "<style scoped>\n",
       "    .dataframe tbody tr th:only-of-type {\n",
       "        vertical-align: middle;\n",
       "    }\n",
       "\n",
       "    .dataframe tbody tr th {\n",
       "        vertical-align: top;\n",
       "    }\n",
       "\n",
       "    .dataframe thead th {\n",
       "        text-align: right;\n",
       "    }\n",
       "</style>\n",
       "<table border=\"1\" class=\"dataframe\">\n",
       "  <thead>\n",
       "    <tr style=\"text-align: right;\">\n",
       "      <th></th>\n",
       "      <th>CAMIS</th>\n",
       "      <th>DBA</th>\n",
       "      <th>CUISINE DESCRIPTION</th>\n",
       "      <th>GRADE DATE</th>\n",
       "      <th>SCORE</th>\n",
       "      <th>GRADE</th>\n",
       "      <th>VIO_COUNT</th>\n",
       "      <th>VIO_CODE_LIST</th>\n",
       "      <th>CRITICAL_COUNT</th>\n",
       "    </tr>\n",
       "  </thead>\n",
       "  <tbody>\n",
       "    <tr>\n",
       "      <th>0</th>\n",
       "      <td>30075445</td>\n",
       "      <td>MORRIS PARK BAKE SHOP</td>\n",
       "      <td>Bakery</td>\n",
       "      <td>2018-05-11</td>\n",
       "      <td>5.0</td>\n",
       "      <td>A</td>\n",
       "      <td>2</td>\n",
       "      <td>{08C, 10F}</td>\n",
       "      <td>0</td>\n",
       "    </tr>\n",
       "    <tr>\n",
       "      <th>1</th>\n",
       "      <td>30112340</td>\n",
       "      <td>WENDY'S</td>\n",
       "      <td>Hamburgers</td>\n",
       "      <td>2019-03-04</td>\n",
       "      <td>13.0</td>\n",
       "      <td>A</td>\n",
       "      <td>3</td>\n",
       "      <td>{10B, 02G, 10F}</td>\n",
       "      <td>1</td>\n",
       "    </tr>\n",
       "    <tr>\n",
       "      <th>2</th>\n",
       "      <td>30191841</td>\n",
       "      <td>DJ REYNOLDS PUB AND RESTAURANT</td>\n",
       "      <td>Irish</td>\n",
       "      <td>2018-05-16</td>\n",
       "      <td>12.0</td>\n",
       "      <td>A</td>\n",
       "      <td>3</td>\n",
       "      <td>{04L, 08A, 10F}</td>\n",
       "      <td>1</td>\n",
       "    </tr>\n",
       "    <tr>\n",
       "      <th>3</th>\n",
       "      <td>40356018</td>\n",
       "      <td>RIVIERA CATERERS</td>\n",
       "      <td>American</td>\n",
       "      <td>2018-10-30</td>\n",
       "      <td>10.0</td>\n",
       "      <td>A</td>\n",
       "      <td>2</td>\n",
       "      <td>{06D, 10F}</td>\n",
       "      <td>1</td>\n",
       "    </tr>\n",
       "    <tr>\n",
       "      <th>4</th>\n",
       "      <td>40356151</td>\n",
       "      <td>BRUNOS ON THE BOULEVARD</td>\n",
       "      <td>American</td>\n",
       "      <td>2017-08-19</td>\n",
       "      <td>10.0</td>\n",
       "      <td>A</td>\n",
       "      <td>2</td>\n",
       "      <td>{06C, 10F}</td>\n",
       "      <td>1</td>\n",
       "    </tr>\n",
       "  </tbody>\n",
       "</table>\n",
       "</div>"
      ],
      "text/plain": [
       "      CAMIS                             DBA CUISINE DESCRIPTION GRADE DATE  \\\n",
       "0  30075445           MORRIS PARK BAKE SHOP              Bakery 2018-05-11   \n",
       "1  30112340                         WENDY'S          Hamburgers 2019-03-04   \n",
       "2  30191841  DJ REYNOLDS PUB AND RESTAURANT               Irish 2018-05-16   \n",
       "3  40356018                RIVIERA CATERERS            American 2018-10-30   \n",
       "4  40356151         BRUNOS ON THE BOULEVARD            American 2017-08-19   \n",
       "\n",
       "   SCORE GRADE  VIO_COUNT    VIO_CODE_LIST  CRITICAL_COUNT  \n",
       "0    5.0     A          2       {08C, 10F}               0  \n",
       "1   13.0     A          3  {10B, 02G, 10F}               1  \n",
       "2   12.0     A          3  {04L, 08A, 10F}               1  \n",
       "3   10.0     A          2       {06D, 10F}               1  \n",
       "4   10.0     A          2       {06C, 10F}               1  "
      ]
     },
     "execution_count": 695,
     "metadata": {},
     "output_type": "execute_result"
    }
   ],
   "source": [
    "unique_insp = insp_.sort_values('GRADE DATE').drop_duplicates(['CAMIS','DBA'], keep='last').sort_index()\n",
    "unique_insp.reset_index(inplace=True, drop=True)\n",
    "unique_insp.head(5)"
   ]
  },
  {
   "cell_type": "code",
   "execution_count": 696,
   "metadata": {},
   "outputs": [
    {
     "data": {
      "text/plain": [
       "CAMIS                  0\n",
       "DBA                    0\n",
       "CUISINE DESCRIPTION    0\n",
       "GRADE DATE             0\n",
       "SCORE                  0\n",
       "GRADE                  0\n",
       "VIO_COUNT              0\n",
       "VIO_CODE_LIST          0\n",
       "CRITICAL_COUNT         0\n",
       "dtype: int64"
      ]
     },
     "execution_count": 696,
     "metadata": {},
     "output_type": "execute_result"
    }
   ],
   "source": [
    "unique_insp.isna().sum()"
   ]
  },
  {
   "cell_type": "code",
   "execution_count": 697,
   "metadata": {},
   "outputs": [],
   "source": [
    "unique_insp.to_csv('most_recent_inspections.csv')"
   ]
  },
  {
   "cell_type": "code",
   "execution_count": 645,
   "metadata": {},
   "outputs": [],
   "source": [
    "# visual libraries\n",
    "import matplotlib.pyplot as plt\n",
    "import seaborn as sns"
   ]
  },
  {
   "cell_type": "code",
   "execution_count": 428,
   "metadata": {},
   "outputs": [],
   "source": [
    "# # heat map of correlation of features\n",
    "# correlation_matrix = unique_insp.corr()\n",
    "# fig = plt.figure(figsize=(12,9))\n",
    "# sns.heatmap(correlation_matrix,vmax=0.8,square = True)\n",
    "# plt.show()"
   ]
  },
  {
   "cell_type": "code",
   "execution_count": 647,
   "metadata": {},
   "outputs": [
    {
     "name": "stdout",
     "output_type": "stream",
     "text": [
      "Score A:  92 %\n"
     ]
    }
   ],
   "source": [
    "rest_count = unique_insp.shape[0]\n",
    "A_list = unique_insp[unique_insp['GRADE'] == 'A']\n",
    "\n",
    "x = len(A_list)/rest_count\n",
    "print(\"Score A: % 3d\" %(int(x*100)),  '%') \n",
    "# print('Score A Percentage:',,)"
   ]
  },
  {
   "cell_type": "code",
   "execution_count": 666,
   "metadata": {},
   "outputs": [
    {
     "data": {
      "image/png": "[encoded data removed]",
      "text/plain": [
       "<Figure size 432x288 with 1 Axes>"
      ]
     },
     "metadata": {},
     "output_type": "display_data"
    }
   ],
   "source": [
    "cmap = plt.get_cmap('Spectral')\n",
    "# colors = [cmap(i) for i in np.linspace(0, 1, 9)]\n",
    "colors = ['darkorange', 'lightskyblue', 'royalblue']\n",
    "# Pie chart\n",
    "labels = ['A', 'B', 'C']\n",
    "sizes = [unique_insp['GRADE'].value_counts()[0], unique_insp['GRADE'].value_counts()[1], unique_insp['GRADE'].value_counts()[2]]\n",
    "explode = (0, 0, 0.1)  \n",
    "\n",
    "fig1, ax1 = plt.subplots()\n",
    "ax1.pie(sizes, explode=explode, labels=labels, autopct='%1.1f%%',\n",
    "        shadow=True, colors=colors, startangle=45)\n",
    "# Equal aspect ratio ensures that pie is drawn as a circle\n",
    "ax1.axis('equal')  \n",
    "plt.tight_layout()\n",
    "plt.show()"
   ]
  },
  {
   "cell_type": "code",
   "execution_count": null,
   "metadata": {},
   "outputs": [],
   "source": []
  }
 ],
 "metadata": {
  "kernelspec": {
   "display_name": "Python 3",
   "language": "python",
   "name": "python3"
  },
  "language_info": {
   "codemirror_mode": {
    "name": "ipython",
    "version": 3
   },
   "file_extension": ".py",
   "mimetype": "text/x-python",
   "name": "python",
   "nbconvert_exporter": "python",
   "pygments_lexer": "ipython3",
   "version": "3.7.3"
  }
 },
 "nbformat": 4,
 "nbformat_minor": 2
}
