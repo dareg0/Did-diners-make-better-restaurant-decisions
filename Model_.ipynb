{
 "cells": [
  {
   "cell_type": "code",
   "execution_count": 1,
   "metadata": {},
   "outputs": [],
   "source": [
    "import pandas as pd\n",
    "from sklearn.model_selection import train_test_split\n",
    "from sklearn.linear_model import LogisticRegression\n",
    "from sklearn import metrics\n",
    "from sklearn.metrics import roc_curve, auc, classification_report\n",
    "from matplotlib import pyplot as plt"
   ]
  },
  {
   "cell_type": "code",
   "execution_count": 2,
   "metadata": {},
   "outputs": [
    {
     "data": {
      "text/html": [
       "<div>\n",
       "<style scoped>\n",
       "    .dataframe tbody tr th:only-of-type {\n",
       "        vertical-align: middle;\n",
       "    }\n",
       "\n",
       "    .dataframe tbody tr th {\n",
       "        vertical-align: top;\n",
       "    }\n",
       "\n",
       "    .dataframe thead th {\n",
       "        text-align: right;\n",
       "    }\n",
       "</style>\n",
       "<table border=\"1\" class=\"dataframe\">\n",
       "  <thead>\n",
       "    <tr style=\"text-align: right;\">\n",
       "      <th></th>\n",
       "      <th>Name</th>\n",
       "      <th>Rating</th>\n",
       "      <th>Popularity</th>\n",
       "      <th>Price</th>\n",
       "      <th>Categories</th>\n",
       "      <th>Reviews</th>\n",
       "      <th>url</th>\n",
       "      <th>Latitude</th>\n",
       "      <th>Longitude</th>\n",
       "      <th>DBA</th>\n",
       "      <th>BORO</th>\n",
       "      <th>CUISINE DESCRIPTION</th>\n",
       "      <th>GRADE DATE</th>\n",
       "      <th>SCORE</th>\n",
       "      <th>GRADE</th>\n",
       "      <th>VIO_COUNT</th>\n",
       "      <th>VIO_CODE_LIST</th>\n",
       "      <th>CRITICAL_COUNT</th>\n",
       "    </tr>\n",
       "    <tr>\n",
       "      <th>CAMIS</th>\n",
       "      <th></th>\n",
       "      <th></th>\n",
       "      <th></th>\n",
       "      <th></th>\n",
       "      <th></th>\n",
       "      <th></th>\n",
       "      <th></th>\n",
       "      <th></th>\n",
       "      <th></th>\n",
       "      <th></th>\n",
       "      <th></th>\n",
       "      <th></th>\n",
       "      <th></th>\n",
       "      <th></th>\n",
       "      <th></th>\n",
       "      <th></th>\n",
       "      <th></th>\n",
       "      <th></th>\n",
       "    </tr>\n",
       "  </thead>\n",
       "  <tbody>\n",
       "    <tr>\n",
       "      <th>30075445</th>\n",
       "      <td>Morris Park Bake Shop</td>\n",
       "      <td>4.0</td>\n",
       "      <td>41</td>\n",
       "      <td>2</td>\n",
       "      <td>Bakeries, Desserts</td>\n",
       "      <td>Hands down the BEST cannoli in the Business!! ...</td>\n",
       "      <td>https://www.yelp.com/biz/morris-park-bake-shop...</td>\n",
       "      <td>40.848390</td>\n",
       "      <td>-73.856010</td>\n",
       "      <td>MORRIS PARK BAKE SHOP</td>\n",
       "      <td>BRONX</td>\n",
       "      <td>Bakery</td>\n",
       "      <td>2018-05-11</td>\n",
       "      <td>5.0</td>\n",
       "      <td>A</td>\n",
       "      <td>2</td>\n",
       "      <td>{'10F', '08C'}</td>\n",
       "      <td>0</td>\n",
       "    </tr>\n",
       "    <tr>\n",
       "      <th>30112340</th>\n",
       "      <td>Wendy's</td>\n",
       "      <td>2.0</td>\n",
       "      <td>36</td>\n",
       "      <td>1</td>\n",
       "      <td>Fast Food, Burgers</td>\n",
       "      <td>Place has sick ass frostys. Bouta get some fri...</td>\n",
       "      <td>https://www.yelp.com/biz/wendys-brooklyn-4?adj...</td>\n",
       "      <td>40.662952</td>\n",
       "      <td>-73.961753</td>\n",
       "      <td>WENDY'S</td>\n",
       "      <td>BROOKLYN</td>\n",
       "      <td>Hamburgers</td>\n",
       "      <td>2019-03-04</td>\n",
       "      <td>13.0</td>\n",
       "      <td>A</td>\n",
       "      <td>3</td>\n",
       "      <td>{'10F', '02G', '10B'}</td>\n",
       "      <td>1</td>\n",
       "    </tr>\n",
       "    <tr>\n",
       "      <th>30191841</th>\n",
       "      <td>D.J. Reynolds</td>\n",
       "      <td>3.5</td>\n",
       "      <td>99</td>\n",
       "      <td>2</td>\n",
       "      <td>Irish, Pubs</td>\n",
       "      <td>Had dinner last night with a group of 14.  Foo...</td>\n",
       "      <td>https://www.yelp.com/biz/d-j-reynolds-new-york...</td>\n",
       "      <td>40.767750</td>\n",
       "      <td>-73.984870</td>\n",
       "      <td>DJ REYNOLDS PUB AND RESTAURANT</td>\n",
       "      <td>MANHATTAN</td>\n",
       "      <td>Irish</td>\n",
       "      <td>2018-05-16</td>\n",
       "      <td>12.0</td>\n",
       "      <td>A</td>\n",
       "      <td>3</td>\n",
       "      <td>{'08A', '10F', '04L'}</td>\n",
       "      <td>1</td>\n",
       "    </tr>\n",
       "    <tr>\n",
       "      <th>40356483</th>\n",
       "      <td>Wilkens Fine Foods</td>\n",
       "      <td>3.5</td>\n",
       "      <td>37</td>\n",
       "      <td>2</td>\n",
       "      <td>Delis</td>\n",
       "      <td>I've been coming here for years since I've mov...</td>\n",
       "      <td>https://www.yelp.com/biz/wilkens-fine-foods-br...</td>\n",
       "      <td>40.619900</td>\n",
       "      <td>-73.906850</td>\n",
       "      <td>WILKEN'S FINE FOOD</td>\n",
       "      <td>BROOKLYN</td>\n",
       "      <td>Delicatessen</td>\n",
       "      <td>2018-05-10</td>\n",
       "      <td>13.0</td>\n",
       "      <td>A</td>\n",
       "      <td>2</td>\n",
       "      <td>{'10F', '06C'}</td>\n",
       "      <td>1</td>\n",
       "    </tr>\n",
       "    <tr>\n",
       "      <th>40356731</th>\n",
       "      <td>Taste the Tropics USA</td>\n",
       "      <td>4.5</td>\n",
       "      <td>31</td>\n",
       "      <td>1</td>\n",
       "      <td>Ice Cream &amp; Frozen Yogurt</td>\n",
       "      <td>The best ice cream shop by far and I have been...</td>\n",
       "      <td>https://www.yelp.com/biz/taste-the-tropics-usa...</td>\n",
       "      <td>40.640830</td>\n",
       "      <td>-73.948350</td>\n",
       "      <td>TASTE THE TROPICS ICE CREAM</td>\n",
       "      <td>BROOKLYN</td>\n",
       "      <td>Ice Cream, Gelato, Yogurt, Ices</td>\n",
       "      <td>2018-05-16</td>\n",
       "      <td>13.0</td>\n",
       "      <td>A</td>\n",
       "      <td>4</td>\n",
       "      <td>{'08A', '10F', '08C', '04L'}</td>\n",
       "      <td>1</td>\n",
       "    </tr>\n",
       "  </tbody>\n",
       "</table>\n",
       "</div>"
      ],
      "text/plain": [
       "                           Name  Rating  Popularity  Price  \\\n",
       "CAMIS                                                        \n",
       "30075445  Morris Park Bake Shop     4.0          41      2   \n",
       "30112340                Wendy's     2.0          36      1   \n",
       "30191841          D.J. Reynolds     3.5          99      2   \n",
       "40356483     Wilkens Fine Foods     3.5          37      2   \n",
       "40356731  Taste the Tropics USA     4.5          31      1   \n",
       "\n",
       "                         Categories  \\\n",
       "CAMIS                                 \n",
       "30075445         Bakeries, Desserts   \n",
       "30112340         Fast Food, Burgers   \n",
       "30191841                Irish, Pubs   \n",
       "40356483                      Delis   \n",
       "40356731  Ice Cream & Frozen Yogurt   \n",
       "\n",
       "                                                    Reviews  \\\n",
       "CAMIS                                                         \n",
       "30075445  Hands down the BEST cannoli in the Business!! ...   \n",
       "30112340  Place has sick ass frostys. Bouta get some fri...   \n",
       "30191841  Had dinner last night with a group of 14.  Foo...   \n",
       "40356483  I've been coming here for years since I've mov...   \n",
       "40356731  The best ice cream shop by far and I have been...   \n",
       "\n",
       "                                                        url   Latitude  \\\n",
       "CAMIS                                                                    \n",
       "30075445  https://www.yelp.com/biz/morris-park-bake-shop...  40.848390   \n",
       "30112340  https://www.yelp.com/biz/wendys-brooklyn-4?adj...  40.662952   \n",
       "30191841  https://www.yelp.com/biz/d-j-reynolds-new-york...  40.767750   \n",
       "40356483  https://www.yelp.com/biz/wilkens-fine-foods-br...  40.619900   \n",
       "40356731  https://www.yelp.com/biz/taste-the-tropics-usa...  40.640830   \n",
       "\n",
       "          Longitude                             DBA       BORO  \\\n",
       "CAMIS                                                            \n",
       "30075445 -73.856010           MORRIS PARK BAKE SHOP      BRONX   \n",
       "30112340 -73.961753                         WENDY'S   BROOKLYN   \n",
       "30191841 -73.984870  DJ REYNOLDS PUB AND RESTAURANT  MANHATTAN   \n",
       "40356483 -73.906850              WILKEN'S FINE FOOD   BROOKLYN   \n",
       "40356731 -73.948350     TASTE THE TROPICS ICE CREAM   BROOKLYN   \n",
       "\n",
       "                      CUISINE DESCRIPTION  GRADE DATE  SCORE GRADE  VIO_COUNT  \\\n",
       "CAMIS                                                                           \n",
       "30075445                           Bakery  2018-05-11    5.0     A          2   \n",
       "30112340                       Hamburgers  2019-03-04   13.0     A          3   \n",
       "30191841                            Irish  2018-05-16   12.0     A          3   \n",
       "40356483                     Delicatessen  2018-05-10   13.0     A          2   \n",
       "40356731  Ice Cream, Gelato, Yogurt, Ices  2018-05-16   13.0     A          4   \n",
       "\n",
       "                         VIO_CODE_LIST  CRITICAL_COUNT  \n",
       "CAMIS                                                   \n",
       "30075445                {'10F', '08C'}               0  \n",
       "30112340         {'10F', '02G', '10B'}               1  \n",
       "30191841         {'08A', '10F', '04L'}               1  \n",
       "40356483                {'10F', '06C'}               1  \n",
       "40356731  {'08A', '10F', '08C', '04L'}               1  "
      ]
     },
     "execution_count": 2,
     "metadata": {},
     "output_type": "execute_result"
    }
   ],
   "source": [
    "data = pd.read_csv('Data/merged_yelp_inspections.csv', index_col = 'CAMIS')\n",
    "data.head(5)"
   ]
  },
  {
   "cell_type": "code",
   "execution_count": 3,
   "metadata": {
    "scrolled": true
   },
   "outputs": [
    {
     "data": {
      "text/plain": [
       "Chinese                                              792\n",
       "Pizza                                                678\n",
       "Coffee & Tea                                         532\n",
       "Donuts, Coffee & Tea                                 403\n",
       "Mexican                                              376\n",
       "Italian                                              337\n",
       "Pizza, Italian                                       309\n",
       "Bakeries                                             233\n",
       "Sandwiches, Fast Food                                194\n",
       "Bars                                                 170\n",
       "Caribbean                                            157\n",
       "Hotels                                               153\n",
       "Thai                                                 149\n",
       "Japanese, Sushi Bars                                 145\n",
       "American (New)                                       130\n",
       "Fast Food, Burgers, Coffee & Tea                     121\n",
       "Italian, Pizza                                       119\n",
       "Indian                                               117\n",
       "Ice Cream & Frozen Yogurt                            112\n",
       "Fast Food, Burgers                                    98\n",
       "Sushi Bars, Japanese                                  96\n",
       "Diners                                                89\n",
       "Coffee & Tea, Donuts                                  86\n",
       "Cafes                                                 81\n",
       "Pizza, Chicken Wings, Sandwiches                      80\n",
       "Fast Food, Chicken Wings                              80\n",
       "American (Traditional)                                79\n",
       "Japanese                                              79\n",
       "Pubs                                                  78\n",
       "Latin American                                        78\n",
       "                                                    ... \n",
       "Pubs, American (Traditional), Seafood                  1\n",
       "Bars, Arcades                                          1\n",
       "American (Traditional), Cajun/Creole, Sushi Bars       1\n",
       "Wine Bars, Tapas/Small Plates, Pizza                   1\n",
       "Dim Sum, Bars, Cantonese                               1\n",
       "Spanish, Dominican, Venezuelan                         1\n",
       "Breakfast & Brunch, Gluten-Free, American (New)        1\n",
       "Hookah Bars, Mediterranean, Cocktail Bars              1\n",
       "Meat Shops                                             1\n",
       "Party & Event Planning, Dance Clubs                    1\n",
       "Cocktail Bars, American (New), Gastropubs              1\n",
       "Sandwiches, Delis                                      1\n",
       "Music Venues, Lounges                                  1\n",
       "Supper Clubs, Music Venues                             1\n",
       "Cocktail Bars, Wine Tasting Room                       1\n",
       "Beer Gardens, Bars, American (New)                     1\n",
       "Middle Eastern, Fast Food                              1\n",
       "Music Venues, American (New)                           1\n",
       "Cafes, American (New), Breakfast & Brunch              1\n",
       "Latin American, Breakfast & Brunch, Puerto Rican       1\n",
       "Spanish, Lounges, Sandwiches                           1\n",
       "Pizza, Mexican, Breakfast & Brunch                     1\n",
       "Mexican, Delis, Sandwiches                             1\n",
       "Chinese, Breakfast & Brunch, Hong Kong Style Cafe      1\n",
       "Barbeque, Desserts, Breakfast & Brunch                 1\n",
       "Gastropubs, Spanish, Breakfast & Brunch                1\n",
       "Himalayan/Nepalese, Indian, Chinese                    1\n",
       "Bars, Spanish                                          1\n",
       "Asian Fusion, Chinese, Gluten-Free                     1\n",
       "Pizza, Arcades, Indoor Playcentre                      1\n",
       "Name: Categories, Length: 5132, dtype: int64"
      ]
     },
     "execution_count": 3,
     "metadata": {},
     "output_type": "execute_result"
    }
   ],
   "source": [
    "data['Categories'].value_counts()"
   ]
  },
  {
   "cell_type": "code",
   "execution_count": 4,
   "metadata": {
    "scrolled": true
   },
   "outputs": [
    {
     "data": {
      "text/plain": [
       "American                                                            4321\n",
       "Chinese                                                             1728\n",
       "CafÃ©/Coffee/Tea                                                    1248\n",
       "Pizza                                                                945\n",
       "Italian                                                              820\n",
       "Japanese                                                             699\n",
       "Mexican                                                              663\n",
       "Latin (Cuban, Dominican, Puerto Rican, South & Central American)     585\n",
       "Bakery                                                               569\n",
       "Donuts                                                               488\n",
       "Caribbean                                                            453\n",
       "Chicken                                                              412\n",
       "Pizza/Italian                                                        389\n",
       "Spanish                                                              378\n",
       "Hamburgers                                                           339\n",
       "Sandwiches                                                           308\n",
       "French                                                               267\n",
       "Asian                                                                260\n",
       "Ice Cream, Gelato, Yogurt, Ices                                      256\n",
       "Juice, Smoothies, Fruit Salads                                       254\n",
       "Indian                                                               243\n",
       "Delicatessen                                                         232\n",
       "Thai                                                                 220\n",
       "Jewish/Kosher                                                        217\n",
       "Korean                                                               215\n",
       "Mediterranean                                                        213\n",
       "Sandwiches/Salads/Mixed Buffet                                       185\n",
       "Irish                                                                167\n",
       "Seafood                                                              163\n",
       "Bagels/Pretzels                                                      133\n",
       "                                                                    ... \n",
       "Polish                                                                24\n",
       "Hotdogs                                                               23\n",
       "Filipino                                                              22\n",
       "Pakistani                                                             21\n",
       "Brazilian                                                             19\n",
       "Australian                                                            18\n",
       "Hotdogs/Pretzels                                                      16\n",
       "Ethiopian                                                             15\n",
       "Chinese/Cuban                                                         14\n",
       "Creole                                                                14\n",
       "Armenian                                                              13\n",
       "English                                                               11\n",
       "Pancakes/Waffles                                                      11\n",
       "Afghan                                                                 9\n",
       "Egyptian                                                               9\n",
       "Indonesian                                                             8\n",
       "Moroccan                                                               8\n",
       "Portuguese                                                             8\n",
       "Soups                                                                  7\n",
       "Fruits/Vegetables                                                      6\n",
       "Cajun                                                                  5\n",
       "Not Listed/Not Applicable                                              5\n",
       "Creole/Cajun                                                           4\n",
       "Scandinavian                                                           4\n",
       "Californian                                                            4\n",
       "Nuts/Confectionary                                                     3\n",
       "Iranian                                                                2\n",
       "Southwestern                                                           2\n",
       "Chilean                                                                1\n",
       "Czech                                                                  1\n",
       "Name: CUISINE DESCRIPTION, Length: 83, dtype: int64"
      ]
     },
     "execution_count": 4,
     "metadata": {},
     "output_type": "execute_result"
    }
   ],
   "source": [
    "data['CUISINE DESCRIPTION'].value_counts()"
   ]
  },
  {
   "cell_type": "markdown",
   "metadata": {},
   "source": [
    "**Compared to 'Categories', column 'CUISINE DESCRIPTION' has less categories to encode with.**"
   ]
  },
  {
   "cell_type": "code",
   "execution_count": 5,
   "metadata": {},
   "outputs": [
    {
     "name": "stdout",
     "output_type": "stream",
     "text": [
      "<class 'pandas.core.frame.DataFrame'>\n",
      "Int64Index: 19086 entries, 30075445 to 50090040\n",
      "Data columns (total 18 columns):\n",
      "Name                   19086 non-null object\n",
      "Rating                 19086 non-null float64\n",
      "Popularity             19086 non-null int64\n",
      "Price                  19086 non-null int64\n",
      "Categories             19086 non-null object\n",
      "Reviews                19086 non-null object\n",
      "url                    19086 non-null object\n",
      "Latitude               19086 non-null float64\n",
      "Longitude              19086 non-null float64\n",
      "DBA                    19086 non-null object\n",
      "BORO                   19086 non-null object\n",
      "CUISINE DESCRIPTION    19086 non-null object\n",
      "GRADE DATE             19086 non-null object\n",
      "SCORE                  19086 non-null float64\n",
      "GRADE                  19086 non-null object\n",
      "VIO_COUNT              19086 non-null int64\n",
      "VIO_CODE_LIST          19086 non-null object\n",
      "CRITICAL_COUNT         19086 non-null int64\n",
      "dtypes: float64(4), int64(4), object(10)\n",
      "memory usage: 2.8+ MB\n"
     ]
    }
   ],
   "source": [
    "data.info()"
   ]
  },
  {
   "cell_type": "code",
   "execution_count": 6,
   "metadata": {},
   "outputs": [
    {
     "data": {
      "text/plain": [
       "4.0    6715\n",
       "3.5    4912\n",
       "4.5    2621\n",
       "3.0    2288\n",
       "2.5    1213\n",
       "2.0     783\n",
       "1.5     276\n",
       "5.0     206\n",
       "1.0      72\n",
       "Name: Rating, dtype: int64"
      ]
     },
     "execution_count": 6,
     "metadata": {},
     "output_type": "execute_result"
    }
   ],
   "source": [
    "data['Rating'].value_counts()"
   ]
  },
  {
   "cell_type": "code",
   "execution_count": 7,
   "metadata": {},
   "outputs": [
    {
     "data": {
      "text/plain": [
       "40    6715\n",
       "35    4912\n",
       "45    2621\n",
       "30    2288\n",
       "25    1213\n",
       "20     783\n",
       "15     276\n",
       "50     206\n",
       "10      72\n",
       "Name: Rating, dtype: int64"
      ]
     },
     "execution_count": 7,
     "metadata": {},
     "output_type": "execute_result"
    }
   ],
   "source": [
    "data['Rating'] = data['Rating'].apply(lambda x: x*10)\n",
    "data['Rating'] = data['Rating'].astype(int)\n",
    "data['Rating'].value_counts()"
   ]
  },
  {
   "cell_type": "code",
   "execution_count": 8,
   "metadata": {},
   "outputs": [
    {
     "name": "stdout",
     "output_type": "stream",
     "text": [
      "<class 'pandas.core.frame.DataFrame'>\n",
      "Int64Index: 19086 entries, 30075445 to 50090040\n",
      "Data columns (total 18 columns):\n",
      "Name                   19086 non-null object\n",
      "Rating                 19086 non-null int64\n",
      "Popularity             19086 non-null int64\n",
      "Price                  19086 non-null int64\n",
      "Categories             19086 non-null object\n",
      "Reviews                19086 non-null object\n",
      "url                    19086 non-null object\n",
      "Latitude               19086 non-null float64\n",
      "Longitude              19086 non-null float64\n",
      "DBA                    19086 non-null object\n",
      "BORO                   19086 non-null object\n",
      "CUISINE DESCRIPTION    19086 non-null object\n",
      "GRADE DATE             19086 non-null object\n",
      "SCORE                  19086 non-null int64\n",
      "GRADE                  19086 non-null object\n",
      "VIO_COUNT              19086 non-null int64\n",
      "VIO_CODE_LIST          19086 non-null object\n",
      "CRITICAL_COUNT         19086 non-null int64\n",
      "dtypes: float64(2), int64(6), object(10)\n",
      "memory usage: 2.8+ MB\n"
     ]
    }
   ],
   "source": [
    "# Convert from float to integers for future models to read\n",
    "# data['Rating'] = data['Rating'].astype(int)\n",
    "data['SCORE'] = data['SCORE'].astype(int)\n",
    "data['VIO_COUNT'] = data['VIO_COUNT'].astype(int)\n",
    "data.info()"
   ]
  },
  {
   "cell_type": "code",
   "execution_count": 9,
   "metadata": {},
   "outputs": [
    {
     "data": {
      "text/html": [
       "<div>\n",
       "<style scoped>\n",
       "    .dataframe tbody tr th:only-of-type {\n",
       "        vertical-align: middle;\n",
       "    }\n",
       "\n",
       "    .dataframe tbody tr th {\n",
       "        vertical-align: top;\n",
       "    }\n",
       "\n",
       "    .dataframe thead th {\n",
       "        text-align: right;\n",
       "    }\n",
       "</style>\n",
       "<table border=\"1\" class=\"dataframe\">\n",
       "  <thead>\n",
       "    <tr style=\"text-align: right;\">\n",
       "      <th></th>\n",
       "      <th>Rating</th>\n",
       "      <th>Popularity</th>\n",
       "      <th>Price</th>\n",
       "      <th>CUISINE DESCRIPTION</th>\n",
       "      <th>BORO</th>\n",
       "      <th>SCORE</th>\n",
       "      <th>GRADE</th>\n",
       "      <th>VIO_COUNT</th>\n",
       "      <th>CRITICAL_COUNT</th>\n",
       "    </tr>\n",
       "    <tr>\n",
       "      <th>CAMIS</th>\n",
       "      <th></th>\n",
       "      <th></th>\n",
       "      <th></th>\n",
       "      <th></th>\n",
       "      <th></th>\n",
       "      <th></th>\n",
       "      <th></th>\n",
       "      <th></th>\n",
       "      <th></th>\n",
       "    </tr>\n",
       "  </thead>\n",
       "  <tbody>\n",
       "    <tr>\n",
       "      <th>30075445</th>\n",
       "      <td>40</td>\n",
       "      <td>41</td>\n",
       "      <td>2</td>\n",
       "      <td>Bakery</td>\n",
       "      <td>BRONX</td>\n",
       "      <td>5</td>\n",
       "      <td>A</td>\n",
       "      <td>2</td>\n",
       "      <td>0</td>\n",
       "    </tr>\n",
       "    <tr>\n",
       "      <th>30112340</th>\n",
       "      <td>20</td>\n",
       "      <td>36</td>\n",
       "      <td>1</td>\n",
       "      <td>Hamburgers</td>\n",
       "      <td>BROOKLYN</td>\n",
       "      <td>13</td>\n",
       "      <td>A</td>\n",
       "      <td>3</td>\n",
       "      <td>1</td>\n",
       "    </tr>\n",
       "  </tbody>\n",
       "</table>\n",
       "</div>"
      ],
      "text/plain": [
       "          Rating  Popularity  Price CUISINE DESCRIPTION      BORO  SCORE  \\\n",
       "CAMIS                                                                      \n",
       "30075445      40          41      2              Bakery     BRONX      5   \n",
       "30112340      20          36      1          Hamburgers  BROOKLYN     13   \n",
       "\n",
       "         GRADE  VIO_COUNT  CRITICAL_COUNT  \n",
       "CAMIS                                      \n",
       "30075445     A          2               0  \n",
       "30112340     A          3               1  "
      ]
     },
     "execution_count": 9,
     "metadata": {},
     "output_type": "execute_result"
    }
   ],
   "source": [
    "selected = data[['Rating','Popularity', 'Price', 'CUISINE DESCRIPTION', 'BORO', 'SCORE', 'GRADE', 'VIO_COUNT', 'CRITICAL_COUNT']]\n",
    "selected.head(2)"
   ]
  },
  {
   "cell_type": "markdown",
   "metadata": {},
   "source": [
    "## One Hot Encoding"
   ]
  },
  {
   "cell_type": "code",
   "execution_count": 10,
   "metadata": {},
   "outputs": [],
   "source": [
    "# dummying the object columns\n",
    "descrip = pd.get_dummies(selected['CUISINE DESCRIPTION'],drop_first=True)\n",
    "boro = pd.get_dummies(selected['BORO'],drop_first=True)\n",
    "grade = pd.get_dummies(selected['GRADE'],drop_first=True)"
   ]
  },
  {
   "cell_type": "markdown",
   "metadata": {},
   "source": [
    "**From 2018-07-24, Yelp placed health inspection scores directly on a restaurant’s page on the user-generated review site.**"
   ]
  },
  {
   "cell_type": "code",
   "execution_count": 11,
   "metadata": {},
   "outputs": [
    {
     "name": "stdout",
     "output_type": "stream",
     "text": [
      "<class 'pandas.core.frame.DataFrame'>\n",
      "Int64Index: 19086 entries, 30075445 to 50090040\n",
      "Data columns (total 9 columns):\n",
      "Rating                 19086 non-null int64\n",
      "Popularity             19086 non-null int64\n",
      "Price                  19086 non-null int64\n",
      "CUISINE DESCRIPTION    19086 non-null object\n",
      "BORO                   19086 non-null object\n",
      "SCORE                  19086 non-null int64\n",
      "GRADE                  19086 non-null object\n",
      "VIO_COUNT              19086 non-null int64\n",
      "CRITICAL_COUNT         19086 non-null int64\n",
      "dtypes: int64(6), object(3)\n",
      "memory usage: 1.5+ MB\n"
     ]
    }
   ],
   "source": [
    "selected.info()"
   ]
  },
  {
   "cell_type": "code",
   "execution_count": 12,
   "metadata": {},
   "outputs": [],
   "source": [
    "# drop the rest of the columns which are not needed.\n",
    "selected_w_insp = selected.drop(['CUISINE DESCRIPTION','BORO','GRADE'],axis=1)\n",
    "selected_w_insp.columns"
   ]
  },
  {
   "cell_type": "code",
   "execution_count": 13,
   "metadata": {},
   "outputs": [
    {
     "data": {
      "text/plain": [
       "Index(['Rating', 'Popularity', 'Price', 'SCORE', 'VIO_COUNT', 'CRITICAL_COUNT',\n",
       "       'African', 'American', 'Armenian', 'Asian', 'Australian',\n",
       "       'Bagels/Pretzels', 'Bakery', 'Bangladeshi', 'Barbecue',\n",
       "       'Bottled beverages, including water, sodas, juices, etc.', 'Brazilian',\n",
       "       'CafÃ©/Coffee/Tea', 'Cajun', 'Californian', 'Caribbean', 'Chicken',\n",
       "       'Chilean', 'Chinese', 'Chinese/Cuban', 'Chinese/Japanese',\n",
       "       'Continental', 'Creole', 'Creole/Cajun', 'Czech', 'Delicatessen',\n",
       "       'Donuts', 'Eastern European', 'Egyptian', 'English', 'Ethiopian',\n",
       "       'Filipino', 'French', 'Fruits/Vegetables', 'German', 'Greek',\n",
       "       'Hamburgers', 'Hawaiian', 'Hotdogs', 'Hotdogs/Pretzels',\n",
       "       'Ice Cream, Gelato, Yogurt, Ices', 'Indian', 'Indonesian', 'Iranian',\n",
       "       'Irish', 'Italian', 'Japanese', 'Jewish/Kosher',\n",
       "       'Juice, Smoothies, Fruit Salads', 'Korean',\n",
       "       'Latin (Cuban, Dominican, Puerto Rican, South & Central American)',\n",
       "       'Mediterranean', 'Mexican', 'Middle Eastern', 'Moroccan',\n",
       "       'Not Listed/Not Applicable', 'Nuts/Confectionary', 'Other', 'Pakistani',\n",
       "       'Pancakes/Waffles', 'Peruvian', 'Pizza', 'Pizza/Italian', 'Polish',\n",
       "       'Portuguese', 'Russian', 'Salads', 'Sandwiches',\n",
       "       'Sandwiches/Salads/Mixed Buffet', 'Scandinavian', 'Seafood',\n",
       "       'Soul Food', 'Soups', 'Soups & Sandwiches', 'Southwestern', 'Spanish',\n",
       "       'Steak', 'Tapas', 'Tex-Mex', 'Thai', 'Turkish', 'Vegetarian',\n",
       "       'Vietnamese/Cambodian/Malaysia', 'BROOKLYN', 'MANHATTAN', 'Missing',\n",
       "       'QUEENS', 'STATEN ISLAND', 'B', 'C'],\n",
       "      dtype='object')"
      ]
     },
     "execution_count": 13,
     "metadata": {},
     "output_type": "execute_result"
    }
   ],
   "source": [
    "# concatenate the new categorical columns to the dataframe\n",
    "X = pd.concat([selected_, descrip, boro, grade],axis=1)\n",
    "X.columns"
   ]
  },
  {
   "cell_type": "code",
   "execution_count": 14,
   "metadata": {},
   "outputs": [],
   "source": [
    "Y = selected_['Rating'].values"
   ]
  },
  {
   "cell_type": "markdown",
   "metadata": {},
   "source": [
    "### Test Train Split"
   ]
  },
  {
   "cell_type": "code",
   "execution_count": 15,
   "metadata": {},
   "outputs": [],
   "source": [
    "X_train, X_test, Y_train, Y_test = train_test_split(X, Y, test_size=0.25)"
   ]
  },
  {
   "cell_type": "markdown",
   "metadata": {},
   "source": [
    "### Training and Predicting"
   ]
  },
  {
   "cell_type": "code",
   "execution_count": 16,
   "metadata": {},
   "outputs": [
    {
     "name": "stderr",
     "output_type": "stream",
     "text": [
      "/usr/local/lib/python3.7/site-packages/sklearn/linear_model/logistic.py:433: FutureWarning: Default solver will be changed to 'lbfgs' in 0.22. Specify a solver to silence this warning.\n",
      "  FutureWarning)\n",
      "/usr/local/lib/python3.7/site-packages/sklearn/linear_model/logistic.py:460: FutureWarning: Default multi_class will be changed to 'auto' in 0.22. Specify the multi_class option to silence this warning.\n",
      "  \"this warning.\", FutureWarning)\n"
     ]
    },
    {
     "data": {
      "text/plain": [
       "LogisticRegression(C=1.0, class_weight=None, dual=False, fit_intercept=True,\n",
       "          intercept_scaling=1, max_iter=100, multi_class='warn',\n",
       "          n_jobs=None, penalty='l2', random_state=None, solver='warn',\n",
       "          tol=0.0001, verbose=0, warm_start=False)"
      ]
     },
     "execution_count": 16,
     "metadata": {},
     "output_type": "execute_result"
    }
   ],
   "source": [
    "lr = LogisticRegression()\n",
    "lr.fit(X_train, Y_train)"
   ]
  },
  {
   "cell_type": "code",
   "execution_count": 17,
   "metadata": {},
   "outputs": [],
   "source": [
    "test_prediction = lr.predict(X_test)"
   ]
  },
  {
   "cell_type": "markdown",
   "metadata": {},
   "source": [
    "### Evaluation"
   ]
  },
  {
   "cell_type": "code",
   "execution_count": 18,
   "metadata": {},
   "outputs": [
    {
     "name": "stdout",
     "output_type": "stream",
     "text": [
      "0.6441743503772004\n"
     ]
    }
   ],
   "source": [
    "print(metrics.accuracy_score(Y_test, test_prediction))"
   ]
  },
  {
   "cell_type": "code",
   "execution_count": 19,
   "metadata": {},
   "outputs": [
    {
     "name": "stdout",
     "output_type": "stream",
     "text": [
      "              precision    recall  f1-score   support\n",
      "\n",
      "          10       0.86      0.32      0.46        19\n",
      "          15       0.86      0.33      0.48        72\n",
      "          20       0.65      0.51      0.58       202\n",
      "          25       0.53      0.08      0.15       309\n",
      "          30       0.14      0.06      0.09       587\n",
      "          35       0.51      0.59      0.55      1222\n",
      "          40       0.72      0.99      0.84      1662\n",
      "          45       0.90      0.80      0.85       641\n",
      "          50       0.00      0.00      0.00        58\n",
      "\n",
      "   micro avg       0.64      0.64      0.64      4772\n",
      "   macro avg       0.57      0.41      0.44      4772\n",
      "weighted avg       0.60      0.64      0.60      4772\n",
      "\n"
     ]
    },
    {
     "name": "stderr",
     "output_type": "stream",
     "text": [
      "/usr/local/lib/python3.7/site-packages/sklearn/metrics/classification.py:1143: UndefinedMetricWarning: Precision and F-score are ill-defined and being set to 0.0 in labels with no predicted samples.\n",
      "  'precision', 'predicted', average, warn_for)\n"
     ]
    }
   ],
   "source": [
    "print(classification_report(Y_test, test_prediction))"
   ]
  },
  {
   "cell_type": "code",
   "execution_count": 20,
   "metadata": {},
   "outputs": [
    {
     "data": {
      "text/plain": [
       "Sandwiches                                                          1.306426e+00\n",
       "Hamburgers                                                          1.236864e+00\n",
       "Pizza                                                               1.099555e+00\n",
       "Price                                                               1.098996e+00\n",
       "Sandwiches/Salads/Mixed Buffet                                      9.177452e-01\n",
       "Bagels/Pretzels                                                     7.303209e-01\n",
       "American                                                            6.937838e-01\n",
       "VIO_COUNT                                                           4.008780e-01\n",
       "BROOKLYN                                                            3.579497e-01\n",
       "Delicatessen                                                        3.361381e-01\n",
       "CafÃ©/Coffee/Tea                                                    2.984782e-01\n",
       "MANHATTAN                                                           1.931231e-01\n",
       "SCORE                                                               1.863602e-01\n",
       "QUEENS                                                              1.680093e-01\n",
       "Latin (Cuban, Dominican, Puerto Rican, South & Central American)    4.698749e-02\n",
       "Czech                                                               0.000000e+00\n",
       "Southwestern                                                       -5.143546e-08\n",
       "Cajun                                                              -1.515707e-07\n",
       "Armenian                                                           -6.915889e-07\n",
       "Californian                                                        -6.988893e-07\n",
       "Chilean                                                            -7.466017e-07\n",
       "Australian                                                         -9.203046e-07\n",
       "Portuguese                                                         -1.127373e-06\n",
       "Ethiopian                                                          -1.160311e-06\n",
       "Brazilian                                                          -1.326948e-06\n",
       "English                                                            -1.463516e-06\n",
       "Soups                                                              -1.648253e-06\n",
       "Indonesian                                                         -1.663028e-06\n",
       "Nuts/Confectionary                                                 -2.048396e-06\n",
       "Scandinavian                                                       -5.061004e-06\n",
       "                                                                        ...     \n",
       "Soups & Sandwiches                                                 -8.351062e-04\n",
       "Bangladeshi                                                        -8.421507e-04\n",
       "Mediterranean                                                      -9.896166e-04\n",
       "French                                                             -1.611873e-03\n",
       "Italian                                                            -1.723473e-03\n",
       "Chinese/Japanese                                                   -2.517964e-03\n",
       "Korean                                                             -3.513646e-03\n",
       "Japanese                                                           -4.005367e-03\n",
       "Mexican                                                            -5.465786e-03\n",
       "Bakery                                                             -8.933213e-03\n",
       "Other                                                              -9.465955e-03\n",
       "Ice Cream, Gelato, Yogurt, Ices                                    -1.689379e-02\n",
       "Popularity                                                         -1.844991e-02\n",
       "Tex-Mex                                                            -1.936116e-02\n",
       "Indian                                                             -2.196525e-02\n",
       "Pizza/Italian                                                      -2.354492e-02\n",
       "Juice, Smoothies, Fruit Salads                                     -2.692262e-02\n",
       "Chicken                                                            -3.306901e-02\n",
       "Asian                                                              -6.033110e-02\n",
       "STATEN ISLAND                                                      -9.692015e-02\n",
       "Bottled beverages, including water, sodas, juices, etc.            -1.251016e-01\n",
       "Jewish/Kosher                                                      -1.316942e-01\n",
       "Spanish                                                            -1.585845e-01\n",
       "CRITICAL_COUNT                                                     -2.736250e-01\n",
       "Chinese                                                            -2.823945e-01\n",
       "Donuts                                                             -2.883274e-01\n",
       "B                                                                  -3.741673e-01\n",
       "Caribbean                                                          -5.172144e-01\n",
       "C                                                                  -6.473537e-01\n",
       "Rating                                                             -8.041534e-01\n",
       "Length: 95, dtype: float64"
      ]
     },
     "execution_count": 20,
     "metadata": {},
     "output_type": "execute_result"
    }
   ],
   "source": [
    "weights = pd.Series(lr.coef_[0], index=X.columns.values)\n",
    "weights.sort_values(ascending = False)"
   ]
  },
  {
   "cell_type": "code",
   "execution_count": 21,
   "metadata": {},
   "outputs": [
    {
     "data": {
      "image/png": "[encoded data removed]",
      "text/plain": [
       "<Figure size 720x432 with 1 Axes>"
      ]
     },
     "metadata": {
      "needs_background": "light"
     },
     "output_type": "display_data"
    }
   ],
   "source": [
    "%matplotlib inline\n",
    "plt.figure(figsize=(10,6))\n",
    "weights.nlargest(10).plot(kind='barh').invert_yaxis()"
   ]
  },
  {
   "cell_type": "code",
   "execution_count": null,
   "metadata": {},
   "outputs": [],
   "source": []
  }
 ],
 "metadata": {
  "kernelspec": {
   "display_name": "Python 3",
   "language": "python",
   "name": "python3"
  },
  "language_info": {
   "codemirror_mode": {
    "name": "ipython",
    "version": 3
   },
   "file_extension": ".py",
   "mimetype": "text/x-python",
   "name": "python",
   "nbconvert_exporter": "python",
   "pygments_lexer": "ipython3",
   "version": "3.7.3"
  }
 },
 "nbformat": 4,
 "nbformat_minor": 2
}
